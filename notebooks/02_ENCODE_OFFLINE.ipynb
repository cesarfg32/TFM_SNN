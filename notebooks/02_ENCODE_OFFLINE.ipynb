{
 "cells": [
  {
   "cell_type": "markdown",
   "metadata": {},
   "source": [
    "# 02 · Codificación offline (opcional)"
   ]
  },
  {
   "cell_type": "code",
   "execution_count": 1,
   "metadata": {},
   "outputs": [],
   "source": [
    "# imports & params\n",
    "\n",
    "from pathlib import Path\n",
    "import sys, pandas as pd\n",
    "\n",
    "ROOT = Path.cwd().parents[0] if (Path.cwd().name == \"notebooks\") else Path.cwd()\n",
    "if str(ROOT) not in sys.path:\n",
    "    sys.path.append(str(ROOT))\n",
    "\n",
    "from src.prep.encode_offline import encode_csv_to_h5\n",
    "\n",
    "RUN     = \"circuito1\"\n",
    "SPLIT   = \"train\"                     # \"train\" | \"val\" | \"test\"\n",
    "ENCODER = \"rate\"                      # \"rate\" | \"latency\" | \"raw\"\n",
    "T       = 20\n",
    "GAIN    = 0.5\n",
    "SIZE    = (160, 80)\n",
    "TO_GRAY = True\n",
    "SEED    = 42\n",
    "\n",
    "RAW  = ROOT/'data'/'raw'/'udacity'\n",
    "PROC = ROOT/'data'/'processed'\n",
    "\n",
    "CSV = PROC/RUN/f\"{SPLIT}.csv\"\n",
    "BASE = RAW/RUN\n",
    "OUT  = PROC/RUN/f\"{SPLIT}_{ENCODER}_T{T}_gain{GAIN if ENCODER=='rate' else 0}_{'gray' if TO_GRAY else 'rgb'}_{SIZE[0]}x{SIZE[1]}.h5\"\n"
   ]
  },
  {
   "cell_type": "code",
   "execution_count": 2,
   "id": "73b67176",
   "metadata": {},
   "outputs": [
    {
     "name": "stdout",
     "output_type": "stream",
     "text": [
      "Guardado: /home/cesar/proyectos/TFM_SNN/data/processed/circuito1/train_rate_T20_gain0.5_gray_160x80.h5\n"
     ]
    }
   ],
   "source": [
    "# Ejecutar\n",
    "\n",
    "encode_csv_to_h5(\n",
    "    csv_df_or_path=CSV,\n",
    "    base_dir=BASE,\n",
    "    out_path=OUT,\n",
    "    encoder=ENCODER,\n",
    "    T=T,\n",
    "    gain=GAIN,\n",
    "    size_wh=SIZE,\n",
    "    to_gray=TO_GRAY,\n",
    "    seed=SEED,\n",
    ")\n",
    "print(\"Guardado:\", OUT)\n"
   ]
  }
 ],
 "metadata": {
  "kernelspec": {
   "display_name": ".venv",
   "language": "python",
   "name": "python3"
  },
  "language_info": {
   "codemirror_mode": {
    "name": "ipython",
    "version": 3
   },
   "file_extension": ".py",
   "mimetype": "text/x-python",
   "name": "python",
   "nbconvert_exporter": "python",
   "pygments_lexer": "ipython3",
   "version": "3.12.3"
  }
 },
 "nbformat": 4,
 "nbformat_minor": 5
}
