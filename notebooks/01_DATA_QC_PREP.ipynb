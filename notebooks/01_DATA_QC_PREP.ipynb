{
 "cells": [
  {
   "cell_type": "markdown",
   "metadata": {},
   "source": [
    "# 01 · Preparación de datos (QC + splits + tasks.json)"
   ]
  },
  {
   "cell_type": "code",
   "execution_count": 1,
   "metadata": {},
   "outputs": [],
   "source": [
    "# -*- coding: utf-8 -*-\n",
    "\"\"\"Prepara splits (train/val/test) y genera tasks.json para el pipeline continual.\n",
    "\n",
    "Qué hace:\n",
    "1) Carga y normaliza el driving_log.csv de cada recorrido (RUNS).\n",
    "2) Normaliza rutas (soporta barras invertidas y recorte a 'IMG/...').\n",
    "3) Filtra filas sin imágenes (center/left/right).\n",
    "4) Split estratificado por bins de 'steering'.\n",
    "5) Guarda:\n",
    "   - data/processed/<run>/canonical.csv\n",
    "   - data/processed/<run>/{train,val,test}.csv\n",
    "   - data/processed/tasks.json\n",
    "\"\"\"\n",
    "\n",
    "from pathlib import Path\n",
    "import sys, json\n",
    "import pandas as pd\n",
    "\n",
    "ROOT = Path.cwd().parents[0] if (Path.cwd().name == \"notebooks\") else Path.cwd()\n",
    "if str(ROOT) not in sys.path:\n",
    "    sys.path.append(str(ROOT))\n",
    "\n",
    "from src.prep.udacity_prep import PrepConfig, run_prep, verify_processed_splits  # <- usa tu módulo\n",
    "RAW  = ROOT / \"data\" / \"raw\" / \"udacity\"\n",
    "PROC = ROOT / \"data\" / \"processed\"\n",
    "\n"
   ]
  },
  {
   "cell_type": "code",
   "execution_count": 2,
   "id": "52d8e4a0",
   "metadata": {},
   "outputs": [
    {
     "data": {
      "text/plain": [
       "PrepConfig(root=PosixPath('/home/cesar/proyectos/TFM_SNN'), runs=['circuito1', 'circuito2'], use_left_right=False, steer_shift=0.2, bins=21, train=0.7, val=0.15, seed=42, target_per_bin='auto', cap_per_bin=12000)"
      ]
     },
     "execution_count": 2,
     "metadata": {},
     "output_type": "execute_result"
    }
   ],
   "source": [
    "# Parámetros\n",
    "\n",
    "RUNS = [\"circuito1\", \"circuito2\"]\n",
    "CFG = PrepConfig(\n",
    "    root=ROOT,\n",
    "    runs=RUNS,\n",
    "    use_left_right=False,  # aquí sólo QC + split (sin expandir)\n",
    "    steer_shift=0.2,\n",
    "    bins=21,\n",
    "    train=0.70,\n",
    "    val=0.15,\n",
    "    seed=42,\n",
    "    target_per_bin=\"auto\", # balanceo lo haremos en 01A; aquí no importa\n",
    "    cap_per_bin=12000,\n",
    ")\n",
    "CFG\n"
   ]
  },
  {
   "cell_type": "code",
   "execution_count": 3,
   "id": "e12bc0b2",
   "metadata": {},
   "outputs": [
    {
     "name": "stdout",
     "output_type": "stream",
     "text": [
      "OK: /home/cesar/proyectos/TFM_SNN/data/processed/prep_manifest.json\n",
      "OK: splits 'train/val/test' encontrados.\n"
     ]
    }
   ],
   "source": [
    "# Ejecutar prep + verificar\n",
    "manifest = run_prep(CFG)\n",
    "print(\"OK:\", PROC/\"prep_manifest.json\")\n",
    "verify_processed_splits(PROC, RUNS)\n",
    "print(\"OK: splits 'train/val/test' encontrados.\")\n"
   ]
  },
  {
   "cell_type": "code",
   "execution_count": 4,
   "id": "f048e3db",
   "metadata": {},
   "outputs": [
    {
     "data": {
      "text/html": [
       "<div>\n",
       "<style scoped>\n",
       "    .dataframe tbody tr th:only-of-type {\n",
       "        vertical-align: middle;\n",
       "    }\n",
       "\n",
       "    .dataframe tbody tr th {\n",
       "        vertical-align: top;\n",
       "    }\n",
       "\n",
       "    .dataframe thead th {\n",
       "        text-align: right;\n",
       "    }\n",
       "</style>\n",
       "<table border=\"1\" class=\"dataframe\">\n",
       "  <thead>\n",
       "    <tr style=\"text-align: right;\">\n",
       "      <th></th>\n",
       "      <th>run</th>\n",
       "      <th>train_csv</th>\n",
       "      <th>val_csv</th>\n",
       "      <th>test_csv</th>\n",
       "    </tr>\n",
       "  </thead>\n",
       "  <tbody>\n",
       "    <tr>\n",
       "      <th>0</th>\n",
       "      <td>circuito1</td>\n",
       "      <td>/home/cesar/proyectos/TFM_SNN/data/processed/c...</td>\n",
       "      <td>/home/cesar/proyectos/TFM_SNN/data/processed/c...</td>\n",
       "      <td>/home/cesar/proyectos/TFM_SNN/data/processed/c...</td>\n",
       "    </tr>\n",
       "    <tr>\n",
       "      <th>1</th>\n",
       "      <td>circuito2</td>\n",
       "      <td>/home/cesar/proyectos/TFM_SNN/data/processed/c...</td>\n",
       "      <td>/home/cesar/proyectos/TFM_SNN/data/processed/c...</td>\n",
       "      <td>/home/cesar/proyectos/TFM_SNN/data/processed/c...</td>\n",
       "    </tr>\n",
       "  </tbody>\n",
       "</table>\n",
       "</div>"
      ],
      "text/plain": [
       "         run                                          train_csv  \\\n",
       "0  circuito1  /home/cesar/proyectos/TFM_SNN/data/processed/c...   \n",
       "1  circuito2  /home/cesar/proyectos/TFM_SNN/data/processed/c...   \n",
       "\n",
       "                                             val_csv  \\\n",
       "0  /home/cesar/proyectos/TFM_SNN/data/processed/c...   \n",
       "1  /home/cesar/proyectos/TFM_SNN/data/processed/c...   \n",
       "\n",
       "                                            test_csv  \n",
       "0  /home/cesar/proyectos/TFM_SNN/data/processed/c...  \n",
       "1  /home/cesar/proyectos/TFM_SNN/data/processed/c...  "
      ]
     },
     "execution_count": 4,
     "metadata": {},
     "output_type": "execute_result"
    }
   ],
   "source": [
    "# Resumen rápido: Tamaños por split\n",
    "tasks_json = json.loads((PROC/\"tasks.json\").read_text(encoding=\"utf-8\"))\n",
    "pd.DataFrame({\n",
    "    \"run\": tasks_json[\"tasks_order\"],\n",
    "    \"train_csv\": [tasks_json[\"splits\"][r][\"train\"] for r in tasks_json[\"tasks_order\"]],\n",
    "    \"val_csv\":   [tasks_json[\"splits\"][r][\"val\"]   for r in tasks_json[\"tasks_order\"]],\n",
    "    \"test_csv\":  [tasks_json[\"splits\"][r][\"test\"]  for r in tasks_json[\"tasks_order\"]],\n",
    "})\n"
   ]
  }
 ],
 "metadata": {
  "kernelspec": {
   "display_name": ".venv",
   "language": "python",
   "name": "python3"
  },
  "language_info": {
   "codemirror_mode": {
    "name": "ipython",
    "version": 3
   },
   "file_extension": ".py",
   "mimetype": "text/x-python",
   "name": "python",
   "nbconvert_exporter": "python",
   "pygments_lexer": "ipython3",
   "version": "3.12.3"
  }
 },
 "nbformat": 4,
 "nbformat_minor": 5
}
