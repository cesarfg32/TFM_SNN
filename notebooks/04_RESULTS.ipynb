{
 "cells": [
  {
   "cell_type": "markdown",
   "metadata": {},
   "source": [
    "# 04 · Resultados y figuras"
   ]
  },
  {
   "cell_type": "code",
   "execution_count": 1,
   "metadata": {},
   "outputs": [
    {
     "ename": "KeyError",
     "evalue": "'exp'",
     "output_type": "error",
     "traceback": [
      "\u001b[31m---------------------------------------------------------------------------\u001b[39m",
      "\u001b[31mKeyError\u001b[39m                                  Traceback (most recent call last)",
      "\u001b[32m/tmp/ipykernel_52973/136265780.py\u001b[39m in \u001b[36m?\u001b[39m\u001b[34m()\u001b[39m\n\u001b[32m      2\u001b[39m ROOT=Path.cwd().parent; OUT=ROOT/\u001b[33m'outputs'\u001b[39m; rows=[]\n\u001b[32m      3\u001b[39m \u001b[38;5;28;01mfor\u001b[39;00m path \u001b[38;5;28;01min\u001b[39;00m OUT.rglob(\u001b[33m'metrics.json'\u001b[39m):\n\u001b[32m      4\u001b[39m     exp=path.parent.name; hist=json.loads(path.read_text())\n\u001b[32m      5\u001b[39m     rows.append({\u001b[33m'exp'\u001b[39m:exp,\u001b[33m'val_mae_last'\u001b[39m:hist.get(\u001b[33m'val_mae'\u001b[39m,[\u001b[38;5;28;01mNone\u001b[39;00m])[-\u001b[32m1\u001b[39m],\u001b[33m'val_mse_last'\u001b[39m:hist.get(\u001b[33m'val_mse'\u001b[39m,[\u001b[38;5;28;01mNone\u001b[39;00m])[-\u001b[32m1\u001b[39m]})\n\u001b[32m----> \u001b[39m\u001b[32m6\u001b[39m df=pd.DataFrame(rows).sort_values(\u001b[33m'exp'\u001b[39m); display(df)\n\u001b[32m      7\u001b[39m plt.figure(figsize=(\u001b[32m8\u001b[39m,\u001b[32m4\u001b[39m)); plt.bar(df[\u001b[33m'exp'\u001b[39m], df[\u001b[33m'val_mae_last'\u001b[39m]); plt.xticks(rotation=\u001b[32m45\u001b[39m, ha=\u001b[33m'right'\u001b[39m); plt.tight_layout(); plt.show()\n\u001b[32m      8\u001b[39m cfile=OUT/\u001b[33m'continual_fast_ewc'\u001b[39m/\u001b[33m'continual_results.json'\u001b[39m\n\u001b[32m      9\u001b[39m print(\u001b[33m'Continual:'\u001b[39m \u001b[38;5;28;01mif\u001b[39;00m cfile.exists() \u001b[38;5;28;01melse\u001b[39;00m \u001b[33m'Aún no hay continual.'\u001b[39m)\n",
      "\u001b[32m~/proyectos/TFM_SNN/.venv/lib/python3.12/site-packages/pandas/core/frame.py\u001b[39m in \u001b[36m?\u001b[39m\u001b[34m(self, by, axis, ascending, inplace, kind, na_position, ignore_index, key)\u001b[39m\n\u001b[32m   7192\u001b[39m             )\n\u001b[32m   7193\u001b[39m         \u001b[38;5;28;01melif\u001b[39;00m len(by):\n\u001b[32m   7194\u001b[39m             \u001b[38;5;66;03m# len(by) == 1\u001b[39;00m\n\u001b[32m   7195\u001b[39m \n\u001b[32m-> \u001b[39m\u001b[32m7196\u001b[39m             k = self._get_label_or_level_values(by[\u001b[32m0\u001b[39m], axis=axis)\n\u001b[32m   7197\u001b[39m \n\u001b[32m   7198\u001b[39m             \u001b[38;5;66;03m# need to rewrap column in Series to apply key function\u001b[39;00m\n\u001b[32m   7199\u001b[39m             \u001b[38;5;28;01mif\u001b[39;00m key \u001b[38;5;28;01mis\u001b[39;00m \u001b[38;5;28;01mnot\u001b[39;00m \u001b[38;5;28;01mNone\u001b[39;00m:\n",
      "\u001b[32m~/proyectos/TFM_SNN/.venv/lib/python3.12/site-packages/pandas/core/generic.py\u001b[39m in \u001b[36m?\u001b[39m\u001b[34m(self, key, axis)\u001b[39m\n\u001b[32m   1907\u001b[39m             values = self.xs(key, axis=other_axes[\u001b[32m0\u001b[39m])._values\n\u001b[32m   1908\u001b[39m         \u001b[38;5;28;01melif\u001b[39;00m self._is_level_reference(key, axis=axis):\n\u001b[32m   1909\u001b[39m             values = self.axes[axis].get_level_values(key)._values\n\u001b[32m   1910\u001b[39m         \u001b[38;5;28;01melse\u001b[39;00m:\n\u001b[32m-> \u001b[39m\u001b[32m1911\u001b[39m             \u001b[38;5;28;01mraise\u001b[39;00m KeyError(key)\n\u001b[32m   1912\u001b[39m \n\u001b[32m   1913\u001b[39m         \u001b[38;5;66;03m# Check for duplicates\u001b[39;00m\n\u001b[32m   1914\u001b[39m         \u001b[38;5;28;01mif\u001b[39;00m values.ndim > \u001b[32m1\u001b[39m:\n",
      "\u001b[31mKeyError\u001b[39m: 'exp'"
     ]
    }
   ],
   "source": [
    "from pathlib import Path; import json, pandas as pd; import matplotlib.pyplot as plt\n",
    "ROOT=Path.cwd().parent; OUT=ROOT/'outputs'; rows=[]\n",
    "for path in OUT.rglob('metrics.json'):\n",
    "    exp=path.parent.name; hist=json.loads(path.read_text())\n",
    "    rows.append({'exp':exp,'val_mae_last':hist.get('val_mae',[None])[-1],'val_mse_last':hist.get('val_mse',[None])[-1]})\n",
    "df=pd.DataFrame(rows).sort_values('exp'); display(df)\n",
    "plt.figure(figsize=(8,4)); plt.bar(df['exp'], df['val_mae_last']); plt.xticks(rotation=45, ha='right'); plt.tight_layout(); plt.show()\n",
    "cfile=OUT/'continual_fast_ewc'/'continual_results.json'\n",
    "print('Continual:' if cfile.exists() else 'Aún no hay continual.')\n",
    "if cfile.exists(): import pprint, json; pprint.pp(json.loads(cfile.read_text()))"
   ]
  }
 ],
 "metadata": {
  "kernelspec": {
   "display_name": ".venv",
   "language": "python",
   "name": "python3"
  },
  "language_info": {
   "codemirror_mode": {
    "name": "ipython",
    "version": 3
   },
   "file_extension": ".py",
   "mimetype": "text/x-python",
   "name": "python",
   "nbconvert_exporter": "python",
   "pygments_lexer": "ipython3",
   "version": "3.12.3"
  }
 },
 "nbformat": 4,
 "nbformat_minor": 5
}
