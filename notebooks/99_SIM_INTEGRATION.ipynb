{
 "cells": [
  {
   "cell_type": "markdown",
   "id": "c69b06dc",
   "metadata": {},
   "source": [
    "# 99 · Integración con Udacity Simulator\n",
    "\n",
    "Orquesta el servidor `tools/sim_drive.py`:\n",
    "1) Comprueba compatibilidad (modelo ↔ preprocesado).\n",
    "2) Construye el comando.\n",
    "3) Lanza y para el servidor desde aquí.\n",
    "\n",
    "> Abre el simulador y entra en **Autonomous Mode** antes o después de lanzar el servidor.\n"
   ]
  },
  {
   "cell_type": "code",
   "execution_count": null,
   "id": "4261ccd6",
   "metadata": {},
   "outputs": [],
   "source": [
    "# %%bash\n",
    "# (Opcional) instala dependencias\n",
    "# pip install python-socketio eventlet flask pillow opencv-python"
   ]
  },
  {
   "cell_type": "code",
   "execution_count": null,
   "id": "7ad1d3a6",
   "metadata": {},
   "outputs": [],
   "source": [
    "from pathlib import Path\n",
    "import sys, json, subprocess, shlex, time\n",
    "from datetime import datetime\n",
    "\n",
    "ROOT = Path.cwd().parents[0] if (Path.cwd().name == \"notebooks\") else Path.cwd()\n",
    "if str(ROOT) not in sys.path:\n",
    "    sys.path.append(str(ROOT))\n",
    "\n",
    "from src.utils import load_preset\n",
    "from src.models import build_model\n",
    "from src.datasets import ImageTransform\n",
    "\n",
    "# === Usuario: ajusta estos valores si quieres ===\n",
    "PRESET = \"accurate\"\n",
    "MODEL_NAME = \"pilotnet_snn\"      # \"pilotnet_snn\" | \"pilotnet_ann\" | \"snn_vision\"\n",
    "CKPT = max((ROOT/\"outputs\").rglob(\"model_best.pt\"), key=lambda p: p.stat().st_mtime)  # último best\n",
    "PORT = 4567\n",
    "\n",
    "print(\"ROOT:\", ROOT)\n",
    "print(\"CKPT seleccionado:\", CKPT)\n",
    "\n",
    "CFG = load_preset(ROOT/\"configs\"/\"presets.yaml\", PRESET)\n",
    "DATA, MODEL = CFG[\"data\"], CFG[\"model\"]\n",
    "\n",
    "# Defaults desde preset (puedes sobreescribir en la celda de lanzamiento)\n",
    "ENCODER = DATA[\"encoder\"]\n",
    "T       = int(DATA[\"T\"])\n",
    "GAIN    = float(DATA[\"gain\"])\n",
    "W       = int(MODEL[\"img_w\"])\n",
    "H       = int(MODEL[\"img_h\"])\n",
    "TO_GRAY = bool(MODEL[\"to_gray\"])\n",
    "\n",
    "print(f\"[preset={PRESET}] model={MODEL_NAME} {W}x{H} gray={TO_GRAY} | enc={ENCODER} T={T} gain={GAIN}\")\n"
   ]
  },
  {
   "cell_type": "code",
   "execution_count": null,
   "id": "c0ab2b4e",
   "metadata": {},
   "outputs": [],
   "source": [
    "import torch\n",
    "\n",
    "# Construye el modelo y carga el checkpoint para validar compatibilidad\n",
    "tfm = ImageTransform(W, H, to_gray=TO_GRAY, crop_top=None)\n",
    "model = build_model(MODEL_NAME, tfm, beta=0.9, threshold=0.5)\n",
    "state = torch.load(CKPT, map_location=\"cpu\")\n",
    "if isinstance(state, dict) and \"state_dict\" in state:\n",
    "    model.load_state_dict(state[\"state_dict\"])\n",
    "else:\n",
    "    model.load_state_dict(state)\n",
    "model.eval()\n",
    "print(\"OK: modelo cargado y listo para inferencia.\")\n"
   ]
  },
  {
   "cell_type": "code",
   "execution_count": null,
   "id": "15ae0e69",
   "metadata": {},
   "outputs": [],
   "source": [
    "# Construye el comando (puedes añadir --crop-top, --rgb, etc.)\n",
    "cmd = f\"\"\"\n",
    "python tools/sim_drive.py \\\n",
    "  --ckpt {shlex.quote(str(CKPT))} \\\n",
    "  --model-name {MODEL_NAME} \\\n",
    "  --preset accurate \\\n",
    "  --port {PORT} \\\n",
    "  --target-speed 12 \\\n",
    "  --crop-top 0 \\\n",
    "  --encoder rate \\\n",
    "  --T 30 \\\n",
    "  --gain 0.5 \\\n",
    "  --img-w 200 \\\n",
    "  --img-h 66 \\\n",
    "  --rgb False\n",
    "\"\"\".strip()\n",
    "\n",
    "print(\"Comando:\\n\", cmd)\n",
    "proc = subprocess.Popen(cmd, shell=True, cwd=ROOT)\n",
    "print(\"Servidor lanzado. PID =\", proc.pid)\n"
   ]
  },
  {
   "cell_type": "markdown",
   "id": "fac01f56",
   "metadata": {},
   "source": [
    "Ahora abre el **Udacity Simulator** y entra en **Autonomous Mode**.\n",
    "Deberías ver cómo el coche comienza a moverse. Vuelve aquí para ver logs o parar el servidor.\n"
   ]
  },
  {
   "cell_type": "code",
   "execution_count": null,
   "id": "ac0e3b1e",
   "metadata": {},
   "outputs": [],
   "source": [
    "import os, signal, time\n",
    "\n",
    "if proc and (proc.poll() is None):\n",
    "    print(f\"Servidor VIVO (PID={proc.pid})\")\n",
    "else:\n",
    "    print(\"Servidor NO está vivo.\")\n",
    "\n",
    "# Para detener:\n",
    "# if proc and (proc.poll() is None):\n",
    "#     os.kill(proc.pid, signal.SIGTERM)  # en Windows: proc.terminate()\n",
    "#     time.sleep(1.0)\n",
    "#     print(\"Servidor detenido.\")\n"
   ]
  },
  {
   "cell_type": "markdown",
   "id": "d352521c",
   "metadata": {},
   "source": [
    "## Notas\n",
    "- Este notebook solo orquesta la ejecución de `tools/sim_drive.py`.\n",
    "- Si tienes errores de compatibilidad de dimensiones, revisa `img_w/img_h`, `to_gray` y `--crop-top`.\n",
    "- Para curvas pronunciadas, baja `--target-speed` y ajusta `--kp/--kd`.\n"
   ]
  }
 ],
 "metadata": {
  "kernelspec": {
   "display_name": ".venv",
   "language": "python",
   "name": "python3"
  },
  "language_info": {
   "name": "python",
   "version": "3.12.3"
  }
 },
 "nbformat": 4,
 "nbformat_minor": 5
}
