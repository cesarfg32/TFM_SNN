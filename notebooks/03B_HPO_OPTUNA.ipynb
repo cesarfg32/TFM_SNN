{
 "cells": [
  {
   "cell_type": "markdown",
   "id": "5f9f0dc7",
   "metadata": {},
   "source": [
    "# 03B — Búsqueda de hiperparámetros con Optuna (Continual Learning)\n",
    "\n",
    "Este cuaderno automatiza la **optimización de hiperparámetros (HPO)** para métodos de aprendizaje continuo:\n",
    "- **naive** (baseline, sin HPs),\n",
    "- **ewc** (Elastic Weight Consolidation),\n",
    "- **rehearsal** (rejuego con buffer),\n",
    "- **rehearsal+ewc** (combinación).\n",
    "\n",
    "Se apoya en:\n",
    "- `configs/presets.yaml` (misma configuración que el resto de notebooks),\n",
    "- `build_make_loader_fn` (carga CSV+runtime o H5 offline),\n",
    "- `run_continual` (entrena & evalúa y guarda métricas).\n",
    "\n",
    "---\n",
    "\n",
    "### Métrica objetivo (minimizar)\n",
    "\n",
    "$$\n",
    "\\textbf{Objetivo}\n",
    "= \\mathrm{MAE}_{\\text{tarea final}}\n",
    "+ \\alpha \\cdot \\max\\!\\bigl(0,\\, \\text{OlvidoRelativo}\\,\\%\\bigr)\n",
    "$$\n",
    "\n",
    "\n",
    "- **MAE_tarea final**: error en la **última** tarea (queremos aprender bien lo nuevo).\n",
    "- **OlvidoRelativo %**: cuánto **empeora** la primera tarea tras aprender la segunda.\n",
    "- **α**: peso del olvido (por defecto 0.5). Sube α si quieres penalizar más el olvido.\n",
    "\n",
    "## ✅ Prerrequisitos\n",
    "- `pip install optuna`\n",
    "- Datos preparados (`tasks.json` o `tasks_balanced.json`).\n",
    "- Idealmente H5 offline si `use_offline_spikes: true` en el preset.\n",
    "\n",
    "<a id=\"toc\"></a>\n",
    "\n",
    "## 🧭 Índice\n",
    "- [1) Imports y setup](#sec-01)\n",
    "- [2) Carga de preset y construcción de modelo/transform](#sec-02)\n",
    "- [3) Tareas y factory de loaders](#sec-03)\n",
    "- [4) Métricas y objetivo para Optuna](#sec-04)\n",
    "- [5) Espacios de búsqueda (por método)](#sec-05)\n",
    "- [6) Estudio Optuna — un método concreto](#sec-06)\n",
    "- [7) Estudio Optuna conjunto (elige método + HPs)](#sec-07)\n",
    "- [8) Re-entrena con los mejores hiperparámetros](#sec-08)\n",
    "- [9) Resumen rápido de runs (tabla)](#sec-09)\n",
    "\n",
    "\n",
    "---\n",
    "\n",
    "> **Consejo**: empieza con el preset `fast` y `N_TRIALS` pequeño; si todo va bien, sube `N_TRIALS` y/o las `epochs`.\n"
   ]
  },
  {
   "cell_type": "markdown",
   "id": "0f5bd35d",
   "metadata": {},
   "source": [
    "<a id=\"sec-01\"></a>\n",
    "\n",
    "## 1) Imports y setup de entorno\n",
    "\n",
    "- Limitamos hilos BLAS (`OMP`, `MKL`, `OPENBLAS`) para evitar sobrecarga de CPU.\n",
    "- Configuramos **CUDA/TF32** para acelerar en GPUs NVIDIA.\n",
    "- Insertamos la **raíz del repo** en `sys.path` para importar módulos locales.\n",
    "- Comprobamos el **dispositivo** (`cuda`/`cpu`).\n",
    "\n",
    "> Si notas que el equipo va justo de CPU, baja `torch.set_num_threads(4)` a `2`.\n",
    "\n",
    "[↑ Volver al índice](#toc)"
   ]
  },
  {
   "cell_type": "code",
   "execution_count": 1,
   "id": "ccbd7d49",
   "metadata": {},
   "outputs": [
    {
     "name": "stderr",
     "output_type": "stream",
     "text": [
      "/home/cesar/proyectos/TFM_SNN/.venv/lib/python3.12/site-packages/tqdm/auto.py:21: TqdmWarning: IProgress not found. Please update jupyter and ipywidgets. See https://ipywidgets.readthedocs.io/en/stable/user_install.html\n",
      "  from .autonotebook import tqdm as notebook_tqdm\n"
     ]
    },
    {
     "name": "stdout",
     "output_type": "stream",
     "text": [
      "Device: cuda\n"
     ]
    }
   ],
   "source": [
    "# Limitar threads BLAS (opcional)\n",
    "import os\n",
    "os.environ[\"OMP_NUM_THREADS\"] = \"1\"\n",
    "os.environ[\"MKL_NUM_THREADS\"] = \"1\"\n",
    "os.environ[\"OPENBLAS_NUM_THREADS\"] = \"1\"\n",
    "\n",
    "from pathlib import Path\n",
    "import sys, json, copy, time\n",
    "import torch\n",
    "import optuna\n",
    "\n",
    "# Raíz del repo y sys.path\n",
    "ROOT = Path.cwd().parents[0] if (Path.cwd().name == \"notebooks\") else Path.cwd()\n",
    "if str(ROOT) not in sys.path:\n",
    "    sys.path.append(str(ROOT))\n",
    "\n",
    "# Proyecto\n",
    "from src.utils import load_preset, build_make_loader_fn\n",
    "from src.datasets import ImageTransform, AugmentConfig\n",
    "from src.models import build_model\n",
    "from src.runner import run_continual\n",
    "\n",
    "device = torch.device(\"cuda\" if torch.cuda.is_available() else \"cpu\")\n",
    "torch.set_num_threads(4)\n",
    "torch.backends.cudnn.benchmark = True\n",
    "torch.backends.cuda.matmul.allow_tf32 = True\n",
    "torch.backends.cudnn.allow_tf32 = True\n",
    "torch.set_float32_matmul_precision(\"high\")\n",
    "\n",
    "print(\"Device:\", device)"
   ]
  },
  {
   "cell_type": "markdown",
   "id": "0e14b25c",
   "metadata": {},
   "source": [
    "<a id=\"sec-02\"></a>\n",
    "\n",
    "## 2) Carga de preset y construcción de modelo/transform\n",
    "\n",
    "- `PRESET` se carga desde `configs/presets.yaml`.\n",
    "- Extraemos:\n",
    "  - **Modelo** y el **transform** de imagen (`ImageTransform`) acorde a `img_w`, `img_h`, `to_gray`.\n",
    "  - Parámetros de **codificación temporal** (`encoder`, `T`, `gain`) y **semilla**.\n",
    "  - Flags de **carga de datos**: `use_offline_spikes` (H5), `encode_runtime` (codifica en GPU), `use_offline_balanced`.\n",
    "  - Parámetros del **DataLoader** (workers, prefetch, pin_memory, etc.) y **balanceo online**.\n",
    "\n",
    "- `make_model_fn(tfm)` devuelve el modelo (por ejemplo, `pilotnet_snn` con `beta/threshold`).\n",
    "\n",
    "> Mantener aquí la **fuente de la verdad** del experimento (preset) ahorra inconsistencias respecto a otros notebooks.\n",
    "\n",
    "[↑ Volver al índice](#toc)"
   ]
  },
  {
   "cell_type": "code",
   "execution_count": 2,
   "id": "bc61aef8",
   "metadata": {},
   "outputs": [
    {
     "name": "stdout",
     "output_type": "stream",
     "text": [
      "[PRESET=fast] model=pilotnet_snn 200x66 gray=True\n",
      "[DATA] encoder=rate T=10 gain=0.5 seed=42\n",
      "[LOADER] workers=8 prefetch=2 pin=True persistent=True\n",
      "[BALANCE] online=False bins=50\n",
      "[RUNTIME_ENCODE] False | [OFFLINE_SPIKES] True\n"
     ]
    }
   ],
   "source": [
    "PRESET = \"fast\"  # fast | std | accurate\n",
    "CFG = load_preset(ROOT / \"configs\" / \"presets.yaml\", PRESET)\n",
    "\n",
    "# Modelo / tfm\n",
    "MODEL_NAME = CFG[\"model\"][\"name\"]\n",
    "tfm = ImageTransform(\n",
    "    CFG[\"model\"][\"img_w\"],\n",
    "    CFG[\"model\"][\"img_h\"],\n",
    "    to_gray=bool(CFG[\"model\"][\"to_gray\"]),\n",
    "    crop_top=None\n",
    ")\n",
    "\n",
    "# Datos / codificación temporal\n",
    "ENCODER = CFG[\"data\"][\"encoder\"]\n",
    "T       = int(CFG[\"data\"][\"T\"])\n",
    "GAIN    = float(CFG[\"data\"][\"gain\"])\n",
    "SEED    = int(CFG[\"data\"][\"seed\"])\n",
    "\n",
    "# Flags & loader\n",
    "USE_OFFLINE_SPIKES = bool(CFG[\"data\"].get(\"use_offline_spikes\", False))\n",
    "RUNTIME_ENCODE     = bool(CFG[\"data\"].get(\"encode_runtime\", False))\n",
    "\n",
    "NUM_WORKERS = int(CFG[\"data\"].get(\"num_workers\") or 0)      # robusto\n",
    "PREFETCH    = int(CFG[\"data\"].get(\"prefetch_factor\") or 2)  # <- casteo robusto\n",
    "PIN_MEMORY  = bool(CFG[\"data\"].get(\"pin_memory\", True))\n",
    "PERSISTENT  = bool(CFG[\"data\"].get(\"persistent_workers\", True))\n",
    "\n",
    "AUG_CFG = AugmentConfig(**(CFG[\"data\"].get(\"aug_train\") or {})) \\\n",
    "          if CFG[\"data\"].get(\"aug_train\") else None\n",
    "\n",
    "USE_ONLINE_BAL = bool(CFG[\"data\"].get(\"balance_online\", False))\n",
    "BAL_BINS = int(CFG[\"data\"].get(\"balance_bins\") or 21)\n",
    "BAL_EPS  = float(CFG[\"data\"].get(\"balance_smooth_eps\") or 1e-3)\n",
    "\n",
    "print(f\"[PRESET={PRESET}] model={MODEL_NAME} {tfm.w}x{tfm.h} gray={tfm.to_gray}\")\n",
    "print(f\"[DATA] encoder={ENCODER} T={T} gain={GAIN} seed={SEED}\")\n",
    "print(f\"[LOADER] workers={NUM_WORKERS} prefetch={PREFETCH} pin={PIN_MEMORY} persistent={PERSISTENT}\")\n",
    "print(f\"[BALANCE] online={USE_ONLINE_BAL} bins={BAL_BINS}\")\n",
    "print(f\"[RUNTIME_ENCODE] {RUNTIME_ENCODE} | [OFFLINE_SPIKES] {USE_OFFLINE_SPIKES}\")\n",
    "\n",
    "def make_model_fn(tfm):\n",
    "    # kwargs específicos de pilotnet_snn; ignorados para otros\n",
    "    return build_model(MODEL_NAME, tfm, beta=0.9, threshold=0.5)\n"
   ]
  },
  {
   "cell_type": "markdown",
   "id": "3f9b9209",
   "metadata": {},
   "source": [
    "<a id=\"sec-03\"></a>\n",
    "\n",
    "## 3) Tareas y factory de loaders\n",
    "\n",
    "- Leemos `tasks.json` o `tasks_balanced.json` desde `data/processed/`.\n",
    "- Cada tarea apunta a CSV/H5 de `train/val/test`.\n",
    "- Si `use_offline_spikes: true`, `build_make_loader_fn` **elige H5**; si no, usa **CSV + runtime encode** en GPU.\n",
    "\n",
    "El **wrapper** `make_loader_fn(...)` simplemente pasa argumentos al factory real; así el `runner` puede inyectar kwargs (augment, balanceo online, etc.) sin reescribir nada aquí.\n",
    "\n",
    "> Si activas **offline balanceado**, el **train** debería ser `train_balanced.csv` o el H5 derivado. El notebook advierte si no coincide.\n",
    "\n",
    "[↑ Volver al índice](#toc)"
   ]
  },
  {
   "cell_type": "code",
   "execution_count": 3,
   "id": "f86ce050",
   "metadata": {},
   "outputs": [
    {
     "name": "stdout",
     "output_type": "stream",
     "text": [
      "Tareas y TRAIN CSV/H5 a usar:\n",
      " - circuito1: train_balanced.csv\n",
      " - circuito2: train_balanced.csv\n",
      "make_loader_fn listo.\n"
     ]
    }
   ],
   "source": [
    "# Leer tasks.json / tasks_balanced.json (elige balanced si existe)\n",
    "PROC = ROOT / \"data\" / \"processed\"\n",
    "TB = PROC / \"tasks_balanced.json\"\n",
    "TASKS_FILE = TB if TB.exists() else (PROC / \"tasks.json\")\n",
    "\n",
    "with open(TASKS_FILE, \"r\", encoding=\"utf-8\") as f:\n",
    "    tasks_json = json.load(f)\n",
    "task_list = [{\"name\": n, \"paths\": tasks_json[\"splits\"][n]} for n in tasks_json[\"tasks_order\"]]\n",
    "\n",
    "print(\"Tareas y TRAIN CSV/H5 a usar:\")\n",
    "for t in task_list:\n",
    "    from pathlib import Path as _P\n",
    "    print(f\" - {t['name']}: {_P(t['paths']['train']).name}\")\n",
    "\n",
    "# Si usas H5 offline, chequear que existan\n",
    "if USE_OFFLINE_SPIKES:\n",
    "    mw, mh = CFG[\"model\"][\"img_w\"], CFG[\"model\"][\"img_h\"]\n",
    "    color = \"gray\" if CFG[\"model\"][\"to_gray\"] else \"rgb\"\n",
    "    gain_tag = (GAIN if ENCODER == \"rate\" else 0)\n",
    "    missing = []\n",
    "    for t in task_list:\n",
    "        base = PROC / t[\"name\"]\n",
    "        for split in (\"train\", \"val\", \"test\"):\n",
    "            p = base / f\"{split}_{ENCODER}_T{T}_gain{gain_tag}_{color}_{mw}x{mh}.h5\"\n",
    "            if not p.exists():\n",
    "                missing.append(str(p))\n",
    "    if missing:\n",
    "        print(\"[WARN] Faltan H5. Genera primero con tools/encode_tasks.py o prep_offline.py --encode\")\n",
    "\n",
    "# Factory de loaders\n",
    "_raw_make_loader_fn = build_make_loader_fn(\n",
    "    root=ROOT, use_offline_spikes=USE_OFFLINE_SPIKES, encode_runtime=RUNTIME_ENCODE,\n",
    ")\n",
    "def make_loader_fn(task, batch_size, encoder, T, gain, tfm, seed, **dl_kwargs):\n",
    "    \"\"\"Wrapper pass-through: el runner añade dl_kwargs; aquí solo los propagamos.\"\"\"\n",
    "    return _raw_make_loader_fn(\n",
    "        task=task, batch_size=batch_size, encoder=encoder, T=T, gain=gain, tfm=tfm, seed=seed, **dl_kwargs\n",
    "    )\n",
    "print(\"make_loader_fn listo.\")\n"
   ]
  },
  {
   "cell_type": "markdown",
   "id": "a5f7c6f6",
   "metadata": {},
   "source": [
    "<a id=\"sec-04\"></a>\n",
    "\n",
    "## 4) Métricas y objetivo para Optuna\n",
    "\n",
    "**Cómo se calcula:**\n",
    "1. Cargamos `continual_results.json` del run.\n",
    "2. Detectamos **primera** y **última** tarea (heurística simple: la última no tiene claves `after_*`).\n",
    "3. Extraemos:\n",
    "   - `c1_mae`: MAE en la **primera** tarea en su propio test.\n",
    "   - `c1_after_c2_mae`: MAE de la **primera** *después* de aprender la segunda (olvido).\n",
    "   - `c2_mae`: MAE de la **última** tarea.\n",
    "4. **Olvido relativo %** = \\((c1\\_after\\_c2 - c1\\_mae) / c1\\_mae \\times 100\\).\n",
    "\n",
    "**Objetivo** = `c2_mae + ALPHA_FORGET * max(0, olvido_relativo_%)`  \n",
    "- **Minimizar** este valor favorece: buen rendimiento en la **tarea final** y **poco olvido** de la primera.\n",
    "- Ajusta `ALPHA_FORGET` si quieres **penalizar más** el olvido (sube α) o **priorizar** la tarea nueva (baja α).\n",
    "\n",
    "> Si el JSON no existe o faltan métricas, devolvemos `inf` para que ese trial no gane.\n",
    "\n",
    "[↑ Volver al índice](#toc)"
   ]
  },
  {
   "cell_type": "code",
   "execution_count": 4,
   "id": "3f05f479",
   "metadata": {},
   "outputs": [],
   "source": [
    "import math\n",
    "from copy import deepcopy\n",
    "\n",
    "ALPHA_FORGET = 0.5   # peso del olvido relativo (%) en la métrica objetivo\n",
    "\n",
    "def _load_results(out_dir: Path) -> dict:\n",
    "    p = Path(out_dir) / \"continual_results.json\"\n",
    "    if not p.exists():\n",
    "        return {}\n",
    "    return json.loads(p.read_text(encoding=\"utf-8\"))\n",
    "\n",
    "def _pick_first_last_task(results: dict):\n",
    "    # heurística: primera = la que tenga claves 'after_*' (porque fue evaluada después),\n",
    "    # última = la que NO tenga 'after_*'\n",
    "    if not results:\n",
    "        return None, None\n",
    "    task_names = list(results.keys())\n",
    "    def is_last(d: dict) -> bool:\n",
    "        return not any(k.startswith(\"after_\") for k in d.keys())\n",
    "\n",
    "    first_task = None\n",
    "    last_task = None\n",
    "    for tn in task_names:\n",
    "        if is_last(results[tn]):\n",
    "            last_task = tn\n",
    "        else:\n",
    "            first_task = tn\n",
    "\n",
    "    if first_task is None or last_task is None:\n",
    "        # fallback: orden alfabético\n",
    "        task_names_sorted = sorted(task_names)\n",
    "        first_task = task_names_sorted[0]\n",
    "        last_task  = task_names_sorted[-1]\n",
    "    return first_task, last_task\n",
    "\n",
    "def extract_metrics(results: dict):\n",
    "    \"\"\"Devuelve dict con:\n",
    "       - c1_mae, c1_after_c2_mae, forget_rel_%\n",
    "       - c2_mae\n",
    "    \"\"\"\n",
    "    if not results:\n",
    "        return {\"c1_mae\": math.nan, \"c1_after_c2_mae\": math.nan, \"forget_rel_%\": math.nan, \"c2_mae\": math.nan}\n",
    "\n",
    "    c1, c2 = _pick_first_last_task(results)\n",
    "    if c1 is None or c2 is None:\n",
    "        return {\"c1_mae\": math.nan, \"c1_after_c2_mae\": math.nan, \"forget_rel_%\": math.nan, \"c2_mae\": math.nan}\n",
    "\n",
    "    c1_test_mae = float(results[c1].get(\"test_mae\", math.nan))\n",
    "    c2_test_mae = float(results[c2].get(\"test_mae\", math.nan))\n",
    "    c1_after_c2 = float(results[c1].get(f\"after_{c2}_mae\", math.nan))\n",
    "\n",
    "    forgetting_abs = c1_after_c2 - c1_test_mae\n",
    "    forgetting_rel = (forgetting_abs / c1_test_mae * 100.0) if (c1_test_mae == c1_test_mae and c1_test_mae != 0.0) else math.nan\n",
    "\n",
    "    return {\n",
    "        \"c1_mae\": c1_test_mae,\n",
    "        \"c1_after_c2_mae\": c1_after_c2,\n",
    "        \"forget_rel_%\": forgetting_rel,\n",
    "        \"c2_mae\": c2_test_mae,\n",
    "    }\n",
    "\n",
    "def objective_value(metrics: dict, alpha: float = ALPHA_FORGET) -> float:\n",
    "    \"\"\"Menor es mejor. Combina rendimiento en la última tarea y olvido relativo en la primera.\"\"\"\n",
    "    m2 = metrics.get(\"c2_mae\", math.nan)\n",
    "    f  = metrics.get(\"forget_rel_%\", math.nan)\n",
    "    if math.isnan(m2) or math.isnan(f):\n",
    "        return float(\"inf\")\n",
    "    return float(m2 + alpha * max(0.0, f))"
   ]
  },
  {
   "cell_type": "markdown",
   "id": "a27e35e7",
   "metadata": {},
   "source": [
    "<a id=\"sec-05\"></a>\n",
    "\n",
    "## 5) Espacios de búsqueda (por método)\n",
    "\n",
    "Definimos qué hiperparámetros explora **Optuna** en cada método:\n",
    "\n",
    "- **ewc**:\n",
    "  - `lam` (*lambda*): [3e8, 2e9] (log-uniform). Penalización de estabilidad (evita olvidar).\n",
    "  - `fisher_batches`: [200, 1200]. Cuánta info de Fisher acumulamos (coste ↑).\n",
    "\n",
    "- **rehearsal**:\n",
    "  - `buffer_size`: [1000, 8000]. Tamaño de memoria de rejuego.\n",
    "  - `replay_ratio`: [0.05, 0.4]. Fracción de muestras de memoria por minibatch.\n",
    "\n",
    "- **rehearsal+ewc**: combina ambos sets.\n",
    "\n",
    "- **naive**: sin hiperparámetros (sirve como línea base).\n",
    "\n",
    "> Rango amplio = más tiempo pero más opciones. Ajusta rangos cuando tengas intuición.\n",
    "\n",
    "[↑ Volver al índice](#toc)"
   ]
  },
  {
   "cell_type": "code",
   "execution_count": 5,
   "id": "c9e2b281",
   "metadata": {},
   "outputs": [],
   "source": [
    "def suggest_params_for_method(trial: optuna.Trial, method: str) -> dict:\n",
    "    method = method.lower()\n",
    "    if method == \"ewc\":\n",
    "        lam = trial.suggest_float(\"lam\", 3e8, 2e9, log=True)\n",
    "        fisher_batches = trial.suggest_int(\"fisher_batches\", 200, 1200, step=100)\n",
    "        return {\"lam\": lam, \"fisher_batches\": fisher_batches}\n",
    "    elif method == \"rehearsal\":\n",
    "        buffer_size  = trial.suggest_int(\"buffer_size\", 1000, 8000, step=1000)\n",
    "        replay_ratio = trial.suggest_float(\"replay_ratio\", 0.05, 0.4, step=0.05)\n",
    "        return {\"buffer_size\": buffer_size, \"replay_ratio\": replay_ratio}\n",
    "    elif method == \"rehearsal+ewc\":\n",
    "        buffer_size  = trial.suggest_int(\"buffer_size\", 1000, 8000, step=1000)\n",
    "        replay_ratio = trial.suggest_float(\"replay_ratio\", 0.05, 0.4, step=0.05)\n",
    "        lam = trial.suggest_float(\"lam\", 3e8, 2e9, log=True)\n",
    "        fisher_batches = trial.suggest_int(\"fisher_batches\", 200, 1200, step=100)\n",
    "        return {\"buffer_size\": buffer_size, \"replay_ratio\": replay_ratio, \"lam\": lam, \"fisher_batches\": fisher_batches}\n",
    "    else:  # naive (sin HPs)\n",
    "        return {}"
   ]
  },
  {
   "cell_type": "markdown",
   "id": "841fd521",
   "metadata": {},
   "source": [
    "<a id=\"sec-06\"></a>\n",
    "\n",
    "## 6) Estudio Optuna — un método concreto\n",
    "\n",
    "- **Study**: contenedor de la búsqueda.\n",
    "- **Trial**: una configuración (punto) en el espacio de HPs.\n",
    "- **Objective**: función que entrena/evalúa y devuelve un **valor a minimizar**.\n",
    "\n",
    "Parámetros clave:\n",
    "- `METHOD_TO_OPTIMIZE`: `\"ewc\"`, `\"rehearsal\"`, `\"rehearsal+ewc\"` o `\"naive\"`.\n",
    "- `N_TRIALS`: nº de configuraciones a probar.\n",
    "- `HPO_EPOCHS`: si no es `None`, **sobrescribe** las `epochs` del preset **solo durante HPO** (acelera la búsqueda). Luego reentrenas a tope en la Sección 8.\n",
    "\n",
    "**Qué hace cada trial:**\n",
    "1. Sugerir HPs (`suggest_*`).\n",
    "2. Construir `cfg` con esos HPs (y `epochs` reducidas si `HPO_EPOCHS`).\n",
    "3. Ejecutar `run_continual(...)`.\n",
    "4. Leer `continual_results.json`, calcular métrica objetivo y devolvérsela a Optuna.\n",
    "\n",
    "**Salida:**\n",
    "- `study.best_params`: mejores HPs.\n",
    "- `study.best_value`: valor objetivo mínimo.\n",
    "- `study.best_trial.user_attrs`: metadatos (ruta del experimento, métricas) que guardamos nosotros.\n",
    "\n",
    "> **Tip:** Para runs largos añade *pruning* o una base de datos (`optuna.create_study(storage=...)`) si quieres **reanudar** búsquedas en varias sesiones.\n",
    "\n",
    "[↑ Volver al índice](#toc)"
   ]
  },
  {
   "cell_type": "code",
   "execution_count": 6,
   "id": "c7f92711",
   "metadata": {},
   "outputs": [
    {
     "name": "stderr",
     "output_type": "stream",
     "text": [
      "[I 2025-08-28 19:37:45,197] A new study created in memory with name: HPO_ewc\n",
      "  0%|          | 0/8 [00:00<?, ?it/s]"
     ]
    },
    {
     "name": "stdout",
     "output_type": "stream",
     "text": [
      "\n",
      "--- Tarea 1/2: circuito1 | preset=fast | method=ewc_lam_3e+08 | B=64 T=10 AMP=True | enc=rate ---\n"
     ]
    },
    {
     "name": "stderr",
     "output_type": "stream",
     "text": []
    },
    {
     "name": "stdout",
     "output_type": "stream",
     "text": [
      "\n",
      "--- Tarea 2/2: circuito2 | preset=fast | method=ewc_lam_3e+08 | B=64 T=10 AMP=True | enc=rate ---\n"
     ]
    },
    {
     "name": "stderr",
     "output_type": "stream",
     "text": [
      "Best trial: 0. Best value: 0.236577:  12%|█▎        | 1/8 [07:39<53:35, 459.38s/it]"
     ]
    },
    {
     "name": "stdout",
     "output_type": "stream",
     "text": [
      "[I 2025-08-28 19:45:24,574] Trial 0 finished with value: 0.2365772503095346 and parameters: {'lam': 329729971.3260373, 'fisher_batches': 900}. Best is trial 0 with value: 0.2365772503095346.\n",
      "\n",
      "--- Tarea 1/2: circuito1 | preset=fast | method=ewc_lam_1e+09 | B=64 T=10 AMP=True | enc=rate ---\n"
     ]
    },
    {
     "name": "stderr",
     "output_type": "stream",
     "text": []
    },
    {
     "name": "stdout",
     "output_type": "stream",
     "text": [
      "\n",
      "--- Tarea 2/2: circuito2 | preset=fast | method=ewc_lam_1e+09 | B=64 T=10 AMP=True | enc=rate ---\n"
     ]
    },
    {
     "name": "stderr",
     "output_type": "stream",
     "text": [
      "Best trial: 0. Best value: 0.236577:  25%|██▌       | 2/8 [15:35<46:54, 469.02s/it]"
     ]
    },
    {
     "name": "stdout",
     "output_type": "stream",
     "text": [
      "[I 2025-08-28 19:53:20,346] Trial 1 finished with value: 0.2789726187516977 and parameters: {'lam': 1402218817.228243, 'fisher_batches': 700}. Best is trial 0 with value: 0.2365772503095346.\n",
      "\n",
      "--- Tarea 1/2: circuito1 | preset=fast | method=ewc_lam_4e+08 | B=64 T=10 AMP=True | enc=rate ---\n"
     ]
    },
    {
     "name": "stderr",
     "output_type": "stream",
     "text": []
    },
    {
     "name": "stdout",
     "output_type": "stream",
     "text": [
      "\n",
      "--- Tarea 2/2: circuito2 | preset=fast | method=ewc_lam_4e+08 | B=64 T=10 AMP=True | enc=rate ---\n"
     ]
    },
    {
     "name": "stderr",
     "output_type": "stream",
     "text": [
      "Best trial: 0. Best value: 0.236577:  38%|███▊      | 3/8 [23:30<39:18, 471.75s/it]"
     ]
    },
    {
     "name": "stdout",
     "output_type": "stream",
     "text": [
      "[I 2025-08-28 20:01:15,338] Trial 2 finished with value: 0.955256424574854 and parameters: {'lam': 411793392.068257, 'fisher_batches': 700}. Best is trial 0 with value: 0.2365772503095346.\n",
      "\n",
      "--- Tarea 1/2: circuito1 | preset=fast | method=ewc_lam_7e+08 | B=64 T=10 AMP=True | enc=rate ---\n"
     ]
    },
    {
     "name": "stderr",
     "output_type": "stream",
     "text": []
    },
    {
     "name": "stdout",
     "output_type": "stream",
     "text": [
      "\n",
      "--- Tarea 2/2: circuito2 | preset=fast | method=ewc_lam_7e+08 | B=64 T=10 AMP=True | enc=rate ---\n"
     ]
    },
    {
     "name": "stderr",
     "output_type": "stream",
     "text": [
      "Best trial: 0. Best value: 0.236577:  50%|█████     | 4/8 [31:30<31:40, 475.08s/it]"
     ]
    },
    {
     "name": "stdout",
     "output_type": "stream",
     "text": [
      "[I 2025-08-28 20:09:15,517] Trial 3 finished with value: 0.26450968128782854 and parameters: {'lam': 749920480.2137045, 'fisher_batches': 900}. Best is trial 0 with value: 0.2365772503095346.\n",
      "\n",
      "--- Tarea 1/2: circuito1 | preset=fast | method=ewc_lam_3e+08 | B=64 T=10 AMP=True | enc=rate ---\n"
     ]
    },
    {
     "name": "stderr",
     "output_type": "stream",
     "text": []
    },
    {
     "name": "stdout",
     "output_type": "stream",
     "text": [
      "\n",
      "--- Tarea 2/2: circuito2 | preset=fast | method=ewc_lam_3e+08 | B=64 T=10 AMP=True | enc=rate ---\n"
     ]
    },
    {
     "name": "stderr",
     "output_type": "stream",
     "text": [
      "Best trial: 0. Best value: 0.236577:  62%|██████▎   | 5/8 [39:27<23:47, 475.97s/it]"
     ]
    },
    {
     "name": "stdout",
     "output_type": "stream",
     "text": [
      "[I 2025-08-28 20:17:13,066] Trial 4 finished with value: 4.1559647993311035 and parameters: {'lam': 309558814.88788766, 'fisher_batches': 400}. Best is trial 0 with value: 0.2365772503095346.\n",
      "\n",
      "--- Tarea 1/2: circuito1 | preset=fast | method=ewc_lam_6e+08 | B=64 T=10 AMP=True | enc=rate ---\n"
     ]
    },
    {
     "name": "stderr",
     "output_type": "stream",
     "text": []
    },
    {
     "name": "stdout",
     "output_type": "stream",
     "text": [
      "\n",
      "--- Tarea 2/2: circuito2 | preset=fast | method=ewc_lam_6e+08 | B=64 T=10 AMP=True | enc=rate ---\n"
     ]
    },
    {
     "name": "stderr",
     "output_type": "stream",
     "text": [
      "Best trial: 0. Best value: 0.236577:  75%|███████▌  | 6/8 [47:26<15:53, 476.73s/it]"
     ]
    },
    {
     "name": "stdout",
     "output_type": "stream",
     "text": [
      "[I 2025-08-28 20:25:11,272] Trial 5 finished with value: 0.25626657111150725 and parameters: {'lam': 645464902.4448289, 'fisher_batches': 600}. Best is trial 0 with value: 0.2365772503095346.\n",
      "\n",
      "--- Tarea 1/2: circuito1 | preset=fast | method=ewc_lam_9e+08 | B=64 T=10 AMP=True | enc=rate ---\n"
     ]
    },
    {
     "name": "stderr",
     "output_type": "stream",
     "text": []
    },
    {
     "name": "stdout",
     "output_type": "stream",
     "text": [
      "\n",
      "--- Tarea 2/2: circuito2 | preset=fast | method=ewc_lam_9e+08 | B=64 T=10 AMP=True | enc=rate ---\n"
     ]
    },
    {
     "name": "stderr",
     "output_type": "stream",
     "text": [
      "Best trial: 0. Best value: 0.236577:  88%|████████▊ | 7/8 [55:26<07:57, 477.87s/it]"
     ]
    },
    {
     "name": "stdout",
     "output_type": "stream",
     "text": [
      "[I 2025-08-28 20:33:11,489] Trial 6 finished with value: 0.26445183113172605 and parameters: {'lam': 902501214.3725176, 'fisher_batches': 1100}. Best is trial 0 with value: 0.2365772503095346.\n",
      "\n",
      "--- Tarea 1/2: circuito1 | preset=fast | method=ewc_lam_8e+08 | B=64 T=10 AMP=True | enc=rate ---\n"
     ]
    },
    {
     "name": "stderr",
     "output_type": "stream",
     "text": []
    },
    {
     "name": "stdout",
     "output_type": "stream",
     "text": [
      "\n",
      "--- Tarea 2/2: circuito2 | preset=fast | method=ewc_lam_8e+08 | B=64 T=10 AMP=True | enc=rate ---\n"
     ]
    },
    {
     "name": "stderr",
     "output_type": "stream",
     "text": [
      "Best trial: 0. Best value: 0.236577: 100%|██████████| 8/8 [1:03:23<00:00, 475.45s/it]"
     ]
    },
    {
     "name": "stdout",
     "output_type": "stream",
     "text": [
      "[I 2025-08-28 20:41:08,759] Trial 7 finished with value: 0.2646321049323669 and parameters: {'lam': 757793838.5241387, 'fisher_batches': 400}. Best is trial 0 with value: 0.2365772503095346.\n",
      "Best value: 0.2365772503095346\n",
      "Best params: {'lam': 329729971.3260373, 'fisher_batches': 900}\n",
      "Best attrs: {'out_dir': '/home/cesar/proyectos/TFM_SNN/outputs/continual_fast_ewc_lam_3e+08_lam_3e+08_rate_model-PilotNetSNN_66x200_gray_seed_42', 'metrics': {'c1_mae': 0.15691639125905682, 'c1_after_c2_mae': 0.15430924066312077, 'forget_rel_%': -1.6614902847414132, 'c2_mae': 0.2365772503095346}}\n"
     ]
    },
    {
     "name": "stderr",
     "output_type": "stream",
     "text": [
      "\n"
     ]
    }
   ],
   "source": [
    "# Configuración del estudio\n",
    "METHOD_TO_OPTIMIZE = \"ewc\"   # \"naive\" | \"ewc\" | \"rehearsal\" | \"rehearsal+ewc\"\n",
    "N_TRIALS = 8                 # súbelo cuando estés satisfecho con tiempos/estabilidad\n",
    "HPO_EPOCHS = None            # None -> usar epochs del preset; o pon un int (ej. 3) para acelerar\n",
    "\n",
    "def build_cfg_with_method(base_cfg: dict, method_name: str, params: dict, hpo_epochs: int|None):\n",
    "    cfg = copy.deepcopy(base_cfg)\n",
    "    cfg[\"continual\"][\"method\"] = method_name\n",
    "    cfg[\"continual\"][\"params\"] = params or {}\n",
    "\n",
    "    if hpo_epochs is not None:\n",
    "        cfg[\"optim\"][\"epochs\"] = int(hpo_epochs)\n",
    "    return cfg\n",
    "\n",
    "def run_one_cfg(cfg: dict) -> tuple[Path, dict, dict]:\n",
    "    out_dir, res = run_continual(\n",
    "        task_list=task_list,\n",
    "        make_loader_fn=make_loader_fn,\n",
    "        make_model_fn=make_model_fn,\n",
    "        tfm=tfm,\n",
    "        cfg=cfg,\n",
    "        preset_name=PRESET,\n",
    "        out_root=ROOT / \"outputs\",\n",
    "        verbose=True,\n",
    "    )\n",
    "    # Nota: algunos runners devuelven res; aun así, leemos del JSON para robustez\n",
    "    results = _load_results(out_dir) or (res if isinstance(res, dict) else {})\n",
    "    return out_dir, res, results\n",
    "\n",
    "def optuna_objective(trial: optuna.Trial):\n",
    "    params = suggest_params_for_method(trial, METHOD_TO_OPTIMIZE)\n",
    "    cfg_i  = build_cfg_with_method(CFG, METHOD_TO_OPTIMIZE, params, HPO_EPOCHS)\n",
    "    out_dir, _, results = run_one_cfg(cfg_i)\n",
    "    metrics = extract_metrics(results)\n",
    "    val = objective_value(metrics, ALPHA_FORGET)\n",
    "    trial.set_user_attr(\"out_dir\", str(out_dir))\n",
    "    trial.set_user_attr(\"metrics\", metrics)\n",
    "    return val\n",
    "\n",
    "study = optuna.create_study(direction=\"minimize\", study_name=f\"HPO_{METHOD_TO_OPTIMIZE}\")\n",
    "study.optimize(optuna_objective, n_trials=N_TRIALS, show_progress_bar=True)\n",
    "\n",
    "print(\"Best value:\", study.best_value)\n",
    "print(\"Best params:\", study.best_params)\n",
    "print(\"Best attrs:\", study.best_trial.user_attrs)"
   ]
  },
  {
   "cell_type": "markdown",
   "id": "1a48b08b",
   "metadata": {},
   "source": [
    "<a id=\"sec-07\"></a>\n",
    "\n",
    "## 7) Estudio Optuna conjunto (elige método + HPs)\n",
    "\n",
    "Si `RUN_JOINT=True`, el **trial** también elige el **método**:\n",
    "- `method ∈ {naive, ewc, rehearsal, rehearsal+ewc}`\n",
    "- Y luego sus HPs correspondientes.\n",
    "\n",
    "Útil cuando:\n",
    "- No sabes qué método es mejor en tu dataset.\n",
    "- Quieres una **comparativa automática** con el mismo presupuesto de cómputo.\n",
    "\n",
    "> Empieza con `RUN_JOINT=False` para validar el flujo con un único método. Luego enciéndelo y sube `N_TRIALS_JOINT`.\n",
    "\n",
    "[↑ Volver al índice](#toc)"
   ]
  },
  {
   "cell_type": "code",
   "execution_count": 7,
   "id": "84e7f1a3",
   "metadata": {},
   "outputs": [
    {
     "name": "stdout",
     "output_type": "stream",
     "text": [
      "RUN_JOINT=False — omitido.\n"
     ]
    }
   ],
   "source": [
    "RUN_JOINT = False   # Pon True si quieres lanzar el estudio conjunto\n",
    "N_TRIALS_JOINT = 10\n",
    "\n",
    "def optuna_objective_joint(trial: optuna.Trial):\n",
    "    method = trial.suggest_categorical(\"method\", [\"naive\",\"ewc\",\"rehearsal\",\"rehearsal+ewc\"])\n",
    "    params = suggest_params_for_method(trial, method)\n",
    "    cfg_i  = build_cfg_with_method(CFG, method, params, HPO_EPOCHS)\n",
    "    out_dir, _, results = run_one_cfg(cfg_i)\n",
    "    metrics = extract_metrics(results)\n",
    "    val = objective_value(metrics, ALPHA_FORGET)\n",
    "    trial.set_user_attr(\"out_dir\", str(out_dir))\n",
    "    trial.set_user_attr(\"metrics\", metrics)\n",
    "    trial.set_user_attr(\"method\", method)\n",
    "    return val\n",
    "\n",
    "if RUN_JOINT:\n",
    "    study_joint = optuna.create_study(direction=\"minimize\", study_name=\"HPO_joint\")\n",
    "    study_joint.optimize(optuna_objective_joint, n_trials=N_TRIALS_JOINT, show_progress_bar=True)\n",
    "    print(\"Best value:\", study_joint.best_value)\n",
    "    print(\"Best params:\", study_joint.best_params)\n",
    "    print(\"Best attrs:\", study_joint.best_trial.user_attrs)\n",
    "else:\n",
    "    print(\"RUN_JOINT=False — omitido.\")"
   ]
  },
  {
   "cell_type": "markdown",
   "id": "4f8cdc9f",
   "metadata": {},
   "source": [
    "<a id=\"sec-08\"></a>\n",
    "\n",
    "## 8) Re-entrena con los mejores hiperparámetros\n",
    "\n",
    "- Coge `study.best_params` y `METHOD_TO_OPTIMIZE`.\n",
    "- Reconstruye `cfg_best` con el **método ganador + HPs**.\n",
    "- (Opcional) Restablece `epochs` del preset si usaste `HPO_EPOCHS` para acelerar.\n",
    "- Lanza `run_continual(...)` **a pleno rendimiento**.\n",
    "- Muestra métricas finales y la **carpeta de salida**.\n",
    "\n",
    "> Así separas la **búsqueda rápida** (pocas epochs) del **entrenamiento serio** (epochs del preset).\n",
    "\n",
    "[↑ Volver al índice](#toc)"
   ]
  },
  {
   "cell_type": "code",
   "execution_count": 8,
   "id": "40464ac5",
   "metadata": {},
   "outputs": [
    {
     "name": "stdout",
     "output_type": "stream",
     "text": [
      "Mejor método: ewc\n",
      "Mejores HPs: {'lam': 329729971.3260373, 'fisher_batches': 900}\n",
      "\n",
      "--- Tarea 1/2: circuito1 | preset=fast | method=ewc_lam_3e+08 | B=64 T=10 AMP=True | enc=rate ---\n"
     ]
    },
    {
     "name": "stderr",
     "output_type": "stream",
     "text": [
      "                                                              \r"
     ]
    },
    {
     "name": "stdout",
     "output_type": "stream",
     "text": [
      "\n",
      "--- Tarea 2/2: circuito2 | preset=fast | method=ewc_lam_3e+08 | B=64 T=10 AMP=True | enc=rate ---\n"
     ]
    },
    {
     "name": "stderr",
     "output_type": "stream",
     "text": [
      "                                                            \r"
     ]
    },
    {
     "name": "stdout",
     "output_type": "stream",
     "text": [
      "Resultados finales (re-train): {'c1_mae': 0.15551557800483617, 'c1_after_c2_mae': 0.16661831455962672, 'forget_rel_%': 7.139308291318108, 'c2_mae': 0.25677594766244516}\n",
      "Guardado en: /home/cesar/proyectos/TFM_SNN/outputs/continual_fast_ewc_lam_3e+08_lam_3e+08_rate_model-PilotNetSNN_66x200_gray_seed_42\n"
     ]
    }
   ],
   "source": [
    "# Usa el mejor del estudio por método (arriba)\n",
    "BEST_PARAMS = study.best_params\n",
    "BEST_METHOD = METHOD_TO_OPTIMIZE\n",
    "\n",
    "print(\"Mejor método:\", BEST_METHOD)\n",
    "print(\"Mejores HPs:\", BEST_PARAMS)\n",
    "\n",
    "cfg_best = copy.deepcopy(CFG)\n",
    "cfg_best[\"continual\"][\"method\"] = BEST_METHOD\n",
    "cfg_best[\"continual\"][\"params\"] = BEST_PARAMS\n",
    "\n",
    "# (Opcional) restablecer epochs al valor del preset si redujiste para HPO\n",
    "# cfg_best[\"optim\"][\"epochs\"] = load_preset(ROOT / \"configs\" / \"presets.yaml\", PRESET)[\"optim\"][\"epochs\"]\n",
    "\n",
    "out_dir, _, results = run_one_cfg(cfg_best)\n",
    "metrics = extract_metrics(results)\n",
    "print(\"Resultados finales (re-train):\", metrics)\n",
    "print(\"Guardado en:\", out_dir)"
   ]
  },
  {
   "cell_type": "markdown",
   "id": "d99cf26e",
   "metadata": {},
   "source": [
    "<a id=\"sec-09\"></a>\n",
    "\n",
    "## 9) Resumen rápido de runs (tabla)\n",
    "\n",
    "- Recorremos `outputs/continual_*` y leemos `continual_results.json`.\n",
    "- Extraemos y tabulamos:\n",
    "  - `preset`, `method`, `encoder`, `seed`, (y `lambda` si aplica),\n",
    "  - `c1_mae`, `c1_after_c2_mae`, `forget_rel_%`, `c2_mae`.\n",
    "\n",
    "**Cómo leerla:**\n",
    "- **`c2_mae`** bajo → aprende bien la última tarea.\n",
    "- **`forget_rel_%`** bajo → **poco olvido** de la primera.\n",
    "- Filtra por preset/método para comparar **manzanas con manzanas**.\n",
    "\n",
    "> Consejo: Exporta a CSV/Parquet si quieres hacer gráficas comparativas a posteriori.\n",
    "\n",
    "[↑ Volver al índice](#toc)"
   ]
  },
  {
   "cell_type": "code",
   "execution_count": 5,
   "id": "34ca61bf",
   "metadata": {},
   "outputs": [
    {
     "name": "stdout",
     "output_type": "stream",
     "text": [
      "runs en resumen: 12\n"
     ]
    },
    {
     "data": {
      "text/html": [
       "<div>\n",
       "<style scoped>\n",
       "    .dataframe tbody tr th:only-of-type {\n",
       "        vertical-align: middle;\n",
       "    }\n",
       "\n",
       "    .dataframe tbody tr th {\n",
       "        vertical-align: top;\n",
       "    }\n",
       "\n",
       "    .dataframe thead th {\n",
       "        text-align: right;\n",
       "    }\n",
       "</style>\n",
       "<table border=\"1\" class=\"dataframe\">\n",
       "  <thead>\n",
       "    <tr style=\"text-align: right;\">\n",
       "      <th></th>\n",
       "      <th>exp</th>\n",
       "      <th>preset</th>\n",
       "      <th>method</th>\n",
       "      <th>lambda</th>\n",
       "      <th>encoder</th>\n",
       "      <th>model</th>\n",
       "      <th>seed</th>\n",
       "      <th>c1_mae</th>\n",
       "      <th>c1_after_c2_mae</th>\n",
       "      <th>forget_rel_%</th>\n",
       "      <th>c2_mae</th>\n",
       "    </tr>\n",
       "  </thead>\n",
       "  <tbody>\n",
       "    <tr>\n",
       "      <th>0</th>\n",
       "      <td>continual_fast_ewc_lam_1e+09_lam_1e+09_rate_mo...</td>\n",
       "      <td>fast</td>\n",
       "      <td>ewc</td>\n",
       "      <td>1e+09</td>\n",
       "      <td>rate</td>\n",
       "      <td>PilotNetSNN_66x200_gray</td>\n",
       "      <td>42</td>\n",
       "      <td>0.155516</td>\n",
       "      <td>0.145252</td>\n",
       "      <td>-6.599683</td>\n",
       "      <td>0.278973</td>\n",
       "    </tr>\n",
       "    <tr>\n",
       "      <th>1</th>\n",
       "      <td>continual_fast_ewc_lam_1e+09_lam_1e+09_rate_mo...</td>\n",
       "      <td>fast</td>\n",
       "      <td>ewc</td>\n",
       "      <td>1e+09</td>\n",
       "      <td>rate</td>\n",
       "      <td>PilotNetSNN_66x200_gray</td>\n",
       "      <td>43</td>\n",
       "      <td>0.156923</td>\n",
       "      <td>0.146069</td>\n",
       "      <td>-6.916808</td>\n",
       "      <td>0.246557</td>\n",
       "    </tr>\n",
       "    <tr>\n",
       "      <th>2</th>\n",
       "      <td>continual_fast_ewc_lam_3e+08_lam_3e+08_rate_mo...</td>\n",
       "      <td>fast</td>\n",
       "      <td>ewc</td>\n",
       "      <td>3e+08</td>\n",
       "      <td>rate</td>\n",
       "      <td>PilotNetSNN_66x200_gray</td>\n",
       "      <td>42</td>\n",
       "      <td>0.155516</td>\n",
       "      <td>0.166618</td>\n",
       "      <td>7.139308</td>\n",
       "      <td>0.256776</td>\n",
       "    </tr>\n",
       "    <tr>\n",
       "      <th>3</th>\n",
       "      <td>continual_fast_ewc_lam_4e+08_lam_4e+08_rate_mo...</td>\n",
       "      <td>fast</td>\n",
       "      <td>ewc</td>\n",
       "      <td>4e+08</td>\n",
       "      <td>rate</td>\n",
       "      <td>PilotNetSNN_66x200_gray</td>\n",
       "      <td>42</td>\n",
       "      <td>0.155516</td>\n",
       "      <td>0.157668</td>\n",
       "      <td>1.384201</td>\n",
       "      <td>0.263156</td>\n",
       "    </tr>\n",
       "    <tr>\n",
       "      <th>4</th>\n",
       "      <td>continual_fast_ewc_lam_6e+08_lam_6e+08_rate_mo...</td>\n",
       "      <td>fast</td>\n",
       "      <td>ewc</td>\n",
       "      <td>6e+08</td>\n",
       "      <td>rate</td>\n",
       "      <td>PilotNetSNN_66x200_gray</td>\n",
       "      <td>42</td>\n",
       "      <td>0.155516</td>\n",
       "      <td>0.147000</td>\n",
       "      <td>-5.475555</td>\n",
       "      <td>0.256267</td>\n",
       "    </tr>\n",
       "    <tr>\n",
       "      <th>5</th>\n",
       "      <td>continual_fast_ewc_lam_7e+08_lam_7e+08_rate_mo...</td>\n",
       "      <td>fast</td>\n",
       "      <td>ewc</td>\n",
       "      <td>7e+08</td>\n",
       "      <td>rate</td>\n",
       "      <td>PilotNetSNN_66x200_gray</td>\n",
       "      <td>42</td>\n",
       "      <td>0.155516</td>\n",
       "      <td>0.148068</td>\n",
       "      <td>-4.789261</td>\n",
       "      <td>0.264510</td>\n",
       "    </tr>\n",
       "    <tr>\n",
       "      <th>6</th>\n",
       "      <td>continual_fast_ewc_lam_8e+08_lam_8e+08_rate_mo...</td>\n",
       "      <td>fast</td>\n",
       "      <td>ewc</td>\n",
       "      <td>8e+08</td>\n",
       "      <td>rate</td>\n",
       "      <td>PilotNetSNN_66x200_gray</td>\n",
       "      <td>42</td>\n",
       "      <td>0.155516</td>\n",
       "      <td>0.147911</td>\n",
       "      <td>-4.890201</td>\n",
       "      <td>0.264632</td>\n",
       "    </tr>\n",
       "    <tr>\n",
       "      <th>7</th>\n",
       "      <td>continual_fast_ewc_lam_9e+08_lam_9e+08_rate_mo...</td>\n",
       "      <td>fast</td>\n",
       "      <td>ewc</td>\n",
       "      <td>9e+08</td>\n",
       "      <td>rate</td>\n",
       "      <td>PilotNetSNN_66x200_gray</td>\n",
       "      <td>42</td>\n",
       "      <td>0.155516</td>\n",
       "      <td>0.148163</td>\n",
       "      <td>-4.727991</td>\n",
       "      <td>0.264452</td>\n",
       "    </tr>\n",
       "    <tr>\n",
       "      <th>8</th>\n",
       "      <td>continual_fast_naive_rate_model-PilotNetSNN_66...</td>\n",
       "      <td>fast</td>\n",
       "      <td>naive</td>\n",
       "      <td>None</td>\n",
       "      <td>rate</td>\n",
       "      <td>PilotNetSNN_66x200_gray</td>\n",
       "      <td>42</td>\n",
       "      <td>0.168231</td>\n",
       "      <td>0.243002</td>\n",
       "      <td>44.445039</td>\n",
       "      <td>0.186517</td>\n",
       "    </tr>\n",
       "    <tr>\n",
       "      <th>9</th>\n",
       "      <td>continual_fast_naive_rate_model-PilotNetSNN_66...</td>\n",
       "      <td>fast</td>\n",
       "      <td>naive</td>\n",
       "      <td>None</td>\n",
       "      <td>rate</td>\n",
       "      <td>PilotNetSNN_66x200_gray</td>\n",
       "      <td>43</td>\n",
       "      <td>0.144583</td>\n",
       "      <td>0.229471</td>\n",
       "      <td>58.711775</td>\n",
       "      <td>0.181073</td>\n",
       "    </tr>\n",
       "    <tr>\n",
       "      <th>10</th>\n",
       "      <td>continual_fast_rehearsal_buf_5000_rr_20_rate_m...</td>\n",
       "      <td>fast</td>\n",
       "      <td>rehearsal_buf_5000_rr_20</td>\n",
       "      <td>None</td>\n",
       "      <td>rate</td>\n",
       "      <td>PilotNetSNN_66x200_gray</td>\n",
       "      <td>42</td>\n",
       "      <td>0.156103</td>\n",
       "      <td>0.179402</td>\n",
       "      <td>14.925649</td>\n",
       "      <td>0.203679</td>\n",
       "    </tr>\n",
       "    <tr>\n",
       "      <th>11</th>\n",
       "      <td>continual_fast_rehearsal_buf_5000_rr_20+ewc_la...</td>\n",
       "      <td>fast</td>\n",
       "      <td>rehearsal_buf_5000_rr_20+ewc</td>\n",
       "      <td>7e+08</td>\n",
       "      <td>rate</td>\n",
       "      <td>PilotNetSNN_66x200_gray</td>\n",
       "      <td>42</td>\n",
       "      <td>0.158883</td>\n",
       "      <td>0.151600</td>\n",
       "      <td>-4.584009</td>\n",
       "      <td>0.261269</td>\n",
       "    </tr>\n",
       "  </tbody>\n",
       "</table>\n",
       "</div>"
      ],
      "text/plain": [
       "                                                  exp preset  \\\n",
       "0   continual_fast_ewc_lam_1e+09_lam_1e+09_rate_mo...   fast   \n",
       "1   continual_fast_ewc_lam_1e+09_lam_1e+09_rate_mo...   fast   \n",
       "2   continual_fast_ewc_lam_3e+08_lam_3e+08_rate_mo...   fast   \n",
       "3   continual_fast_ewc_lam_4e+08_lam_4e+08_rate_mo...   fast   \n",
       "4   continual_fast_ewc_lam_6e+08_lam_6e+08_rate_mo...   fast   \n",
       "5   continual_fast_ewc_lam_7e+08_lam_7e+08_rate_mo...   fast   \n",
       "6   continual_fast_ewc_lam_8e+08_lam_8e+08_rate_mo...   fast   \n",
       "7   continual_fast_ewc_lam_9e+08_lam_9e+08_rate_mo...   fast   \n",
       "8   continual_fast_naive_rate_model-PilotNetSNN_66...   fast   \n",
       "9   continual_fast_naive_rate_model-PilotNetSNN_66...   fast   \n",
       "10  continual_fast_rehearsal_buf_5000_rr_20_rate_m...   fast   \n",
       "11  continual_fast_rehearsal_buf_5000_rr_20+ewc_la...   fast   \n",
       "\n",
       "                          method lambda encoder                    model  \\\n",
       "0                            ewc  1e+09    rate  PilotNetSNN_66x200_gray   \n",
       "1                            ewc  1e+09    rate  PilotNetSNN_66x200_gray   \n",
       "2                            ewc  3e+08    rate  PilotNetSNN_66x200_gray   \n",
       "3                            ewc  4e+08    rate  PilotNetSNN_66x200_gray   \n",
       "4                            ewc  6e+08    rate  PilotNetSNN_66x200_gray   \n",
       "5                            ewc  7e+08    rate  PilotNetSNN_66x200_gray   \n",
       "6                            ewc  8e+08    rate  PilotNetSNN_66x200_gray   \n",
       "7                            ewc  9e+08    rate  PilotNetSNN_66x200_gray   \n",
       "8                          naive   None    rate  PilotNetSNN_66x200_gray   \n",
       "9                          naive   None    rate  PilotNetSNN_66x200_gray   \n",
       "10      rehearsal_buf_5000_rr_20   None    rate  PilotNetSNN_66x200_gray   \n",
       "11  rehearsal_buf_5000_rr_20+ewc  7e+08    rate  PilotNetSNN_66x200_gray   \n",
       "\n",
       "    seed    c1_mae  c1_after_c2_mae  forget_rel_%    c2_mae  \n",
       "0     42  0.155516         0.145252     -6.599683  0.278973  \n",
       "1     43  0.156923         0.146069     -6.916808  0.246557  \n",
       "2     42  0.155516         0.166618      7.139308  0.256776  \n",
       "3     42  0.155516         0.157668      1.384201  0.263156  \n",
       "4     42  0.155516         0.147000     -5.475555  0.256267  \n",
       "5     42  0.155516         0.148068     -4.789261  0.264510  \n",
       "6     42  0.155516         0.147911     -4.890201  0.264632  \n",
       "7     42  0.155516         0.148163     -4.727991  0.264452  \n",
       "8     42  0.168231         0.243002     44.445039  0.186517  \n",
       "9     43  0.144583         0.229471     58.711775  0.181073  \n",
       "10    42  0.156103         0.179402     14.925649  0.203679  \n",
       "11    42  0.158883         0.151600     -4.584009  0.261269  "
      ]
     },
     "metadata": {},
     "output_type": "display_data"
    }
   ],
   "source": [
    "# === Tabla mínima para HPO / inspección rápida ===\n",
    "from src.utils_exp import build_runs_df\n",
    "import pandas as pd\n",
    "\n",
    "outputs_root = ROOT / \"outputs\"\n",
    "df = build_runs_df(outputs_root)\n",
    "\n",
    "print(f\"runs en resumen: {len(df)}\")\n",
    "if df.empty:\n",
    "    print(\"No hay filas (¿no existen JSONs o solo hubo 1 tarea por run?).\")\n",
    "else:\n",
    "    # columnas clave para tuning; mantiene el nombre 'forget_rel_%' por compatibilidad\n",
    "    view = df.rename(columns={\"c1_forgetting_mae_rel_%\": \"forget_rel_%\"}).loc[:, [\n",
    "        \"exp\",\"preset\",\"method\",\"lambda\",\"encoder\",\"model\",\"seed\",\n",
    "        \"c1_mae\",\"c1_after_c2_mae\",\"forget_rel_%\",\"c2_mae\"\n",
    "    ]]\n",
    "    display(view.sort_values([\"preset\",\"method\",\"encoder\",\"lambda\"], na_position=\"last\", ignore_index=True))\n"
   ]
  },
  {
   "cell_type": "markdown",
   "id": "e716c060",
   "metadata": {},
   "source": [
    "## Apéndice — Optuna en 90 segundos\n",
    "\n",
    "- **Study**: el proyecto de HPO (contiene todos los trials).\n",
    "- **Trial**: una evaluación con un conjunto de HPs (`suggest_int`, `suggest_float`, etc.).\n",
    "- **Sampler**: estrategia para elegir el siguiente punto (por defecto, TPE).\n",
    "- **Pruner**: **corta** trials que pintan mal (acelera búsquedas largas).\n",
    "- **Storage**: base de datos (SQLite, PostgreSQL) para **reanudar** y/o **paralelizar**.\n",
    "\n",
    "### Reanudar búsquedas\n",
    "Puedes crear el estudio con almacenamiento:\n",
    "```python\n",
    "study = optuna.create_study(\n",
    "    direction=\"minimize\",\n",
    "    study_name=\"HPO_ewc\",\n",
    "    storage=f\"sqlite:///{ROOT/'outputs'/'optuna_ewc.sqlite'}\",\n",
    "    load_if_exists=True,\n",
    ")\n"
   ]
  }
 ],
 "metadata": {
  "kernelspec": {
   "display_name": ".venv",
   "language": "python",
   "name": "python3"
  },
  "language_info": {
   "codemirror_mode": {
    "name": "ipython",
    "version": 3
   },
   "file_extension": ".py",
   "mimetype": "text/x-python",
   "name": "python",
   "nbconvert_exporter": "python",
   "pygments_lexer": "ipython3",
   "version": "3.12.3"
  }
 },
 "nbformat": 4,
 "nbformat_minor": 5
}
