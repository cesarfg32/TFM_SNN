{
 "cells": [
  {
   "cell_type": "markdown",
   "id": "5f9f0dc7",
   "metadata": {},
   "source": [
    "<a id=\"top\"></a>\n",
    "# 03B — Búsqueda de hiperparámetros con Optuna (Continual Learning)\n",
    "\n",
    "**Qué hace este notebook**  \n",
    "Automatiza la **optimización de hiperparámetros (HPO)** para métodos de aprendizaje continuo manteniendo **coherencia total** con `configs/presets.yaml`. Permite afinar, entre otros:\n",
    "\n",
    "- **naive** (línea base),\n",
    "- **ewc** (Elastic Weight Consolidation),\n",
    "- **rehearsal** (rejuego con buffer),\n",
    "- **rehearsal+ewc** (combinación),\n",
    "- **as-snn** (bio-inspirado; espacio de búsqueda incluido).\n",
    "\n",
    "Se apoya en:\n",
    "- `configs/presets.yaml` (misma configuración que el resto de cuadernos),\n",
    "- `build_make_loader_fn` (elige **H5 offline** o **CSV + codificación en runtime**),\n",
    "- `run_continual` (entrena, evalúa y guarda métricas en `outputs/`).\n",
    "\n",
    "---\n",
    "\n",
    "### Métrica objetivo (minimizar)\n",
    "\n",
    "\\[\n",
    "\\textbf{Objetivo}= \\mathrm{MAE}_{\\text{tarea final}} + \\alpha \\cdot \\max\\!\\bigl(0,\\; \\text{OlvidoRelativo}\\,\\%\\bigr)\n",
    "\\]\n",
    "\n",
    "- **MAE de la tarea final**: rendimiento en la **última** tarea de la secuencia.  \n",
    "- **Olvido relativo (%)**: degradación de la **primera** tarea tras aprender la/s siguiente/s.  \n",
    "- **α**: peso del olvido (por defecto **0.5**). Súbelo si quieres penalizar más el olvido.\n",
    "\n",
    "> La extracción de métricas se realiza desde `continual_results.json`. Si falta información, ese *trial* se considera peor (valor infinito) para no sesgar el estudio.\n",
    "\n",
    "---\n",
    "\n",
    "## ✅ Prerrequisitos\n",
    "- `pip install optuna`  \n",
    "- **Datos** preparados (`tasks.json` o `tasks_balanced.json` desde 01/01A).  \n",
    "- Si el preset usa **offline** (`use_offline_spikes: true`), tener los **H5** generados con **02_ENCODE_OFFLINE** (mismo `encoder/T/gain/size/to_gray`).\n",
    "\n",
    "> **Consejo**: empieza con el preset `fast` y pocos *trials*; si todo es estable, sube `N_TRIALS` y/o `epochs`.\n",
    "\n",
    "\n",
    "<a id=\"toc\"></a>\n",
    "\n",
    "## 🧭 Índice\n",
    "- [1) Imports y setup de entorno](#sec-01)  \n",
    "- [2) Carga de preset y construcción de modelo/transform](#sec-02)  \n",
    "- [3) Tareas y factory de loaders](#sec-03)  \n",
    "- [4) Métricas y objetivo para Optuna](#sec-04)  \n",
    "- [5) Espacios de búsqueda (por método)](#sec-05)  \n",
    "- [6) Estudio Optuna — un método concreto](#sec-06)  \n",
    "- [7) Estudio Optuna conjunto (elige método + HPs)](#sec-07)  \n",
    "- [8) Re-entrena con los mejores hiperparámetros](#sec-08)  \n",
    "- [9) Resumen rápido de *runs* (tabla)](#sec-09)\n",
    "\n"
   ]
  },
  {
   "cell_type": "markdown",
   "id": "0f5bd35d",
   "metadata": {},
   "source": [
    "<a id=\"sec-01\"></a>\n",
    "## 1) Imports y setup de entorno\n",
    "\n",
    "**Objetivo**  \n",
    "Configurar el entorno de HPO de forma reproducible y eficiente:\n",
    "\n",
    "- Limitar hilos BLAS (`OMP/MKL/OPENBLAS`) para evitar sobrecarga de CPU.  \n",
    "- Detectar `ROOT` (raíz del repo) y añadirlo a `sys.path`.  \n",
    "- Importar utilidades del proyecto (`load_preset`, `build_make_loader_fn`, `run_continual`, etc.).  \n",
    "- Seleccionar dispositivo (`cuda` si está disponible) y activar optimizaciones de PyTorch (TF32/cuDNN).\n",
    "\n",
    "> Si tu CPU va justa, baja `torch.set_num_threads(4)` a `2`.  \n",
    "\n",
    "[↑ Volver al índice](#toc)"
   ]
  },
  {
   "cell_type": "code",
   "execution_count": 1,
   "id": "ccbd7d49",
   "metadata": {},
   "outputs": [
    {
     "name": "stderr",
     "output_type": "stream",
     "text": [
      "/home/cesar/proyectos/TFM_SNN/.venv/lib/python3.12/site-packages/tqdm/auto.py:21: TqdmWarning: IProgress not found. Please update jupyter and ipywidgets. See https://ipywidgets.readthedocs.io/en/stable/user_install.html\n",
      "  from .autonotebook import tqdm as notebook_tqdm\n"
     ]
    },
    {
     "name": "stdout",
     "output_type": "stream",
     "text": [
      "Device: cuda\n"
     ]
    }
   ],
   "source": [
    "# Limitar threads BLAS (opcional)\n",
    "import os\n",
    "os.environ[\"OMP_NUM_THREADS\"] = \"1\"\n",
    "os.environ[\"MKL_NUM_THREADS\"] = \"1\"\n",
    "os.environ[\"OPENBLAS_NUM_THREADS\"] = \"1\"\n",
    "\n",
    "os.environ[\"CUDA_LAUNCH_BLOCKING\"] = \"1\"\n",
    "# Para fragmentación de memoria (PyTorch 2.x):\n",
    "os.environ[\"PYTORCH_CUDA_ALLOC_CONF\"] = \"expandable_segments:True\"\n",
    "\n",
    "os.environ[\"TRAIN_LOG_ITPS\"] = \"1\"   # quita esta línea si no quieres logs de it/s\n",
    "\n",
    "from pathlib import Path\n",
    "import sys, json, copy, time\n",
    "import torch\n",
    "import optuna\n",
    "\n",
    "# Raíz del repo y sys.path\n",
    "ROOT = Path.cwd().parents[0] if (Path.cwd().name == \"notebooks\") else Path.cwd()\n",
    "if str(ROOT) not in sys.path:\n",
    "    sys.path.append(str(ROOT))\n",
    "\n",
    "# Proyecto\n",
    "from src.utils import load_preset, build_make_loader_fn\n",
    "from src.datasets import ImageTransform, AugmentConfig\n",
    "from src.models import build_model\n",
    "from src.runner import run_continual\n",
    "\n",
    "device = torch.device(\"cuda\" if torch.cuda.is_available() else \"cpu\")\n",
    "torch.set_num_threads(4)\n",
    "torch.backends.cudnn.benchmark = True\n",
    "torch.backends.cuda.matmul.allow_tf32 = True\n",
    "torch.backends.cudnn.allow_tf32 = True\n",
    "torch.set_float32_matmul_precision(\"high\")\n",
    "\n",
    "print(\"Device:\", device)"
   ]
  },
  {
   "cell_type": "markdown",
   "id": "0e14b25c",
   "metadata": {},
   "source": [
    "<a id=\"sec-02\"></a>\n",
    "## 2) Carga de preset y construcción de modelo/transform\n",
    "\n",
    "**Objetivo**  \n",
    "Tomar la **fuente de la verdad** del experimento desde `configs/presets.yaml` y derivar:\n",
    "\n",
    "- **Modelo/transform** (`ImageTransform`) según `img_w`, `img_h`, `to_gray`.  \n",
    "- **Codificación temporal** (`encoder` ∈ `{rate, latency, raw}`, `T`, `gain`, `seed`).  \n",
    "- **Flags de datos**: `use_offline_spikes` (H5 offline) y/o `encode_runtime` (codificación en GPU).  \n",
    "- **DataLoader**: `num_workers`, `prefetch_factor`, `pin_memory`, `persistent_workers`.  \n",
    "- **Augment** (`aug_train`) y **balanceo online** si procede.\n",
    "\n",
    "Se define `make_model_fn(tfm)` para instanciar el modelo con los parámetros adecuados.  \n",
    "\n",
    "[↑ Volver al índice](#toc)"
   ]
  },
  {
   "cell_type": "code",
   "execution_count": 2,
   "id": "bc61aef8",
   "metadata": {},
   "outputs": [
    {
     "name": "stdout",
     "output_type": "stream",
     "text": [
      "[PRESET=std] model=pilotnet_snn 200x66 gray=True\n",
      "[DATA] encoder=rate T=16 gain=0.5 seed=42\n",
      "[LOADER] workers=8 prefetch=2 pin=True persistent=True\n",
      "[BALANCE] online=False bins=50\n",
      "[RUNTIME_ENCODE] False | [OFFLINE_SPIKES] True\n"
     ]
    }
   ],
   "source": [
    "PRESET = \"std\"  # fast | std | accurate\n",
    "CFG = load_preset(ROOT / \"configs\" / \"presets.yaml\", PRESET)\n",
    "\n",
    "# Modelo / tfm\n",
    "MODEL_NAME = CFG[\"model\"][\"name\"]\n",
    "tfm = ImageTransform(\n",
    "    CFG[\"model\"][\"img_w\"],\n",
    "    CFG[\"model\"][\"img_h\"],\n",
    "    to_gray=bool(CFG[\"model\"][\"to_gray\"]),\n",
    "    crop_top=None\n",
    ")\n",
    "\n",
    "# Datos / codificación temporal\n",
    "ENCODER = CFG[\"data\"][\"encoder\"]\n",
    "T       = int(CFG[\"data\"][\"T\"])\n",
    "GAIN    = float(CFG[\"data\"][\"gain\"])\n",
    "SEED    = int(CFG[\"data\"][\"seed\"])\n",
    "\n",
    "# Flags & loader\n",
    "USE_OFFLINE_SPIKES = bool(CFG[\"data\"].get(\"use_offline_spikes\", False))\n",
    "RUNTIME_ENCODE     = bool(CFG[\"data\"].get(\"encode_runtime\", False))\n",
    "\n",
    "NUM_WORKERS = int(CFG[\"data\"].get(\"num_workers\") or 0)      # robusto\n",
    "PREFETCH    = int(CFG[\"data\"].get(\"prefetch_factor\") or 2)  # <- casteo robusto\n",
    "PIN_MEMORY  = bool(CFG[\"data\"].get(\"pin_memory\", True))\n",
    "PERSISTENT  = bool(CFG[\"data\"].get(\"persistent_workers\", True))\n",
    "\n",
    "AUG_CFG = AugmentConfig(**(CFG[\"data\"].get(\"aug_train\") or {})) \\\n",
    "          if CFG[\"data\"].get(\"aug_train\") else None\n",
    "\n",
    "USE_ONLINE_BAL = bool(CFG[\"data\"].get(\"balance_online\", False))\n",
    "BAL_BINS = int(CFG[\"data\"].get(\"balance_bins\") or 50)\n",
    "BAL_EPS  = float(CFG[\"data\"].get(\"balance_smooth_eps\") or 1e-3)\n",
    "\n",
    "print(f\"[PRESET={PRESET}] model={MODEL_NAME} {tfm.w}x{tfm.h} gray={tfm.to_gray}\")\n",
    "print(f\"[DATA] encoder={ENCODER} T={T} gain={GAIN} seed={SEED}\")\n",
    "print(f\"[LOADER] workers={NUM_WORKERS} prefetch={PREFETCH} pin={PIN_MEMORY} persistent={PERSISTENT}\")\n",
    "print(f\"[BALANCE] online={USE_ONLINE_BAL} bins={BAL_BINS}\")\n",
    "print(f\"[RUNTIME_ENCODE] {RUNTIME_ENCODE} | [OFFLINE_SPIKES] {USE_OFFLINE_SPIKES}\")\n",
    "\n",
    "def make_model_fn(tfm):\n",
    "    # kwargs específicos de pilotnet_snn; ignorados para otros\n",
    "    return build_model(MODEL_NAME, tfm, beta=0.9, threshold=0.5)\n"
   ]
  },
  {
   "cell_type": "markdown",
   "id": "3f9b9209",
   "metadata": {},
   "source": [
    "<a id=\"sec-03\"></a>\n",
    "## 3) Tareas y factory de loaders\n",
    "\n",
    "**Objetivo**  \n",
    "Construir la lista de tareas y un **factory de DataLoaders** coherente con el preset:\n",
    "\n",
    "- Se elige `tasks_balanced.json` si `prep.use_balanced_tasks: true` y existe; si no, `tasks.json`.  \n",
    "- Si `use_offline_spikes: true`, se verifican los **H5** esperados (nomenclatura fija con `encoder/T/gain/size/color`).  \n",
    "- `build_make_loader_fn(...)` selecciona automáticamente **H5** (offline) o **CSV + runtime encode** en GPU.  \n",
    "- El *wrapper* `make_loader_fn(...)` solo **propaga kwargs** (augment, balanceo online, *workers*, etc.) para que el *runner* no cambie.\n",
    "\n",
    "> Si usas *tasks* balanceadas, el **train** debe ser `train_balanced.csv` (o su H5 derivado). El notebook lo comprueba.  \n",
    "\n",
    "[↑ Volver al índice](#toc)"
   ]
  },
  {
   "cell_type": "code",
   "execution_count": 3,
   "id": "f86ce050",
   "metadata": {},
   "outputs": [
    {
     "name": "stdout",
     "output_type": "stream",
     "text": [
      "Usando: tasks_balanced.json\n",
      "Tareas y TRAIN CSV/H5 a usar:\n",
      " - circuito1: train_balanced.csv\n",
      " - circuito2: train_balanced.csv\n",
      "make_loader_fn listo.\n"
     ]
    }
   ],
   "source": [
    "# Leer tasks.json / tasks_balanced.json (elige según el preset)\n",
    "from pathlib import Path as _P\n",
    "import json\n",
    "\n",
    "PROC = ROOT / \"data\" / \"processed\"\n",
    "\n",
    "USE_BALANCED = bool(CFG.get(\"prep\", {}).get(\"use_balanced_tasks\", False))\n",
    "tb_name = (CFG.get(\"prep\", {}).get(\"tasks_balanced_file_name\") or \"tasks_balanced.json\")\n",
    "t_name  = (CFG.get(\"prep\", {}).get(\"tasks_file_name\")           or \"tasks.json\")\n",
    "\n",
    "cand_bal = PROC / tb_name\n",
    "cand_std = PROC / t_name\n",
    "TASKS_FILE = cand_bal if (USE_BALANCED and cand_bal.exists()) else cand_std\n",
    "\n",
    "with open(TASKS_FILE, \"r\", encoding=\"utf-8\") as f:\n",
    "    tasks_json = json.load(f)\n",
    "task_list = [{\"name\": n, \"paths\": tasks_json[\"splits\"][n]} for n in tasks_json[\"tasks_order\"]]\n",
    "\n",
    "print(\"Usando:\", TASKS_FILE.name)\n",
    "print(\"Tareas y TRAIN CSV/H5 a usar:\")\n",
    "for t in task_list:\n",
    "    print(f\" - {t['name']}: {_P(t['paths']['train']).name}\")\n",
    "\n",
    "# Guardarraíl: si balanced, exigir train_balanced.csv\n",
    "if USE_BALANCED:\n",
    "    for t in task_list:\n",
    "        train_path = _P(tasks_json[\"splits\"][t[\"name\"]][\"train\"])\n",
    "        if train_path.name != \"train_balanced.csv\":\n",
    "            raise RuntimeError(\n",
    "                f\"[{t['name']}] Esperaba 'train_balanced.csv' en modo balanced, pero encontré '{train_path.name}'.\"\n",
    "            )\n",
    "\n",
    "# Si usas H5 offline, chequear que existan\n",
    "if USE_OFFLINE_SPIKES:\n",
    "    mw, mh = CFG[\"model\"][\"img_w\"], CFG[\"model\"][\"img_h\"]\n",
    "    color = \"gray\" if CFG[\"model\"][\"to_gray\"] else \"rgb\"\n",
    "    gain_tag = (GAIN if ENCODER == \"rate\" else 0)\n",
    "    missing = []\n",
    "    for t in task_list:\n",
    "        base = PROC / t[\"name\"]\n",
    "        for split in (\"train\", \"val\", \"test\"):\n",
    "            p = base / f\"{split}_{ENCODER}_T{T}_gain{gain_tag}_{color}_{mw}x{mh}.h5\"\n",
    "            if not p.exists():\n",
    "                missing.append(str(p))\n",
    "    if missing:\n",
    "        print(\"[WARN] Faltan H5. Genera primero con 02_ENCODE_OFFLINE.ipynb (o tools/encode_tasks.py).\")\n",
    "\n",
    "# Factory de loaders con kwargs del preset\n",
    "from src.utils import build_make_loader_fn\n",
    "\n",
    "_raw_make_loader_fn = build_make_loader_fn(\n",
    "    root=ROOT, use_offline_spikes=USE_OFFLINE_SPIKES, encode_runtime=RUNTIME_ENCODE,\n",
    ")\n",
    "\n",
    "_DL_KW = dict(\n",
    "    num_workers=NUM_WORKERS,\n",
    "    prefetch_factor=PREFETCH,\n",
    "    pin_memory=PIN_MEMORY,\n",
    "    persistent_workers=PERSISTENT,\n",
    "    aug_train=AUG_CFG,\n",
    "    balance_train=USE_ONLINE_BAL,\n",
    "    balance_bins=BAL_BINS,\n",
    "    balance_smooth_eps=BAL_EPS,\n",
    ")\n",
    "\n",
    "def make_loader_fn(task, batch_size, encoder, T, gain, tfm, seed, **dl_kwargs):\n",
    "    \"\"\"Wrapper pass-through: el runner añade dl_kwargs; aquí solo los propagamos.\"\"\"\n",
    "    return _raw_make_loader_fn(\n",
    "        task=task, batch_size=batch_size, encoder=encoder, T=T, gain=gain, tfm=tfm, seed=seed,\n",
    "        **{**_DL_KW, **dl_kwargs}\n",
    "    )\n",
    "\n",
    "print(\"make_loader_fn listo.\")\n"
   ]
  },
  {
   "cell_type": "markdown",
   "id": "a5f7c6f6",
   "metadata": {},
   "source": [
    "<a id=\"sec-04\"></a>\n",
    "## 4) Métricas y objetivo para Optuna\n",
    "\n",
    "**Objetivo**  \n",
    "Definir la **función objetivo** del HPO a partir de las métricas almacenadas:\n",
    "\n",
    "1. Leer `continual_results.json` del *run*.  \n",
    "2. Identificar **primera** y **última** tarea.  \n",
    "3. Extraer:\n",
    "   - `c1_mae`: MAE de la primera tarea en su propio test.  \n",
    "   - `c1_after_c2_mae`: MAE de la primera **tras** aprender la última (olvido).  \n",
    "   - `c2_mae`: MAE de la **última** tarea.  \n",
    "4. Calcular **Olvido relativo (%)** = \\((c1\\_after\\_c2 - c1\\_mae)/c1\\_mae \\times 100\\).\n",
    "\n",
    "La **pérdida** a minimizar es:  \n",
    "\\[\n",
    "\\text{Objetivo}= \\mathrm{MAE}_{\\text{tarea final}} + \\alpha \\cdot \\max(0, \\text{olvido rel. } \\%)\n",
    "\\]\n",
    "\n",
    "> Ajusta `ALPHA_FORGET` para priorizar estabilidad (olvido bajo) vs. desempeño en la última tarea.  \n",
    "\n",
    "\n",
    "[↑ Volver al índice](#toc)"
   ]
  },
  {
   "cell_type": "code",
   "execution_count": 4,
   "id": "3f05f479",
   "metadata": {},
   "outputs": [],
   "source": [
    "# === Métricas y objetivo: usa utilidades del repo ===\n",
    "from src.utils_exp import extract_metrics, safe_read_json\n",
    "from src.hpo import objective_value, composite_objective\n",
    "from pathlib import Path\n",
    "\n",
    "ALPHA_FORGET = 0.5  # peso del olvido relativo en el objetivo compuesto\n",
    "\n",
    "def _load_results(out_dir: Path) -> dict:\n",
    "    \"\"\"Lee outputs/<exp>/continual_results.json con manejo robusto.\"\"\"\n",
    "    return safe_read_json(Path(out_dir) / \"continual_results.json\")\n"
   ]
  },
  {
   "cell_type": "markdown",
   "id": "a27e35e7",
   "metadata": {},
   "source": [
    "<a id=\"sec-05\"></a>\n",
    "## 5) Espacios de búsqueda (por método)\n",
    "\n",
    "**Objetivo**  \n",
    "Declarar qué hiperparámetros explora Optuna:\n",
    "\n",
    "- **ewc**  \n",
    "  - `lam` \\(\\in [3\\cdot 10^8, 2\\cdot 10^9]\\) (log-uniform).  \n",
    "  - `fisher_batches` ∈ {200, …, 1200}.  \n",
    "- **rehearsal**  \n",
    "  - `buffer_size` ∈ {1000, …, 8000}.  \n",
    "  - `replay_ratio` ∈ [0.05, 0.4].  \n",
    "- **rehearsal+ewc**: combina ambos.  \n",
    "- **as-snn**  \n",
    "  - `gamma_ratio` ∈ [0.3, 0.8], `lambda_a` ∈ [1.0, 4.0], `ema` ∈ [0.70, 0.98].  \n",
    "- **naive**: sin HPs.\n",
    "\n",
    "> Puedes extender a otros métodos (p. ej., `sa-snn`, `sca-snn`, `colanet`) añadiendo su espacio de búsqueda y registrando el nombre.  \n",
    "\n",
    "\n",
    "[↑ Volver al índice](#toc)"
   ]
  },
  {
   "cell_type": "code",
   "execution_count": 5,
   "id": "c9e2b281",
   "metadata": {},
   "outputs": [],
   "source": [
    "def suggest_params_for_method(trial: optuna.Trial, method: str, preset: str) -> dict:\n",
    "    method = method.lower()\n",
    "    preset = preset.lower()\n",
    "\n",
    "    if method == \"ewc\":\n",
    "        lam_grid = {\n",
    "            \"fast\":     [7e8, 1e9],\n",
    "            \"std\":      [1.5e8, 4e8, 1e9],     # mantén la rejilla estrecha 1.0e9\n",
    "            \"accurate\": [5e8, 7e8, 1e9],\n",
    "        }\n",
    "        fisher_grid = {\n",
    "            \"fast\":     [300, 1000],               # ↓\n",
    "            \"std\":      [500, 1000],               # ↓\n",
    "            \"accurate\": [800, 1200],               # si llegas a accurate, ya afinas aquí\n",
    "        }\n",
    "        lam = trial.suggest_categorical(\"lam\", lam_grid.get(preset, lam_grid[\"std\"]))\n",
    "        fb  = trial.suggest_categorical(\"fisher_batches\", fisher_grid.get(preset, fisher_grid[\"std\"]))\n",
    "        return {\"lam\": float(lam), \"fisher_batches\": int(fb)}\n",
    "\n",
    "    elif method == \"rehearsal\":\n",
    "        buffer_size  = trial.suggest_int(\"buffer_size\", 1000, 8000, step=1000)\n",
    "        replay_ratio = trial.suggest_float(\"replay_ratio\", 0.05, 0.4, step=0.05)\n",
    "        return {\"buffer_size\": buffer_size, \"replay_ratio\": replay_ratio}\n",
    "\n",
    "    elif method == \"rehearsal+ewc\":\n",
    "        # igual que arriba pero preset-aware para lam/fisher\n",
    "        lam = trial.suggest_categorical(\"lam\", lam_grid.get(preset, lam_grid[\"std\"]))\n",
    "        fisher_batches = trial.suggest_categorical(\"fisher_batches\", fisher_grid.get(preset, fisher_grid[\"std\"]))\n",
    "        buffer_size  = trial.suggest_int(\"buffer_size\", 1000, 8000, step=1000)\n",
    "        replay_ratio = trial.suggest_float(\"replay_ratio\", 0.05, 0.4, step=0.05)\n",
    "        return {\n",
    "            \"buffer_size\": buffer_size,\n",
    "            \"replay_ratio\": replay_ratio,\n",
    "            \"lam\": float(lam),\n",
    "            \"fisher_batches\": int(fisher_batches),\n",
    "        }\n",
    "\n",
    "    elif method == \"as-snn\":\n",
    "        gamma_ratio = trial.suggest_float(\"gamma_ratio\", 0.3, 0.8, step=0.1)\n",
    "        lambda_a    = trial.suggest_float(\"lambda_a\", 1.0, 4.0)\n",
    "        ema         = trial.suggest_float(\"ema\", 0.70, 0.98)\n",
    "        return {\"gamma_ratio\": gamma_ratio, \"lambda_a\": lambda_a, \"ema\": ema}\n",
    "\n",
    "    else:\n",
    "        return {}\n"
   ]
  },
  {
   "cell_type": "markdown",
   "id": "841fd521",
   "metadata": {},
   "source": [
    "<a id=\"sec-06\"></a>\n",
    "## 6) Estudio Optuna — un método concreto\n",
    "\n",
    "**Objetivo**  \n",
    "Optimizar **un método** específico (`METHOD_TO_OPTIMIZE`) durante `N_TRIALS`.\n",
    "\n",
    "Flujo de cada *trial*:\n",
    "1. Sugerir HPs (`suggest_*`).  \n",
    "2. Construir `cfg` con esos HPs (y, si `HPO_EPOCHS` está definido, **reducir epochs** solo para HPO).  \n",
    "3. Ejecutar `run_continual(...)`.  \n",
    "4. Leer resultados, computar la **pérdida objetivo** y devolverla a Optuna.\n",
    "\n",
    "**Persistencia**  \n",
    "Se usa **SQLite** en `outputs/optuna/` para reanudar estudios y registrar todos los *trials* (`*_trials.csv`).\n",
    "\n",
    "> Para métodos con *replay* se desactiva `persistent_workers` por estabilidad de DataLoader (puedes ajustar *AMP/pin_memory/workers* si lo necesitas).  \n",
    "\n",
    "[↑ Volver al índice](#toc)"
   ]
  },
  {
   "cell_type": "code",
   "execution_count": 6,
   "id": "c7f92711",
   "metadata": {},
   "outputs": [
    {
     "name": "stderr",
     "output_type": "stream",
     "text": [
      "[I 2025-10-07 22:49:47,240] A new study created in RDB with name: HPO_ewc_std_rate_T16_catgrid_v8\n",
      "  0%|          | 0/2 [00:00<?, ?it/s]"
     ]
    },
    {
     "name": "stdout",
     "output_type": "stream",
     "text": [
      "\n",
      "--- Tarea 1/2: circuito1 | preset=std | method=ewc_lam_1e+09 | B=96 T=16 AMP=True | enc=rate ---\n"
     ]
    },
    {
     "name": "stderr",
     "output_type": "stream",
     "text": []
    },
    {
     "name": "stdout",
     "output_type": "stream",
     "text": [
      "[EWC] base=0.496 | pen=0 | pen/base=0.000\n"
     ]
    },
    {
     "name": "stderr",
     "output_type": "stream",
     "text": []
    },
    {
     "name": "stdout",
     "output_type": "stream",
     "text": [
      "[EWC] base=0.124 | pen=0 | pen/base=0.000\n"
     ]
    },
    {
     "name": "stderr",
     "output_type": "stream",
     "text": []
    },
    {
     "name": "stdout",
     "output_type": "stream",
     "text": [
      "[EWC] base=0.08656 | pen=0 | pen/base=0.000\n"
     ]
    },
    {
     "name": "stderr",
     "output_type": "stream",
     "text": []
    },
    {
     "name": "stdout",
     "output_type": "stream",
     "text": [
      "[EWC] base=0.06567 | pen=0 | pen/base=0.000\n"
     ]
    },
    {
     "name": "stderr",
     "output_type": "stream",
     "text": []
    },
    {
     "name": "stdout",
     "output_type": "stream",
     "text": [
      "[EWC] base=0.06932 | pen=0 | pen/base=0.000\n"
     ]
    },
    {
     "name": "stderr",
     "output_type": "stream",
     "text": []
    },
    {
     "name": "stdout",
     "output_type": "stream",
     "text": [
      "[EWC] base=0.05292 | pen=0 | pen/base=0.000\n"
     ]
    },
    {
     "name": "stderr",
     "output_type": "stream",
     "text": []
    },
    {
     "name": "stdout",
     "output_type": "stream",
     "text": [
      "[EWC] base=0.04979 | pen=0 | pen/base=0.000\n"
     ]
    },
    {
     "name": "stderr",
     "output_type": "stream",
     "text": []
    },
    {
     "name": "stdout",
     "output_type": "stream",
     "text": [
      "[EWC] base=0.05821 | pen=0 | pen/base=0.000\n"
     ]
    },
    {
     "name": "stderr",
     "output_type": "stream",
     "text": []
    },
    {
     "name": "stdout",
     "output_type": "stream",
     "text": [
      "[EWC] base=0.05113 | pen=0 | pen/base=0.000\n"
     ]
    },
    {
     "name": "stderr",
     "output_type": "stream",
     "text": []
    },
    {
     "name": "stdout",
     "output_type": "stream",
     "text": [
      "[EWC] base=0.02948 | pen=0 | pen/base=0.000\n"
     ]
    },
    {
     "name": "stderr",
     "output_type": "stream",
     "text": []
    },
    {
     "name": "stdout",
     "output_type": "stream",
     "text": [
      "[EWC] base=0.05435 | pen=0 | pen/base=0.000\n"
     ]
    },
    {
     "name": "stderr",
     "output_type": "stream",
     "text": []
    },
    {
     "name": "stdout",
     "output_type": "stream",
     "text": [
      "[EWC] base=0.0331 | pen=0 | pen/base=0.000\n"
     ]
    },
    {
     "name": "stderr",
     "output_type": "stream",
     "text": []
    },
    {
     "name": "stdout",
     "output_type": "stream",
     "text": [
      "[EWC] base=0.03769 | pen=0 | pen/base=0.000\n"
     ]
    },
    {
     "name": "stderr",
     "output_type": "stream",
     "text": []
    },
    {
     "name": "stdout",
     "output_type": "stream",
     "text": [
      "[EWC] base=0.03934 | pen=0 | pen/base=0.000\n"
     ]
    },
    {
     "name": "stderr",
     "output_type": "stream",
     "text": []
    },
    {
     "name": "stdout",
     "output_type": "stream",
     "text": [
      "[EWC] base=0.04438 | pen=0 | pen/base=0.000\n"
     ]
    },
    {
     "name": "stderr",
     "output_type": "stream",
     "text": []
    },
    {
     "name": "stdout",
     "output_type": "stream",
     "text": [
      "[EWC] base=0.04775 | pen=0 | pen/base=0.000\n"
     ]
    },
    {
     "name": "stderr",
     "output_type": "stream",
     "text": []
    },
    {
     "name": "stdout",
     "output_type": "stream",
     "text": [
      "[EWC] base=0.03298 | pen=0 | pen/base=0.000\n"
     ]
    },
    {
     "name": "stderr",
     "output_type": "stream",
     "text": []
    },
    {
     "name": "stdout",
     "output_type": "stream",
     "text": [
      "[EWC] base=0.03394 | pen=0 | pen/base=0.000\n"
     ]
    },
    {
     "name": "stderr",
     "output_type": "stream",
     "text": []
    },
    {
     "name": "stdout",
     "output_type": "stream",
     "text": [
      "[EWC] base=0.03619 | pen=0 | pen/base=0.000\n"
     ]
    },
    {
     "name": "stderr",
     "output_type": "stream",
     "text": []
    },
    {
     "name": "stdout",
     "output_type": "stream",
     "text": [
      "[EWC] base=0.0366 | pen=0 | pen/base=0.000\n"
     ]
    },
    {
     "name": "stderr",
     "output_type": "stream",
     "text": []
    },
    {
     "name": "stdout",
     "output_type": "stream",
     "text": [
      "[EWC] base=0.02699 | pen=0 | pen/base=0.000\n"
     ]
    },
    {
     "name": "stderr",
     "output_type": "stream",
     "text": []
    },
    {
     "name": "stdout",
     "output_type": "stream",
     "text": [
      "[EWC] base=0.0318 | pen=0 | pen/base=0.000\n"
     ]
    },
    {
     "name": "stderr",
     "output_type": "stream",
     "text": []
    },
    {
     "name": "stdout",
     "output_type": "stream",
     "text": [
      "[EWC] base=0.02866 | pen=0 | pen/base=0.000\n"
     ]
    },
    {
     "name": "stderr",
     "output_type": "stream",
     "text": []
    },
    {
     "name": "stdout",
     "output_type": "stream",
     "text": [
      "[EWC] base=0.02803 | pen=0 | pen/base=0.000\n"
     ]
    },
    {
     "name": "stderr",
     "output_type": "stream",
     "text": []
    },
    {
     "name": "stdout",
     "output_type": "stream",
     "text": [
      "[EWC] base=0.0313 | pen=0 | pen/base=0.000\n"
     ]
    },
    {
     "name": "stderr",
     "output_type": "stream",
     "text": []
    },
    {
     "name": "stdout",
     "output_type": "stream",
     "text": [
      "[EWC] base=0.02653 | pen=0 | pen/base=0.000\n"
     ]
    },
    {
     "name": "stderr",
     "output_type": "stream",
     "text": []
    },
    {
     "name": "stdout",
     "output_type": "stream",
     "text": [
      "[EWC] base=0.02989 | pen=0 | pen/base=0.000\n"
     ]
    },
    {
     "name": "stderr",
     "output_type": "stream",
     "text": []
    },
    {
     "name": "stdout",
     "output_type": "stream",
     "text": [
      "[EWC] base=0.03061 | pen=0 | pen/base=0.000\n"
     ]
    },
    {
     "name": "stderr",
     "output_type": "stream",
     "text": []
    },
    {
     "name": "stdout",
     "output_type": "stream",
     "text": [
      "[EWC] base=0.03821 | pen=0 | pen/base=0.000\n"
     ]
    },
    {
     "name": "stderr",
     "output_type": "stream",
     "text": []
    },
    {
     "name": "stdout",
     "output_type": "stream",
     "text": [
      "[EWC] base=0.02617 | pen=0 | pen/base=0.000\n"
     ]
    },
    {
     "name": "stderr",
     "output_type": "stream",
     "text": []
    },
    {
     "name": "stdout",
     "output_type": "stream",
     "text": [
      "[EWC] base=0.04847 | pen=0 | pen/base=0.000\n"
     ]
    },
    {
     "name": "stderr",
     "output_type": "stream",
     "text": []
    },
    {
     "name": "stdout",
     "output_type": "stream",
     "text": [
      "[TRAIN it/s] epoch 1/8: 2.9 it/s  (3066 iters en 1046.73s)\n"
     ]
    },
    {
     "name": "stderr",
     "output_type": "stream",
     "text": []
    },
    {
     "name": "stdout",
     "output_type": "stream",
     "text": [
      "[EWC] base=0.02293 | pen=0 | pen/base=0.000\n"
     ]
    },
    {
     "name": "stderr",
     "output_type": "stream",
     "text": []
    },
    {
     "name": "stdout",
     "output_type": "stream",
     "text": [
      "[EWC] base=0.03247 | pen=0 | pen/base=0.000\n"
     ]
    },
    {
     "name": "stderr",
     "output_type": "stream",
     "text": []
    },
    {
     "name": "stdout",
     "output_type": "stream",
     "text": [
      "[EWC] base=0.02319 | pen=0 | pen/base=0.000\n"
     ]
    },
    {
     "name": "stderr",
     "output_type": "stream",
     "text": []
    },
    {
     "name": "stdout",
     "output_type": "stream",
     "text": [
      "[EWC] base=0.02734 | pen=0 | pen/base=0.000\n"
     ]
    },
    {
     "name": "stderr",
     "output_type": "stream",
     "text": []
    },
    {
     "name": "stdout",
     "output_type": "stream",
     "text": [
      "[EWC] base=0.0268 | pen=0 | pen/base=0.000\n"
     ]
    },
    {
     "name": "stderr",
     "output_type": "stream",
     "text": []
    },
    {
     "name": "stdout",
     "output_type": "stream",
     "text": [
      "[EWC] base=0.02174 | pen=0 | pen/base=0.000\n"
     ]
    },
    {
     "name": "stderr",
     "output_type": "stream",
     "text": []
    },
    {
     "name": "stdout",
     "output_type": "stream",
     "text": [
      "[EWC] base=0.0265 | pen=0 | pen/base=0.000\n"
     ]
    },
    {
     "name": "stderr",
     "output_type": "stream",
     "text": []
    },
    {
     "name": "stdout",
     "output_type": "stream",
     "text": [
      "[EWC] base=0.03314 | pen=0 | pen/base=0.000\n"
     ]
    },
    {
     "name": "stderr",
     "output_type": "stream",
     "text": []
    },
    {
     "name": "stdout",
     "output_type": "stream",
     "text": [
      "[EWC] base=0.02782 | pen=0 | pen/base=0.000\n"
     ]
    },
    {
     "name": "stderr",
     "output_type": "stream",
     "text": []
    },
    {
     "name": "stdout",
     "output_type": "stream",
     "text": [
      "[EWC] base=0.02122 | pen=0 | pen/base=0.000\n"
     ]
    },
    {
     "name": "stderr",
     "output_type": "stream",
     "text": []
    },
    {
     "name": "stdout",
     "output_type": "stream",
     "text": [
      "[EWC] base=0.01999 | pen=0 | pen/base=0.000\n"
     ]
    },
    {
     "name": "stderr",
     "output_type": "stream",
     "text": []
    },
    {
     "name": "stdout",
     "output_type": "stream",
     "text": [
      "[EWC] base=0.02954 | pen=0 | pen/base=0.000\n"
     ]
    },
    {
     "name": "stderr",
     "output_type": "stream",
     "text": []
    },
    {
     "name": "stdout",
     "output_type": "stream",
     "text": [
      "[EWC] base=0.02285 | pen=0 | pen/base=0.000\n"
     ]
    },
    {
     "name": "stderr",
     "output_type": "stream",
     "text": []
    },
    {
     "name": "stdout",
     "output_type": "stream",
     "text": [
      "[EWC] base=0.02292 | pen=0 | pen/base=0.000\n"
     ]
    },
    {
     "name": "stderr",
     "output_type": "stream",
     "text": []
    },
    {
     "name": "stdout",
     "output_type": "stream",
     "text": [
      "[EWC] base=0.02784 | pen=0 | pen/base=0.000\n"
     ]
    },
    {
     "name": "stderr",
     "output_type": "stream",
     "text": []
    },
    {
     "name": "stdout",
     "output_type": "stream",
     "text": [
      "[EWC] base=0.02414 | pen=0 | pen/base=0.000\n"
     ]
    },
    {
     "name": "stderr",
     "output_type": "stream",
     "text": []
    },
    {
     "name": "stdout",
     "output_type": "stream",
     "text": [
      "[EWC] base=0.02622 | pen=0 | pen/base=0.000\n"
     ]
    },
    {
     "name": "stderr",
     "output_type": "stream",
     "text": []
    },
    {
     "name": "stdout",
     "output_type": "stream",
     "text": [
      "[EWC] base=0.02051 | pen=0 | pen/base=0.000\n"
     ]
    },
    {
     "name": "stderr",
     "output_type": "stream",
     "text": []
    },
    {
     "name": "stdout",
     "output_type": "stream",
     "text": [
      "[EWC] base=0.02222 | pen=0 | pen/base=0.000\n"
     ]
    },
    {
     "name": "stderr",
     "output_type": "stream",
     "text": []
    },
    {
     "name": "stdout",
     "output_type": "stream",
     "text": [
      "[EWC] base=0.02451 | pen=0 | pen/base=0.000\n"
     ]
    },
    {
     "name": "stderr",
     "output_type": "stream",
     "text": []
    },
    {
     "name": "stdout",
     "output_type": "stream",
     "text": [
      "[EWC] base=0.01955 | pen=0 | pen/base=0.000\n"
     ]
    },
    {
     "name": "stderr",
     "output_type": "stream",
     "text": []
    },
    {
     "name": "stdout",
     "output_type": "stream",
     "text": [
      "[EWC] base=0.02592 | pen=0 | pen/base=0.000\n"
     ]
    },
    {
     "name": "stderr",
     "output_type": "stream",
     "text": []
    },
    {
     "name": "stdout",
     "output_type": "stream",
     "text": [
      "[EWC] base=0.02614 | pen=0 | pen/base=0.000\n"
     ]
    },
    {
     "name": "stderr",
     "output_type": "stream",
     "text": []
    },
    {
     "name": "stdout",
     "output_type": "stream",
     "text": [
      "[EWC] base=0.01913 | pen=0 | pen/base=0.000\n"
     ]
    },
    {
     "name": "stderr",
     "output_type": "stream",
     "text": []
    },
    {
     "name": "stdout",
     "output_type": "stream",
     "text": [
      "[EWC] base=0.02132 | pen=0 | pen/base=0.000\n"
     ]
    },
    {
     "name": "stderr",
     "output_type": "stream",
     "text": []
    },
    {
     "name": "stdout",
     "output_type": "stream",
     "text": [
      "[EWC] base=0.0238 | pen=0 | pen/base=0.000\n"
     ]
    },
    {
     "name": "stderr",
     "output_type": "stream",
     "text": []
    },
    {
     "name": "stdout",
     "output_type": "stream",
     "text": [
      "[EWC] base=0.02563 | pen=0 | pen/base=0.000\n"
     ]
    },
    {
     "name": "stderr",
     "output_type": "stream",
     "text": []
    },
    {
     "name": "stdout",
     "output_type": "stream",
     "text": [
      "[EWC] base=0.0197 | pen=0 | pen/base=0.000\n"
     ]
    },
    {
     "name": "stderr",
     "output_type": "stream",
     "text": []
    },
    {
     "name": "stdout",
     "output_type": "stream",
     "text": [
      "[EWC] base=0.02558 | pen=0 | pen/base=0.000\n"
     ]
    },
    {
     "name": "stderr",
     "output_type": "stream",
     "text": []
    },
    {
     "name": "stdout",
     "output_type": "stream",
     "text": [
      "[EWC] base=0.02274 | pen=0 | pen/base=0.000\n"
     ]
    },
    {
     "name": "stderr",
     "output_type": "stream",
     "text": [
      "\n"
     ]
    },
    {
     "name": "stdout",
     "output_type": "stream",
     "text": [
      "[EWC] base=0.02039 | pen=0 | pen/base=0.000\n"
     ]
    },
    {
     "name": "stderr",
     "output_type": "stream",
     "text": [
      "Epoch 2/8:  99%|█████████▉| 3035/3066 [17:59<00:11,  2.75it/s]\u001b[A"
     ]
    },
    {
     "name": "stdout",
     "output_type": "stream",
     "text": [
      "[TRAIN it/s] epoch 2/8: 3.0 it/s  (3066 iters en 1027.16s)\n"
     ]
    },
    {
     "name": "stderr",
     "output_type": "stream",
     "text": []
    },
    {
     "name": "stdout",
     "output_type": "stream",
     "text": [
      "[EWC] base=0.01822 | pen=0 | pen/base=0.000\n"
     ]
    },
    {
     "name": "stderr",
     "output_type": "stream",
     "text": []
    },
    {
     "name": "stdout",
     "output_type": "stream",
     "text": [
      "[EWC] base=0.0286 | pen=0 | pen/base=0.000\n"
     ]
    },
    {
     "name": "stderr",
     "output_type": "stream",
     "text": []
    },
    {
     "name": "stdout",
     "output_type": "stream",
     "text": [
      "[EWC] base=0.01753 | pen=0 | pen/base=0.000\n"
     ]
    },
    {
     "name": "stderr",
     "output_type": "stream",
     "text": []
    },
    {
     "name": "stdout",
     "output_type": "stream",
     "text": [
      "[EWC] base=0.01857 | pen=0 | pen/base=0.000\n"
     ]
    },
    {
     "name": "stderr",
     "output_type": "stream",
     "text": []
    },
    {
     "name": "stdout",
     "output_type": "stream",
     "text": [
      "[EWC] base=0.02259 | pen=0 | pen/base=0.000\n"
     ]
    },
    {
     "name": "stderr",
     "output_type": "stream",
     "text": []
    },
    {
     "name": "stdout",
     "output_type": "stream",
     "text": [
      "[EWC] base=0.0239 | pen=0 | pen/base=0.000\n"
     ]
    },
    {
     "name": "stderr",
     "output_type": "stream",
     "text": []
    },
    {
     "name": "stdout",
     "output_type": "stream",
     "text": [
      "[EWC] base=0.01977 | pen=0 | pen/base=0.000\n"
     ]
    },
    {
     "name": "stderr",
     "output_type": "stream",
     "text": []
    },
    {
     "name": "stdout",
     "output_type": "stream",
     "text": [
      "[EWC] base=0.0182 | pen=0 | pen/base=0.000\n"
     ]
    },
    {
     "name": "stderr",
     "output_type": "stream",
     "text": []
    },
    {
     "name": "stdout",
     "output_type": "stream",
     "text": [
      "[EWC] base=0.02409 | pen=0 | pen/base=0.000\n"
     ]
    },
    {
     "name": "stderr",
     "output_type": "stream",
     "text": []
    },
    {
     "name": "stdout",
     "output_type": "stream",
     "text": [
      "[EWC] base=0.02304 | pen=0 | pen/base=0.000\n"
     ]
    },
    {
     "name": "stderr",
     "output_type": "stream",
     "text": []
    },
    {
     "name": "stdout",
     "output_type": "stream",
     "text": [
      "[EWC] base=0.02023 | pen=0 | pen/base=0.000\n"
     ]
    },
    {
     "name": "stderr",
     "output_type": "stream",
     "text": []
    },
    {
     "name": "stdout",
     "output_type": "stream",
     "text": [
      "[EWC] base=0.01588 | pen=0 | pen/base=0.000\n"
     ]
    },
    {
     "name": "stderr",
     "output_type": "stream",
     "text": []
    },
    {
     "name": "stdout",
     "output_type": "stream",
     "text": [
      "[EWC] base=0.01824 | pen=0 | pen/base=0.000\n"
     ]
    },
    {
     "name": "stderr",
     "output_type": "stream",
     "text": []
    },
    {
     "name": "stdout",
     "output_type": "stream",
     "text": [
      "[EWC] base=0.02355 | pen=0 | pen/base=0.000\n"
     ]
    },
    {
     "name": "stderr",
     "output_type": "stream",
     "text": []
    },
    {
     "name": "stdout",
     "output_type": "stream",
     "text": [
      "[EWC] base=0.02019 | pen=0 | pen/base=0.000\n"
     ]
    },
    {
     "name": "stderr",
     "output_type": "stream",
     "text": []
    },
    {
     "name": "stdout",
     "output_type": "stream",
     "text": [
      "[EWC] base=0.01622 | pen=0 | pen/base=0.000\n"
     ]
    },
    {
     "name": "stderr",
     "output_type": "stream",
     "text": []
    },
    {
     "name": "stdout",
     "output_type": "stream",
     "text": [
      "[EWC] base=0.01808 | pen=0 | pen/base=0.000\n"
     ]
    },
    {
     "name": "stderr",
     "output_type": "stream",
     "text": []
    },
    {
     "name": "stdout",
     "output_type": "stream",
     "text": [
      "[EWC] base=0.01756 | pen=0 | pen/base=0.000\n"
     ]
    },
    {
     "name": "stderr",
     "output_type": "stream",
     "text": []
    },
    {
     "name": "stdout",
     "output_type": "stream",
     "text": [
      "[EWC] base=0.02641 | pen=0 | pen/base=0.000\n"
     ]
    },
    {
     "name": "stderr",
     "output_type": "stream",
     "text": []
    },
    {
     "name": "stdout",
     "output_type": "stream",
     "text": [
      "[EWC] base=0.02382 | pen=0 | pen/base=0.000\n"
     ]
    },
    {
     "name": "stderr",
     "output_type": "stream",
     "text": []
    },
    {
     "name": "stdout",
     "output_type": "stream",
     "text": [
      "[EWC] base=0.01771 | pen=0 | pen/base=0.000\n"
     ]
    },
    {
     "name": "stderr",
     "output_type": "stream",
     "text": []
    },
    {
     "name": "stdout",
     "output_type": "stream",
     "text": [
      "[EWC] base=0.01871 | pen=0 | pen/base=0.000\n"
     ]
    },
    {
     "name": "stderr",
     "output_type": "stream",
     "text": []
    },
    {
     "name": "stdout",
     "output_type": "stream",
     "text": [
      "[EWC] base=0.02074 | pen=0 | pen/base=0.000\n"
     ]
    },
    {
     "name": "stderr",
     "output_type": "stream",
     "text": []
    },
    {
     "name": "stdout",
     "output_type": "stream",
     "text": [
      "[EWC] base=0.01677 | pen=0 | pen/base=0.000\n"
     ]
    },
    {
     "name": "stderr",
     "output_type": "stream",
     "text": []
    },
    {
     "name": "stdout",
     "output_type": "stream",
     "text": [
      "[EWC] base=0.01717 | pen=0 | pen/base=0.000\n"
     ]
    },
    {
     "name": "stderr",
     "output_type": "stream",
     "text": []
    },
    {
     "name": "stdout",
     "output_type": "stream",
     "text": [
      "[EWC] base=0.01897 | pen=0 | pen/base=0.000\n"
     ]
    },
    {
     "name": "stderr",
     "output_type": "stream",
     "text": []
    },
    {
     "name": "stdout",
     "output_type": "stream",
     "text": [
      "[EWC] base=0.01767 | pen=0 | pen/base=0.000\n"
     ]
    },
    {
     "name": "stderr",
     "output_type": "stream",
     "text": []
    },
    {
     "name": "stdout",
     "output_type": "stream",
     "text": [
      "[EWC] base=0.02294 | pen=0 | pen/base=0.000\n"
     ]
    },
    {
     "name": "stderr",
     "output_type": "stream",
     "text": []
    },
    {
     "name": "stdout",
     "output_type": "stream",
     "text": [
      "[EWC] base=0.0154 | pen=0 | pen/base=0.000\n"
     ]
    },
    {
     "name": "stderr",
     "output_type": "stream",
     "text": []
    },
    {
     "name": "stdout",
     "output_type": "stream",
     "text": [
      "[EWC] base=0.02075 | pen=0 | pen/base=0.000\n"
     ]
    },
    {
     "name": "stderr",
     "output_type": "stream",
     "text": []
    },
    {
     "name": "stdout",
     "output_type": "stream",
     "text": [
      "[TRAIN it/s] epoch 3/8: 3.0 it/s  (3066 iters en 1010.83s)\n"
     ]
    },
    {
     "name": "stderr",
     "output_type": "stream",
     "text": []
    },
    {
     "name": "stdout",
     "output_type": "stream",
     "text": [
      "[EWC] base=0.01849 | pen=0 | pen/base=0.000\n"
     ]
    },
    {
     "name": "stderr",
     "output_type": "stream",
     "text": []
    },
    {
     "name": "stdout",
     "output_type": "stream",
     "text": [
      "[EWC] base=0.01454 | pen=0 | pen/base=0.000\n"
     ]
    },
    {
     "name": "stderr",
     "output_type": "stream",
     "text": []
    },
    {
     "name": "stdout",
     "output_type": "stream",
     "text": [
      "[EWC] base=0.02242 | pen=0 | pen/base=0.000\n"
     ]
    },
    {
     "name": "stderr",
     "output_type": "stream",
     "text": []
    },
    {
     "name": "stdout",
     "output_type": "stream",
     "text": [
      "[EWC] base=0.0187 | pen=0 | pen/base=0.000\n"
     ]
    },
    {
     "name": "stderr",
     "output_type": "stream",
     "text": []
    },
    {
     "name": "stdout",
     "output_type": "stream",
     "text": [
      "[EWC] base=0.02058 | pen=0 | pen/base=0.000\n"
     ]
    },
    {
     "name": "stderr",
     "output_type": "stream",
     "text": []
    },
    {
     "name": "stdout",
     "output_type": "stream",
     "text": [
      "[EWC] base=0.01877 | pen=0 | pen/base=0.000\n"
     ]
    },
    {
     "name": "stderr",
     "output_type": "stream",
     "text": []
    },
    {
     "name": "stdout",
     "output_type": "stream",
     "text": [
      "[EWC] base=0.02112 | pen=0 | pen/base=0.000\n"
     ]
    },
    {
     "name": "stderr",
     "output_type": "stream",
     "text": []
    },
    {
     "name": "stdout",
     "output_type": "stream",
     "text": [
      "[EWC] base=0.0188 | pen=0 | pen/base=0.000\n"
     ]
    },
    {
     "name": "stderr",
     "output_type": "stream",
     "text": []
    },
    {
     "name": "stdout",
     "output_type": "stream",
     "text": [
      "[EWC] base=0.01378 | pen=0 | pen/base=0.000\n"
     ]
    },
    {
     "name": "stderr",
     "output_type": "stream",
     "text": []
    },
    {
     "name": "stdout",
     "output_type": "stream",
     "text": [
      "[EWC] base=0.02346 | pen=0 | pen/base=0.000\n"
     ]
    },
    {
     "name": "stderr",
     "output_type": "stream",
     "text": []
    },
    {
     "name": "stdout",
     "output_type": "stream",
     "text": [
      "[EWC] base=0.02528 | pen=0 | pen/base=0.000\n"
     ]
    },
    {
     "name": "stderr",
     "output_type": "stream",
     "text": []
    },
    {
     "name": "stdout",
     "output_type": "stream",
     "text": [
      "[EWC] base=0.01446 | pen=0 | pen/base=0.000\n"
     ]
    },
    {
     "name": "stderr",
     "output_type": "stream",
     "text": []
    },
    {
     "name": "stdout",
     "output_type": "stream",
     "text": [
      "[EWC] base=0.01659 | pen=0 | pen/base=0.000\n"
     ]
    },
    {
     "name": "stderr",
     "output_type": "stream",
     "text": []
    },
    {
     "name": "stdout",
     "output_type": "stream",
     "text": [
      "[EWC] base=0.01927 | pen=0 | pen/base=0.000\n"
     ]
    },
    {
     "name": "stderr",
     "output_type": "stream",
     "text": []
    },
    {
     "name": "stdout",
     "output_type": "stream",
     "text": [
      "[EWC] base=0.01528 | pen=0 | pen/base=0.000\n"
     ]
    },
    {
     "name": "stderr",
     "output_type": "stream",
     "text": []
    },
    {
     "name": "stdout",
     "output_type": "stream",
     "text": [
      "[EWC] base=0.01417 | pen=0 | pen/base=0.000\n"
     ]
    },
    {
     "name": "stderr",
     "output_type": "stream",
     "text": []
    },
    {
     "name": "stdout",
     "output_type": "stream",
     "text": [
      "[EWC] base=0.01743 | pen=0 | pen/base=0.000\n"
     ]
    },
    {
     "name": "stderr",
     "output_type": "stream",
     "text": []
    },
    {
     "name": "stdout",
     "output_type": "stream",
     "text": [
      "[EWC] base=0.01467 | pen=0 | pen/base=0.000\n"
     ]
    },
    {
     "name": "stderr",
     "output_type": "stream",
     "text": []
    },
    {
     "name": "stdout",
     "output_type": "stream",
     "text": [
      "[EWC] base=0.01704 | pen=0 | pen/base=0.000\n"
     ]
    },
    {
     "name": "stderr",
     "output_type": "stream",
     "text": []
    },
    {
     "name": "stdout",
     "output_type": "stream",
     "text": [
      "[EWC] base=0.01764 | pen=0 | pen/base=0.000\n"
     ]
    },
    {
     "name": "stderr",
     "output_type": "stream",
     "text": []
    },
    {
     "name": "stdout",
     "output_type": "stream",
     "text": [
      "[EWC] base=0.01262 | pen=0 | pen/base=0.000\n"
     ]
    },
    {
     "name": "stderr",
     "output_type": "stream",
     "text": []
    },
    {
     "name": "stdout",
     "output_type": "stream",
     "text": [
      "[EWC] base=0.01607 | pen=0 | pen/base=0.000\n"
     ]
    },
    {
     "name": "stderr",
     "output_type": "stream",
     "text": []
    },
    {
     "name": "stdout",
     "output_type": "stream",
     "text": [
      "[EWC] base=0.01648 | pen=0 | pen/base=0.000\n"
     ]
    },
    {
     "name": "stderr",
     "output_type": "stream",
     "text": []
    },
    {
     "name": "stdout",
     "output_type": "stream",
     "text": [
      "[EWC] base=0.01426 | pen=0 | pen/base=0.000\n"
     ]
    },
    {
     "name": "stderr",
     "output_type": "stream",
     "text": []
    },
    {
     "name": "stdout",
     "output_type": "stream",
     "text": [
      "[EWC] base=0.01407 | pen=0 | pen/base=0.000\n"
     ]
    },
    {
     "name": "stderr",
     "output_type": "stream",
     "text": []
    },
    {
     "name": "stdout",
     "output_type": "stream",
     "text": [
      "[EWC] base=0.01475 | pen=0 | pen/base=0.000\n"
     ]
    },
    {
     "name": "stderr",
     "output_type": "stream",
     "text": []
    },
    {
     "name": "stdout",
     "output_type": "stream",
     "text": [
      "[EWC] base=0.01689 | pen=0 | pen/base=0.000\n"
     ]
    },
    {
     "name": "stderr",
     "output_type": "stream",
     "text": []
    },
    {
     "name": "stdout",
     "output_type": "stream",
     "text": [
      "[EWC] base=0.01439 | pen=0 | pen/base=0.000\n"
     ]
    },
    {
     "name": "stderr",
     "output_type": "stream",
     "text": []
    },
    {
     "name": "stdout",
     "output_type": "stream",
     "text": [
      "[EWC] base=0.01946 | pen=0 | pen/base=0.000\n"
     ]
    },
    {
     "name": "stderr",
     "output_type": "stream",
     "text": []
    },
    {
     "name": "stdout",
     "output_type": "stream",
     "text": [
      "[EWC] base=0.01622 | pen=0 | pen/base=0.000\n"
     ]
    },
    {
     "name": "stderr",
     "output_type": "stream",
     "text": []
    },
    {
     "name": "stdout",
     "output_type": "stream",
     "text": [
      "[EWC] base=0.0217 | pen=0 | pen/base=0.000\n"
     ]
    },
    {
     "name": "stderr",
     "output_type": "stream",
     "text": []
    },
    {
     "name": "stdout",
     "output_type": "stream",
     "text": [
      "[TRAIN it/s] epoch 4/8: 3.1 it/s  (3066 iters en 1002.36s)\n"
     ]
    },
    {
     "name": "stderr",
     "output_type": "stream",
     "text": []
    },
    {
     "name": "stdout",
     "output_type": "stream",
     "text": [
      "[EWC] base=0.0119 | pen=0 | pen/base=0.000\n"
     ]
    },
    {
     "name": "stderr",
     "output_type": "stream",
     "text": []
    },
    {
     "name": "stdout",
     "output_type": "stream",
     "text": [
      "[EWC] base=0.01843 | pen=0 | pen/base=0.000\n"
     ]
    },
    {
     "name": "stderr",
     "output_type": "stream",
     "text": []
    },
    {
     "name": "stdout",
     "output_type": "stream",
     "text": [
      "[EWC] base=0.0154 | pen=0 | pen/base=0.000\n"
     ]
    },
    {
     "name": "stderr",
     "output_type": "stream",
     "text": []
    },
    {
     "name": "stdout",
     "output_type": "stream",
     "text": [
      "[EWC] base=0.01309 | pen=0 | pen/base=0.000\n"
     ]
    },
    {
     "name": "stderr",
     "output_type": "stream",
     "text": []
    },
    {
     "name": "stdout",
     "output_type": "stream",
     "text": [
      "[EWC] base=0.01421 | pen=0 | pen/base=0.000\n"
     ]
    },
    {
     "name": "stderr",
     "output_type": "stream",
     "text": []
    },
    {
     "name": "stdout",
     "output_type": "stream",
     "text": [
      "[EWC] base=0.01915 | pen=0 | pen/base=0.000\n"
     ]
    },
    {
     "name": "stderr",
     "output_type": "stream",
     "text": []
    },
    {
     "name": "stdout",
     "output_type": "stream",
     "text": [
      "[EWC] base=0.01568 | pen=0 | pen/base=0.000\n"
     ]
    },
    {
     "name": "stderr",
     "output_type": "stream",
     "text": []
    },
    {
     "name": "stdout",
     "output_type": "stream",
     "text": [
      "[EWC] base=0.0199 | pen=0 | pen/base=0.000\n"
     ]
    },
    {
     "name": "stderr",
     "output_type": "stream",
     "text": []
    },
    {
     "name": "stdout",
     "output_type": "stream",
     "text": [
      "[EWC] base=0.01742 | pen=0 | pen/base=0.000\n"
     ]
    },
    {
     "name": "stderr",
     "output_type": "stream",
     "text": []
    },
    {
     "name": "stdout",
     "output_type": "stream",
     "text": [
      "[EWC] base=0.01461 | pen=0 | pen/base=0.000\n"
     ]
    },
    {
     "name": "stderr",
     "output_type": "stream",
     "text": []
    },
    {
     "name": "stdout",
     "output_type": "stream",
     "text": [
      "[EWC] base=0.015 | pen=0 | pen/base=0.000\n"
     ]
    },
    {
     "name": "stderr",
     "output_type": "stream",
     "text": []
    },
    {
     "name": "stdout",
     "output_type": "stream",
     "text": [
      "[EWC] base=0.01738 | pen=0 | pen/base=0.000\n"
     ]
    },
    {
     "name": "stderr",
     "output_type": "stream",
     "text": []
    },
    {
     "name": "stdout",
     "output_type": "stream",
     "text": [
      "[EWC] base=0.01559 | pen=0 | pen/base=0.000\n"
     ]
    },
    {
     "name": "stderr",
     "output_type": "stream",
     "text": []
    },
    {
     "name": "stdout",
     "output_type": "stream",
     "text": [
      "[EWC] base=0.01385 | pen=0 | pen/base=0.000\n"
     ]
    },
    {
     "name": "stderr",
     "output_type": "stream",
     "text": []
    },
    {
     "name": "stdout",
     "output_type": "stream",
     "text": [
      "[EWC] base=0.01131 | pen=0 | pen/base=0.000\n"
     ]
    },
    {
     "name": "stderr",
     "output_type": "stream",
     "text": []
    },
    {
     "name": "stdout",
     "output_type": "stream",
     "text": [
      "[EWC] base=0.01062 | pen=0 | pen/base=0.000\n"
     ]
    },
    {
     "name": "stderr",
     "output_type": "stream",
     "text": []
    },
    {
     "name": "stdout",
     "output_type": "stream",
     "text": [
      "[EWC] base=0.01298 | pen=0 | pen/base=0.000\n"
     ]
    },
    {
     "name": "stderr",
     "output_type": "stream",
     "text": []
    },
    {
     "name": "stdout",
     "output_type": "stream",
     "text": [
      "[EWC] base=0.01481 | pen=0 | pen/base=0.000\n"
     ]
    },
    {
     "name": "stderr",
     "output_type": "stream",
     "text": []
    },
    {
     "name": "stdout",
     "output_type": "stream",
     "text": [
      "[EWC] base=0.01499 | pen=0 | pen/base=0.000\n"
     ]
    },
    {
     "name": "stderr",
     "output_type": "stream",
     "text": []
    },
    {
     "name": "stdout",
     "output_type": "stream",
     "text": [
      "[EWC] base=0.01298 | pen=0 | pen/base=0.000\n"
     ]
    },
    {
     "name": "stderr",
     "output_type": "stream",
     "text": []
    },
    {
     "name": "stdout",
     "output_type": "stream",
     "text": [
      "[EWC] base=0.01602 | pen=0 | pen/base=0.000\n"
     ]
    },
    {
     "name": "stderr",
     "output_type": "stream",
     "text": []
    },
    {
     "name": "stdout",
     "output_type": "stream",
     "text": [
      "[EWC] base=0.01454 | pen=0 | pen/base=0.000\n"
     ]
    },
    {
     "name": "stderr",
     "output_type": "stream",
     "text": []
    },
    {
     "name": "stdout",
     "output_type": "stream",
     "text": [
      "[EWC] base=0.01403 | pen=0 | pen/base=0.000\n"
     ]
    },
    {
     "name": "stderr",
     "output_type": "stream",
     "text": []
    },
    {
     "name": "stdout",
     "output_type": "stream",
     "text": [
      "[EWC] base=0.016 | pen=0 | pen/base=0.000\n"
     ]
    },
    {
     "name": "stderr",
     "output_type": "stream",
     "text": []
    },
    {
     "name": "stdout",
     "output_type": "stream",
     "text": [
      "[EWC] base=0.01653 | pen=0 | pen/base=0.000\n"
     ]
    },
    {
     "name": "stderr",
     "output_type": "stream",
     "text": []
    },
    {
     "name": "stdout",
     "output_type": "stream",
     "text": [
      "[EWC] base=0.01713 | pen=0 | pen/base=0.000\n"
     ]
    },
    {
     "name": "stderr",
     "output_type": "stream",
     "text": []
    },
    {
     "name": "stdout",
     "output_type": "stream",
     "text": [
      "[EWC] base=0.01811 | pen=0 | pen/base=0.000\n"
     ]
    },
    {
     "name": "stderr",
     "output_type": "stream",
     "text": []
    },
    {
     "name": "stdout",
     "output_type": "stream",
     "text": [
      "[EWC] base=0.01644 | pen=0 | pen/base=0.000\n"
     ]
    },
    {
     "name": "stderr",
     "output_type": "stream",
     "text": []
    },
    {
     "name": "stdout",
     "output_type": "stream",
     "text": [
      "[EWC] base=0.01678 | pen=0 | pen/base=0.000\n"
     ]
    },
    {
     "name": "stderr",
     "output_type": "stream",
     "text": []
    },
    {
     "name": "stdout",
     "output_type": "stream",
     "text": [
      "[EWC] base=0.01449 | pen=0 | pen/base=0.000\n"
     ]
    },
    {
     "name": "stderr",
     "output_type": "stream",
     "text": []
    },
    {
     "name": "stdout",
     "output_type": "stream",
     "text": [
      "[EWC] base=0.01206 | pen=0 | pen/base=0.000\n"
     ]
    },
    {
     "name": "stderr",
     "output_type": "stream",
     "text": []
    },
    {
     "name": "stdout",
     "output_type": "stream",
     "text": [
      "[TRAIN it/s] epoch 5/8: 3.0 it/s  (3066 iters en 1015.95s)\n"
     ]
    },
    {
     "name": "stderr",
     "output_type": "stream",
     "text": []
    },
    {
     "name": "stdout",
     "output_type": "stream",
     "text": [
      "[EWC] base=0.0162 | pen=0 | pen/base=0.000\n"
     ]
    },
    {
     "name": "stderr",
     "output_type": "stream",
     "text": []
    },
    {
     "name": "stdout",
     "output_type": "stream",
     "text": [
      "[EWC] base=0.01481 | pen=0 | pen/base=0.000\n"
     ]
    },
    {
     "name": "stderr",
     "output_type": "stream",
     "text": []
    },
    {
     "name": "stdout",
     "output_type": "stream",
     "text": [
      "[EWC] base=0.008754 | pen=0 | pen/base=0.000\n"
     ]
    },
    {
     "name": "stderr",
     "output_type": "stream",
     "text": []
    },
    {
     "name": "stdout",
     "output_type": "stream",
     "text": [
      "[EWC] base=0.015 | pen=0 | pen/base=0.000\n"
     ]
    },
    {
     "name": "stderr",
     "output_type": "stream",
     "text": []
    },
    {
     "name": "stdout",
     "output_type": "stream",
     "text": [
      "[EWC] base=0.01874 | pen=0 | pen/base=0.000\n"
     ]
    },
    {
     "name": "stderr",
     "output_type": "stream",
     "text": []
    },
    {
     "name": "stdout",
     "output_type": "stream",
     "text": [
      "[EWC] base=0.01664 | pen=0 | pen/base=0.000\n"
     ]
    },
    {
     "name": "stderr",
     "output_type": "stream",
     "text": []
    },
    {
     "name": "stdout",
     "output_type": "stream",
     "text": [
      "[EWC] base=0.01355 | pen=0 | pen/base=0.000\n"
     ]
    },
    {
     "name": "stderr",
     "output_type": "stream",
     "text": []
    },
    {
     "name": "stdout",
     "output_type": "stream",
     "text": [
      "[EWC] base=0.01235 | pen=0 | pen/base=0.000\n"
     ]
    },
    {
     "name": "stderr",
     "output_type": "stream",
     "text": []
    },
    {
     "name": "stdout",
     "output_type": "stream",
     "text": [
      "[EWC] base=0.01476 | pen=0 | pen/base=0.000\n"
     ]
    },
    {
     "name": "stderr",
     "output_type": "stream",
     "text": []
    },
    {
     "name": "stdout",
     "output_type": "stream",
     "text": [
      "[EWC] base=0.01147 | pen=0 | pen/base=0.000\n"
     ]
    },
    {
     "name": "stderr",
     "output_type": "stream",
     "text": []
    },
    {
     "name": "stdout",
     "output_type": "stream",
     "text": [
      "[EWC] base=0.01062 | pen=0 | pen/base=0.000\n"
     ]
    },
    {
     "name": "stderr",
     "output_type": "stream",
     "text": []
    },
    {
     "name": "stdout",
     "output_type": "stream",
     "text": [
      "[EWC] base=0.01186 | pen=0 | pen/base=0.000\n"
     ]
    },
    {
     "name": "stderr",
     "output_type": "stream",
     "text": []
    },
    {
     "name": "stdout",
     "output_type": "stream",
     "text": [
      "[EWC] base=0.01395 | pen=0 | pen/base=0.000\n"
     ]
    },
    {
     "name": "stderr",
     "output_type": "stream",
     "text": []
    },
    {
     "name": "stdout",
     "output_type": "stream",
     "text": [
      "[EWC] base=0.01368 | pen=0 | pen/base=0.000\n"
     ]
    },
    {
     "name": "stderr",
     "output_type": "stream",
     "text": []
    },
    {
     "name": "stdout",
     "output_type": "stream",
     "text": [
      "[EWC] base=0.01387 | pen=0 | pen/base=0.000\n"
     ]
    },
    {
     "name": "stderr",
     "output_type": "stream",
     "text": []
    },
    {
     "name": "stdout",
     "output_type": "stream",
     "text": [
      "[EWC] base=0.011 | pen=0 | pen/base=0.000\n"
     ]
    },
    {
     "name": "stderr",
     "output_type": "stream",
     "text": []
    },
    {
     "name": "stdout",
     "output_type": "stream",
     "text": [
      "[EWC] base=0.02217 | pen=0 | pen/base=0.000\n"
     ]
    },
    {
     "name": "stderr",
     "output_type": "stream",
     "text": []
    },
    {
     "name": "stdout",
     "output_type": "stream",
     "text": [
      "[EWC] base=0.01635 | pen=0 | pen/base=0.000\n"
     ]
    },
    {
     "name": "stderr",
     "output_type": "stream",
     "text": []
    },
    {
     "name": "stdout",
     "output_type": "stream",
     "text": [
      "[EWC] base=0.01306 | pen=0 | pen/base=0.000\n"
     ]
    },
    {
     "name": "stderr",
     "output_type": "stream",
     "text": []
    },
    {
     "name": "stdout",
     "output_type": "stream",
     "text": [
      "[EWC] base=0.01071 | pen=0 | pen/base=0.000\n"
     ]
    },
    {
     "name": "stderr",
     "output_type": "stream",
     "text": []
    },
    {
     "name": "stdout",
     "output_type": "stream",
     "text": [
      "[EWC] base=0.01276 | pen=0 | pen/base=0.000\n"
     ]
    },
    {
     "name": "stderr",
     "output_type": "stream",
     "text": []
    },
    {
     "name": "stdout",
     "output_type": "stream",
     "text": [
      "[EWC] base=0.01597 | pen=0 | pen/base=0.000\n"
     ]
    },
    {
     "name": "stderr",
     "output_type": "stream",
     "text": []
    },
    {
     "name": "stdout",
     "output_type": "stream",
     "text": [
      "[EWC] base=0.01377 | pen=0 | pen/base=0.000\n"
     ]
    },
    {
     "name": "stderr",
     "output_type": "stream",
     "text": []
    },
    {
     "name": "stdout",
     "output_type": "stream",
     "text": [
      "[EWC] base=0.01743 | pen=0 | pen/base=0.000\n"
     ]
    },
    {
     "name": "stderr",
     "output_type": "stream",
     "text": []
    },
    {
     "name": "stdout",
     "output_type": "stream",
     "text": [
      "[EWC] base=0.01499 | pen=0 | pen/base=0.000\n"
     ]
    },
    {
     "name": "stderr",
     "output_type": "stream",
     "text": []
    },
    {
     "name": "stdout",
     "output_type": "stream",
     "text": [
      "[EWC] base=0.009062 | pen=0 | pen/base=0.000\n"
     ]
    },
    {
     "name": "stderr",
     "output_type": "stream",
     "text": []
    },
    {
     "name": "stdout",
     "output_type": "stream",
     "text": [
      "[EWC] base=0.01641 | pen=0 | pen/base=0.000\n"
     ]
    },
    {
     "name": "stderr",
     "output_type": "stream",
     "text": []
    },
    {
     "name": "stdout",
     "output_type": "stream",
     "text": [
      "[EWC] base=0.01643 | pen=0 | pen/base=0.000\n"
     ]
    },
    {
     "name": "stderr",
     "output_type": "stream",
     "text": []
    },
    {
     "name": "stdout",
     "output_type": "stream",
     "text": [
      "[EWC] base=0.01297 | pen=0 | pen/base=0.000\n"
     ]
    },
    {
     "name": "stderr",
     "output_type": "stream",
     "text": []
    },
    {
     "name": "stdout",
     "output_type": "stream",
     "text": [
      "[EWC] base=0.01292 | pen=0 | pen/base=0.000\n"
     ]
    },
    {
     "name": "stderr",
     "output_type": "stream",
     "text": []
    },
    {
     "name": "stdout",
     "output_type": "stream",
     "text": [
      "[TRAIN it/s] epoch 6/8: 3.0 it/s  (3066 iters en 1018.11s)\n"
     ]
    },
    {
     "name": "stderr",
     "output_type": "stream",
     "text": []
    },
    {
     "name": "stdout",
     "output_type": "stream",
     "text": [
      "[EWC] base=0.01397 | pen=0 | pen/base=0.000\n"
     ]
    },
    {
     "name": "stderr",
     "output_type": "stream",
     "text": []
    },
    {
     "name": "stdout",
     "output_type": "stream",
     "text": [
      "[EWC] base=0.01277 | pen=0 | pen/base=0.000\n"
     ]
    },
    {
     "name": "stderr",
     "output_type": "stream",
     "text": []
    },
    {
     "name": "stdout",
     "output_type": "stream",
     "text": [
      "[EWC] base=0.01118 | pen=0 | pen/base=0.000\n"
     ]
    },
    {
     "name": "stderr",
     "output_type": "stream",
     "text": []
    },
    {
     "name": "stdout",
     "output_type": "stream",
     "text": [
      "[EWC] base=0.01454 | pen=0 | pen/base=0.000\n"
     ]
    },
    {
     "name": "stderr",
     "output_type": "stream",
     "text": []
    },
    {
     "name": "stdout",
     "output_type": "stream",
     "text": [
      "[EWC] base=0.0161 | pen=0 | pen/base=0.000\n"
     ]
    },
    {
     "name": "stderr",
     "output_type": "stream",
     "text": []
    },
    {
     "name": "stdout",
     "output_type": "stream",
     "text": [
      "[EWC] base=0.01239 | pen=0 | pen/base=0.000\n"
     ]
    },
    {
     "name": "stderr",
     "output_type": "stream",
     "text": []
    },
    {
     "name": "stdout",
     "output_type": "stream",
     "text": [
      "[EWC] base=0.01095 | pen=0 | pen/base=0.000\n"
     ]
    },
    {
     "name": "stderr",
     "output_type": "stream",
     "text": []
    },
    {
     "name": "stdout",
     "output_type": "stream",
     "text": [
      "[EWC] base=0.01412 | pen=0 | pen/base=0.000\n"
     ]
    },
    {
     "name": "stderr",
     "output_type": "stream",
     "text": []
    },
    {
     "name": "stdout",
     "output_type": "stream",
     "text": [
      "[EWC] base=0.01553 | pen=0 | pen/base=0.000\n"
     ]
    },
    {
     "name": "stderr",
     "output_type": "stream",
     "text": []
    },
    {
     "name": "stdout",
     "output_type": "stream",
     "text": [
      "[EWC] base=0.01509 | pen=0 | pen/base=0.000\n"
     ]
    },
    {
     "name": "stderr",
     "output_type": "stream",
     "text": []
    },
    {
     "name": "stdout",
     "output_type": "stream",
     "text": [
      "[EWC] base=0.01095 | pen=0 | pen/base=0.000\n"
     ]
    },
    {
     "name": "stderr",
     "output_type": "stream",
     "text": []
    },
    {
     "name": "stdout",
     "output_type": "stream",
     "text": [
      "[EWC] base=0.01532 | pen=0 | pen/base=0.000\n"
     ]
    },
    {
     "name": "stderr",
     "output_type": "stream",
     "text": []
    },
    {
     "name": "stdout",
     "output_type": "stream",
     "text": [
      "[EWC] base=0.01217 | pen=0 | pen/base=0.000\n"
     ]
    },
    {
     "name": "stderr",
     "output_type": "stream",
     "text": []
    },
    {
     "name": "stdout",
     "output_type": "stream",
     "text": [
      "[EWC] base=0.01139 | pen=0 | pen/base=0.000\n"
     ]
    },
    {
     "name": "stderr",
     "output_type": "stream",
     "text": []
    },
    {
     "name": "stdout",
     "output_type": "stream",
     "text": [
      "[EWC] base=0.01571 | pen=0 | pen/base=0.000\n"
     ]
    },
    {
     "name": "stderr",
     "output_type": "stream",
     "text": []
    },
    {
     "name": "stdout",
     "output_type": "stream",
     "text": [
      "[EWC] base=0.0128 | pen=0 | pen/base=0.000\n"
     ]
    },
    {
     "name": "stderr",
     "output_type": "stream",
     "text": []
    },
    {
     "name": "stdout",
     "output_type": "stream",
     "text": [
      "[EWC] base=0.01091 | pen=0 | pen/base=0.000\n"
     ]
    },
    {
     "name": "stderr",
     "output_type": "stream",
     "text": []
    },
    {
     "name": "stdout",
     "output_type": "stream",
     "text": [
      "[EWC] base=0.01232 | pen=0 | pen/base=0.000\n"
     ]
    },
    {
     "name": "stderr",
     "output_type": "stream",
     "text": []
    },
    {
     "name": "stdout",
     "output_type": "stream",
     "text": [
      "[EWC] base=0.01448 | pen=0 | pen/base=0.000\n"
     ]
    },
    {
     "name": "stderr",
     "output_type": "stream",
     "text": []
    },
    {
     "name": "stdout",
     "output_type": "stream",
     "text": [
      "[EWC] base=0.01447 | pen=0 | pen/base=0.000\n"
     ]
    },
    {
     "name": "stderr",
     "output_type": "stream",
     "text": []
    },
    {
     "name": "stdout",
     "output_type": "stream",
     "text": [
      "[EWC] base=0.01105 | pen=0 | pen/base=0.000\n"
     ]
    },
    {
     "name": "stderr",
     "output_type": "stream",
     "text": []
    },
    {
     "name": "stdout",
     "output_type": "stream",
     "text": [
      "[EWC] base=0.009827 | pen=0 | pen/base=0.000\n"
     ]
    },
    {
     "name": "stderr",
     "output_type": "stream",
     "text": []
    },
    {
     "name": "stdout",
     "output_type": "stream",
     "text": [
      "[EWC] base=0.01181 | pen=0 | pen/base=0.000\n"
     ]
    },
    {
     "name": "stderr",
     "output_type": "stream",
     "text": []
    },
    {
     "name": "stdout",
     "output_type": "stream",
     "text": [
      "[EWC] base=0.01497 | pen=0 | pen/base=0.000\n"
     ]
    },
    {
     "name": "stderr",
     "output_type": "stream",
     "text": []
    },
    {
     "name": "stdout",
     "output_type": "stream",
     "text": [
      "[EWC] base=0.01532 | pen=0 | pen/base=0.000\n"
     ]
    },
    {
     "name": "stderr",
     "output_type": "stream",
     "text": []
    },
    {
     "name": "stdout",
     "output_type": "stream",
     "text": [
      "[EWC] base=0.01685 | pen=0 | pen/base=0.000\n"
     ]
    },
    {
     "name": "stderr",
     "output_type": "stream",
     "text": []
    },
    {
     "name": "stdout",
     "output_type": "stream",
     "text": [
      "[EWC] base=0.01283 | pen=0 | pen/base=0.000\n"
     ]
    },
    {
     "name": "stderr",
     "output_type": "stream",
     "text": []
    },
    {
     "name": "stdout",
     "output_type": "stream",
     "text": [
      "[EWC] base=0.00967 | pen=0 | pen/base=0.000\n"
     ]
    },
    {
     "name": "stderr",
     "output_type": "stream",
     "text": []
    },
    {
     "name": "stdout",
     "output_type": "stream",
     "text": [
      "[EWC] base=0.01321 | pen=0 | pen/base=0.000\n"
     ]
    },
    {
     "name": "stderr",
     "output_type": "stream",
     "text": []
    },
    {
     "name": "stdout",
     "output_type": "stream",
     "text": [
      "[EWC] base=0.009779 | pen=0 | pen/base=0.000\n"
     ]
    },
    {
     "name": "stderr",
     "output_type": "stream",
     "text": []
    },
    {
     "name": "stdout",
     "output_type": "stream",
     "text": [
      "[EWC] base=0.01312 | pen=0 | pen/base=0.000\n"
     ]
    },
    {
     "name": "stderr",
     "output_type": "stream",
     "text": []
    },
    {
     "name": "stdout",
     "output_type": "stream",
     "text": [
      "[TRAIN it/s] epoch 7/8: 3.0 it/s  (3066 iters en 1017.55s)\n"
     ]
    },
    {
     "name": "stderr",
     "output_type": "stream",
     "text": []
    },
    {
     "name": "stdout",
     "output_type": "stream",
     "text": [
      "[EWC] base=0.01099 | pen=0 | pen/base=0.000\n"
     ]
    },
    {
     "name": "stderr",
     "output_type": "stream",
     "text": []
    },
    {
     "name": "stdout",
     "output_type": "stream",
     "text": [
      "[EWC] base=0.009356 | pen=0 | pen/base=0.000\n"
     ]
    },
    {
     "name": "stderr",
     "output_type": "stream",
     "text": []
    },
    {
     "name": "stdout",
     "output_type": "stream",
     "text": [
      "[EWC] base=0.0123 | pen=0 | pen/base=0.000\n"
     ]
    },
    {
     "name": "stderr",
     "output_type": "stream",
     "text": []
    },
    {
     "name": "stdout",
     "output_type": "stream",
     "text": [
      "[EWC] base=0.01123 | pen=0 | pen/base=0.000\n"
     ]
    },
    {
     "name": "stderr",
     "output_type": "stream",
     "text": []
    },
    {
     "name": "stdout",
     "output_type": "stream",
     "text": [
      "[EWC] base=0.01645 | pen=0 | pen/base=0.000\n"
     ]
    },
    {
     "name": "stderr",
     "output_type": "stream",
     "text": []
    },
    {
     "name": "stdout",
     "output_type": "stream",
     "text": [
      "[EWC] base=0.01303 | pen=0 | pen/base=0.000\n"
     ]
    },
    {
     "name": "stderr",
     "output_type": "stream",
     "text": []
    },
    {
     "name": "stdout",
     "output_type": "stream",
     "text": [
      "[EWC] base=0.009985 | pen=0 | pen/base=0.000\n"
     ]
    },
    {
     "name": "stderr",
     "output_type": "stream",
     "text": []
    },
    {
     "name": "stdout",
     "output_type": "stream",
     "text": [
      "[EWC] base=0.01249 | pen=0 | pen/base=0.000\n"
     ]
    },
    {
     "name": "stderr",
     "output_type": "stream",
     "text": []
    },
    {
     "name": "stdout",
     "output_type": "stream",
     "text": [
      "[EWC] base=0.01223 | pen=0 | pen/base=0.000\n"
     ]
    },
    {
     "name": "stderr",
     "output_type": "stream",
     "text": []
    },
    {
     "name": "stdout",
     "output_type": "stream",
     "text": [
      "[EWC] base=0.01264 | pen=0 | pen/base=0.000\n"
     ]
    },
    {
     "name": "stderr",
     "output_type": "stream",
     "text": []
    },
    {
     "name": "stdout",
     "output_type": "stream",
     "text": [
      "[EWC] base=0.01356 | pen=0 | pen/base=0.000\n"
     ]
    },
    {
     "name": "stderr",
     "output_type": "stream",
     "text": []
    },
    {
     "name": "stdout",
     "output_type": "stream",
     "text": [
      "[EWC] base=0.008592 | pen=0 | pen/base=0.000\n"
     ]
    },
    {
     "name": "stderr",
     "output_type": "stream",
     "text": []
    },
    {
     "name": "stdout",
     "output_type": "stream",
     "text": [
      "[EWC] base=0.012 | pen=0 | pen/base=0.000\n"
     ]
    },
    {
     "name": "stderr",
     "output_type": "stream",
     "text": []
    },
    {
     "name": "stdout",
     "output_type": "stream",
     "text": [
      "[EWC] base=0.009432 | pen=0 | pen/base=0.000\n"
     ]
    },
    {
     "name": "stderr",
     "output_type": "stream",
     "text": []
    },
    {
     "name": "stdout",
     "output_type": "stream",
     "text": [
      "[EWC] base=0.01296 | pen=0 | pen/base=0.000\n"
     ]
    },
    {
     "name": "stderr",
     "output_type": "stream",
     "text": []
    },
    {
     "name": "stdout",
     "output_type": "stream",
     "text": [
      "[EWC] base=0.01163 | pen=0 | pen/base=0.000\n"
     ]
    },
    {
     "name": "stderr",
     "output_type": "stream",
     "text": []
    },
    {
     "name": "stdout",
     "output_type": "stream",
     "text": [
      "[EWC] base=0.01161 | pen=0 | pen/base=0.000\n"
     ]
    },
    {
     "name": "stderr",
     "output_type": "stream",
     "text": []
    },
    {
     "name": "stdout",
     "output_type": "stream",
     "text": [
      "[EWC] base=0.008247 | pen=0 | pen/base=0.000\n"
     ]
    },
    {
     "name": "stderr",
     "output_type": "stream",
     "text": []
    },
    {
     "name": "stdout",
     "output_type": "stream",
     "text": [
      "[EWC] base=0.009322 | pen=0 | pen/base=0.000\n"
     ]
    },
    {
     "name": "stderr",
     "output_type": "stream",
     "text": []
    },
    {
     "name": "stdout",
     "output_type": "stream",
     "text": [
      "[EWC] base=0.01179 | pen=0 | pen/base=0.000\n"
     ]
    },
    {
     "name": "stderr",
     "output_type": "stream",
     "text": []
    },
    {
     "name": "stdout",
     "output_type": "stream",
     "text": [
      "[EWC] base=0.0122 | pen=0 | pen/base=0.000\n"
     ]
    },
    {
     "name": "stderr",
     "output_type": "stream",
     "text": []
    },
    {
     "name": "stdout",
     "output_type": "stream",
     "text": [
      "[EWC] base=0.01033 | pen=0 | pen/base=0.000\n"
     ]
    },
    {
     "name": "stderr",
     "output_type": "stream",
     "text": []
    },
    {
     "name": "stdout",
     "output_type": "stream",
     "text": [
      "[EWC] base=0.00994 | pen=0 | pen/base=0.000\n"
     ]
    },
    {
     "name": "stderr",
     "output_type": "stream",
     "text": []
    },
    {
     "name": "stdout",
     "output_type": "stream",
     "text": [
      "[EWC] base=0.01402 | pen=0 | pen/base=0.000\n"
     ]
    },
    {
     "name": "stderr",
     "output_type": "stream",
     "text": []
    },
    {
     "name": "stdout",
     "output_type": "stream",
     "text": [
      "[EWC] base=0.01138 | pen=0 | pen/base=0.000\n"
     ]
    },
    {
     "name": "stderr",
     "output_type": "stream",
     "text": []
    },
    {
     "name": "stdout",
     "output_type": "stream",
     "text": [
      "[EWC] base=0.01225 | pen=0 | pen/base=0.000\n"
     ]
    },
    {
     "name": "stderr",
     "output_type": "stream",
     "text": []
    },
    {
     "name": "stdout",
     "output_type": "stream",
     "text": [
      "[EWC] base=0.01126 | pen=0 | pen/base=0.000\n"
     ]
    },
    {
     "name": "stderr",
     "output_type": "stream",
     "text": []
    },
    {
     "name": "stdout",
     "output_type": "stream",
     "text": [
      "[EWC] base=0.01209 | pen=0 | pen/base=0.000\n"
     ]
    },
    {
     "name": "stderr",
     "output_type": "stream",
     "text": []
    },
    {
     "name": "stdout",
     "output_type": "stream",
     "text": [
      "[EWC] base=0.01343 | pen=0 | pen/base=0.000\n"
     ]
    },
    {
     "name": "stderr",
     "output_type": "stream",
     "text": []
    },
    {
     "name": "stdout",
     "output_type": "stream",
     "text": [
      "[EWC] base=0.0169 | pen=0 | pen/base=0.000\n"
     ]
    },
    {
     "name": "stderr",
     "output_type": "stream",
     "text": []
    },
    {
     "name": "stdout",
     "output_type": "stream",
     "text": [
      "[EWC] base=0.01308 | pen=0 | pen/base=0.000\n"
     ]
    },
    {
     "name": "stderr",
     "output_type": "stream",
     "text": []
    },
    {
     "name": "stdout",
     "output_type": "stream",
     "text": [
      "[TRAIN it/s] epoch 8/8: 2.9 it/s  (3066 iters en 1053.35s)\n",
      "[EWC] after_task: estimando Fisher en TRAIN (len=3066), cap=1000...\n",
      "[EWC] Fisher listo: batches_usados=1000 | sum=1.304e-01 | max=1.207e-01\n",
      "\n",
      "--- Tarea 2/2: circuito2 | preset=std | method=ewc_lam_1e+09 | B=96 T=16 AMP=True | enc=rate ---\n"
     ]
    },
    {
     "name": "stderr",
     "output_type": "stream",
     "text": []
    },
    {
     "name": "stdout",
     "output_type": "stream",
     "text": [
      "[EWC] base=0.2861 | pen=0 | pen/base=0.000\n"
     ]
    },
    {
     "name": "stderr",
     "output_type": "stream",
     "text": []
    },
    {
     "name": "stdout",
     "output_type": "stream",
     "text": [
      "[EWC] base=0.2065 | pen=0.2697 | pen/base=1.306 | λ_actual=1.000e+09 → λ_sugerido≈7.655e+08 (target pen/base=1.0)\n"
     ]
    },
    {
     "name": "stderr",
     "output_type": "stream",
     "text": []
    },
    {
     "name": "stdout",
     "output_type": "stream",
     "text": [
      "[EWC] base=0.1595 | pen=0.3382 | pen/base=2.120 | λ_actual=1.000e+09 → λ_sugerido≈4.717e+08 (target pen/base=1.0)\n"
     ]
    },
    {
     "name": "stderr",
     "output_type": "stream",
     "text": []
    },
    {
     "name": "stdout",
     "output_type": "stream",
     "text": [
      "[EWC] base=0.2163 | pen=0.5329 | pen/base=2.464 | λ_actual=1.000e+09 → λ_sugerido≈4.059e+08 (target pen/base=1.0)\n"
     ]
    },
    {
     "name": "stderr",
     "output_type": "stream",
     "text": []
    },
    {
     "name": "stdout",
     "output_type": "stream",
     "text": [
      "[EWC] base=0.2527 | pen=0.1703 | pen/base=0.674 | λ_actual=1.000e+09 → λ_sugerido≈1.484e+09 (target pen/base=1.0)\n"
     ]
    },
    {
     "name": "stderr",
     "output_type": "stream",
     "text": []
    },
    {
     "name": "stdout",
     "output_type": "stream",
     "text": [
      "[EWC] base=0.2091 | pen=0.2713 | pen/base=1.298 | λ_actual=1.000e+09 → λ_sugerido≈7.705e+08 (target pen/base=1.0)\n"
     ]
    },
    {
     "name": "stderr",
     "output_type": "stream",
     "text": []
    },
    {
     "name": "stdout",
     "output_type": "stream",
     "text": [
      "[EWC] base=0.1957 | pen=0.5023 | pen/base=2.567 | λ_actual=1.000e+09 → λ_sugerido≈3.896e+08 (target pen/base=1.0)\n"
     ]
    },
    {
     "name": "stderr",
     "output_type": "stream",
     "text": []
    },
    {
     "name": "stdout",
     "output_type": "stream",
     "text": [
      "[EWC] base=0.2171 | pen=0.1562 | pen/base=0.720 | λ_actual=1.000e+09 → λ_sugerido≈1.389e+09 (target pen/base=1.0)\n"
     ]
    },
    {
     "name": "stderr",
     "output_type": "stream",
     "text": []
    },
    {
     "name": "stdout",
     "output_type": "stream",
     "text": [
      "[EWC] base=0.184 | pen=0.2631 | pen/base=1.429 | λ_actual=1.000e+09 → λ_sugerido≈6.996e+08 (target pen/base=1.0)\n"
     ]
    },
    {
     "name": "stderr",
     "output_type": "stream",
     "text": []
    },
    {
     "name": "stdout",
     "output_type": "stream",
     "text": [
      "[EWC] base=0.2007 | pen=0.4961 | pen/base=2.472 | λ_actual=1.000e+09 → λ_sugerido≈4.045e+08 (target pen/base=1.0)\n"
     ]
    },
    {
     "name": "stderr",
     "output_type": "stream",
     "text": []
    },
    {
     "name": "stdout",
     "output_type": "stream",
     "text": [
      "[EWC] base=0.2358 | pen=0.2026 | pen/base=0.859 | λ_actual=1.000e+09 → λ_sugerido≈1.164e+09 (target pen/base=1.0)\n"
     ]
    },
    {
     "name": "stderr",
     "output_type": "stream",
     "text": []
    },
    {
     "name": "stdout",
     "output_type": "stream",
     "text": [
      "[TRAIN it/s] epoch 1/8: 2.7 it/s  (1011 iters en 381.39s)\n"
     ]
    },
    {
     "name": "stderr",
     "output_type": "stream",
     "text": []
    },
    {
     "name": "stdout",
     "output_type": "stream",
     "text": [
      "[EWC] base=0.2377 | pen=0.2585 | pen/base=1.087 | λ_actual=1.000e+09 → λ_sugerido≈9.197e+08 (target pen/base=1.0)\n"
     ]
    },
    {
     "name": "stderr",
     "output_type": "stream",
     "text": []
    },
    {
     "name": "stdout",
     "output_type": "stream",
     "text": [
      "[EWC] base=0.1837 | pen=0.5187 | pen/base=2.823 | λ_actual=1.000e+09 → λ_sugerido≈3.543e+08 (target pen/base=1.0)\n"
     ]
    },
    {
     "name": "stderr",
     "output_type": "stream",
     "text": []
    },
    {
     "name": "stdout",
     "output_type": "stream",
     "text": [
      "[EWC] base=0.1958 | pen=0.1396 | pen/base=0.713 | λ_actual=1.000e+09 → λ_sugerido≈1.403e+09 (target pen/base=1.0)\n"
     ]
    },
    {
     "name": "stderr",
     "output_type": "stream",
     "text": []
    },
    {
     "name": "stdout",
     "output_type": "stream",
     "text": [
      "[EWC] base=0.2068 | pen=0.2436 | pen/base=1.178 | λ_actual=1.000e+09 → λ_sugerido≈8.488e+08 (target pen/base=1.0)\n"
     ]
    },
    {
     "name": "stderr",
     "output_type": "stream",
     "text": []
    },
    {
     "name": "stdout",
     "output_type": "stream",
     "text": [
      "[EWC] base=0.2212 | pen=0.5194 | pen/base=2.347 | λ_actual=1.000e+09 → λ_sugerido≈4.260e+08 (target pen/base=1.0)\n"
     ]
    },
    {
     "name": "stderr",
     "output_type": "stream",
     "text": []
    },
    {
     "name": "stdout",
     "output_type": "stream",
     "text": [
      "[EWC] base=0.2258 | pen=0.1453 | pen/base=0.644 | λ_actual=1.000e+09 → λ_sugerido≈1.554e+09 (target pen/base=1.0)\n"
     ]
    },
    {
     "name": "stderr",
     "output_type": "stream",
     "text": []
    },
    {
     "name": "stdout",
     "output_type": "stream",
     "text": [
      "[EWC] base=0.2449 | pen=0.2438 | pen/base=0.995 | λ_actual=1.000e+09 → λ_sugerido≈1.005e+09 (target pen/base=1.0)\n"
     ]
    },
    {
     "name": "stderr",
     "output_type": "stream",
     "text": []
    },
    {
     "name": "stdout",
     "output_type": "stream",
     "text": [
      "[EWC] base=0.2109 | pen=0.5263 | pen/base=2.495 | λ_actual=1.000e+09 → λ_sugerido≈4.008e+08 (target pen/base=1.0)\n"
     ]
    },
    {
     "name": "stderr",
     "output_type": "stream",
     "text": []
    },
    {
     "name": "stdout",
     "output_type": "stream",
     "text": [
      "[EWC] base=0.1968 | pen=0.1389 | pen/base=0.706 | λ_actual=1.000e+09 → λ_sugerido≈1.417e+09 (target pen/base=1.0)\n"
     ]
    },
    {
     "name": "stderr",
     "output_type": "stream",
     "text": []
    },
    {
     "name": "stdout",
     "output_type": "stream",
     "text": [
      "[EWC] base=0.2245 | pen=0.2464 | pen/base=1.098 | λ_actual=1.000e+09 → λ_sugerido≈9.109e+08 (target pen/base=1.0)\n"
     ]
    },
    {
     "name": "stderr",
     "output_type": "stream",
     "text": []
    },
    {
     "name": "stdout",
     "output_type": "stream",
     "text": [
      "[TRAIN it/s] epoch 2/8: 2.7 it/s  (1011 iters en 371.54s)\n"
     ]
    },
    {
     "name": "stderr",
     "output_type": "stream",
     "text": []
    },
    {
     "name": "stdout",
     "output_type": "stream",
     "text": [
      "[EWC] base=0.2635 | pen=0.2659 | pen/base=1.009 | λ_actual=1.000e+09 → λ_sugerido≈9.910e+08 (target pen/base=1.0)\n"
     ]
    },
    {
     "name": "stderr",
     "output_type": "stream",
     "text": []
    },
    {
     "name": "stdout",
     "output_type": "stream",
     "text": [
      "[EWC] base=0.2099 | pen=0.523 | pen/base=2.492 | λ_actual=1.000e+09 → λ_sugerido≈4.013e+08 (target pen/base=1.0)\n"
     ]
    },
    {
     "name": "stderr",
     "output_type": "stream",
     "text": []
    },
    {
     "name": "stdout",
     "output_type": "stream",
     "text": [
      "[EWC] base=0.2275 | pen=0.3013 | pen/base=1.324 | λ_actual=1.000e+09 → λ_sugerido≈7.551e+08 (target pen/base=1.0)\n"
     ]
    },
    {
     "name": "stderr",
     "output_type": "stream",
     "text": []
    },
    {
     "name": "stdout",
     "output_type": "stream",
     "text": [
      "[EWC] base=0.2572 | pen=0.2456 | pen/base=0.955 | λ_actual=1.000e+09 → λ_sugerido≈1.047e+09 (target pen/base=1.0)\n"
     ]
    },
    {
     "name": "stderr",
     "output_type": "stream",
     "text": []
    },
    {
     "name": "stdout",
     "output_type": "stream",
     "text": [
      "[EWC] base=0.2211 | pen=0.5182 | pen/base=2.344 | λ_actual=1.000e+09 → λ_sugerido≈4.266e+08 (target pen/base=1.0)\n"
     ]
    },
    {
     "name": "stderr",
     "output_type": "stream",
     "text": []
    },
    {
     "name": "stdout",
     "output_type": "stream",
     "text": [
      "[EWC] base=0.1854 | pen=0.1645 | pen/base=0.887 | λ_actual=1.000e+09 → λ_sugerido≈1.127e+09 (target pen/base=1.0)\n"
     ]
    },
    {
     "name": "stderr",
     "output_type": "stream",
     "text": []
    },
    {
     "name": "stdout",
     "output_type": "stream",
     "text": [
      "[EWC] base=0.2159 | pen=0.2443 | pen/base=1.131 | λ_actual=1.000e+09 → λ_sugerido≈8.838e+08 (target pen/base=1.0)\n"
     ]
    },
    {
     "name": "stderr",
     "output_type": "stream",
     "text": []
    },
    {
     "name": "stdout",
     "output_type": "stream",
     "text": [
      "[EWC] base=0.2429 | pen=0.5356 | pen/base=2.205 | λ_actual=1.000e+09 → λ_sugerido≈4.536e+08 (target pen/base=1.0)\n"
     ]
    },
    {
     "name": "stderr",
     "output_type": "stream",
     "text": []
    },
    {
     "name": "stdout",
     "output_type": "stream",
     "text": [
      "[EWC] base=0.287 | pen=0.1769 | pen/base=0.616 | λ_actual=1.000e+09 → λ_sugerido≈1.622e+09 (target pen/base=1.0)\n"
     ]
    },
    {
     "name": "stderr",
     "output_type": "stream",
     "text": []
    },
    {
     "name": "stdout",
     "output_type": "stream",
     "text": [
      "[EWC] base=0.2363 | pen=0.2443 | pen/base=1.034 | λ_actual=1.000e+09 → λ_sugerido≈9.672e+08 (target pen/base=1.0)\n"
     ]
    },
    {
     "name": "stderr",
     "output_type": "stream",
     "text": []
    },
    {
     "name": "stdout",
     "output_type": "stream",
     "text": [
      "[TRAIN it/s] epoch 3/8: 2.7 it/s  (1011 iters en 374.38s)\n"
     ]
    },
    {
     "name": "stderr",
     "output_type": "stream",
     "text": []
    },
    {
     "name": "stdout",
     "output_type": "stream",
     "text": [
      "[EWC] base=0.2735 | pen=0.5196 | pen/base=1.899 | λ_actual=1.000e+09 → λ_sugerido≈5.265e+08 (target pen/base=1.0)\n"
     ]
    },
    {
     "name": "stderr",
     "output_type": "stream",
     "text": []
    },
    {
     "name": "stdout",
     "output_type": "stream",
     "text": [
      "[EWC] base=0.1986 | pen=0.1553 | pen/base=0.782 | λ_actual=1.000e+09 → λ_sugerido≈1.279e+09 (target pen/base=1.0)\n"
     ]
    },
    {
     "name": "stderr",
     "output_type": "stream",
     "text": []
    },
    {
     "name": "stdout",
     "output_type": "stream",
     "text": [
      "[EWC] base=0.244 | pen=0.2456 | pen/base=1.007 | λ_actual=1.000e+09 → λ_sugerido≈9.934e+08 (target pen/base=1.0)\n"
     ]
    },
    {
     "name": "stderr",
     "output_type": "stream",
     "text": []
    },
    {
     "name": "stdout",
     "output_type": "stream",
     "text": [
      "[EWC] base=0.1819 | pen=0.6529 | pen/base=3.588 | λ_actual=1.000e+09 → λ_sugerido≈2.787e+08 (target pen/base=1.0)\n"
     ]
    },
    {
     "name": "stderr",
     "output_type": "stream",
     "text": []
    },
    {
     "name": "stdout",
     "output_type": "stream",
     "text": [
      "[EWC] base=0.1745 | pen=0.1447 | pen/base=0.829 | λ_actual=1.000e+09 → λ_sugerido≈1.206e+09 (target pen/base=1.0)\n"
     ]
    },
    {
     "name": "stderr",
     "output_type": "stream",
     "text": []
    },
    {
     "name": "stdout",
     "output_type": "stream",
     "text": [
      "[EWC] base=0.1579 | pen=0.2498 | pen/base=1.582 | λ_actual=1.000e+09 → λ_sugerido≈6.323e+08 (target pen/base=1.0)\n"
     ]
    },
    {
     "name": "stderr",
     "output_type": "stream",
     "text": []
    },
    {
     "name": "stdout",
     "output_type": "stream",
     "text": [
      "[EWC] base=0.1601 | pen=0.5273 | pen/base=3.293 | λ_actual=1.000e+09 → λ_sugerido≈3.037e+08 (target pen/base=1.0)\n"
     ]
    },
    {
     "name": "stderr",
     "output_type": "stream",
     "text": []
    },
    {
     "name": "stdout",
     "output_type": "stream",
     "text": [
      "[EWC] base=0.1222 | pen=0.5292 | pen/base=4.330 | λ_actual=1.000e+09 → λ_sugerido≈2.309e+08 (target pen/base=1.0)\n"
     ]
    },
    {
     "name": "stderr",
     "output_type": "stream",
     "text": []
    },
    {
     "name": "stdout",
     "output_type": "stream",
     "text": [
      "[EWC] base=0.1245 | pen=0.1806 | pen/base=1.451 | λ_actual=1.000e+09 → λ_sugerido≈6.893e+08 (target pen/base=1.0)\n"
     ]
    },
    {
     "name": "stderr",
     "output_type": "stream",
     "text": []
    },
    {
     "name": "stdout",
     "output_type": "stream",
     "text": [
      "[EWC] base=0.1622 | pen=0.3725 | pen/base=2.296 | λ_actual=1.000e+09 → λ_sugerido≈4.355e+08 (target pen/base=1.0)\n"
     ]
    },
    {
     "name": "stderr",
     "output_type": "stream",
     "text": []
    },
    {
     "name": "stdout",
     "output_type": "stream",
     "text": [
      "[TRAIN it/s] epoch 4/8: 2.7 it/s  (1011 iters en 372.91s)\n"
     ]
    },
    {
     "name": "stderr",
     "output_type": "stream",
     "text": [
      "Best trial: 0. Best value: 2.41831:  50%|█████     | 1/2 [2:57:39<2:57:39, 10659.34s/it]"
     ]
    },
    {
     "name": "stdout",
     "output_type": "stream",
     "text": [
      "[I 2025-10-08 01:47:26,572] Trial 0 finished with value: 2.4183117704230996 and parameters: {'lam': 1000000000.0, 'fisher_batches': 1000}. Best is trial 0 with value: 2.4183117704230996.\n",
      "\n",
      "--- Tarea 1/2: circuito1 | preset=std | method=ewc_lam_4e+08 | B=96 T=16 AMP=True | enc=rate ---\n"
     ]
    },
    {
     "name": "stderr",
     "output_type": "stream",
     "text": []
    },
    {
     "name": "stdout",
     "output_type": "stream",
     "text": [
      "[EWC] base=0.4184 | pen=0 | pen/base=0.000\n"
     ]
    },
    {
     "name": "stderr",
     "output_type": "stream",
     "text": []
    },
    {
     "name": "stdout",
     "output_type": "stream",
     "text": [
      "[EWC] base=0.1501 | pen=0 | pen/base=0.000\n"
     ]
    },
    {
     "name": "stderr",
     "output_type": "stream",
     "text": []
    },
    {
     "name": "stdout",
     "output_type": "stream",
     "text": [
      "[EWC] base=0.1019 | pen=0 | pen/base=0.000\n"
     ]
    },
    {
     "name": "stderr",
     "output_type": "stream",
     "text": []
    },
    {
     "name": "stdout",
     "output_type": "stream",
     "text": [
      "[EWC] base=0.06502 | pen=0 | pen/base=0.000\n"
     ]
    },
    {
     "name": "stderr",
     "output_type": "stream",
     "text": []
    },
    {
     "name": "stdout",
     "output_type": "stream",
     "text": [
      "[EWC] base=0.07571 | pen=0 | pen/base=0.000\n"
     ]
    },
    {
     "name": "stderr",
     "output_type": "stream",
     "text": []
    },
    {
     "name": "stdout",
     "output_type": "stream",
     "text": [
      "[EWC] base=0.05159 | pen=0 | pen/base=0.000\n"
     ]
    },
    {
     "name": "stderr",
     "output_type": "stream",
     "text": []
    },
    {
     "name": "stdout",
     "output_type": "stream",
     "text": [
      "[EWC] base=0.04112 | pen=0 | pen/base=0.000\n"
     ]
    },
    {
     "name": "stderr",
     "output_type": "stream",
     "text": []
    },
    {
     "name": "stdout",
     "output_type": "stream",
     "text": [
      "[EWC] base=0.05619 | pen=0 | pen/base=0.000\n"
     ]
    },
    {
     "name": "stderr",
     "output_type": "stream",
     "text": []
    },
    {
     "name": "stdout",
     "output_type": "stream",
     "text": [
      "[EWC] base=0.04531 | pen=0 | pen/base=0.000\n"
     ]
    },
    {
     "name": "stderr",
     "output_type": "stream",
     "text": []
    },
    {
     "name": "stdout",
     "output_type": "stream",
     "text": [
      "[EWC] base=0.03336 | pen=0 | pen/base=0.000\n"
     ]
    },
    {
     "name": "stderr",
     "output_type": "stream",
     "text": []
    },
    {
     "name": "stdout",
     "output_type": "stream",
     "text": [
      "[EWC] base=0.05281 | pen=0 | pen/base=0.000\n"
     ]
    },
    {
     "name": "stderr",
     "output_type": "stream",
     "text": []
    },
    {
     "name": "stdout",
     "output_type": "stream",
     "text": [
      "[EWC] base=0.04082 | pen=0 | pen/base=0.000\n"
     ]
    },
    {
     "name": "stderr",
     "output_type": "stream",
     "text": []
    },
    {
     "name": "stdout",
     "output_type": "stream",
     "text": [
      "[EWC] base=0.03743 | pen=0 | pen/base=0.000\n"
     ]
    },
    {
     "name": "stderr",
     "output_type": "stream",
     "text": []
    },
    {
     "name": "stdout",
     "output_type": "stream",
     "text": [
      "[EWC] base=0.03847 | pen=0 | pen/base=0.000\n"
     ]
    },
    {
     "name": "stderr",
     "output_type": "stream",
     "text": []
    },
    {
     "name": "stdout",
     "output_type": "stream",
     "text": [
      "[EWC] base=0.03512 | pen=0 | pen/base=0.000\n"
     ]
    },
    {
     "name": "stderr",
     "output_type": "stream",
     "text": []
    },
    {
     "name": "stdout",
     "output_type": "stream",
     "text": [
      "[EWC] base=0.05418 | pen=0 | pen/base=0.000\n"
     ]
    },
    {
     "name": "stderr",
     "output_type": "stream",
     "text": []
    },
    {
     "name": "stdout",
     "output_type": "stream",
     "text": [
      "[EWC] base=0.03838 | pen=0 | pen/base=0.000\n"
     ]
    },
    {
     "name": "stderr",
     "output_type": "stream",
     "text": []
    },
    {
     "name": "stdout",
     "output_type": "stream",
     "text": [
      "[EWC] base=0.0368 | pen=0 | pen/base=0.000\n"
     ]
    },
    {
     "name": "stderr",
     "output_type": "stream",
     "text": []
    },
    {
     "name": "stdout",
     "output_type": "stream",
     "text": [
      "[EWC] base=0.0348 | pen=0 | pen/base=0.000\n"
     ]
    },
    {
     "name": "stderr",
     "output_type": "stream",
     "text": []
    },
    {
     "name": "stdout",
     "output_type": "stream",
     "text": [
      "[EWC] base=0.03707 | pen=0 | pen/base=0.000\n"
     ]
    },
    {
     "name": "stderr",
     "output_type": "stream",
     "text": []
    },
    {
     "name": "stdout",
     "output_type": "stream",
     "text": [
      "[EWC] base=0.02799 | pen=0 | pen/base=0.000\n"
     ]
    },
    {
     "name": "stderr",
     "output_type": "stream",
     "text": []
    },
    {
     "name": "stdout",
     "output_type": "stream",
     "text": [
      "[EWC] base=0.0363 | pen=0 | pen/base=0.000\n"
     ]
    },
    {
     "name": "stderr",
     "output_type": "stream",
     "text": []
    },
    {
     "name": "stdout",
     "output_type": "stream",
     "text": [
      "[EWC] base=0.02849 | pen=0 | pen/base=0.000\n"
     ]
    },
    {
     "name": "stderr",
     "output_type": "stream",
     "text": []
    },
    {
     "name": "stdout",
     "output_type": "stream",
     "text": [
      "[EWC] base=0.02875 | pen=0 | pen/base=0.000\n"
     ]
    },
    {
     "name": "stderr",
     "output_type": "stream",
     "text": []
    },
    {
     "name": "stdout",
     "output_type": "stream",
     "text": [
      "[EWC] base=0.02066 | pen=0 | pen/base=0.000\n"
     ]
    },
    {
     "name": "stderr",
     "output_type": "stream",
     "text": []
    },
    {
     "name": "stdout",
     "output_type": "stream",
     "text": [
      "[EWC] base=0.02495 | pen=0 | pen/base=0.000\n"
     ]
    },
    {
     "name": "stderr",
     "output_type": "stream",
     "text": []
    },
    {
     "name": "stdout",
     "output_type": "stream",
     "text": [
      "[EWC] base=0.03432 | pen=0 | pen/base=0.000\n"
     ]
    },
    {
     "name": "stderr",
     "output_type": "stream",
     "text": []
    },
    {
     "name": "stdout",
     "output_type": "stream",
     "text": [
      "[EWC] base=0.0287 | pen=0 | pen/base=0.000\n"
     ]
    },
    {
     "name": "stderr",
     "output_type": "stream",
     "text": []
    },
    {
     "name": "stdout",
     "output_type": "stream",
     "text": [
      "[EWC] base=0.0371 | pen=0 | pen/base=0.000\n"
     ]
    },
    {
     "name": "stderr",
     "output_type": "stream",
     "text": []
    },
    {
     "name": "stdout",
     "output_type": "stream",
     "text": [
      "[EWC] base=0.02954 | pen=0 | pen/base=0.000\n"
     ]
    },
    {
     "name": "stderr",
     "output_type": "stream",
     "text": []
    },
    {
     "name": "stdout",
     "output_type": "stream",
     "text": [
      "[EWC] base=0.04323 | pen=0 | pen/base=0.000\n"
     ]
    },
    {
     "name": "stderr",
     "output_type": "stream",
     "text": []
    },
    {
     "name": "stdout",
     "output_type": "stream",
     "text": [
      "[TRAIN it/s] epoch 1/8: 2.8 it/s  (3066 iters en 1111.76s)\n"
     ]
    },
    {
     "name": "stderr",
     "output_type": "stream",
     "text": []
    },
    {
     "name": "stdout",
     "output_type": "stream",
     "text": [
      "[EWC] base=0.02844 | pen=0 | pen/base=0.000\n"
     ]
    },
    {
     "name": "stderr",
     "output_type": "stream",
     "text": []
    },
    {
     "name": "stdout",
     "output_type": "stream",
     "text": [
      "[EWC] base=0.02784 | pen=0 | pen/base=0.000\n"
     ]
    },
    {
     "name": "stderr",
     "output_type": "stream",
     "text": []
    },
    {
     "name": "stdout",
     "output_type": "stream",
     "text": [
      "[EWC] base=0.02413 | pen=0 | pen/base=0.000\n"
     ]
    },
    {
     "name": "stderr",
     "output_type": "stream",
     "text": []
    },
    {
     "name": "stdout",
     "output_type": "stream",
     "text": [
      "[EWC] base=0.02536 | pen=0 | pen/base=0.000\n"
     ]
    },
    {
     "name": "stderr",
     "output_type": "stream",
     "text": []
    },
    {
     "name": "stdout",
     "output_type": "stream",
     "text": [
      "[EWC] base=0.02684 | pen=0 | pen/base=0.000\n"
     ]
    },
    {
     "name": "stderr",
     "output_type": "stream",
     "text": []
    },
    {
     "name": "stdout",
     "output_type": "stream",
     "text": [
      "[EWC] base=0.02326 | pen=0 | pen/base=0.000\n"
     ]
    },
    {
     "name": "stderr",
     "output_type": "stream",
     "text": [
      "\n"
     ]
    },
    {
     "name": "stdout",
     "output_type": "stream",
     "text": [
      "[EWC] base=0.02582 | pen=0 | pen/base=0.000\n"
     ]
    },
    {
     "name": "stderr",
     "output_type": "stream",
     "text": [
      "Epoch 2/8:  21%|██        | 635/3066 [03:47<14:04,  2.88it/s]\u001b[A"
     ]
    },
    {
     "name": "stdout",
     "output_type": "stream",
     "text": [
      "[EWC] base=0.03396 | pen=0 | pen/base=0.000\n"
     ]
    },
    {
     "name": "stderr",
     "output_type": "stream",
     "text": []
    },
    {
     "name": "stdout",
     "output_type": "stream",
     "text": [
      "[EWC] base=0.02568 | pen=0 | pen/base=0.000\n"
     ]
    },
    {
     "name": "stderr",
     "output_type": "stream",
     "text": []
    },
    {
     "name": "stdout",
     "output_type": "stream",
     "text": [
      "[EWC] base=0.02762 | pen=0 | pen/base=0.000\n"
     ]
    },
    {
     "name": "stderr",
     "output_type": "stream",
     "text": []
    },
    {
     "name": "stdout",
     "output_type": "stream",
     "text": [
      "[EWC] base=0.022 | pen=0 | pen/base=0.000\n"
     ]
    },
    {
     "name": "stderr",
     "output_type": "stream",
     "text": []
    },
    {
     "name": "stdout",
     "output_type": "stream",
     "text": [
      "[EWC] base=0.02256 | pen=0 | pen/base=0.000\n"
     ]
    },
    {
     "name": "stderr",
     "output_type": "stream",
     "text": []
    },
    {
     "name": "stdout",
     "output_type": "stream",
     "text": [
      "[EWC] base=0.02935 | pen=0 | pen/base=0.000\n"
     ]
    },
    {
     "name": "stderr",
     "output_type": "stream",
     "text": []
    },
    {
     "name": "stdout",
     "output_type": "stream",
     "text": [
      "[EWC] base=0.02284 | pen=0 | pen/base=0.000\n"
     ]
    },
    {
     "name": "stderr",
     "output_type": "stream",
     "text": []
    },
    {
     "name": "stdout",
     "output_type": "stream",
     "text": [
      "[EWC] base=0.02583 | pen=0 | pen/base=0.000\n"
     ]
    },
    {
     "name": "stderr",
     "output_type": "stream",
     "text": []
    },
    {
     "name": "stdout",
     "output_type": "stream",
     "text": [
      "[EWC] base=0.01751 | pen=0 | pen/base=0.000\n"
     ]
    },
    {
     "name": "stderr",
     "output_type": "stream",
     "text": []
    },
    {
     "name": "stdout",
     "output_type": "stream",
     "text": [
      "[EWC] base=0.02209 | pen=0 | pen/base=0.000\n"
     ]
    },
    {
     "name": "stderr",
     "output_type": "stream",
     "text": []
    },
    {
     "name": "stdout",
     "output_type": "stream",
     "text": [
      "[EWC] base=0.01789 | pen=0 | pen/base=0.000\n"
     ]
    },
    {
     "name": "stderr",
     "output_type": "stream",
     "text": []
    },
    {
     "name": "stdout",
     "output_type": "stream",
     "text": [
      "[EWC] base=0.01767 | pen=0 | pen/base=0.000\n"
     ]
    },
    {
     "name": "stderr",
     "output_type": "stream",
     "text": []
    },
    {
     "name": "stdout",
     "output_type": "stream",
     "text": [
      "[EWC] base=0.02398 | pen=0 | pen/base=0.000\n"
     ]
    },
    {
     "name": "stderr",
     "output_type": "stream",
     "text": []
    },
    {
     "name": "stdout",
     "output_type": "stream",
     "text": [
      "[EWC] base=0.01809 | pen=0 | pen/base=0.000\n"
     ]
    },
    {
     "name": "stderr",
     "output_type": "stream",
     "text": []
    },
    {
     "name": "stdout",
     "output_type": "stream",
     "text": [
      "[EWC] base=0.02458 | pen=0 | pen/base=0.000\n"
     ]
    },
    {
     "name": "stderr",
     "output_type": "stream",
     "text": []
    },
    {
     "name": "stdout",
     "output_type": "stream",
     "text": [
      "[EWC] base=0.02292 | pen=0 | pen/base=0.000\n"
     ]
    },
    {
     "name": "stderr",
     "output_type": "stream",
     "text": []
    },
    {
     "name": "stdout",
     "output_type": "stream",
     "text": [
      "[EWC] base=0.01974 | pen=0 | pen/base=0.000\n"
     ]
    },
    {
     "name": "stderr",
     "output_type": "stream",
     "text": []
    },
    {
     "name": "stdout",
     "output_type": "stream",
     "text": [
      "[EWC] base=0.02375 | pen=0 | pen/base=0.000\n"
     ]
    },
    {
     "name": "stderr",
     "output_type": "stream",
     "text": []
    },
    {
     "name": "stdout",
     "output_type": "stream",
     "text": [
      "[EWC] base=0.02232 | pen=0 | pen/base=0.000\n"
     ]
    },
    {
     "name": "stderr",
     "output_type": "stream",
     "text": []
    },
    {
     "name": "stdout",
     "output_type": "stream",
     "text": [
      "[EWC] base=0.02283 | pen=0 | pen/base=0.000\n"
     ]
    },
    {
     "name": "stderr",
     "output_type": "stream",
     "text": []
    },
    {
     "name": "stdout",
     "output_type": "stream",
     "text": [
      "[EWC] base=0.0183 | pen=0 | pen/base=0.000\n"
     ]
    },
    {
     "name": "stderr",
     "output_type": "stream",
     "text": []
    },
    {
     "name": "stdout",
     "output_type": "stream",
     "text": [
      "[EWC] base=0.02163 | pen=0 | pen/base=0.000\n"
     ]
    },
    {
     "name": "stderr",
     "output_type": "stream",
     "text": []
    },
    {
     "name": "stdout",
     "output_type": "stream",
     "text": [
      "[EWC] base=0.02104 | pen=0 | pen/base=0.000\n"
     ]
    },
    {
     "name": "stderr",
     "output_type": "stream",
     "text": []
    },
    {
     "name": "stdout",
     "output_type": "stream",
     "text": [
      "[EWC] base=0.01799 | pen=0 | pen/base=0.000\n"
     ]
    },
    {
     "name": "stderr",
     "output_type": "stream",
     "text": []
    },
    {
     "name": "stdout",
     "output_type": "stream",
     "text": [
      "[TRAIN it/s] epoch 2/8: 2.8 it/s  (3066 iters en 1106.60s)\n"
     ]
    },
    {
     "name": "stderr",
     "output_type": "stream",
     "text": []
    },
    {
     "name": "stdout",
     "output_type": "stream",
     "text": [
      "[EWC] base=0.01374 | pen=0 | pen/base=0.000\n"
     ]
    },
    {
     "name": "stderr",
     "output_type": "stream",
     "text": []
    },
    {
     "name": "stdout",
     "output_type": "stream",
     "text": [
      "[EWC] base=0.02643 | pen=0 | pen/base=0.000\n"
     ]
    },
    {
     "name": "stderr",
     "output_type": "stream",
     "text": []
    },
    {
     "name": "stdout",
     "output_type": "stream",
     "text": [
      "[EWC] base=0.01589 | pen=0 | pen/base=0.000\n"
     ]
    },
    {
     "name": "stderr",
     "output_type": "stream",
     "text": []
    },
    {
     "name": "stdout",
     "output_type": "stream",
     "text": [
      "[EWC] base=0.01723 | pen=0 | pen/base=0.000\n"
     ]
    },
    {
     "name": "stderr",
     "output_type": "stream",
     "text": []
    },
    {
     "name": "stdout",
     "output_type": "stream",
     "text": [
      "[EWC] base=0.02306 | pen=0 | pen/base=0.000\n"
     ]
    },
    {
     "name": "stderr",
     "output_type": "stream",
     "text": []
    },
    {
     "name": "stdout",
     "output_type": "stream",
     "text": [
      "[EWC] base=0.0227 | pen=0 | pen/base=0.000\n"
     ]
    },
    {
     "name": "stderr",
     "output_type": "stream",
     "text": []
    },
    {
     "name": "stdout",
     "output_type": "stream",
     "text": [
      "[EWC] base=0.01671 | pen=0 | pen/base=0.000\n"
     ]
    },
    {
     "name": "stderr",
     "output_type": "stream",
     "text": []
    },
    {
     "name": "stdout",
     "output_type": "stream",
     "text": [
      "[EWC] base=0.0131 | pen=0 | pen/base=0.000\n"
     ]
    },
    {
     "name": "stderr",
     "output_type": "stream",
     "text": []
    },
    {
     "name": "stdout",
     "output_type": "stream",
     "text": [
      "[EWC] base=0.0199 | pen=0 | pen/base=0.000\n"
     ]
    },
    {
     "name": "stderr",
     "output_type": "stream",
     "text": []
    },
    {
     "name": "stdout",
     "output_type": "stream",
     "text": [
      "[EWC] base=0.0201 | pen=0 | pen/base=0.000\n"
     ]
    },
    {
     "name": "stderr",
     "output_type": "stream",
     "text": []
    },
    {
     "name": "stdout",
     "output_type": "stream",
     "text": [
      "[EWC] base=0.01978 | pen=0 | pen/base=0.000\n"
     ]
    },
    {
     "name": "stderr",
     "output_type": "stream",
     "text": []
    },
    {
     "name": "stdout",
     "output_type": "stream",
     "text": [
      "[EWC] base=0.02057 | pen=0 | pen/base=0.000\n"
     ]
    },
    {
     "name": "stderr",
     "output_type": "stream",
     "text": []
    },
    {
     "name": "stdout",
     "output_type": "stream",
     "text": [
      "[EWC] base=0.01921 | pen=0 | pen/base=0.000\n"
     ]
    },
    {
     "name": "stderr",
     "output_type": "stream",
     "text": []
    },
    {
     "name": "stdout",
     "output_type": "stream",
     "text": [
      "[EWC] base=0.01954 | pen=0 | pen/base=0.000\n"
     ]
    },
    {
     "name": "stderr",
     "output_type": "stream",
     "text": []
    },
    {
     "name": "stdout",
     "output_type": "stream",
     "text": [
      "[EWC] base=0.02425 | pen=0 | pen/base=0.000\n"
     ]
    },
    {
     "name": "stderr",
     "output_type": "stream",
     "text": []
    },
    {
     "name": "stdout",
     "output_type": "stream",
     "text": [
      "[EWC] base=0.0169 | pen=0 | pen/base=0.000\n"
     ]
    },
    {
     "name": "stderr",
     "output_type": "stream",
     "text": []
    },
    {
     "name": "stdout",
     "output_type": "stream",
     "text": [
      "[EWC] base=0.01413 | pen=0 | pen/base=0.000\n"
     ]
    },
    {
     "name": "stderr",
     "output_type": "stream",
     "text": []
    },
    {
     "name": "stdout",
     "output_type": "stream",
     "text": [
      "[EWC] base=0.02035 | pen=0 | pen/base=0.000\n"
     ]
    },
    {
     "name": "stderr",
     "output_type": "stream",
     "text": []
    },
    {
     "name": "stdout",
     "output_type": "stream",
     "text": [
      "[EWC] base=0.0231 | pen=0 | pen/base=0.000\n"
     ]
    },
    {
     "name": "stderr",
     "output_type": "stream",
     "text": []
    },
    {
     "name": "stdout",
     "output_type": "stream",
     "text": [
      "[EWC] base=0.0208 | pen=0 | pen/base=0.000\n"
     ]
    },
    {
     "name": "stderr",
     "output_type": "stream",
     "text": []
    },
    {
     "name": "stdout",
     "output_type": "stream",
     "text": [
      "[EWC] base=0.01542 | pen=0 | pen/base=0.000\n"
     ]
    },
    {
     "name": "stderr",
     "output_type": "stream",
     "text": []
    },
    {
     "name": "stdout",
     "output_type": "stream",
     "text": [
      "[EWC] base=0.02088 | pen=0 | pen/base=0.000\n"
     ]
    },
    {
     "name": "stderr",
     "output_type": "stream",
     "text": []
    },
    {
     "name": "stdout",
     "output_type": "stream",
     "text": [
      "[EWC] base=0.01517 | pen=0 | pen/base=0.000\n"
     ]
    },
    {
     "name": "stderr",
     "output_type": "stream",
     "text": []
    },
    {
     "name": "stdout",
     "output_type": "stream",
     "text": [
      "[EWC] base=0.01418 | pen=0 | pen/base=0.000\n"
     ]
    },
    {
     "name": "stderr",
     "output_type": "stream",
     "text": []
    },
    {
     "name": "stdout",
     "output_type": "stream",
     "text": [
      "[EWC] base=0.02129 | pen=0 | pen/base=0.000\n"
     ]
    },
    {
     "name": "stderr",
     "output_type": "stream",
     "text": []
    },
    {
     "name": "stdout",
     "output_type": "stream",
     "text": [
      "[EWC] base=0.01477 | pen=0 | pen/base=0.000\n"
     ]
    },
    {
     "name": "stderr",
     "output_type": "stream",
     "text": []
    },
    {
     "name": "stdout",
     "output_type": "stream",
     "text": [
      "[EWC] base=0.02008 | pen=0 | pen/base=0.000\n"
     ]
    },
    {
     "name": "stderr",
     "output_type": "stream",
     "text": []
    },
    {
     "name": "stdout",
     "output_type": "stream",
     "text": [
      "[EWC] base=0.01667 | pen=0 | pen/base=0.000\n"
     ]
    },
    {
     "name": "stderr",
     "output_type": "stream",
     "text": []
    },
    {
     "name": "stdout",
     "output_type": "stream",
     "text": [
      "[EWC] base=0.01834 | pen=0 | pen/base=0.000\n"
     ]
    },
    {
     "name": "stderr",
     "output_type": "stream",
     "text": []
    },
    {
     "name": "stdout",
     "output_type": "stream",
     "text": [
      "[EWC] base=0.01563 | pen=0 | pen/base=0.000\n"
     ]
    },
    {
     "name": "stderr",
     "output_type": "stream",
     "text": []
    },
    {
     "name": "stdout",
     "output_type": "stream",
     "text": [
      "[TRAIN it/s] epoch 3/8: 2.8 it/s  (3066 iters en 1097.15s)\n"
     ]
    },
    {
     "name": "stderr",
     "output_type": "stream",
     "text": []
    },
    {
     "name": "stdout",
     "output_type": "stream",
     "text": [
      "[EWC] base=0.01732 | pen=0 | pen/base=0.000\n"
     ]
    },
    {
     "name": "stderr",
     "output_type": "stream",
     "text": []
    },
    {
     "name": "stdout",
     "output_type": "stream",
     "text": [
      "[EWC] base=0.01425 | pen=0 | pen/base=0.000\n"
     ]
    },
    {
     "name": "stderr",
     "output_type": "stream",
     "text": []
    },
    {
     "name": "stdout",
     "output_type": "stream",
     "text": [
      "[EWC] base=0.02104 | pen=0 | pen/base=0.000\n"
     ]
    },
    {
     "name": "stderr",
     "output_type": "stream",
     "text": []
    },
    {
     "name": "stdout",
     "output_type": "stream",
     "text": [
      "[EWC] base=0.02031 | pen=0 | pen/base=0.000\n"
     ]
    },
    {
     "name": "stderr",
     "output_type": "stream",
     "text": []
    },
    {
     "name": "stdout",
     "output_type": "stream",
     "text": [
      "[EWC] base=0.01947 | pen=0 | pen/base=0.000\n"
     ]
    },
    {
     "name": "stderr",
     "output_type": "stream",
     "text": []
    },
    {
     "name": "stdout",
     "output_type": "stream",
     "text": [
      "[EWC] base=0.0197 | pen=0 | pen/base=0.000\n"
     ]
    },
    {
     "name": "stderr",
     "output_type": "stream",
     "text": []
    },
    {
     "name": "stdout",
     "output_type": "stream",
     "text": [
      "[EWC] base=0.01852 | pen=0 | pen/base=0.000\n"
     ]
    },
    {
     "name": "stderr",
     "output_type": "stream",
     "text": []
    },
    {
     "name": "stdout",
     "output_type": "stream",
     "text": [
      "[EWC] base=0.02209 | pen=0 | pen/base=0.000\n"
     ]
    },
    {
     "name": "stderr",
     "output_type": "stream",
     "text": []
    },
    {
     "name": "stdout",
     "output_type": "stream",
     "text": [
      "[EWC] base=0.01174 | pen=0 | pen/base=0.000\n"
     ]
    },
    {
     "name": "stderr",
     "output_type": "stream",
     "text": []
    },
    {
     "name": "stdout",
     "output_type": "stream",
     "text": [
      "[EWC] base=0.01727 | pen=0 | pen/base=0.000\n"
     ]
    },
    {
     "name": "stderr",
     "output_type": "stream",
     "text": []
    },
    {
     "name": "stdout",
     "output_type": "stream",
     "text": [
      "[EWC] base=0.02652 | pen=0 | pen/base=0.000\n"
     ]
    },
    {
     "name": "stderr",
     "output_type": "stream",
     "text": []
    },
    {
     "name": "stdout",
     "output_type": "stream",
     "text": [
      "[EWC] base=0.0134 | pen=0 | pen/base=0.000\n"
     ]
    },
    {
     "name": "stderr",
     "output_type": "stream",
     "text": []
    },
    {
     "name": "stdout",
     "output_type": "stream",
     "text": [
      "[EWC] base=0.01879 | pen=0 | pen/base=0.000\n"
     ]
    },
    {
     "name": "stderr",
     "output_type": "stream",
     "text": []
    },
    {
     "name": "stdout",
     "output_type": "stream",
     "text": [
      "[EWC] base=0.01887 | pen=0 | pen/base=0.000\n"
     ]
    },
    {
     "name": "stderr",
     "output_type": "stream",
     "text": []
    },
    {
     "name": "stdout",
     "output_type": "stream",
     "text": [
      "[EWC] base=0.01468 | pen=0 | pen/base=0.000\n"
     ]
    },
    {
     "name": "stderr",
     "output_type": "stream",
     "text": []
    },
    {
     "name": "stdout",
     "output_type": "stream",
     "text": [
      "[EWC] base=0.01372 | pen=0 | pen/base=0.000\n"
     ]
    },
    {
     "name": "stderr",
     "output_type": "stream",
     "text": []
    },
    {
     "name": "stdout",
     "output_type": "stream",
     "text": [
      "[EWC] base=0.01863 | pen=0 | pen/base=0.000\n"
     ]
    },
    {
     "name": "stderr",
     "output_type": "stream",
     "text": []
    },
    {
     "name": "stdout",
     "output_type": "stream",
     "text": [
      "[EWC] base=0.02077 | pen=0 | pen/base=0.000\n"
     ]
    },
    {
     "name": "stderr",
     "output_type": "stream",
     "text": []
    },
    {
     "name": "stdout",
     "output_type": "stream",
     "text": [
      "[EWC] base=0.01717 | pen=0 | pen/base=0.000\n"
     ]
    },
    {
     "name": "stderr",
     "output_type": "stream",
     "text": []
    },
    {
     "name": "stdout",
     "output_type": "stream",
     "text": [
      "[EWC] base=0.0163 | pen=0 | pen/base=0.000\n"
     ]
    },
    {
     "name": "stderr",
     "output_type": "stream",
     "text": []
    },
    {
     "name": "stdout",
     "output_type": "stream",
     "text": [
      "[EWC] base=0.01449 | pen=0 | pen/base=0.000\n"
     ]
    },
    {
     "name": "stderr",
     "output_type": "stream",
     "text": []
    },
    {
     "name": "stdout",
     "output_type": "stream",
     "text": [
      "[EWC] base=0.01487 | pen=0 | pen/base=0.000\n"
     ]
    },
    {
     "name": "stderr",
     "output_type": "stream",
     "text": []
    },
    {
     "name": "stdout",
     "output_type": "stream",
     "text": [
      "[EWC] base=0.01857 | pen=0 | pen/base=0.000\n"
     ]
    },
    {
     "name": "stderr",
     "output_type": "stream",
     "text": []
    },
    {
     "name": "stdout",
     "output_type": "stream",
     "text": [
      "[EWC] base=0.01283 | pen=0 | pen/base=0.000\n"
     ]
    },
    {
     "name": "stderr",
     "output_type": "stream",
     "text": []
    },
    {
     "name": "stdout",
     "output_type": "stream",
     "text": [
      "[EWC] base=0.01698 | pen=0 | pen/base=0.000\n"
     ]
    },
    {
     "name": "stderr",
     "output_type": "stream",
     "text": []
    },
    {
     "name": "stdout",
     "output_type": "stream",
     "text": [
      "[EWC] base=0.01658 | pen=0 | pen/base=0.000\n"
     ]
    },
    {
     "name": "stderr",
     "output_type": "stream",
     "text": []
    },
    {
     "name": "stdout",
     "output_type": "stream",
     "text": [
      "[EWC] base=0.01651 | pen=0 | pen/base=0.000\n"
     ]
    },
    {
     "name": "stderr",
     "output_type": "stream",
     "text": []
    },
    {
     "name": "stdout",
     "output_type": "stream",
     "text": [
      "[EWC] base=0.01463 | pen=0 | pen/base=0.000\n"
     ]
    },
    {
     "name": "stderr",
     "output_type": "stream",
     "text": []
    },
    {
     "name": "stdout",
     "output_type": "stream",
     "text": [
      "[EWC] base=0.02231 | pen=0 | pen/base=0.000\n"
     ]
    },
    {
     "name": "stderr",
     "output_type": "stream",
     "text": []
    },
    {
     "name": "stdout",
     "output_type": "stream",
     "text": [
      "[EWC] base=0.01749 | pen=0 | pen/base=0.000\n"
     ]
    },
    {
     "name": "stderr",
     "output_type": "stream",
     "text": []
    },
    {
     "name": "stdout",
     "output_type": "stream",
     "text": [
      "[EWC] base=0.01829 | pen=0 | pen/base=0.000\n"
     ]
    },
    {
     "name": "stderr",
     "output_type": "stream",
     "text": []
    },
    {
     "name": "stdout",
     "output_type": "stream",
     "text": [
      "[TRAIN it/s] epoch 4/8: 2.8 it/s  (3066 iters en 1101.99s)\n"
     ]
    },
    {
     "name": "stderr",
     "output_type": "stream",
     "text": [
      "\n",
      "Epoch 5/8:   1%|          | 37/3066 [00:14<18:40,  2.70it/s]"
     ]
    },
    {
     "name": "stdout",
     "output_type": "stream",
     "text": [
      "[EWC] base=0.01566 | pen=0 | pen/base=0.000\n"
     ]
    },
    {
     "name": "stderr",
     "output_type": "stream",
     "text": [
      "\u001b[A"
     ]
    },
    {
     "name": "stdout",
     "output_type": "stream",
     "text": [
      "[EWC] base=0.01384 | pen=0 | pen/base=0.000\n"
     ]
    },
    {
     "name": "stderr",
     "output_type": "stream",
     "text": []
    },
    {
     "name": "stdout",
     "output_type": "stream",
     "text": [
      "[EWC] base=0.01372 | pen=0 | pen/base=0.000\n"
     ]
    },
    {
     "name": "stderr",
     "output_type": "stream",
     "text": []
    },
    {
     "name": "stdout",
     "output_type": "stream",
     "text": [
      "[EWC] base=0.01509 | pen=0 | pen/base=0.000\n"
     ]
    },
    {
     "name": "stderr",
     "output_type": "stream",
     "text": []
    },
    {
     "name": "stdout",
     "output_type": "stream",
     "text": [
      "[EWC] base=0.01448 | pen=0 | pen/base=0.000\n"
     ]
    },
    {
     "name": "stderr",
     "output_type": "stream",
     "text": []
    },
    {
     "name": "stdout",
     "output_type": "stream",
     "text": [
      "[EWC] base=0.01735 | pen=0 | pen/base=0.000\n"
     ]
    },
    {
     "name": "stderr",
     "output_type": "stream",
     "text": []
    },
    {
     "name": "stdout",
     "output_type": "stream",
     "text": [
      "[EWC] base=0.01534 | pen=0 | pen/base=0.000\n"
     ]
    },
    {
     "name": "stderr",
     "output_type": "stream",
     "text": []
    },
    {
     "name": "stdout",
     "output_type": "stream",
     "text": [
      "[EWC] base=0.02085 | pen=0 | pen/base=0.000\n"
     ]
    },
    {
     "name": "stderr",
     "output_type": "stream",
     "text": []
    },
    {
     "name": "stdout",
     "output_type": "stream",
     "text": [
      "[EWC] base=0.01737 | pen=0 | pen/base=0.000\n"
     ]
    },
    {
     "name": "stderr",
     "output_type": "stream",
     "text": []
    },
    {
     "name": "stdout",
     "output_type": "stream",
     "text": [
      "[EWC] base=0.01219 | pen=0 | pen/base=0.000\n"
     ]
    },
    {
     "name": "stderr",
     "output_type": "stream",
     "text": []
    },
    {
     "name": "stdout",
     "output_type": "stream",
     "text": [
      "[EWC] base=0.01308 | pen=0 | pen/base=0.000\n"
     ]
    },
    {
     "name": "stderr",
     "output_type": "stream",
     "text": []
    },
    {
     "name": "stdout",
     "output_type": "stream",
     "text": [
      "[EWC] base=0.01776 | pen=0 | pen/base=0.000\n"
     ]
    },
    {
     "name": "stderr",
     "output_type": "stream",
     "text": []
    },
    {
     "name": "stdout",
     "output_type": "stream",
     "text": [
      "[EWC] base=0.01373 | pen=0 | pen/base=0.000\n"
     ]
    },
    {
     "name": "stderr",
     "output_type": "stream",
     "text": []
    },
    {
     "name": "stdout",
     "output_type": "stream",
     "text": [
      "[EWC] base=0.01226 | pen=0 | pen/base=0.000\n"
     ]
    },
    {
     "name": "stderr",
     "output_type": "stream",
     "text": [
      "\n"
     ]
    },
    {
     "name": "stdout",
     "output_type": "stream",
     "text": [
      "[EWC] base=0.01443 | pen=0 | pen/base=0.000\n"
     ]
    },
    {
     "name": "stderr",
     "output_type": "stream",
     "text": [
      "Epoch 5/8:  47%|████▋     | 1437/3066 [08:40<10:21,  2.62it/s]\u001b[A"
     ]
    },
    {
     "name": "stdout",
     "output_type": "stream",
     "text": [
      "[EWC] base=0.008719 | pen=0 | pen/base=0.000\n"
     ]
    },
    {
     "name": "stderr",
     "output_type": "stream",
     "text": []
    },
    {
     "name": "stdout",
     "output_type": "stream",
     "text": [
      "[EWC] base=0.009609 | pen=0 | pen/base=0.000\n"
     ]
    },
    {
     "name": "stderr",
     "output_type": "stream",
     "text": []
    },
    {
     "name": "stdout",
     "output_type": "stream",
     "text": [
      "[EWC] base=0.01523 | pen=0 | pen/base=0.000\n"
     ]
    },
    {
     "name": "stderr",
     "output_type": "stream",
     "text": []
    },
    {
     "name": "stdout",
     "output_type": "stream",
     "text": [
      "[EWC] base=0.01685 | pen=0 | pen/base=0.000\n"
     ]
    },
    {
     "name": "stderr",
     "output_type": "stream",
     "text": []
    },
    {
     "name": "stdout",
     "output_type": "stream",
     "text": [
      "[EWC] base=0.01553 | pen=0 | pen/base=0.000\n"
     ]
    },
    {
     "name": "stderr",
     "output_type": "stream",
     "text": []
    },
    {
     "name": "stdout",
     "output_type": "stream",
     "text": [
      "[EWC] base=0.01339 | pen=0 | pen/base=0.000\n"
     ]
    },
    {
     "name": "stderr",
     "output_type": "stream",
     "text": []
    },
    {
     "name": "stdout",
     "output_type": "stream",
     "text": [
      "[EWC] base=0.01701 | pen=0 | pen/base=0.000\n"
     ]
    },
    {
     "name": "stderr",
     "output_type": "stream",
     "text": []
    },
    {
     "name": "stdout",
     "output_type": "stream",
     "text": [
      "[EWC] base=0.01263 | pen=0 | pen/base=0.000\n"
     ]
    },
    {
     "name": "stderr",
     "output_type": "stream",
     "text": []
    },
    {
     "name": "stdout",
     "output_type": "stream",
     "text": [
      "[EWC] base=0.01623 | pen=0 | pen/base=0.000\n"
     ]
    },
    {
     "name": "stderr",
     "output_type": "stream",
     "text": []
    },
    {
     "name": "stdout",
     "output_type": "stream",
     "text": [
      "[EWC] base=0.0197 | pen=0 | pen/base=0.000\n"
     ]
    },
    {
     "name": "stderr",
     "output_type": "stream",
     "text": []
    },
    {
     "name": "stdout",
     "output_type": "stream",
     "text": [
      "[EWC] base=0.01725 | pen=0 | pen/base=0.000\n"
     ]
    },
    {
     "name": "stderr",
     "output_type": "stream",
     "text": []
    },
    {
     "name": "stdout",
     "output_type": "stream",
     "text": [
      "[EWC] base=0.01828 | pen=0 | pen/base=0.000\n"
     ]
    },
    {
     "name": "stderr",
     "output_type": "stream",
     "text": []
    },
    {
     "name": "stdout",
     "output_type": "stream",
     "text": [
      "[EWC] base=0.0172 | pen=0 | pen/base=0.000\n"
     ]
    },
    {
     "name": "stderr",
     "output_type": "stream",
     "text": []
    },
    {
     "name": "stdout",
     "output_type": "stream",
     "text": [
      "[EWC] base=0.01982 | pen=0 | pen/base=0.000\n"
     ]
    },
    {
     "name": "stderr",
     "output_type": "stream",
     "text": []
    },
    {
     "name": "stdout",
     "output_type": "stream",
     "text": [
      "[EWC] base=0.01689 | pen=0 | pen/base=0.000\n"
     ]
    },
    {
     "name": "stderr",
     "output_type": "stream",
     "text": []
    },
    {
     "name": "stdout",
     "output_type": "stream",
     "text": [
      "[EWC] base=0.01218 | pen=0 | pen/base=0.000\n"
     ]
    },
    {
     "name": "stderr",
     "output_type": "stream",
     "text": []
    },
    {
     "name": "stdout",
     "output_type": "stream",
     "text": [
      "[TRAIN it/s] epoch 5/8: 2.8 it/s  (3066 iters en 1101.11s)\n"
     ]
    },
    {
     "name": "stderr",
     "output_type": "stream",
     "text": []
    },
    {
     "name": "stdout",
     "output_type": "stream",
     "text": [
      "[EWC] base=0.01283 | pen=0 | pen/base=0.000\n"
     ]
    },
    {
     "name": "stderr",
     "output_type": "stream",
     "text": []
    },
    {
     "name": "stdout",
     "output_type": "stream",
     "text": [
      "[EWC] base=0.01315 | pen=0 | pen/base=0.000\n"
     ]
    },
    {
     "name": "stderr",
     "output_type": "stream",
     "text": []
    },
    {
     "name": "stdout",
     "output_type": "stream",
     "text": [
      "[EWC] base=0.01094 | pen=0 | pen/base=0.000\n"
     ]
    },
    {
     "name": "stderr",
     "output_type": "stream",
     "text": []
    },
    {
     "name": "stdout",
     "output_type": "stream",
     "text": [
      "[EWC] base=0.01535 | pen=0 | pen/base=0.000\n"
     ]
    },
    {
     "name": "stderr",
     "output_type": "stream",
     "text": []
    },
    {
     "name": "stdout",
     "output_type": "stream",
     "text": [
      "[EWC] base=0.0173 | pen=0 | pen/base=0.000\n"
     ]
    },
    {
     "name": "stderr",
     "output_type": "stream",
     "text": []
    },
    {
     "name": "stdout",
     "output_type": "stream",
     "text": [
      "[EWC] base=0.01753 | pen=0 | pen/base=0.000\n"
     ]
    },
    {
     "name": "stderr",
     "output_type": "stream",
     "text": []
    },
    {
     "name": "stdout",
     "output_type": "stream",
     "text": [
      "[EWC] base=0.01146 | pen=0 | pen/base=0.000\n"
     ]
    },
    {
     "name": "stderr",
     "output_type": "stream",
     "text": []
    },
    {
     "name": "stdout",
     "output_type": "stream",
     "text": [
      "[EWC] base=0.01317 | pen=0 | pen/base=0.000\n"
     ]
    },
    {
     "name": "stderr",
     "output_type": "stream",
     "text": []
    },
    {
     "name": "stdout",
     "output_type": "stream",
     "text": [
      "[EWC] base=0.01377 | pen=0 | pen/base=0.000\n"
     ]
    },
    {
     "name": "stderr",
     "output_type": "stream",
     "text": []
    },
    {
     "name": "stdout",
     "output_type": "stream",
     "text": [
      "[EWC] base=0.01376 | pen=0 | pen/base=0.000\n"
     ]
    },
    {
     "name": "stderr",
     "output_type": "stream",
     "text": []
    },
    {
     "name": "stdout",
     "output_type": "stream",
     "text": [
      "[EWC] base=0.01232 | pen=0 | pen/base=0.000\n"
     ]
    },
    {
     "name": "stderr",
     "output_type": "stream",
     "text": []
    },
    {
     "name": "stdout",
     "output_type": "stream",
     "text": [
      "[EWC] base=0.01165 | pen=0 | pen/base=0.000\n"
     ]
    },
    {
     "name": "stderr",
     "output_type": "stream",
     "text": []
    },
    {
     "name": "stdout",
     "output_type": "stream",
     "text": [
      "[EWC] base=0.01174 | pen=0 | pen/base=0.000\n"
     ]
    },
    {
     "name": "stderr",
     "output_type": "stream",
     "text": []
    },
    {
     "name": "stdout",
     "output_type": "stream",
     "text": [
      "[EWC] base=0.01146 | pen=0 | pen/base=0.000\n"
     ]
    },
    {
     "name": "stderr",
     "output_type": "stream",
     "text": []
    },
    {
     "name": "stdout",
     "output_type": "stream",
     "text": [
      "[EWC] base=0.01068 | pen=0 | pen/base=0.000\n"
     ]
    },
    {
     "name": "stderr",
     "output_type": "stream",
     "text": []
    },
    {
     "name": "stdout",
     "output_type": "stream",
     "text": [
      "[EWC] base=0.01141 | pen=0 | pen/base=0.000\n"
     ]
    },
    {
     "name": "stderr",
     "output_type": "stream",
     "text": []
    },
    {
     "name": "stdout",
     "output_type": "stream",
     "text": [
      "[EWC] base=0.01607 | pen=0 | pen/base=0.000\n"
     ]
    },
    {
     "name": "stderr",
     "output_type": "stream",
     "text": []
    },
    {
     "name": "stdout",
     "output_type": "stream",
     "text": [
      "[EWC] base=0.02005 | pen=0 | pen/base=0.000\n"
     ]
    },
    {
     "name": "stderr",
     "output_type": "stream",
     "text": []
    },
    {
     "name": "stdout",
     "output_type": "stream",
     "text": [
      "[EWC] base=0.01497 | pen=0 | pen/base=0.000\n"
     ]
    },
    {
     "name": "stderr",
     "output_type": "stream",
     "text": []
    },
    {
     "name": "stdout",
     "output_type": "stream",
     "text": [
      "[EWC] base=0.01043 | pen=0 | pen/base=0.000\n"
     ]
    },
    {
     "name": "stderr",
     "output_type": "stream",
     "text": []
    },
    {
     "name": "stdout",
     "output_type": "stream",
     "text": [
      "[EWC] base=0.009352 | pen=0 | pen/base=0.000\n"
     ]
    },
    {
     "name": "stderr",
     "output_type": "stream",
     "text": []
    },
    {
     "name": "stdout",
     "output_type": "stream",
     "text": [
      "[EWC] base=0.01633 | pen=0 | pen/base=0.000\n"
     ]
    },
    {
     "name": "stderr",
     "output_type": "stream",
     "text": []
    },
    {
     "name": "stdout",
     "output_type": "stream",
     "text": [
      "[EWC] base=0.01337 | pen=0 | pen/base=0.000\n"
     ]
    },
    {
     "name": "stderr",
     "output_type": "stream",
     "text": []
    },
    {
     "name": "stdout",
     "output_type": "stream",
     "text": [
      "[EWC] base=0.01381 | pen=0 | pen/base=0.000\n"
     ]
    },
    {
     "name": "stderr",
     "output_type": "stream",
     "text": []
    },
    {
     "name": "stdout",
     "output_type": "stream",
     "text": [
      "[EWC] base=0.015 | pen=0 | pen/base=0.000\n"
     ]
    },
    {
     "name": "stderr",
     "output_type": "stream",
     "text": []
    },
    {
     "name": "stdout",
     "output_type": "stream",
     "text": [
      "[EWC] base=0.01067 | pen=0 | pen/base=0.000\n"
     ]
    },
    {
     "name": "stderr",
     "output_type": "stream",
     "text": []
    },
    {
     "name": "stdout",
     "output_type": "stream",
     "text": [
      "[EWC] base=0.01751 | pen=0 | pen/base=0.000\n"
     ]
    },
    {
     "name": "stderr",
     "output_type": "stream",
     "text": []
    },
    {
     "name": "stdout",
     "output_type": "stream",
     "text": [
      "[EWC] base=0.01211 | pen=0 | pen/base=0.000\n"
     ]
    },
    {
     "name": "stderr",
     "output_type": "stream",
     "text": []
    },
    {
     "name": "stdout",
     "output_type": "stream",
     "text": [
      "[EWC] base=0.01052 | pen=0 | pen/base=0.000\n"
     ]
    },
    {
     "name": "stderr",
     "output_type": "stream",
     "text": []
    },
    {
     "name": "stdout",
     "output_type": "stream",
     "text": [
      "[EWC] base=0.01091 | pen=0 | pen/base=0.000\n"
     ]
    },
    {
     "name": "stderr",
     "output_type": "stream",
     "text": []
    },
    {
     "name": "stdout",
     "output_type": "stream",
     "text": [
      "[TRAIN it/s] epoch 6/8: 2.8 it/s  (3066 iters en 1095.83s)\n",
      "[EWC] after_task: estimando Fisher en TRAIN (len=3066), cap=500...\n",
      "[EWC] Fisher listo: batches_usados=500 | sum=2.395e-01 | max=6.944e-02\n",
      "\n",
      "--- Tarea 2/2: circuito2 | preset=std | method=ewc_lam_4e+08 | B=96 T=16 AMP=True | enc=rate ---\n"
     ]
    },
    {
     "name": "stderr",
     "output_type": "stream",
     "text": []
    },
    {
     "name": "stdout",
     "output_type": "stream",
     "text": [
      "[EWC] base=0.2466 | pen=0 | pen/base=0.000\n"
     ]
    },
    {
     "name": "stderr",
     "output_type": "stream",
     "text": []
    },
    {
     "name": "stdout",
     "output_type": "stream",
     "text": [
      "[EWC] base=0.1862 | pen=0.1228 | pen/base=0.660 | λ_actual=4.000e+08 → λ_sugerido≈6.062e+08 (target pen/base=1.0)\n"
     ]
    },
    {
     "name": "stderr",
     "output_type": "stream",
     "text": []
    },
    {
     "name": "stdout",
     "output_type": "stream",
     "text": [
      "[EWC] base=0.1598 | pen=0.03274 | pen/base=0.205 | λ_actual=4.000e+08 → λ_sugerido≈1.952e+09 (target pen/base=1.0)\n"
     ]
    },
    {
     "name": "stderr",
     "output_type": "stream",
     "text": []
    },
    {
     "name": "stdout",
     "output_type": "stream",
     "text": [
      "[EWC] base=0.1317 | pen=0.02619 | pen/base=0.199 | λ_actual=4.000e+08 → λ_sugerido≈2.011e+09 (target pen/base=1.0)\n"
     ]
    },
    {
     "name": "stderr",
     "output_type": "stream",
     "text": []
    },
    {
     "name": "stdout",
     "output_type": "stream",
     "text": [
      "[EWC] base=0.1261 | pen=0.01152 | pen/base=0.091 | λ_actual=4.000e+08 → λ_sugerido≈4.380e+09 (target pen/base=1.0)\n"
     ]
    },
    {
     "name": "stderr",
     "output_type": "stream",
     "text": []
    },
    {
     "name": "stdout",
     "output_type": "stream",
     "text": [
      "[EWC] base=0.09162 | pen=0.1304 | pen/base=1.423 | λ_actual=4.000e+08 → λ_sugerido≈2.811e+08 (target pen/base=1.0)\n"
     ]
    },
    {
     "name": "stderr",
     "output_type": "stream",
     "text": []
    },
    {
     "name": "stdout",
     "output_type": "stream",
     "text": [
      "[EWC] base=0.1013 | pen=0.02514 | pen/base=0.248 | λ_actual=4.000e+08 → λ_sugerido≈1.612e+09 (target pen/base=1.0)\n"
     ]
    },
    {
     "name": "stderr",
     "output_type": "stream",
     "text": []
    },
    {
     "name": "stdout",
     "output_type": "stream",
     "text": [
      "[EWC] base=0.09069 | pen=0.02294 | pen/base=0.253 | λ_actual=4.000e+08 → λ_sugerido≈1.581e+09 (target pen/base=1.0)\n"
     ]
    },
    {
     "name": "stderr",
     "output_type": "stream",
     "text": []
    },
    {
     "name": "stdout",
     "output_type": "stream",
     "text": [
      "[EWC] base=0.07846 | pen=0.3171 | pen/base=4.042 | λ_actual=4.000e+08 → λ_sugerido≈9.897e+07 (target pen/base=1.0)\n"
     ]
    },
    {
     "name": "stderr",
     "output_type": "stream",
     "text": []
    },
    {
     "name": "stdout",
     "output_type": "stream",
     "text": [
      "[EWC] base=0.09595 | pen=0.02068 | pen/base=0.216 | λ_actual=4.000e+08 → λ_sugerido≈1.856e+09 (target pen/base=1.0)\n"
     ]
    },
    {
     "name": "stderr",
     "output_type": "stream",
     "text": [
      "\n",
      "Epoch 1/8:  99%|█████████▉| 1001/1011 [06:19<00:03,  2.72it/s]"
     ]
    },
    {
     "name": "stdout",
     "output_type": "stream",
     "text": [
      "[EWC] base=0.07672 | pen=0.0201 | pen/base=0.262 | λ_actual=4.000e+08 → λ_sugerido≈1.527e+09 (target pen/base=1.0)\n"
     ]
    },
    {
     "name": "stderr",
     "output_type": "stream",
     "text": [
      "\u001b[A"
     ]
    },
    {
     "name": "stdout",
     "output_type": "stream",
     "text": [
      "[TRAIN it/s] epoch 1/8: 2.6 it/s  (1011 iters en 383.02s)\n"
     ]
    },
    {
     "name": "stderr",
     "output_type": "stream",
     "text": []
    },
    {
     "name": "stdout",
     "output_type": "stream",
     "text": [
      "[EWC] base=0.07267 | pen=0.5058 | pen/base=6.960 | λ_actual=4.000e+08 → λ_sugerido≈5.747e+07 (target pen/base=1.0)\n"
     ]
    },
    {
     "name": "stderr",
     "output_type": "stream",
     "text": []
    },
    {
     "name": "stdout",
     "output_type": "stream",
     "text": [
      "[EWC] base=0.08149 | pen=0.1842 | pen/base=2.260 | λ_actual=4.000e+08 → λ_sugerido≈1.770e+08 (target pen/base=1.0)\n"
     ]
    },
    {
     "name": "stderr",
     "output_type": "stream",
     "text": []
    },
    {
     "name": "stdout",
     "output_type": "stream",
     "text": [
      "[EWC] base=0.07544 | pen=0.05285 | pen/base=0.701 | λ_actual=4.000e+08 → λ_sugerido≈5.710e+08 (target pen/base=1.0)\n"
     ]
    },
    {
     "name": "stderr",
     "output_type": "stream",
     "text": []
    },
    {
     "name": "stdout",
     "output_type": "stream",
     "text": [
      "[EWC] base=0.08108 | pen=0.0309 | pen/base=0.381 | λ_actual=4.000e+08 → λ_sugerido≈1.050e+09 (target pen/base=1.0)\n"
     ]
    },
    {
     "name": "stderr",
     "output_type": "stream",
     "text": []
    },
    {
     "name": "stdout",
     "output_type": "stream",
     "text": [
      "[EWC] base=0.07742 | pen=0.04017 | pen/base=0.519 | λ_actual=4.000e+08 → λ_sugerido≈7.709e+08 (target pen/base=1.0)\n"
     ]
    },
    {
     "name": "stderr",
     "output_type": "stream",
     "text": [
      "\n",
      "Epoch 2/8:  58%|█████▊    | 590/1011 [03:39<02:35,  2.71it/s]"
     ]
    },
    {
     "name": "stdout",
     "output_type": "stream",
     "text": [
      "[EWC] base=0.07675 | pen=0.05581 | pen/base=0.727 | λ_actual=4.000e+08 → λ_sugerido≈5.500e+08 (target pen/base=1.0)\n"
     ]
    },
    {
     "name": "stderr",
     "output_type": "stream",
     "text": [
      "\u001b[A"
     ]
    },
    {
     "name": "stdout",
     "output_type": "stream",
     "text": [
      "[EWC] base=0.05747 | pen=0.0369 | pen/base=0.642 | λ_actual=4.000e+08 → λ_sugerido≈6.229e+08 (target pen/base=1.0)\n"
     ]
    },
    {
     "name": "stderr",
     "output_type": "stream",
     "text": []
    },
    {
     "name": "stdout",
     "output_type": "stream",
     "text": [
      "[EWC] base=0.09129 | pen=0.03375 | pen/base=0.370 | λ_actual=4.000e+08 → λ_sugerido≈1.082e+09 (target pen/base=1.0)\n"
     ]
    },
    {
     "name": "stderr",
     "output_type": "stream",
     "text": []
    },
    {
     "name": "stdout",
     "output_type": "stream",
     "text": [
      "[EWC] base=0.06288 | pen=0.03124 | pen/base=0.497 | λ_actual=4.000e+08 → λ_sugerido≈8.052e+08 (target pen/base=1.0)\n"
     ]
    },
    {
     "name": "stderr",
     "output_type": "stream",
     "text": []
    },
    {
     "name": "stdout",
     "output_type": "stream",
     "text": [
      "[EWC] base=0.0816 | pen=0.02947 | pen/base=0.361 | λ_actual=4.000e+08 → λ_sugerido≈1.107e+09 (target pen/base=1.0)\n"
     ]
    },
    {
     "name": "stderr",
     "output_type": "stream",
     "text": []
    },
    {
     "name": "stdout",
     "output_type": "stream",
     "text": [
      "[TRAIN it/s] epoch 2/8: 2.7 it/s  (1011 iters en 378.00s)\n"
     ]
    },
    {
     "name": "stderr",
     "output_type": "stream",
     "text": []
    },
    {
     "name": "stdout",
     "output_type": "stream",
     "text": [
      "[EWC] base=0.08258 | pen=0.02659 | pen/base=0.322 | λ_actual=4.000e+08 → λ_sugerido≈1.242e+09 (target pen/base=1.0)\n"
     ]
    },
    {
     "name": "stderr",
     "output_type": "stream",
     "text": []
    },
    {
     "name": "stdout",
     "output_type": "stream",
     "text": [
      "[EWC] base=0.07024 | pen=0.02586 | pen/base=0.368 | λ_actual=4.000e+08 → λ_sugerido≈1.086e+09 (target pen/base=1.0)\n"
     ]
    },
    {
     "name": "stderr",
     "output_type": "stream",
     "text": []
    },
    {
     "name": "stdout",
     "output_type": "stream",
     "text": [
      "[EWC] base=0.06838 | pen=0.0251 | pen/base=0.367 | λ_actual=4.000e+08 → λ_sugerido≈1.090e+09 (target pen/base=1.0)\n"
     ]
    },
    {
     "name": "stderr",
     "output_type": "stream",
     "text": []
    },
    {
     "name": "stdout",
     "output_type": "stream",
     "text": [
      "[EWC] base=0.07523 | pen=0.2006 | pen/base=2.666 | λ_actual=4.000e+08 → λ_sugerido≈1.500e+08 (target pen/base=1.0)\n"
     ]
    },
    {
     "name": "stderr",
     "output_type": "stream",
     "text": []
    },
    {
     "name": "stdout",
     "output_type": "stream",
     "text": [
      "[EWC] base=0.07104 | pen=0.03426 | pen/base=0.482 | λ_actual=4.000e+08 → λ_sugerido≈8.294e+08 (target pen/base=1.0)\n"
     ]
    },
    {
     "name": "stderr",
     "output_type": "stream",
     "text": []
    },
    {
     "name": "stdout",
     "output_type": "stream",
     "text": [
      "[EWC] base=0.06415 | pen=0.02682 | pen/base=0.418 | λ_actual=4.000e+08 → λ_sugerido≈9.568e+08 (target pen/base=1.0)\n"
     ]
    },
    {
     "name": "stderr",
     "output_type": "stream",
     "text": []
    },
    {
     "name": "stdout",
     "output_type": "stream",
     "text": [
      "[EWC] base=0.07701 | pen=0.02394 | pen/base=0.311 | λ_actual=4.000e+08 → λ_sugerido≈1.287e+09 (target pen/base=1.0)\n"
     ]
    },
    {
     "name": "stderr",
     "output_type": "stream",
     "text": []
    },
    {
     "name": "stdout",
     "output_type": "stream",
     "text": [
      "[EWC] base=0.0779 | pen=0.02336 | pen/base=0.300 | λ_actual=4.000e+08 → λ_sugerido≈1.334e+09 (target pen/base=1.0)\n"
     ]
    },
    {
     "name": "stderr",
     "output_type": "stream",
     "text": []
    },
    {
     "name": "stdout",
     "output_type": "stream",
     "text": [
      "[EWC] base=0.06957 | pen=0.02292 | pen/base=0.329 | λ_actual=4.000e+08 → λ_sugerido≈1.214e+09 (target pen/base=1.0)\n"
     ]
    },
    {
     "name": "stderr",
     "output_type": "stream",
     "text": []
    },
    {
     "name": "stdout",
     "output_type": "stream",
     "text": [
      "[EWC] base=0.07433 | pen=0.02363 | pen/base=0.318 | λ_actual=4.000e+08 → λ_sugerido≈1.258e+09 (target pen/base=1.0)\n"
     ]
    },
    {
     "name": "stderr",
     "output_type": "stream",
     "text": []
    },
    {
     "name": "stdout",
     "output_type": "stream",
     "text": [
      "[TRAIN it/s] epoch 3/8: 2.7 it/s  (1011 iters en 376.42s)\n"
     ]
    },
    {
     "name": "stderr",
     "output_type": "stream",
     "text": []
    },
    {
     "name": "stdout",
     "output_type": "stream",
     "text": [
      "[EWC] base=0.0609 | pen=0.02644 | pen/base=0.434 | λ_actual=4.000e+08 → λ_sugerido≈9.214e+08 (target pen/base=1.0)\n"
     ]
    },
    {
     "name": "stderr",
     "output_type": "stream",
     "text": []
    },
    {
     "name": "stdout",
     "output_type": "stream",
     "text": [
      "[EWC] base=0.06265 | pen=0.1035 | pen/base=1.651 | λ_actual=4.000e+08 → λ_sugerido≈2.422e+08 (target pen/base=1.0)\n"
     ]
    },
    {
     "name": "stderr",
     "output_type": "stream",
     "text": []
    },
    {
     "name": "stdout",
     "output_type": "stream",
     "text": [
      "[EWC] base=0.05773 | pen=0.0619 | pen/base=1.072 | λ_actual=4.000e+08 → λ_sugerido≈3.730e+08 (target pen/base=1.0)\n"
     ]
    },
    {
     "name": "stderr",
     "output_type": "stream",
     "text": []
    },
    {
     "name": "stdout",
     "output_type": "stream",
     "text": [
      "[EWC] base=0.04406 | pen=0.04452 | pen/base=1.010 | λ_actual=4.000e+08 → λ_sugerido≈3.959e+08 (target pen/base=1.0)\n"
     ]
    },
    {
     "name": "stderr",
     "output_type": "stream",
     "text": []
    },
    {
     "name": "stdout",
     "output_type": "stream",
     "text": [
      "[EWC] base=0.06111 | pen=0.1021 | pen/base=1.672 | λ_actual=4.000e+08 → λ_sugerido≈2.393e+08 (target pen/base=1.0)\n"
     ]
    },
    {
     "name": "stderr",
     "output_type": "stream",
     "text": []
    },
    {
     "name": "stdout",
     "output_type": "stream",
     "text": [
      "[EWC] base=0.06028 | pen=0.3672 | pen/base=6.092 | λ_actual=4.000e+08 → λ_sugerido≈6.566e+07 (target pen/base=1.0)\n"
     ]
    },
    {
     "name": "stderr",
     "output_type": "stream",
     "text": []
    },
    {
     "name": "stdout",
     "output_type": "stream",
     "text": [
      "[EWC] base=0.06007 | pen=0.1119 | pen/base=1.863 | λ_actual=4.000e+08 → λ_sugerido≈2.147e+08 (target pen/base=1.0)\n"
     ]
    },
    {
     "name": "stderr",
     "output_type": "stream",
     "text": []
    },
    {
     "name": "stdout",
     "output_type": "stream",
     "text": [
      "[EWC] base=0.05413 | pen=0.1554 | pen/base=2.872 | λ_actual=4.000e+08 → λ_sugerido≈1.393e+08 (target pen/base=1.0)\n"
     ]
    },
    {
     "name": "stderr",
     "output_type": "stream",
     "text": []
    },
    {
     "name": "stdout",
     "output_type": "stream",
     "text": [
      "[EWC] base=0.03914 | pen=0.03767 | pen/base=0.962 | λ_actual=4.000e+08 → λ_sugerido≈4.156e+08 (target pen/base=1.0)\n"
     ]
    },
    {
     "name": "stderr",
     "output_type": "stream",
     "text": []
    },
    {
     "name": "stdout",
     "output_type": "stream",
     "text": [
      "[EWC] base=0.05832 | pen=0.03155 | pen/base=0.541 | λ_actual=4.000e+08 → λ_sugerido≈7.395e+08 (target pen/base=1.0)\n"
     ]
    },
    {
     "name": "stderr",
     "output_type": "stream",
     "text": []
    },
    {
     "name": "stdout",
     "output_type": "stream",
     "text": [
      "[TRAIN it/s] epoch 4/8: 2.7 it/s  (1011 iters en 370.21s)\n"
     ]
    },
    {
     "name": "stderr",
     "output_type": "stream",
     "text": []
    },
    {
     "name": "stdout",
     "output_type": "stream",
     "text": [
      "[EWC] base=0.06926 | pen=0.03305 | pen/base=0.477 | λ_actual=4.000e+08 → λ_sugerido≈8.381e+08 (target pen/base=1.0)\n"
     ]
    },
    {
     "name": "stderr",
     "output_type": "stream",
     "text": []
    },
    {
     "name": "stdout",
     "output_type": "stream",
     "text": [
      "[EWC] base=0.06541 | pen=0.4343 | pen/base=6.640 | λ_actual=4.000e+08 → λ_sugerido≈6.024e+07 (target pen/base=1.0)\n"
     ]
    },
    {
     "name": "stderr",
     "output_type": "stream",
     "text": []
    },
    {
     "name": "stdout",
     "output_type": "stream",
     "text": [
      "[EWC] base=0.05662 | pen=0.04905 | pen/base=0.866 | λ_actual=4.000e+08 → λ_sugerido≈4.618e+08 (target pen/base=1.0)\n"
     ]
    },
    {
     "name": "stderr",
     "output_type": "stream",
     "text": []
    },
    {
     "name": "stdout",
     "output_type": "stream",
     "text": [
      "[EWC] base=0.0545 | pen=0.04336 | pen/base=0.796 | λ_actual=4.000e+08 → λ_sugerido≈5.028e+08 (target pen/base=1.0)\n"
     ]
    },
    {
     "name": "stderr",
     "output_type": "stream",
     "text": []
    },
    {
     "name": "stdout",
     "output_type": "stream",
     "text": [
      "[EWC] base=0.05457 | pen=0.03939 | pen/base=0.722 | λ_actual=4.000e+08 → λ_sugerido≈5.541e+08 (target pen/base=1.0)\n"
     ]
    },
    {
     "name": "stderr",
     "output_type": "stream",
     "text": []
    },
    {
     "name": "stdout",
     "output_type": "stream",
     "text": [
      "[EWC] base=0.06292 | pen=0.03638 | pen/base=0.578 | λ_actual=4.000e+08 → λ_sugerido≈6.918e+08 (target pen/base=1.0)\n"
     ]
    },
    {
     "name": "stderr",
     "output_type": "stream",
     "text": []
    },
    {
     "name": "stdout",
     "output_type": "stream",
     "text": [
      "[EWC] base=0.06308 | pen=0.03395 | pen/base=0.538 | λ_actual=4.000e+08 → λ_sugerido≈7.431e+08 (target pen/base=1.0)\n"
     ]
    },
    {
     "name": "stderr",
     "output_type": "stream",
     "text": []
    },
    {
     "name": "stdout",
     "output_type": "stream",
     "text": [
      "[EWC] base=0.04928 | pen=0.03208 | pen/base=0.651 | λ_actual=4.000e+08 → λ_sugerido≈6.145e+08 (target pen/base=1.0)\n"
     ]
    },
    {
     "name": "stderr",
     "output_type": "stream",
     "text": []
    },
    {
     "name": "stdout",
     "output_type": "stream",
     "text": [
      "[EWC] base=0.05794 | pen=0.03055 | pen/base=0.527 | λ_actual=4.000e+08 → λ_sugerido≈7.587e+08 (target pen/base=1.0)\n"
     ]
    },
    {
     "name": "stderr",
     "output_type": "stream",
     "text": []
    },
    {
     "name": "stdout",
     "output_type": "stream",
     "text": [
      "[EWC] base=0.05119 | pen=0.02934 | pen/base=0.573 | λ_actual=4.000e+08 → λ_sugerido≈6.978e+08 (target pen/base=1.0)\n"
     ]
    },
    {
     "name": "stderr",
     "output_type": "stream",
     "text": []
    },
    {
     "name": "stdout",
     "output_type": "stream",
     "text": [
      "[TRAIN it/s] epoch 5/8: 2.7 it/s  (1011 iters en 373.93s)\n"
     ]
    },
    {
     "name": "stderr",
     "output_type": "stream",
     "text": []
    },
    {
     "name": "stdout",
     "output_type": "stream",
     "text": [
      "[EWC] base=0.07065 | pen=0.02827 | pen/base=0.400 | λ_actual=4.000e+08 → λ_sugerido≈9.996e+08 (target pen/base=1.0)\n"
     ]
    },
    {
     "name": "stderr",
     "output_type": "stream",
     "text": []
    },
    {
     "name": "stdout",
     "output_type": "stream",
     "text": [
      "[EWC] base=0.0643 | pen=0.02728 | pen/base=0.424 | λ_actual=4.000e+08 → λ_sugerido≈9.430e+08 (target pen/base=1.0)\n"
     ]
    },
    {
     "name": "stderr",
     "output_type": "stream",
     "text": []
    },
    {
     "name": "stdout",
     "output_type": "stream",
     "text": [
      "[EWC] base=0.05156 | pen=0.03288 | pen/base=0.638 | λ_actual=4.000e+08 → λ_sugerido≈6.273e+08 (target pen/base=1.0)\n"
     ]
    },
    {
     "name": "stderr",
     "output_type": "stream",
     "text": []
    },
    {
     "name": "stdout",
     "output_type": "stream",
     "text": [
      "[EWC] base=0.06342 | pen=0.4244 | pen/base=6.691 | λ_actual=4.000e+08 → λ_sugerido≈5.978e+07 (target pen/base=1.0)\n"
     ]
    },
    {
     "name": "stderr",
     "output_type": "stream",
     "text": []
    },
    {
     "name": "stdout",
     "output_type": "stream",
     "text": [
      "[EWC] base=0.05164 | pen=0.1455 | pen/base=2.817 | λ_actual=4.000e+08 → λ_sugerido≈1.420e+08 (target pen/base=1.0)\n"
     ]
    },
    {
     "name": "stderr",
     "output_type": "stream",
     "text": []
    },
    {
     "name": "stdout",
     "output_type": "stream",
     "text": [
      "[EWC] base=0.06452 | pen=0.05041 | pen/base=0.781 | λ_actual=4.000e+08 → λ_sugerido≈5.120e+08 (target pen/base=1.0)\n"
     ]
    },
    {
     "name": "stderr",
     "output_type": "stream",
     "text": []
    },
    {
     "name": "stdout",
     "output_type": "stream",
     "text": [
      "[EWC] base=0.05511 | pen=0.03836 | pen/base=0.696 | λ_actual=4.000e+08 → λ_sugerido≈5.747e+08 (target pen/base=1.0)\n"
     ]
    },
    {
     "name": "stderr",
     "output_type": "stream",
     "text": []
    },
    {
     "name": "stdout",
     "output_type": "stream",
     "text": [
      "[EWC] base=0.0556 | pen=0.03573 | pen/base=0.643 | λ_actual=4.000e+08 → λ_sugerido≈6.225e+08 (target pen/base=1.0)\n"
     ]
    },
    {
     "name": "stderr",
     "output_type": "stream",
     "text": []
    },
    {
     "name": "stdout",
     "output_type": "stream",
     "text": [
      "[EWC] base=0.06168 | pen=0.2493 | pen/base=4.041 | λ_actual=4.000e+08 → λ_sugerido≈9.898e+07 (target pen/base=1.0)\n"
     ]
    },
    {
     "name": "stderr",
     "output_type": "stream",
     "text": []
    },
    {
     "name": "stdout",
     "output_type": "stream",
     "text": [
      "[EWC] base=0.05072 | pen=0.05022 | pen/base=0.990 | λ_actual=4.000e+08 → λ_sugerido≈4.039e+08 (target pen/base=1.0)\n"
     ]
    },
    {
     "name": "stderr",
     "output_type": "stream",
     "text": []
    },
    {
     "name": "stdout",
     "output_type": "stream",
     "text": [
      "[TRAIN it/s] epoch 6/8: 2.7 it/s  (1011 iters en 374.29s)\n"
     ]
    },
    {
     "name": "stderr",
     "output_type": "stream",
     "text": []
    },
    {
     "name": "stdout",
     "output_type": "stream",
     "text": [
      "[EWC] base=0.03869 | pen=0.04513 | pen/base=1.167 | λ_actual=4.000e+08 → λ_sugerido≈3.429e+08 (target pen/base=1.0)\n"
     ]
    },
    {
     "name": "stderr",
     "output_type": "stream",
     "text": []
    },
    {
     "name": "stdout",
     "output_type": "stream",
     "text": [
      "[EWC] base=0.05897 | pen=0.04186 | pen/base=0.710 | λ_actual=4.000e+08 → λ_sugerido≈5.635e+08 (target pen/base=1.0)\n"
     ]
    },
    {
     "name": "stderr",
     "output_type": "stream",
     "text": []
    },
    {
     "name": "stdout",
     "output_type": "stream",
     "text": [
      "[EWC] base=0.04709 | pen=0.03954 | pen/base=0.840 | λ_actual=4.000e+08 → λ_sugerido≈4.764e+08 (target pen/base=1.0)\n"
     ]
    },
    {
     "name": "stderr",
     "output_type": "stream",
     "text": []
    },
    {
     "name": "stdout",
     "output_type": "stream",
     "text": [
      "[EWC] base=0.05923 | pen=0.03773 | pen/base=0.637 | λ_actual=4.000e+08 → λ_sugerido≈6.279e+08 (target pen/base=1.0)\n"
     ]
    },
    {
     "name": "stderr",
     "output_type": "stream",
     "text": []
    },
    {
     "name": "stdout",
     "output_type": "stream",
     "text": [
      "[EWC] base=0.04525 | pen=0.03604 | pen/base=0.796 | λ_actual=4.000e+08 → λ_sugerido≈5.022e+08 (target pen/base=1.0)\n"
     ]
    },
    {
     "name": "stderr",
     "output_type": "stream",
     "text": []
    },
    {
     "name": "stdout",
     "output_type": "stream",
     "text": [
      "[EWC] base=0.04382 | pen=0.03648 | pen/base=0.832 | λ_actual=4.000e+08 → λ_sugerido≈4.805e+08 (target pen/base=1.0)\n"
     ]
    },
    {
     "name": "stderr",
     "output_type": "stream",
     "text": []
    },
    {
     "name": "stdout",
     "output_type": "stream",
     "text": [
      "[EWC] base=0.04475 | pen=0.02809 | pen/base=0.628 | λ_actual=4.000e+08 → λ_sugerido≈6.373e+08 (target pen/base=1.0)\n"
     ]
    },
    {
     "name": "stderr",
     "output_type": "stream",
     "text": []
    },
    {
     "name": "stdout",
     "output_type": "stream",
     "text": [
      "[EWC] base=0.05119 | pen=0.02466 | pen/base=0.482 | λ_actual=4.000e+08 → λ_sugerido≈8.304e+08 (target pen/base=1.0)\n"
     ]
    },
    {
     "name": "stderr",
     "output_type": "stream",
     "text": []
    },
    {
     "name": "stdout",
     "output_type": "stream",
     "text": [
      "[EWC] base=0.03906 | pen=0.02409 | pen/base=0.617 | λ_actual=4.000e+08 → λ_sugerido≈6.486e+08 (target pen/base=1.0)\n"
     ]
    },
    {
     "name": "stderr",
     "output_type": "stream",
     "text": []
    },
    {
     "name": "stdout",
     "output_type": "stream",
     "text": [
      "[EWC] base=0.06186 | pen=0.04807 | pen/base=0.777 | λ_actual=4.000e+08 → λ_sugerido≈5.148e+08 (target pen/base=1.0)\n"
     ]
    },
    {
     "name": "stderr",
     "output_type": "stream",
     "text": []
    },
    {
     "name": "stdout",
     "output_type": "stream",
     "text": [
      "[TRAIN it/s] epoch 7/8: 2.7 it/s  (1011 iters en 374.10s)\n"
     ]
    },
    {
     "name": "stderr",
     "output_type": "stream",
     "text": []
    },
    {
     "name": "stdout",
     "output_type": "stream",
     "text": [
      "[EWC] base=0.04116 | pen=0.08021 | pen/base=1.949 | λ_actual=4.000e+08 → λ_sugerido≈2.053e+08 (target pen/base=1.0)\n"
     ]
    },
    {
     "name": "stderr",
     "output_type": "stream",
     "text": []
    },
    {
     "name": "stdout",
     "output_type": "stream",
     "text": [
      "[EWC] base=0.05107 | pen=1.658 | pen/base=32.465 | λ_actual=4.000e+08 → λ_sugerido≈1.232e+07 (target pen/base=1.0)\n"
     ]
    },
    {
     "name": "stderr",
     "output_type": "stream",
     "text": []
    },
    {
     "name": "stdout",
     "output_type": "stream",
     "text": [
      "[EWC] base=0.04727 | pen=0.05731 | pen/base=1.212 | λ_actual=4.000e+08 → λ_sugerido≈3.299e+08 (target pen/base=1.0)\n"
     ]
    },
    {
     "name": "stderr",
     "output_type": "stream",
     "text": []
    },
    {
     "name": "stdout",
     "output_type": "stream",
     "text": [
      "[EWC] base=0.04369 | pen=0.03904 | pen/base=0.894 | λ_actual=4.000e+08 → λ_sugerido≈4.476e+08 (target pen/base=1.0)\n"
     ]
    },
    {
     "name": "stderr",
     "output_type": "stream",
     "text": []
    },
    {
     "name": "stdout",
     "output_type": "stream",
     "text": [
      "[EWC] base=0.0702 | pen=0.03086 | pen/base=0.440 | λ_actual=4.000e+08 → λ_sugerido≈9.098e+08 (target pen/base=1.0)\n"
     ]
    },
    {
     "name": "stderr",
     "output_type": "stream",
     "text": []
    },
    {
     "name": "stdout",
     "output_type": "stream",
     "text": [
      "[EWC] base=0.06082 | pen=0.02603 | pen/base=0.428 | λ_actual=4.000e+08 → λ_sugerido≈9.345e+08 (target pen/base=1.0)\n"
     ]
    },
    {
     "name": "stderr",
     "output_type": "stream",
     "text": []
    },
    {
     "name": "stdout",
     "output_type": "stream",
     "text": [
      "[EWC] base=0.0383 | pen=0.09933 | pen/base=2.594 | λ_actual=4.000e+08 → λ_sugerido≈1.542e+08 (target pen/base=1.0)\n"
     ]
    },
    {
     "name": "stderr",
     "output_type": "stream",
     "text": []
    },
    {
     "name": "stdout",
     "output_type": "stream",
     "text": [
      "[EWC] base=0.05163 | pen=0.0263 | pen/base=0.509 | λ_actual=4.000e+08 → λ_sugerido≈7.854e+08 (target pen/base=1.0)\n"
     ]
    },
    {
     "name": "stderr",
     "output_type": "stream",
     "text": []
    },
    {
     "name": "stdout",
     "output_type": "stream",
     "text": [
      "[EWC] base=0.05555 | pen=0.02361 | pen/base=0.425 | λ_actual=4.000e+08 → λ_sugerido≈9.413e+08 (target pen/base=1.0)\n"
     ]
    },
    {
     "name": "stderr",
     "output_type": "stream",
     "text": []
    },
    {
     "name": "stdout",
     "output_type": "stream",
     "text": [
      "[EWC] base=0.05 | pen=0.02159 | pen/base=0.432 | λ_actual=4.000e+08 → λ_sugerido≈9.262e+08 (target pen/base=1.0)\n"
     ]
    },
    {
     "name": "stderr",
     "output_type": "stream",
     "text": []
    },
    {
     "name": "stdout",
     "output_type": "stream",
     "text": [
      "[TRAIN it/s] epoch 8/8: 2.7 it/s  (1011 iters en 374.90s)\n"
     ]
    },
    {
     "name": "stderr",
     "output_type": "stream",
     "text": [
      "Best trial: 0. Best value: 2.41831: 100%|██████████| 2/2 [5:42:29<00:00, 10274.61s/it]  "
     ]
    },
    {
     "name": "stdout",
     "output_type": "stream",
     "text": [
      "[I 2025-10-08 04:32:16,457] Trial 1 finished with value: 32.59304213232149 and parameters: {'lam': 400000000.0, 'fisher_batches': 500}. Best is trial 0 with value: 2.4183117704230996.\n",
      "SQLite: /home/cesar/proyectos/TFM_SNN/outputs/optuna/hpo_ewc_std_pilotnet_snn_rate_T16_g0.5_catgrid_v8.sqlite\n",
      "Best value: 2.4183117704230996\n",
      "Best params: {'lam': 1000000000.0, 'fisher_batches': 1000}\n",
      "Best attrs: {'method': 'ewc', 'metrics': {'c1': 'circuito1', 'c2': 'circuito2', 'c1_mae': 0.12434691220259965, 'c1_after_c2_mae': 0.12987415374373196, 'forget_rel_%': 4.4450171244515655, 'c2_mae': 0.1958032081973168}, 'out_dir': '/home/cesar/proyectos/TFM_SNN/outputs/continual_std_ewc_lam_1e+09_lam_1e+09_ewc_hpo_t0_lam_1.0e+09_rate_model-PilotNetSNN_66x200_gray_seed_42', 'params': {'lam': 1000000000.0, 'fisher_batches': 1000}}\n",
      "Best value: 2.4183117704230996\n",
      "Best params: {'lam': 1000000000.0, 'fisher_batches': 1000}\n",
      "Best attrs: {'method': 'ewc', 'metrics': {'c1': 'circuito1', 'c2': 'circuito2', 'c1_mae': 0.12434691220259965, 'c1_after_c2_mae': 0.12987415374373196, 'forget_rel_%': 4.4450171244515655, 'c2_mae': 0.1958032081973168}, 'out_dir': '/home/cesar/proyectos/TFM_SNN/outputs/continual_std_ewc_lam_1e+09_lam_1e+09_ewc_hpo_t0_lam_1.0e+09_rate_model-PilotNetSNN_66x200_gray_seed_42', 'params': {'lam': 1000000000.0, 'fisher_batches': 1000}}\n"
     ]
    },
    {
     "name": "stderr",
     "output_type": "stream",
     "text": [
      "\n"
     ]
    }
   ],
   "source": [
    "# === Celda 6: Configuración del estudio + objetivo Optuna ===\n",
    "import copy\n",
    "from pathlib import Path\n",
    "import optuna, torch, gc, time\n",
    "\n",
    "from src.telemetry import read_emissions_kg  # registra emisiones en user_attrs si hay CodeCarbon\n",
    "# (usa también la celda de \"runner\" que ya integra carbon_tracker_ctx)\n",
    "\n",
    "# --- Parámetros del estudio ---\n",
    "METHOD_TO_OPTIMIZE = \"ewc\"   # \"naive\" | \"ewc\" | \"rehearsal\" | \"rehearsal+ewc\" | \"as-snn\"\n",
    "N_TRIALS = 2                  # súbelo cuando estés satisfecho con tiempos/estabilidad\n",
    "HPO_EPOCHS = None                # None -> epochs del preset; o un int (p.ej. 1–3) para acelerar\n",
    "REHEARSAL_NAMES = (\"rehearsal\", \"rehearsal+ewc\")\n",
    "\n",
    "def build_cfg_with_method(base_cfg: dict, method_name: str, params: dict, hpo_epochs: int|None):\n",
    "    cfg = copy.deepcopy(base_cfg)\n",
    "    cfg[\"continual\"][\"method\"] = method_name\n",
    "    cfg[\"continual\"][\"params\"] = params or {}\n",
    "\n",
    "    # Perfil equilibrado-rápido para HPO (seguro en EWC/naive/AS-SNN; más suave que el preset std)\n",
    "    cfg[\"optim\"][\"amp\"] = True                 # acelera bastante en GPU\n",
    "    cfg[\"data\"][\"pin_memory\"] = True\n",
    "    cfg[\"data\"][\"persistent_workers\"] = False  # evita fugas/hangs entre trials\n",
    "    # 2–4 workers suele ser el “sweet spot” en Jupyter\n",
    "    cfg[\"data\"][\"num_workers\"] = min(max(2, int(cfg[\"data\"].get(\"num_workers\") or 2)), 4)\n",
    "\n",
    "    # Si estuvieras HPO con replay, puedes endurecer aquí (lo dejo por si cambias METHOD_TO_OPTIMIZE):\n",
    "    if method_name.lower() in REHEARSAL_NAMES:\n",
    "        cfg[\"optim\"][\"amp\"] = False\n",
    "        cfg[\"data\"][\"pin_memory\"] = False\n",
    "        cfg[\"data\"][\"num_workers\"] = min(int(cfg[\"data\"].get(\"num_workers\") or 0), 2)\n",
    "\n",
    "    if hpo_epochs is not None:\n",
    "        cfg[\"optim\"][\"epochs\"] = int(hpo_epochs)\n",
    "    return cfg\n",
    "\n",
    "\n",
    "def run_one_cfg(cfg: dict) -> tuple[Path, dict, dict]:\n",
    "    out_dir, res = run_continual(\n",
    "        task_list=task_list,\n",
    "        make_loader_fn=make_loader_fn,\n",
    "        make_model_fn=make_model_fn,\n",
    "        tfm=tfm,\n",
    "        cfg=cfg,\n",
    "        preset_name=PRESET,\n",
    "        out_root=ROOT / \"outputs\",\n",
    "        verbose=True,\n",
    "    )\n",
    "    # results guardado por runner en continual_results.json\n",
    "    results = _load_results(out_dir) or (res if isinstance(res, dict) else {})\n",
    "    return out_dir, res, results\n",
    "\n",
    "\n",
    "def optuna_objective(trial: optuna.Trial):\n",
    "    params = suggest_params_for_method(trial, METHOD_TO_OPTIMIZE, PRESET)\n",
    "    cfg_i  = build_cfg_with_method(CFG, METHOD_TO_OPTIMIZE, params, HPO_EPOCHS)\n",
    "\n",
    "    # Etiqueta del run\n",
    "    cfg_i.setdefault(\"naming\", {})\n",
    "    tag = f\"{METHOD_TO_OPTIMIZE}_hpo_t{trial.number}\"\n",
    "    if METHOD_TO_OPTIMIZE in (\"ewc\", \"rehearsal+ewc\") and \"lam\" in params:\n",
    "        tag += f\"_lam_{params['lam']:.1e}\"\n",
    "    cfg_i[\"naming\"][\"tag\"] = tag\n",
    "\n",
    "    try:\n",
    "        out_dir, _, results = run_one_cfg(cfg_i)\n",
    "        metrics = extract_metrics(results)\n",
    "        val = composite_objective(metrics, ALPHA_FORGET)\n",
    "\n",
    "        # Telemetría por trial (si existe el archivo de CodeCarbon)\n",
    "        emissions = read_emissions_kg(out_dir)\n",
    "        if emissions is not None:\n",
    "            trial.set_user_attr(\"emissions_kg\", float(emissions))\n",
    "\n",
    "        trial.set_user_attr(\"out_dir\", str(out_dir))\n",
    "        trial.set_user_attr(\"metrics\", metrics)\n",
    "        trial.set_user_attr(\"method\", METHOD_TO_OPTIMIZE)\n",
    "        trial.set_user_attr(\"params\", params)\n",
    "        return val\n",
    "    except Exception as e:\n",
    "        # No tires abajo todo el estudio por un trial problemático\n",
    "        trial.set_user_attr(\"error\", repr(e))\n",
    "        return float(\"inf\")\n",
    "    finally:\n",
    "        # Limpieza ligera entre trials (evita fragmentación de memoria GPU)\n",
    "        gc.collect()\n",
    "        if torch.cuda.is_available():\n",
    "            torch.cuda.empty_cache()\n",
    "        time.sleep(0.5)\n",
    "\n",
    "\n",
    "# --- Persistencia Optuna en SQLite ---\n",
    "OPTUNA_DIR = ROOT / \"outputs\" / \"optuna\"\n",
    "OPTUNA_DIR.mkdir(parents=True, exist_ok=True)\n",
    "\n",
    "# IMPORTANTE: cambia HPO_TAG cada vez que cambies las rejillas (lam/fisher, etc.)\n",
    "# así evitas el error \"CategoricalDistribution does not support dynamic value space\".\n",
    "HPO_TAG = \"catgrid_v8\"\n",
    "DB_PATH = OPTUNA_DIR / f\"hpo_{METHOD_TO_OPTIMIZE}_{PRESET}_{MODEL_NAME}_{ENCODER}_T{T}_g{GAIN}_{HPO_TAG}.sqlite\"\n",
    "STORAGE = f\"sqlite:///{DB_PATH}\"\n",
    "STUDY_NAME = f\"HPO_{METHOD_TO_OPTIMIZE}_{PRESET}_{ENCODER}_T{T}_{HPO_TAG}\"\n",
    "\n",
    "# Crea SIEMPRE un estudio nuevo con este nombre/DB (evita conflictos de grids anteriores)\n",
    "study = optuna.create_study(\n",
    "    direction=\"minimize\",\n",
    "    study_name=STUDY_NAME,\n",
    "    storage=STORAGE,\n",
    "    load_if_exists=False,   # fuerza estudio NUEVO con ese nombre + grid\n",
    ")\n",
    "\n",
    "study.optimize(optuna_objective, n_trials=N_TRIALS, show_progress_bar=True)\n",
    "\n",
    "print(\"SQLite:\", DB_PATH)\n",
    "print(\"Best value:\", study.best_value)\n",
    "print(\"Best params:\", study.best_params)\n",
    "print(\"Best attrs:\", study.best_trial.user_attrs)\n",
    "\n",
    "# Guardar trazabilidad de intentos a CSV\n",
    "df_trials = study.trials_dataframe(attrs=(\"number\",\"value\",\"state\",\"params\",\"user_attrs\"))\n",
    "df_trials.to_csv(OPTUNA_DIR / f\"{DB_PATH.stem}_trials.csv\", index=False)\n",
    "\n",
    "print(\"Best value:\", study.best_value)\n",
    "print(\"Best params:\", study.best_params)\n",
    "print(\"Best attrs:\", study.best_trial.user_attrs)\n"
   ]
  },
  {
   "cell_type": "markdown",
   "id": "1a48b08b",
   "metadata": {},
   "source": [
    "<a id=\"sec-07\"></a>\n",
    "## 7) Estudio Optuna conjunto (elige método + HPs)\n",
    "\n",
    "**Objetivo**  \n",
    "Permitir que **cada *trial*** elija también el **método** (`naive`, `ewc`, `rehearsal`, `rehearsal+ewc`, `as-snn`) además de sus HPs. Útil cuando:\n",
    "\n",
    "- No tienes claro qué método se adapta mejor a tu conjunto de datos.  \n",
    "- Quieres una **comparativa automática** con el mismo presupuesto de cómputo.\n",
    "\n",
    "> Activa `RUN_JOINT=True` para lanzar este estudio y eleva `N_TRIALS_JOINT` cuando el flujo sea estable.  \n",
    "\n",
    "[↑ Volver al índice](#toc)"
   ]
  },
  {
   "cell_type": "code",
   "execution_count": 7,
   "id": "84e7f1a3",
   "metadata": {},
   "outputs": [
    {
     "name": "stdout",
     "output_type": "stream",
     "text": [
      "RUN_JOINT=False — omitido.\n"
     ]
    }
   ],
   "source": [
    "RUN_JOINT = False   # Pon True si quieres lanzar el estudio conjunto\n",
    "N_TRIALS_JOINT = 10\n",
    "\n",
    "def optuna_objective_joint(trial: optuna.Trial):\n",
    "    method = trial.suggest_categorical(\"method\", [\"naive\",\"ewc\",\"rehearsal\",\"rehearsal+ewc\",\"as_snn\"])\n",
    "    params = suggest_params_for_method(trial, method)\n",
    "    cfg_i  = build_cfg_with_method(CFG, method, params, HPO_EPOCHS)\n",
    "\n",
    "    # === Hotfix selectivo (solo métodos con replay) ===\n",
    "    if method.lower() in REHEARSAL_NAMES:\n",
    "        cfg_i[\"data\"][\"persistent_workers\"] = False\n",
    "        # Opcionales si hiciera falta:\n",
    "        # cfg_i[\"optim\"][\"amp\"] = False\n",
    "        # cfg_i[\"data\"][\"pin_memory\"] = False\n",
    "        # cfg_i[\"data\"][\"num_workers\"] = min(int(cfg_i[\"data\"].get(\"num_workers\") or 0), 2)\n",
    "\n",
    "    cfg_i.setdefault(\"naming\", {})\n",
    "    tag = f\"{method}_hpo_t{trial.number}\"\n",
    "    if method in (\"ewc\", \"rehearsal+ewc\") and \"lam\" in params:\n",
    "        tag += f\"_lam_{params['lam']:.1e}\"\n",
    "    cfg_i[\"naming\"][\"tag\"] = tag\n",
    "\n",
    "    try:\n",
    "        out_dir, _, results = run_one_cfg(cfg_i)\n",
    "        metrics = extract_metrics(results)\n",
    "        val = objective_value(metrics, ALPHA_FORGET)  # tu versión conjunta\n",
    "        trial.set_user_attr(\"out_dir\", str(out_dir))\n",
    "        trial.set_user_attr(\"metrics\", metrics)\n",
    "        trial.set_user_attr(\"method\", method)\n",
    "        trial.set_user_attr(\"params\", params)\n",
    "        return val\n",
    "    except Exception as e:\n",
    "        trial.set_user_attr(\"error\", repr(e))\n",
    "        return float(\"inf\")\n",
    "    finally:\n",
    "        import gc, time\n",
    "        gc.collect()\n",
    "        if torch.cuda.is_available():\n",
    "            torch.cuda.empty_cache()\n",
    "        time.sleep(0.5)\n",
    "\n",
    "\n",
    "\n",
    "if RUN_JOINT:\n",
    "    study_joint = optuna.create_study(direction=\"minimize\", study_name=\"HPO_joint\")\n",
    "    study_joint.optimize(optuna_objective_joint, n_trials=N_TRIALS_JOINT, show_progress_bar=True)\n",
    "    print(\"Best value:\", study_joint.best_value)\n",
    "    print(\"Best params:\", study_joint.best_params)\n",
    "    print(\"Best attrs:\", study_joint.best_trial.user_attrs)\n",
    "else:\n",
    "    print(\"RUN_JOINT=False — omitido.\")"
   ]
  },
  {
   "cell_type": "markdown",
   "id": "4f8cdc9f",
   "metadata": {},
   "source": [
    "<a id=\"sec-08\"></a>\n",
    "## 8) Re-entrena con los mejores hiperparámetros\n",
    "\n",
    "**Objetivo**  \n",
    "Tomar `study.best_params` (y el método ganador) y **re-entrenar a pleno rendimiento**:\n",
    "\n",
    "- Reconstruir `cfg_best` con los HPs óptimos.  \n",
    "- (Opcional) Restaurar `optim.epochs` del preset si usaste `HPO_EPOCHS` reducido durante la búsqueda.  \n",
    "- Ejecutar `run_continual(...)` y mostrar las **métricas finales** y la **carpeta de salida**.\n",
    "\n",
    "> Separa la **búsqueda rápida** (menos epochs) del **entrenamiento definitivo** (epochs del preset).  \n",
    "\n",
    "[↑ Volver al índice](#toc)"
   ]
  },
  {
   "cell_type": "code",
   "execution_count": 8,
   "id": "40464ac5",
   "metadata": {},
   "outputs": [
    {
     "name": "stdout",
     "output_type": "stream",
     "text": [
      "Mejor método: ewc\n",
      "Mejores HPs: {'lam': 1000000000.0, 'fisher_batches': 1000}\n",
      "\n",
      "--- Tarea 1/2: circuito1 | preset=std | method=ewc_lam_1e+09 | B=96 T=16 AMP=True | enc=rate ---\n"
     ]
    },
    {
     "name": "stderr",
     "output_type": "stream",
     "text": [
      "Epoch 1/8:   0%|          | 0/3066 [00:00<?, ?it/s]"
     ]
    },
    {
     "name": "stdout",
     "output_type": "stream",
     "text": [
      "[EWC] base=0.3767 | pen=0 | pen/base=0.000\n"
     ]
    },
    {
     "name": "stderr",
     "output_type": "stream",
     "text": [
      "Epoch 1/8:   3%|▎         | 101/3066 [00:46<18:15,  2.71it/s]"
     ]
    },
    {
     "name": "stdout",
     "output_type": "stream",
     "text": [
      "[EWC] base=0.1527 | pen=0 | pen/base=0.000\n"
     ]
    },
    {
     "name": "stderr",
     "output_type": "stream",
     "text": [
      "Epoch 1/8:   7%|▋         | 200/3066 [01:22<16:35,  2.88it/s]"
     ]
    },
    {
     "name": "stdout",
     "output_type": "stream",
     "text": [
      "[EWC] base=0.1118 | pen=0 | pen/base=0.000\n"
     ]
    },
    {
     "name": "stderr",
     "output_type": "stream",
     "text": [
      "Epoch 1/8:  10%|▉         | 300/3066 [01:58<17:20,  2.66it/s]"
     ]
    },
    {
     "name": "stdout",
     "output_type": "stream",
     "text": [
      "[EWC] base=0.09347 | pen=0 | pen/base=0.000\n"
     ]
    },
    {
     "name": "stderr",
     "output_type": "stream",
     "text": [
      "Epoch 1/8:  13%|█▎        | 400/3066 [02:36<17:13,  2.58it/s]"
     ]
    },
    {
     "name": "stdout",
     "output_type": "stream",
     "text": [
      "[EWC] base=0.06266 | pen=0 | pen/base=0.000\n"
     ]
    },
    {
     "name": "stderr",
     "output_type": "stream",
     "text": [
      "Epoch 1/8:  16%|█▋        | 500/3066 [03:13<15:07,  2.83it/s]"
     ]
    },
    {
     "name": "stdout",
     "output_type": "stream",
     "text": [
      "[EWC] base=0.07348 | pen=0 | pen/base=0.000\n"
     ]
    },
    {
     "name": "stderr",
     "output_type": "stream",
     "text": [
      "Epoch 1/8:  20%|█▉        | 601/3066 [03:49<15:55,  2.58it/s]"
     ]
    },
    {
     "name": "stdout",
     "output_type": "stream",
     "text": [
      "[EWC] base=0.03106 | pen=0 | pen/base=0.000\n"
     ]
    },
    {
     "name": "stderr",
     "output_type": "stream",
     "text": [
      "Epoch 1/8:  23%|██▎       | 701/3066 [04:24<13:10,  2.99it/s]"
     ]
    },
    {
     "name": "stdout",
     "output_type": "stream",
     "text": [
      "[EWC] base=0.03144 | pen=0 | pen/base=0.000\n"
     ]
    },
    {
     "name": "stderr",
     "output_type": "stream",
     "text": [
      "Epoch 1/8:  26%|██▌       | 801/3066 [04:58<12:34,  3.00it/s]"
     ]
    },
    {
     "name": "stdout",
     "output_type": "stream",
     "text": [
      "[EWC] base=0.05548 | pen=0 | pen/base=0.000\n"
     ]
    },
    {
     "name": "stderr",
     "output_type": "stream",
     "text": [
      "Epoch 1/8:  29%|██▉       | 901/3066 [05:33<12:12,  2.96it/s]"
     ]
    },
    {
     "name": "stdout",
     "output_type": "stream",
     "text": [
      "[EWC] base=0.04654 | pen=0 | pen/base=0.000\n"
     ]
    },
    {
     "name": "stderr",
     "output_type": "stream",
     "text": [
      "Epoch 1/8:  33%|███▎      | 1000/3066 [06:09<12:46,  2.70it/s]"
     ]
    },
    {
     "name": "stdout",
     "output_type": "stream",
     "text": [
      "[EWC] base=0.05152 | pen=0 | pen/base=0.000\n"
     ]
    },
    {
     "name": "stderr",
     "output_type": "stream",
     "text": [
      "Epoch 1/8:  36%|███▌      | 1100/3066 [06:47<11:26,  2.86it/s]"
     ]
    },
    {
     "name": "stdout",
     "output_type": "stream",
     "text": [
      "[EWC] base=0.04278 | pen=0 | pen/base=0.000\n"
     ]
    },
    {
     "name": "stderr",
     "output_type": "stream",
     "text": [
      "Epoch 1/8:  39%|███▉      | 1200/3066 [07:24<11:02,  2.82it/s]"
     ]
    },
    {
     "name": "stdout",
     "output_type": "stream",
     "text": [
      "[EWC] base=0.02934 | pen=0 | pen/base=0.000\n"
     ]
    },
    {
     "name": "stderr",
     "output_type": "stream",
     "text": [
      "Epoch 1/8:  42%|████▏     | 1300/3066 [08:01<11:52,  2.48it/s]"
     ]
    },
    {
     "name": "stdout",
     "output_type": "stream",
     "text": [
      "[EWC] base=0.03709 | pen=0 | pen/base=0.000\n"
     ]
    },
    {
     "name": "stderr",
     "output_type": "stream",
     "text": [
      "Epoch 1/8:  46%|████▌     | 1401/3066 [08:39<09:53,  2.81it/s]"
     ]
    },
    {
     "name": "stdout",
     "output_type": "stream",
     "text": [
      "[EWC] base=0.03542 | pen=0 | pen/base=0.000\n"
     ]
    },
    {
     "name": "stderr",
     "output_type": "stream",
     "text": [
      "Epoch 1/8:  49%|████▉     | 1501/3066 [09:14<08:58,  2.91it/s]"
     ]
    },
    {
     "name": "stdout",
     "output_type": "stream",
     "text": [
      "[EWC] base=0.03286 | pen=0 | pen/base=0.000\n"
     ]
    },
    {
     "name": "stderr",
     "output_type": "stream",
     "text": [
      "Epoch 1/8:  52%|█████▏    | 1601/3066 [09:49<08:15,  2.95it/s]"
     ]
    },
    {
     "name": "stdout",
     "output_type": "stream",
     "text": [
      "[EWC] base=0.03256 | pen=0 | pen/base=0.000\n"
     ]
    },
    {
     "name": "stderr",
     "output_type": "stream",
     "text": [
      "Epoch 1/8:  55%|█████▌    | 1701/3066 [10:23<07:45,  2.93it/s]"
     ]
    },
    {
     "name": "stdout",
     "output_type": "stream",
     "text": [
      "[EWC] base=0.03639 | pen=0 | pen/base=0.000\n"
     ]
    },
    {
     "name": "stderr",
     "output_type": "stream",
     "text": [
      "Epoch 1/8:  59%|█████▊    | 1801/3066 [10:56<07:05,  2.97it/s]"
     ]
    },
    {
     "name": "stdout",
     "output_type": "stream",
     "text": [
      "[EWC] base=0.03019 | pen=0 | pen/base=0.000\n"
     ]
    },
    {
     "name": "stderr",
     "output_type": "stream",
     "text": [
      "Epoch 1/8:  62%|██████▏   | 1900/3066 [11:30<07:00,  2.77it/s]"
     ]
    },
    {
     "name": "stdout",
     "output_type": "stream",
     "text": [
      "[EWC] base=0.03131 | pen=0 | pen/base=0.000\n"
     ]
    },
    {
     "name": "stderr",
     "output_type": "stream",
     "text": [
      "Epoch 1/8:  65%|██████▌   | 2000/3066 [12:09<07:08,  2.49it/s]"
     ]
    },
    {
     "name": "stdout",
     "output_type": "stream",
     "text": [
      "[EWC] base=0.02836 | pen=0 | pen/base=0.000\n"
     ]
    },
    {
     "name": "stderr",
     "output_type": "stream",
     "text": [
      "Epoch 1/8:  69%|██████▊   | 2101/3066 [12:47<05:30,  2.92it/s]"
     ]
    },
    {
     "name": "stdout",
     "output_type": "stream",
     "text": [
      "[EWC] base=0.03898 | pen=0 | pen/base=0.000\n"
     ]
    },
    {
     "name": "stderr",
     "output_type": "stream",
     "text": [
      "Epoch 1/8:  72%|███████▏  | 2200/3066 [13:22<05:09,  2.80it/s]"
     ]
    },
    {
     "name": "stdout",
     "output_type": "stream",
     "text": [
      "[EWC] base=0.02667 | pen=0 | pen/base=0.000\n"
     ]
    },
    {
     "name": "stderr",
     "output_type": "stream",
     "text": [
      "Epoch 1/8:  75%|███████▌  | 2300/3066 [13:59<04:48,  2.66it/s]"
     ]
    },
    {
     "name": "stdout",
     "output_type": "stream",
     "text": [
      "[EWC] base=0.0353 | pen=0 | pen/base=0.000\n"
     ]
    },
    {
     "name": "stderr",
     "output_type": "stream",
     "text": [
      "Epoch 1/8:  78%|███████▊  | 2400/3066 [14:38<04:18,  2.58it/s]"
     ]
    },
    {
     "name": "stdout",
     "output_type": "stream",
     "text": [
      "[EWC] base=0.04355 | pen=0 | pen/base=0.000\n"
     ]
    },
    {
     "name": "stderr",
     "output_type": "stream",
     "text": [
      "Epoch 1/8:  82%|████████▏ | 2501/3066 [15:13<03:14,  2.90it/s]"
     ]
    },
    {
     "name": "stdout",
     "output_type": "stream",
     "text": [
      "[EWC] base=0.02471 | pen=0 | pen/base=0.000\n"
     ]
    },
    {
     "name": "stderr",
     "output_type": "stream",
     "text": [
      "Epoch 1/8:  85%|████████▍ | 2601/3066 [15:48<02:45,  2.81it/s]"
     ]
    },
    {
     "name": "stdout",
     "output_type": "stream",
     "text": [
      "[EWC] base=0.02541 | pen=0 | pen/base=0.000\n"
     ]
    },
    {
     "name": "stderr",
     "output_type": "stream",
     "text": [
      "Epoch 1/8:  88%|████████▊ | 2701/3066 [16:22<02:03,  2.96it/s]"
     ]
    },
    {
     "name": "stdout",
     "output_type": "stream",
     "text": [
      "[EWC] base=0.02873 | pen=0 | pen/base=0.000\n"
     ]
    },
    {
     "name": "stderr",
     "output_type": "stream",
     "text": [
      "Epoch 1/8:  91%|█████████▏| 2801/3066 [16:56<01:33,  2.84it/s]"
     ]
    },
    {
     "name": "stdout",
     "output_type": "stream",
     "text": [
      "[EWC] base=0.02834 | pen=0 | pen/base=0.000\n"
     ]
    },
    {
     "name": "stderr",
     "output_type": "stream",
     "text": [
      "Epoch 1/8:  95%|█████████▍| 2900/3066 [17:32<01:04,  2.58it/s]"
     ]
    },
    {
     "name": "stdout",
     "output_type": "stream",
     "text": [
      "[EWC] base=0.03269 | pen=0 | pen/base=0.000\n"
     ]
    },
    {
     "name": "stderr",
     "output_type": "stream",
     "text": [
      "Epoch 1/8:  98%|█████████▊| 3000/3066 [18:10<00:25,  2.60it/s]"
     ]
    },
    {
     "name": "stdout",
     "output_type": "stream",
     "text": [
      "[EWC] base=0.02811 | pen=0 | pen/base=0.000\n"
     ]
    },
    {
     "name": "stderr",
     "output_type": "stream",
     "text": [
      "                                                              "
     ]
    },
    {
     "name": "stdout",
     "output_type": "stream",
     "text": [
      "[TRAIN it/s] epoch 1/8: 2.8 it/s  (3066 iters en 1113.99s)\n"
     ]
    },
    {
     "name": "stderr",
     "output_type": "stream",
     "text": [
      "Epoch 2/8:   1%|          | 35/3066 [00:13<18:07,  2.79it/s] "
     ]
    },
    {
     "name": "stdout",
     "output_type": "stream",
     "text": [
      "[EWC] base=0.02324 | pen=0 | pen/base=0.000\n"
     ]
    },
    {
     "name": "stderr",
     "output_type": "stream",
     "text": [
      "Epoch 2/8:   4%|▍         | 134/3066 [00:49<18:05,  2.70it/s]"
     ]
    },
    {
     "name": "stdout",
     "output_type": "stream",
     "text": [
      "[EWC] base=0.02217 | pen=0 | pen/base=0.000\n"
     ]
    },
    {
     "name": "stderr",
     "output_type": "stream",
     "text": [
      "Epoch 2/8:   8%|▊         | 234/3066 [01:27<17:42,  2.67it/s]"
     ]
    },
    {
     "name": "stdout",
     "output_type": "stream",
     "text": [
      "[EWC] base=0.02392 | pen=0 | pen/base=0.000\n"
     ]
    },
    {
     "name": "stderr",
     "output_type": "stream",
     "text": [
      "Epoch 2/8:  11%|█         | 335/3066 [02:05<16:05,  2.83it/s]"
     ]
    },
    {
     "name": "stdout",
     "output_type": "stream",
     "text": [
      "[EWC] base=0.02434 | pen=0 | pen/base=0.000\n"
     ]
    },
    {
     "name": "stderr",
     "output_type": "stream",
     "text": [
      "Epoch 2/8:  14%|█▍        | 435/3066 [02:41<16:33,  2.65it/s]"
     ]
    },
    {
     "name": "stdout",
     "output_type": "stream",
     "text": [
      "[EWC] base=0.0194 | pen=0 | pen/base=0.000\n"
     ]
    },
    {
     "name": "stderr",
     "output_type": "stream",
     "text": [
      "Epoch 2/8:  17%|█▋        | 534/3066 [03:17<15:35,  2.71it/s]"
     ]
    },
    {
     "name": "stdout",
     "output_type": "stream",
     "text": [
      "[EWC] base=0.02851 | pen=0 | pen/base=0.000\n"
     ]
    },
    {
     "name": "stderr",
     "output_type": "stream",
     "text": [
      "Epoch 2/8:  21%|██        | 635/3066 [03:52<13:38,  2.97it/s]"
     ]
    },
    {
     "name": "stdout",
     "output_type": "stream",
     "text": [
      "[EWC] base=0.01611 | pen=0 | pen/base=0.000\n"
     ]
    },
    {
     "name": "stderr",
     "output_type": "stream",
     "text": [
      "Epoch 2/8:  24%|██▍       | 735/3066 [04:27<13:50,  2.81it/s]"
     ]
    },
    {
     "name": "stdout",
     "output_type": "stream",
     "text": [
      "[EWC] base=0.02618 | pen=0 | pen/base=0.000\n"
     ]
    },
    {
     "name": "stderr",
     "output_type": "stream",
     "text": [
      "Epoch 2/8:  27%|██▋       | 835/3066 [05:02<13:00,  2.86it/s]"
     ]
    },
    {
     "name": "stdout",
     "output_type": "stream",
     "text": [
      "[EWC] base=0.02009 | pen=0 | pen/base=0.000\n"
     ]
    },
    {
     "name": "stderr",
     "output_type": "stream",
     "text": [
      "Epoch 2/8:  30%|███       | 935/3066 [05:39<11:49,  3.00it/s]"
     ]
    },
    {
     "name": "stdout",
     "output_type": "stream",
     "text": [
      "[EWC] base=0.02552 | pen=0 | pen/base=0.000\n"
     ]
    },
    {
     "name": "stderr",
     "output_type": "stream",
     "text": [
      "Epoch 2/8:  34%|███▍      | 1035/3066 [06:15<11:53,  2.85it/s]"
     ]
    },
    {
     "name": "stdout",
     "output_type": "stream",
     "text": [
      "[EWC] base=0.03414 | pen=0 | pen/base=0.000\n"
     ]
    },
    {
     "name": "stderr",
     "output_type": "stream",
     "text": [
      "Epoch 2/8:  37%|███▋      | 1135/3066 [06:50<12:00,  2.68it/s]"
     ]
    },
    {
     "name": "stdout",
     "output_type": "stream",
     "text": [
      "[EWC] base=0.01736 | pen=0 | pen/base=0.000\n"
     ]
    },
    {
     "name": "stderr",
     "output_type": "stream",
     "text": [
      "Epoch 2/8:  40%|████      | 1235/3066 [07:29<11:30,  2.65it/s]"
     ]
    },
    {
     "name": "stdout",
     "output_type": "stream",
     "text": [
      "[EWC] base=0.02183 | pen=0 | pen/base=0.000\n"
     ]
    },
    {
     "name": "stderr",
     "output_type": "stream",
     "text": [
      "Epoch 2/8:  44%|████▎     | 1335/3066 [08:05<10:41,  2.70it/s]"
     ]
    },
    {
     "name": "stdout",
     "output_type": "stream",
     "text": [
      "[EWC] base=0.03245 | pen=0 | pen/base=0.000\n"
     ]
    },
    {
     "name": "stderr",
     "output_type": "stream",
     "text": [
      "Epoch 2/8:  47%|████▋     | 1435/3066 [08:41<08:56,  3.04it/s]"
     ]
    },
    {
     "name": "stdout",
     "output_type": "stream",
     "text": [
      "[EWC] base=0.02175 | pen=0 | pen/base=0.000\n"
     ]
    },
    {
     "name": "stderr",
     "output_type": "stream",
     "text": [
      "Epoch 2/8:  50%|█████     | 1535/3066 [09:16<08:41,  2.94it/s]"
     ]
    },
    {
     "name": "stdout",
     "output_type": "stream",
     "text": [
      "[EWC] base=0.02264 | pen=0 | pen/base=0.000\n"
     ]
    },
    {
     "name": "stderr",
     "output_type": "stream",
     "text": [
      "Epoch 2/8:  53%|█████▎    | 1635/3066 [09:51<08:13,  2.90it/s]"
     ]
    },
    {
     "name": "stdout",
     "output_type": "stream",
     "text": [
      "[EWC] base=0.01784 | pen=0 | pen/base=0.000\n"
     ]
    },
    {
     "name": "stderr",
     "output_type": "stream",
     "text": [
      "Epoch 2/8:  57%|█████▋    | 1735/3066 [10:25<07:29,  2.96it/s]"
     ]
    },
    {
     "name": "stdout",
     "output_type": "stream",
     "text": [
      "[EWC] base=0.02227 | pen=0 | pen/base=0.000\n"
     ]
    },
    {
     "name": "stderr",
     "output_type": "stream",
     "text": [
      "Epoch 2/8:  60%|█████▉    | 1834/3066 [11:03<07:48,  2.63it/s]"
     ]
    },
    {
     "name": "stdout",
     "output_type": "stream",
     "text": [
      "[EWC] base=0.01977 | pen=0 | pen/base=0.000\n"
     ]
    },
    {
     "name": "stderr",
     "output_type": "stream",
     "text": [
      "Epoch 2/8:  63%|██████▎   | 1935/3066 [11:42<06:34,  2.86it/s]"
     ]
    },
    {
     "name": "stdout",
     "output_type": "stream",
     "text": [
      "[EWC] base=0.01777 | pen=0 | pen/base=0.000\n"
     ]
    },
    {
     "name": "stderr",
     "output_type": "stream",
     "text": [
      "Epoch 2/8:  66%|██████▋   | 2034/3066 [12:18<06:14,  2.76it/s]"
     ]
    },
    {
     "name": "stdout",
     "output_type": "stream",
     "text": [
      "[EWC] base=0.01749 | pen=0 | pen/base=0.000\n"
     ]
    },
    {
     "name": "stderr",
     "output_type": "stream",
     "text": [
      "Epoch 2/8:  70%|██████▉   | 2134/3066 [12:54<05:53,  2.64it/s]"
     ]
    },
    {
     "name": "stdout",
     "output_type": "stream",
     "text": [
      "[EWC] base=0.02142 | pen=0 | pen/base=0.000\n"
     ]
    },
    {
     "name": "stderr",
     "output_type": "stream",
     "text": [
      "Epoch 2/8:  73%|███████▎  | 2234/3066 [13:33<05:25,  2.55it/s]"
     ]
    },
    {
     "name": "stdout",
     "output_type": "stream",
     "text": [
      "[EWC] base=0.0207 | pen=0 | pen/base=0.000\n"
     ]
    },
    {
     "name": "stderr",
     "output_type": "stream",
     "text": [
      "Epoch 2/8:  76%|███████▌  | 2335/3066 [14:09<04:13,  2.88it/s]"
     ]
    },
    {
     "name": "stdout",
     "output_type": "stream",
     "text": [
      "[EWC] base=0.01666 | pen=0 | pen/base=0.000\n"
     ]
    },
    {
     "name": "stderr",
     "output_type": "stream",
     "text": [
      "Epoch 2/8:  79%|███████▉  | 2435/3066 [14:44<03:27,  3.05it/s]"
     ]
    },
    {
     "name": "stdout",
     "output_type": "stream",
     "text": [
      "[EWC] base=0.0144 | pen=0 | pen/base=0.000\n"
     ]
    },
    {
     "name": "stderr",
     "output_type": "stream",
     "text": [
      "Epoch 2/8:  83%|████████▎ | 2535/3066 [15:18<02:58,  2.98it/s]"
     ]
    },
    {
     "name": "stdout",
     "output_type": "stream",
     "text": [
      "[EWC] base=0.02211 | pen=0 | pen/base=0.000\n"
     ]
    },
    {
     "name": "stderr",
     "output_type": "stream",
     "text": [
      "Epoch 2/8:  86%|████████▌ | 2635/3066 [15:52<02:28,  2.90it/s]"
     ]
    },
    {
     "name": "stdout",
     "output_type": "stream",
     "text": [
      "[EWC] base=0.01429 | pen=0 | pen/base=0.000\n"
     ]
    },
    {
     "name": "stderr",
     "output_type": "stream",
     "text": [
      "Epoch 2/8:  89%|████████▉ | 2735/3066 [16:26<01:57,  2.82it/s]"
     ]
    },
    {
     "name": "stdout",
     "output_type": "stream",
     "text": [
      "[EWC] base=0.02248 | pen=0 | pen/base=0.000\n"
     ]
    },
    {
     "name": "stderr",
     "output_type": "stream",
     "text": [
      "Epoch 2/8:  92%|█████████▏| 2834/3066 [17:01<01:32,  2.50it/s]"
     ]
    },
    {
     "name": "stdout",
     "output_type": "stream",
     "text": [
      "[EWC] base=0.02423 | pen=0 | pen/base=0.000\n"
     ]
    },
    {
     "name": "stderr",
     "output_type": "stream",
     "text": [
      "Epoch 2/8:  96%|█████████▌| 2935/3066 [17:41<00:46,  2.79it/s]"
     ]
    },
    {
     "name": "stdout",
     "output_type": "stream",
     "text": [
      "[EWC] base=0.01441 | pen=0 | pen/base=0.000\n"
     ]
    },
    {
     "name": "stderr",
     "output_type": "stream",
     "text": [
      "Epoch 2/8:  99%|█████████▉| 3034/3066 [18:16<00:11,  2.89it/s]"
     ]
    },
    {
     "name": "stdout",
     "output_type": "stream",
     "text": [
      "[EWC] base=0.02725 | pen=0 | pen/base=0.000\n"
     ]
    },
    {
     "name": "stderr",
     "output_type": "stream",
     "text": [
      "                                                              \r"
     ]
    },
    {
     "name": "stdout",
     "output_type": "stream",
     "text": [
      "[TRAIN it/s] epoch 2/8: 2.8 it/s  (3066 iters en 1108.23s)\n"
     ]
    },
    {
     "name": "stderr",
     "output_type": "stream",
     "text": [
      "Epoch 3/8:   2%|▏         | 68/3066 [00:26<19:02,  2.62it/s]"
     ]
    },
    {
     "name": "stdout",
     "output_type": "stream",
     "text": [
      "[EWC] base=0.01832 | pen=0 | pen/base=0.000\n"
     ]
    },
    {
     "name": "stderr",
     "output_type": "stream",
     "text": [
      "Epoch 3/8:   6%|▌         | 169/3066 [01:05<17:27,  2.77it/s]"
     ]
    },
    {
     "name": "stdout",
     "output_type": "stream",
     "text": [
      "[EWC] base=0.01811 | pen=0 | pen/base=0.000\n"
     ]
    },
    {
     "name": "stderr",
     "output_type": "stream",
     "text": [
      "Epoch 3/8:   9%|▉         | 269/3066 [01:41<16:48,  2.77it/s]"
     ]
    },
    {
     "name": "stdout",
     "output_type": "stream",
     "text": [
      "[EWC] base=0.01986 | pen=0 | pen/base=0.000\n"
     ]
    },
    {
     "name": "stderr",
     "output_type": "stream",
     "text": [
      "Epoch 3/8:  12%|█▏        | 369/3066 [02:17<15:13,  2.95it/s]"
     ]
    },
    {
     "name": "stdout",
     "output_type": "stream",
     "text": [
      "[EWC] base=0.02393 | pen=0 | pen/base=0.000\n"
     ]
    },
    {
     "name": "stderr",
     "output_type": "stream",
     "text": [
      "Epoch 3/8:  15%|█▌        | 469/3066 [02:52<15:32,  2.79it/s]"
     ]
    },
    {
     "name": "stdout",
     "output_type": "stream",
     "text": [
      "[EWC] base=0.0176 | pen=0 | pen/base=0.000\n"
     ]
    },
    {
     "name": "stderr",
     "output_type": "stream",
     "text": [
      "Epoch 3/8:  19%|█▊        | 569/3066 [03:25<13:20,  3.12it/s]"
     ]
    },
    {
     "name": "stdout",
     "output_type": "stream",
     "text": [
      "[EWC] base=0.02114 | pen=0 | pen/base=0.000\n"
     ]
    },
    {
     "name": "stderr",
     "output_type": "stream",
     "text": [
      "Epoch 3/8:  22%|██▏       | 669/3066 [03:59<13:28,  2.97it/s]"
     ]
    },
    {
     "name": "stdout",
     "output_type": "stream",
     "text": [
      "[EWC] base=0.01382 | pen=0 | pen/base=0.000\n"
     ]
    },
    {
     "name": "stderr",
     "output_type": "stream",
     "text": [
      "Epoch 3/8:  25%|██▌       | 769/3066 [04:35<13:55,  2.75it/s]"
     ]
    },
    {
     "name": "stdout",
     "output_type": "stream",
     "text": [
      "[EWC] base=0.01908 | pen=0 | pen/base=0.000\n"
     ]
    },
    {
     "name": "stderr",
     "output_type": "stream",
     "text": [
      "Epoch 3/8:  28%|██▊       | 868/3066 [05:11<12:59,  2.82it/s]"
     ]
    },
    {
     "name": "stdout",
     "output_type": "stream",
     "text": [
      "[EWC] base=0.01758 | pen=0 | pen/base=0.000\n"
     ]
    },
    {
     "name": "stderr",
     "output_type": "stream",
     "text": [
      "Epoch 3/8:  32%|███▏      | 969/3066 [05:47<12:13,  2.86it/s]"
     ]
    },
    {
     "name": "stdout",
     "output_type": "stream",
     "text": [
      "[EWC] base=0.01624 | pen=0 | pen/base=0.000\n"
     ]
    },
    {
     "name": "stderr",
     "output_type": "stream",
     "text": [
      "Epoch 3/8:  35%|███▍      | 1068/3066 [06:22<12:01,  2.77it/s]"
     ]
    },
    {
     "name": "stdout",
     "output_type": "stream",
     "text": [
      "[EWC] base=0.01945 | pen=0 | pen/base=0.000\n"
     ]
    },
    {
     "name": "stderr",
     "output_type": "stream",
     "text": [
      "Epoch 3/8:  38%|███▊      | 1169/3066 [07:01<11:21,  2.78it/s]"
     ]
    },
    {
     "name": "stdout",
     "output_type": "stream",
     "text": [
      "[EWC] base=0.01296 | pen=0 | pen/base=0.000\n"
     ]
    },
    {
     "name": "stderr",
     "output_type": "stream",
     "text": [
      "Epoch 3/8:  41%|████▏     | 1269/3066 [07:38<11:10,  2.68it/s]"
     ]
    },
    {
     "name": "stdout",
     "output_type": "stream",
     "text": [
      "[EWC] base=0.01848 | pen=0 | pen/base=0.000\n"
     ]
    },
    {
     "name": "stderr",
     "output_type": "stream",
     "text": [
      "Epoch 3/8:  45%|████▍     | 1369/3066 [08:13<09:27,  2.99it/s]"
     ]
    },
    {
     "name": "stdout",
     "output_type": "stream",
     "text": [
      "[EWC] base=0.0186 | pen=0 | pen/base=0.000\n"
     ]
    },
    {
     "name": "stderr",
     "output_type": "stream",
     "text": [
      "Epoch 3/8:  48%|████▊     | 1469/3066 [08:46<08:58,  2.96it/s]"
     ]
    },
    {
     "name": "stdout",
     "output_type": "stream",
     "text": [
      "[EWC] base=0.01729 | pen=0 | pen/base=0.000\n"
     ]
    },
    {
     "name": "stderr",
     "output_type": "stream",
     "text": [
      "Epoch 3/8:  51%|█████     | 1569/3066 [09:19<08:11,  3.04it/s]"
     ]
    },
    {
     "name": "stdout",
     "output_type": "stream",
     "text": [
      "[EWC] base=0.01728 | pen=0 | pen/base=0.000\n"
     ]
    },
    {
     "name": "stderr",
     "output_type": "stream",
     "text": [
      "Epoch 3/8:  54%|█████▍    | 1669/3066 [09:52<07:45,  3.00it/s]"
     ]
    },
    {
     "name": "stdout",
     "output_type": "stream",
     "text": [
      "[EWC] base=0.02127 | pen=0 | pen/base=0.000\n"
     ]
    },
    {
     "name": "stderr",
     "output_type": "stream",
     "text": [
      "Epoch 3/8:  58%|█████▊    | 1768/3066 [10:28<07:42,  2.81it/s]"
     ]
    },
    {
     "name": "stdout",
     "output_type": "stream",
     "text": [
      "[EWC] base=0.01996 | pen=0 | pen/base=0.000\n"
     ]
    },
    {
     "name": "stderr",
     "output_type": "stream",
     "text": [
      "Epoch 3/8:  61%|██████    | 1869/3066 [11:06<06:47,  2.94it/s]"
     ]
    },
    {
     "name": "stdout",
     "output_type": "stream",
     "text": [
      "[EWC] base=0.01839 | pen=0 | pen/base=0.000\n"
     ]
    },
    {
     "name": "stderr",
     "output_type": "stream",
     "text": [
      "Epoch 3/8:  64%|██████▍   | 1968/3066 [11:42<06:34,  2.79it/s]"
     ]
    },
    {
     "name": "stdout",
     "output_type": "stream",
     "text": [
      "[EWC] base=0.01802 | pen=0 | pen/base=0.000\n"
     ]
    },
    {
     "name": "stderr",
     "output_type": "stream",
     "text": [
      "Epoch 3/8:  67%|██████▋   | 2069/3066 [12:19<06:06,  2.72it/s]"
     ]
    },
    {
     "name": "stdout",
     "output_type": "stream",
     "text": [
      "[EWC] base=0.01854 | pen=0 | pen/base=0.000\n"
     ]
    },
    {
     "name": "stderr",
     "output_type": "stream",
     "text": [
      "Epoch 3/8:  71%|███████   | 2168/3066 [12:56<05:32,  2.70it/s]"
     ]
    },
    {
     "name": "stdout",
     "output_type": "stream",
     "text": [
      "[EWC] base=0.01578 | pen=0 | pen/base=0.000\n"
     ]
    },
    {
     "name": "stderr",
     "output_type": "stream",
     "text": [
      "Epoch 3/8:  74%|███████▍  | 2268/3066 [13:34<04:25,  3.01it/s]"
     ]
    },
    {
     "name": "stdout",
     "output_type": "stream",
     "text": [
      "[EWC] base=0.02135 | pen=0 | pen/base=0.000\n"
     ]
    },
    {
     "name": "stderr",
     "output_type": "stream",
     "text": [
      "Epoch 3/8:  77%|███████▋  | 2369/3066 [14:09<03:53,  2.98it/s]"
     ]
    },
    {
     "name": "stdout",
     "output_type": "stream",
     "text": [
      "[EWC] base=0.01649 | pen=0 | pen/base=0.000\n"
     ]
    },
    {
     "name": "stderr",
     "output_type": "stream",
     "text": [
      "Epoch 3/8:  80%|████████  | 2468/3066 [14:44<03:22,  2.95it/s]"
     ]
    },
    {
     "name": "stdout",
     "output_type": "stream",
     "text": [
      "[EWC] base=0.0184 | pen=0 | pen/base=0.000\n"
     ]
    },
    {
     "name": "stderr",
     "output_type": "stream",
     "text": [
      "Epoch 3/8:  84%|████████▍ | 2569/3066 [15:18<02:42,  3.05it/s]"
     ]
    },
    {
     "name": "stdout",
     "output_type": "stream",
     "text": [
      "[EWC] base=0.01348 | pen=0 | pen/base=0.000\n"
     ]
    },
    {
     "name": "stderr",
     "output_type": "stream",
     "text": [
      "Epoch 3/8:  87%|████████▋ | 2669/3066 [15:52<02:14,  2.95it/s]"
     ]
    },
    {
     "name": "stdout",
     "output_type": "stream",
     "text": [
      "[EWC] base=0.01614 | pen=0 | pen/base=0.000\n"
     ]
    },
    {
     "name": "stderr",
     "output_type": "stream",
     "text": [
      "Epoch 3/8:  90%|█████████ | 2768/3066 [16:29<01:53,  2.64it/s]"
     ]
    },
    {
     "name": "stdout",
     "output_type": "stream",
     "text": [
      "[EWC] base=0.01969 | pen=0 | pen/base=0.000\n"
     ]
    },
    {
     "name": "stderr",
     "output_type": "stream",
     "text": [
      "Epoch 3/8:  94%|█████████▎| 2869/3066 [17:07<01:10,  2.80it/s]"
     ]
    },
    {
     "name": "stdout",
     "output_type": "stream",
     "text": [
      "[EWC] base=0.01896 | pen=0 | pen/base=0.000\n"
     ]
    },
    {
     "name": "stderr",
     "output_type": "stream",
     "text": [
      "Epoch 3/8:  97%|█████████▋| 2969/3066 [17:43<00:33,  2.86it/s]"
     ]
    },
    {
     "name": "stdout",
     "output_type": "stream",
     "text": [
      "[EWC] base=0.01609 | pen=0 | pen/base=0.000\n"
     ]
    },
    {
     "name": "stderr",
     "output_type": "stream",
     "text": [
      "                                                              \r"
     ]
    },
    {
     "name": "stdout",
     "output_type": "stream",
     "text": [
      "[TRAIN it/s] epoch 3/8: 2.8 it/s  (3066 iters en 1097.97s)\n"
     ]
    },
    {
     "name": "stderr",
     "output_type": "stream",
     "text": [
      "Epoch 4/8:   0%|          | 2/3066 [00:01<28:28,  1.79it/s]"
     ]
    },
    {
     "name": "stdout",
     "output_type": "stream",
     "text": [
      "[EWC] base=0.02791 | pen=0 | pen/base=0.000\n"
     ]
    },
    {
     "name": "stderr",
     "output_type": "stream",
     "text": [
      "Epoch 4/8:   3%|▎         | 103/3066 [00:39<18:42,  2.64it/s]"
     ]
    },
    {
     "name": "stdout",
     "output_type": "stream",
     "text": [
      "[EWC] base=0.01713 | pen=0 | pen/base=0.000\n"
     ]
    },
    {
     "name": "stderr",
     "output_type": "stream",
     "text": [
      "Epoch 4/8:   7%|▋         | 203/3066 [01:16<16:32,  2.88it/s]"
     ]
    },
    {
     "name": "stdout",
     "output_type": "stream",
     "text": [
      "[EWC] base=0.01426 | pen=0 | pen/base=0.000\n"
     ]
    },
    {
     "name": "stderr",
     "output_type": "stream",
     "text": [
      "Epoch 4/8:  10%|▉         | 303/3066 [01:51<16:20,  2.82it/s]"
     ]
    },
    {
     "name": "stdout",
     "output_type": "stream",
     "text": [
      "[EWC] base=0.01731 | pen=0 | pen/base=0.000\n"
     ]
    },
    {
     "name": "stderr",
     "output_type": "stream",
     "text": [
      "Epoch 4/8:  13%|█▎        | 403/3066 [02:26<14:52,  2.98it/s]"
     ]
    },
    {
     "name": "stdout",
     "output_type": "stream",
     "text": [
      "[EWC] base=0.01279 | pen=0 | pen/base=0.000\n"
     ]
    },
    {
     "name": "stderr",
     "output_type": "stream",
     "text": [
      "Epoch 4/8:  16%|█▋        | 503/3066 [02:59<13:41,  3.12it/s]"
     ]
    },
    {
     "name": "stdout",
     "output_type": "stream",
     "text": [
      "[EWC] base=0.01912 | pen=0 | pen/base=0.000\n"
     ]
    },
    {
     "name": "stderr",
     "output_type": "stream",
     "text": [
      "Epoch 4/8:  20%|█▉        | 603/3066 [03:33<14:39,  2.80it/s]"
     ]
    },
    {
     "name": "stdout",
     "output_type": "stream",
     "text": [
      "[EWC] base=0.01696 | pen=0 | pen/base=0.000\n"
     ]
    },
    {
     "name": "stderr",
     "output_type": "stream",
     "text": [
      "Epoch 4/8:  23%|██▎       | 702/3066 [04:11<15:05,  2.61it/s]"
     ]
    },
    {
     "name": "stdout",
     "output_type": "stream",
     "text": [
      "[EWC] base=0.01803 | pen=0 | pen/base=0.000\n"
     ]
    },
    {
     "name": "stderr",
     "output_type": "stream",
     "text": [
      "Epoch 4/8:  26%|██▌       | 803/3066 [04:49<12:31,  3.01it/s]"
     ]
    },
    {
     "name": "stdout",
     "output_type": "stream",
     "text": [
      "[EWC] base=0.01118 | pen=0 | pen/base=0.000\n"
     ]
    },
    {
     "name": "stderr",
     "output_type": "stream",
     "text": [
      "Epoch 4/8:  29%|██▉       | 902/3066 [05:24<12:05,  2.98it/s]"
     ]
    },
    {
     "name": "stdout",
     "output_type": "stream",
     "text": [
      "[EWC] base=0.01616 | pen=0 | pen/base=0.000\n"
     ]
    },
    {
     "name": "stderr",
     "output_type": "stream",
     "text": [
      "Epoch 4/8:  33%|███▎      | 1003/3066 [05:59<11:57,  2.88it/s]"
     ]
    },
    {
     "name": "stdout",
     "output_type": "stream",
     "text": [
      "[EWC] base=0.01419 | pen=0 | pen/base=0.000\n"
     ]
    },
    {
     "name": "stderr",
     "output_type": "stream",
     "text": [
      "Epoch 4/8:  36%|███▌      | 1102/3066 [06:36<12:21,  2.65it/s]"
     ]
    },
    {
     "name": "stdout",
     "output_type": "stream",
     "text": [
      "[EWC] base=0.01626 | pen=0 | pen/base=0.000\n"
     ]
    },
    {
     "name": "stderr",
     "output_type": "stream",
     "text": [
      "Epoch 4/8:  39%|███▉      | 1203/3066 [07:12<10:38,  2.92it/s]"
     ]
    },
    {
     "name": "stdout",
     "output_type": "stream",
     "text": [
      "[EWC] base=0.0172 | pen=0 | pen/base=0.000\n"
     ]
    },
    {
     "name": "stderr",
     "output_type": "stream",
     "text": [
      "Epoch 4/8:  42%|████▏     | 1303/3066 [07:48<09:52,  2.98it/s]"
     ]
    },
    {
     "name": "stdout",
     "output_type": "stream",
     "text": [
      "[EWC] base=0.01491 | pen=0 | pen/base=0.000\n"
     ]
    },
    {
     "name": "stderr",
     "output_type": "stream",
     "text": [
      "Epoch 4/8:  46%|████▌     | 1403/3066 [08:22<09:27,  2.93it/s]"
     ]
    },
    {
     "name": "stdout",
     "output_type": "stream",
     "text": [
      "[EWC] base=0.01888 | pen=0 | pen/base=0.000\n"
     ]
    },
    {
     "name": "stderr",
     "output_type": "stream",
     "text": [
      "Epoch 4/8:  49%|████▉     | 1503/3066 [08:54<08:13,  3.17it/s]"
     ]
    },
    {
     "name": "stdout",
     "output_type": "stream",
     "text": [
      "[EWC] base=0.01405 | pen=0 | pen/base=0.000\n"
     ]
    },
    {
     "name": "stderr",
     "output_type": "stream",
     "text": [
      "Epoch 4/8:  52%|█████▏    | 1603/3066 [09:29<08:21,  2.92it/s]"
     ]
    },
    {
     "name": "stdout",
     "output_type": "stream",
     "text": [
      "[EWC] base=0.01586 | pen=0 | pen/base=0.000\n"
     ]
    },
    {
     "name": "stderr",
     "output_type": "stream",
     "text": [
      "Epoch 4/8:  56%|█████▌    | 1702/3066 [10:03<08:30,  2.67it/s]"
     ]
    },
    {
     "name": "stdout",
     "output_type": "stream",
     "text": [
      "[EWC] base=0.01744 | pen=0 | pen/base=0.000\n"
     ]
    },
    {
     "name": "stderr",
     "output_type": "stream",
     "text": [
      "Epoch 4/8:  59%|█████▉    | 1803/3066 [10:42<06:55,  3.04it/s]"
     ]
    },
    {
     "name": "stdout",
     "output_type": "stream",
     "text": [
      "[EWC] base=0.01282 | pen=0 | pen/base=0.000\n"
     ]
    },
    {
     "name": "stderr",
     "output_type": "stream",
     "text": [
      "Epoch 4/8:  62%|██████▏   | 1903/3066 [11:16<06:50,  2.83it/s]"
     ]
    },
    {
     "name": "stdout",
     "output_type": "stream",
     "text": [
      "[EWC] base=0.01161 | pen=0 | pen/base=0.000\n"
     ]
    },
    {
     "name": "stderr",
     "output_type": "stream",
     "text": [
      "Epoch 4/8:  65%|██████▌   | 2003/3066 [11:51<05:56,  2.99it/s]"
     ]
    },
    {
     "name": "stdout",
     "output_type": "stream",
     "text": [
      "[EWC] base=0.01699 | pen=0 | pen/base=0.000\n"
     ]
    },
    {
     "name": "stderr",
     "output_type": "stream",
     "text": [
      "Epoch 4/8:  69%|██████▊   | 2102/3066 [12:28<06:01,  2.67it/s]"
     ]
    },
    {
     "name": "stdout",
     "output_type": "stream",
     "text": [
      "[EWC] base=0.02002 | pen=0 | pen/base=0.000\n"
     ]
    },
    {
     "name": "stderr",
     "output_type": "stream",
     "text": [
      "Epoch 4/8:  72%|███████▏  | 2203/3066 [13:05<05:09,  2.79it/s]"
     ]
    },
    {
     "name": "stdout",
     "output_type": "stream",
     "text": [
      "[EWC] base=0.0146 | pen=0 | pen/base=0.000\n"
     ]
    },
    {
     "name": "stderr",
     "output_type": "stream",
     "text": [
      "Epoch 4/8:  75%|███████▌  | 2303/3066 [13:40<04:14,  3.00it/s]"
     ]
    },
    {
     "name": "stdout",
     "output_type": "stream",
     "text": [
      "[EWC] base=0.01883 | pen=0 | pen/base=0.000\n"
     ]
    },
    {
     "name": "stderr",
     "output_type": "stream",
     "text": [
      "Epoch 4/8:  78%|███████▊  | 2403/3066 [14:14<03:45,  2.94it/s]"
     ]
    },
    {
     "name": "stdout",
     "output_type": "stream",
     "text": [
      "[EWC] base=0.0124 | pen=0 | pen/base=0.000\n"
     ]
    },
    {
     "name": "stderr",
     "output_type": "stream",
     "text": [
      "Epoch 4/8:  82%|████████▏ | 2503/3066 [14:48<03:04,  3.05it/s]"
     ]
    },
    {
     "name": "stdout",
     "output_type": "stream",
     "text": [
      "[EWC] base=0.01472 | pen=0 | pen/base=0.000\n"
     ]
    },
    {
     "name": "stderr",
     "output_type": "stream",
     "text": [
      "Epoch 4/8:  85%|████████▍ | 2603/3066 [15:21<02:34,  3.01it/s]"
     ]
    },
    {
     "name": "stdout",
     "output_type": "stream",
     "text": [
      "[EWC] base=0.01103 | pen=0 | pen/base=0.000\n"
     ]
    },
    {
     "name": "stderr",
     "output_type": "stream",
     "text": [
      "Epoch 4/8:  88%|████████▊ | 2703/3066 [15:57<02:10,  2.78it/s]"
     ]
    },
    {
     "name": "stdout",
     "output_type": "stream",
     "text": [
      "[EWC] base=0.01142 | pen=0 | pen/base=0.000\n"
     ]
    },
    {
     "name": "stderr",
     "output_type": "stream",
     "text": [
      "Epoch 4/8:  91%|█████████▏| 2803/3066 [16:36<01:33,  2.82it/s]"
     ]
    },
    {
     "name": "stdout",
     "output_type": "stream",
     "text": [
      "[EWC] base=0.01335 | pen=0 | pen/base=0.000\n"
     ]
    },
    {
     "name": "stderr",
     "output_type": "stream",
     "text": [
      "Epoch 4/8:  95%|█████████▍| 2902/3066 [17:10<00:57,  2.85it/s]"
     ]
    },
    {
     "name": "stdout",
     "output_type": "stream",
     "text": [
      "[EWC] base=0.0106 | pen=0 | pen/base=0.000\n"
     ]
    },
    {
     "name": "stderr",
     "output_type": "stream",
     "text": [
      "Epoch 4/8:  98%|█████████▊| 3003/3066 [17:45<00:21,  2.94it/s]"
     ]
    },
    {
     "name": "stdout",
     "output_type": "stream",
     "text": [
      "[EWC] base=0.02033 | pen=0 | pen/base=0.000\n"
     ]
    },
    {
     "name": "stderr",
     "output_type": "stream",
     "text": [
      "                                                              \r"
     ]
    },
    {
     "name": "stdout",
     "output_type": "stream",
     "text": [
      "[TRAIN it/s] epoch 4/8: 2.8 it/s  (3066 iters en 1088.44s)\n"
     ]
    },
    {
     "name": "stderr",
     "output_type": "stream",
     "text": [
      "Epoch 5/8:   1%|          | 36/3066 [00:14<18:24,  2.74it/s]"
     ]
    },
    {
     "name": "stdout",
     "output_type": "stream",
     "text": [
      "[EWC] base=0.01666 | pen=0 | pen/base=0.000\n"
     ]
    },
    {
     "name": "stderr",
     "output_type": "stream",
     "text": [
      "Epoch 5/8:   4%|▍         | 137/3066 [00:52<17:44,  2.75it/s]"
     ]
    },
    {
     "name": "stdout",
     "output_type": "stream",
     "text": [
      "[EWC] base=0.0171 | pen=0 | pen/base=0.000\n"
     ]
    },
    {
     "name": "stderr",
     "output_type": "stream",
     "text": [
      "Epoch 5/8:   8%|▊         | 237/3066 [01:26<15:56,  2.96it/s]"
     ]
    },
    {
     "name": "stdout",
     "output_type": "stream",
     "text": [
      "[EWC] base=0.01592 | pen=0 | pen/base=0.000\n"
     ]
    },
    {
     "name": "stderr",
     "output_type": "stream",
     "text": [
      "Epoch 5/8:  11%|█         | 337/3066 [02:01<15:18,  2.97it/s]"
     ]
    },
    {
     "name": "stdout",
     "output_type": "stream",
     "text": [
      "[EWC] base=0.01591 | pen=0 | pen/base=0.000\n"
     ]
    },
    {
     "name": "stderr",
     "output_type": "stream",
     "text": [
      "Epoch 5/8:  14%|█▍        | 437/3066 [02:34<14:15,  3.07it/s]"
     ]
    },
    {
     "name": "stdout",
     "output_type": "stream",
     "text": [
      "[EWC] base=0.01733 | pen=0 | pen/base=0.000\n"
     ]
    },
    {
     "name": "stderr",
     "output_type": "stream",
     "text": [
      "Epoch 5/8:  18%|█▊        | 537/3066 [03:07<14:20,  2.94it/s]"
     ]
    },
    {
     "name": "stdout",
     "output_type": "stream",
     "text": [
      "[EWC] base=0.01376 | pen=0 | pen/base=0.000\n"
     ]
    },
    {
     "name": "stderr",
     "output_type": "stream",
     "text": [
      "Epoch 5/8:  21%|██        | 637/3066 [03:43<14:25,  2.81it/s]"
     ]
    },
    {
     "name": "stdout",
     "output_type": "stream",
     "text": [
      "[EWC] base=0.01473 | pen=0 | pen/base=0.000\n"
     ]
    },
    {
     "name": "stderr",
     "output_type": "stream",
     "text": [
      "Epoch 5/8:  24%|██▍       | 737/3066 [04:20<12:51,  3.02it/s]"
     ]
    },
    {
     "name": "stdout",
     "output_type": "stream",
     "text": [
      "[EWC] base=0.015 | pen=0 | pen/base=0.000\n"
     ]
    },
    {
     "name": "stderr",
     "output_type": "stream",
     "text": [
      "Epoch 5/8:  27%|██▋       | 836/3066 [04:55<12:56,  2.87it/s]"
     ]
    },
    {
     "name": "stdout",
     "output_type": "stream",
     "text": [
      "[EWC] base=0.01621 | pen=0 | pen/base=0.000\n"
     ]
    },
    {
     "name": "stderr",
     "output_type": "stream",
     "text": [
      "Epoch 5/8:  31%|███       | 937/3066 [05:31<12:51,  2.76it/s]"
     ]
    },
    {
     "name": "stdout",
     "output_type": "stream",
     "text": [
      "[EWC] base=0.01089 | pen=0 | pen/base=0.000\n"
     ]
    },
    {
     "name": "stderr",
     "output_type": "stream",
     "text": [
      "Epoch 5/8:  34%|███▍      | 1036/3066 [06:09<12:48,  2.64it/s]"
     ]
    },
    {
     "name": "stdout",
     "output_type": "stream",
     "text": [
      "[EWC] base=0.01356 | pen=0 | pen/base=0.000\n"
     ]
    },
    {
     "name": "stderr",
     "output_type": "stream",
     "text": [
      "Epoch 5/8:  37%|███▋      | 1137/3066 [06:45<11:06,  2.89it/s]"
     ]
    },
    {
     "name": "stdout",
     "output_type": "stream",
     "text": [
      "[EWC] base=0.01451 | pen=0 | pen/base=0.000\n"
     ]
    },
    {
     "name": "stderr",
     "output_type": "stream",
     "text": [
      "Epoch 5/8:  40%|████      | 1236/3066 [07:20<10:32,  2.89it/s]"
     ]
    },
    {
     "name": "stdout",
     "output_type": "stream",
     "text": [
      "[EWC] base=0.01363 | pen=0 | pen/base=0.000\n"
     ]
    },
    {
     "name": "stderr",
     "output_type": "stream",
     "text": [
      "Epoch 5/8:  44%|████▎     | 1337/3066 [07:55<09:47,  2.94it/s]"
     ]
    },
    {
     "name": "stdout",
     "output_type": "stream",
     "text": [
      "[EWC] base=0.01297 | pen=0 | pen/base=0.000\n"
     ]
    },
    {
     "name": "stderr",
     "output_type": "stream",
     "text": [
      "Epoch 5/8:  47%|████▋     | 1437/3066 [08:28<08:59,  3.02it/s]"
     ]
    },
    {
     "name": "stdout",
     "output_type": "stream",
     "text": [
      "[EWC] base=0.016 | pen=0 | pen/base=0.000\n"
     ]
    },
    {
     "name": "stderr",
     "output_type": "stream",
     "text": [
      "Epoch 5/8:  50%|█████     | 1537/3066 [09:01<08:39,  2.94it/s]"
     ]
    },
    {
     "name": "stdout",
     "output_type": "stream",
     "text": [
      "[EWC] base=0.01871 | pen=0 | pen/base=0.000\n"
     ]
    },
    {
     "name": "stderr",
     "output_type": "stream",
     "text": [
      "Epoch 5/8:  53%|█████▎    | 1637/3066 [09:36<08:22,  2.84it/s]"
     ]
    },
    {
     "name": "stdout",
     "output_type": "stream",
     "text": [
      "[EWC] base=0.0142 | pen=0 | pen/base=0.000\n"
     ]
    },
    {
     "name": "stderr",
     "output_type": "stream",
     "text": [
      "Epoch 5/8:  57%|█████▋    | 1737/3066 [10:13<07:50,  2.82it/s]"
     ]
    },
    {
     "name": "stdout",
     "output_type": "stream",
     "text": [
      "[EWC] base=0.01519 | pen=0 | pen/base=0.000\n"
     ]
    },
    {
     "name": "stderr",
     "output_type": "stream",
     "text": [
      "Epoch 5/8:  60%|█████▉    | 1837/3066 [10:49<07:27,  2.74it/s]"
     ]
    },
    {
     "name": "stdout",
     "output_type": "stream",
     "text": [
      "[EWC] base=0.01721 | pen=0 | pen/base=0.000\n"
     ]
    },
    {
     "name": "stderr",
     "output_type": "stream",
     "text": [
      "Epoch 5/8:  63%|██████▎   | 1936/3066 [11:24<07:19,  2.57it/s]"
     ]
    },
    {
     "name": "stdout",
     "output_type": "stream",
     "text": [
      "[EWC] base=0.01778 | pen=0 | pen/base=0.000\n"
     ]
    },
    {
     "name": "stderr",
     "output_type": "stream",
     "text": [
      "Epoch 5/8:  66%|██████▋   | 2036/3066 [12:01<06:06,  2.81it/s]"
     ]
    },
    {
     "name": "stdout",
     "output_type": "stream",
     "text": [
      "[EWC] base=0.01464 | pen=0 | pen/base=0.000\n"
     ]
    },
    {
     "name": "stderr",
     "output_type": "stream",
     "text": [
      "Epoch 5/8:  70%|██████▉   | 2137/3066 [12:38<05:21,  2.89it/s]"
     ]
    },
    {
     "name": "stdout",
     "output_type": "stream",
     "text": [
      "[EWC] base=0.01351 | pen=0 | pen/base=0.000\n"
     ]
    },
    {
     "name": "stderr",
     "output_type": "stream",
     "text": [
      "Epoch 5/8:  73%|███████▎  | 2237/3066 [13:13<04:44,  2.91it/s]"
     ]
    },
    {
     "name": "stdout",
     "output_type": "stream",
     "text": [
      "[EWC] base=0.01818 | pen=0 | pen/base=0.000\n"
     ]
    },
    {
     "name": "stderr",
     "output_type": "stream",
     "text": [
      "Epoch 5/8:  76%|███████▌  | 2337/3066 [13:48<04:09,  2.92it/s]"
     ]
    },
    {
     "name": "stdout",
     "output_type": "stream",
     "text": [
      "[EWC] base=0.01294 | pen=0 | pen/base=0.000\n"
     ]
    },
    {
     "name": "stderr",
     "output_type": "stream",
     "text": [
      "Epoch 5/8:  79%|███████▉  | 2437/3066 [14:22<03:23,  3.09it/s]"
     ]
    },
    {
     "name": "stdout",
     "output_type": "stream",
     "text": [
      "[EWC] base=0.01325 | pen=0 | pen/base=0.000\n"
     ]
    },
    {
     "name": "stderr",
     "output_type": "stream",
     "text": [
      "Epoch 5/8:  83%|████████▎ | 2537/3066 [14:55<03:03,  2.88it/s]"
     ]
    },
    {
     "name": "stdout",
     "output_type": "stream",
     "text": [
      "[EWC] base=0.01508 | pen=0 | pen/base=0.000\n"
     ]
    },
    {
     "name": "stderr",
     "output_type": "stream",
     "text": [
      "Epoch 5/8:  86%|████████▌ | 2636/3066 [15:31<02:36,  2.75it/s]"
     ]
    },
    {
     "name": "stdout",
     "output_type": "stream",
     "text": [
      "[EWC] base=0.01347 | pen=0 | pen/base=0.000\n"
     ]
    },
    {
     "name": "stderr",
     "output_type": "stream",
     "text": [
      "Epoch 5/8:  89%|████████▉ | 2736/3066 [16:08<02:03,  2.68it/s]"
     ]
    },
    {
     "name": "stdout",
     "output_type": "stream",
     "text": [
      "[EWC] base=0.01513 | pen=0 | pen/base=0.000\n"
     ]
    },
    {
     "name": "stderr",
     "output_type": "stream",
     "text": [
      "Epoch 5/8:  93%|█████████▎| 2837/3066 [16:44<01:18,  2.93it/s]"
     ]
    },
    {
     "name": "stdout",
     "output_type": "stream",
     "text": [
      "[EWC] base=0.01271 | pen=0 | pen/base=0.000\n"
     ]
    },
    {
     "name": "stderr",
     "output_type": "stream",
     "text": [
      "Epoch 5/8:  96%|█████████▌| 2937/3066 [17:19<00:45,  2.81it/s]"
     ]
    },
    {
     "name": "stdout",
     "output_type": "stream",
     "text": [
      "[EWC] base=0.01523 | pen=0 | pen/base=0.000\n"
     ]
    },
    {
     "name": "stderr",
     "output_type": "stream",
     "text": [
      "Epoch 5/8:  99%|█████████▉| 3036/3066 [17:55<00:11,  2.68it/s]"
     ]
    },
    {
     "name": "stdout",
     "output_type": "stream",
     "text": [
      "[EWC] base=0.01476 | pen=0 | pen/base=0.000\n"
     ]
    },
    {
     "name": "stderr",
     "output_type": "stream",
     "text": [
      "                                                              \r"
     ]
    },
    {
     "name": "stdout",
     "output_type": "stream",
     "text": [
      "[TRAIN it/s] epoch 5/8: 2.8 it/s  (3066 iters en 1086.85s)\n"
     ]
    },
    {
     "name": "stderr",
     "output_type": "stream",
     "text": [
      "Epoch 6/8:   2%|▏         | 71/3066 [00:25<17:48,  2.80it/s]"
     ]
    },
    {
     "name": "stdout",
     "output_type": "stream",
     "text": [
      "[EWC] base=0.01664 | pen=0 | pen/base=0.000\n"
     ]
    },
    {
     "name": "stderr",
     "output_type": "stream",
     "text": [
      "Epoch 6/8:   6%|▌         | 171/3066 [01:00<16:31,  2.92it/s]"
     ]
    },
    {
     "name": "stdout",
     "output_type": "stream",
     "text": [
      "[EWC] base=0.01504 | pen=0 | pen/base=0.000\n"
     ]
    },
    {
     "name": "stderr",
     "output_type": "stream",
     "text": [
      "Epoch 6/8:   9%|▉         | 270/3066 [01:34<16:24,  2.84it/s]"
     ]
    },
    {
     "name": "stdout",
     "output_type": "stream",
     "text": [
      "[EWC] base=0.01498 | pen=0 | pen/base=0.000\n"
     ]
    },
    {
     "name": "stderr",
     "output_type": "stream",
     "text": [
      "Epoch 6/8:  12%|█▏        | 371/3066 [02:08<14:50,  3.03it/s]"
     ]
    },
    {
     "name": "stdout",
     "output_type": "stream",
     "text": [
      "[EWC] base=0.01416 | pen=0 | pen/base=0.000\n"
     ]
    },
    {
     "name": "stderr",
     "output_type": "stream",
     "text": [
      "Epoch 6/8:  15%|█▌        | 470/3066 [02:40<15:53,  2.72it/s]"
     ]
    },
    {
     "name": "stdout",
     "output_type": "stream",
     "text": [
      "[EWC] base=0.01222 | pen=0 | pen/base=0.000\n"
     ]
    },
    {
     "name": "stderr",
     "output_type": "stream",
     "text": [
      "Epoch 6/8:  19%|█▊        | 570/3066 [03:17<16:06,  2.58it/s]"
     ]
    },
    {
     "name": "stdout",
     "output_type": "stream",
     "text": [
      "[EWC] base=0.01193 | pen=0 | pen/base=0.000\n"
     ]
    },
    {
     "name": "stderr",
     "output_type": "stream",
     "text": [
      "Epoch 6/8:  22%|██▏       | 671/3066 [03:56<12:54,  3.09it/s]"
     ]
    },
    {
     "name": "stdout",
     "output_type": "stream",
     "text": [
      "[EWC] base=0.01545 | pen=0 | pen/base=0.000\n"
     ]
    },
    {
     "name": "stderr",
     "output_type": "stream",
     "text": [
      "Epoch 6/8:  25%|██▌       | 770/3066 [04:31<14:07,  2.71it/s]"
     ]
    },
    {
     "name": "stdout",
     "output_type": "stream",
     "text": [
      "[EWC] base=0.01086 | pen=0 | pen/base=0.000\n"
     ]
    },
    {
     "name": "stderr",
     "output_type": "stream",
     "text": [
      "Epoch 6/8:  28%|██▊       | 871/3066 [05:08<13:01,  2.81it/s]"
     ]
    },
    {
     "name": "stdout",
     "output_type": "stream",
     "text": [
      "[EWC] base=0.01781 | pen=0 | pen/base=0.000\n"
     ]
    },
    {
     "name": "stderr",
     "output_type": "stream",
     "text": [
      "Epoch 6/8:  32%|███▏      | 970/3066 [05:45<13:57,  2.50it/s]"
     ]
    },
    {
     "name": "stdout",
     "output_type": "stream",
     "text": [
      "[EWC] base=0.01353 | pen=0 | pen/base=0.000\n"
     ]
    },
    {
     "name": "stderr",
     "output_type": "stream",
     "text": [
      "Epoch 6/8:  35%|███▍      | 1071/3066 [06:22<11:19,  2.93it/s]"
     ]
    },
    {
     "name": "stdout",
     "output_type": "stream",
     "text": [
      "[EWC] base=0.01152 | pen=0 | pen/base=0.000\n"
     ]
    },
    {
     "name": "stderr",
     "output_type": "stream",
     "text": [
      "Epoch 6/8:  38%|███▊      | 1171/3066 [06:57<10:44,  2.94it/s]"
     ]
    },
    {
     "name": "stdout",
     "output_type": "stream",
     "text": [
      "[EWC] base=0.009606 | pen=0 | pen/base=0.000\n"
     ]
    },
    {
     "name": "stderr",
     "output_type": "stream",
     "text": [
      "Epoch 6/8:  41%|████▏     | 1271/3066 [07:31<10:23,  2.88it/s]"
     ]
    },
    {
     "name": "stdout",
     "output_type": "stream",
     "text": [
      "[EWC] base=0.01079 | pen=0 | pen/base=0.000\n"
     ]
    },
    {
     "name": "stderr",
     "output_type": "stream",
     "text": [
      "Epoch 6/8:  45%|████▍     | 1371/3066 [08:05<09:10,  3.08it/s]"
     ]
    },
    {
     "name": "stdout",
     "output_type": "stream",
     "text": [
      "[EWC] base=0.01443 | pen=0 | pen/base=0.000\n"
     ]
    },
    {
     "name": "stderr",
     "output_type": "stream",
     "text": [
      "Epoch 6/8:  48%|████▊     | 1471/3066 [08:38<09:05,  2.93it/s]"
     ]
    },
    {
     "name": "stdout",
     "output_type": "stream",
     "text": [
      "[EWC] base=0.01618 | pen=0 | pen/base=0.000\n"
     ]
    },
    {
     "name": "stderr",
     "output_type": "stream",
     "text": [
      "Epoch 6/8:  51%|█████     | 1571/3066 [09:15<08:52,  2.81it/s]"
     ]
    },
    {
     "name": "stdout",
     "output_type": "stream",
     "text": [
      "[EWC] base=0.01432 | pen=0 | pen/base=0.000\n"
     ]
    },
    {
     "name": "stderr",
     "output_type": "stream",
     "text": [
      "Epoch 6/8:  55%|█████▍    | 1671/3066 [09:53<08:39,  2.69it/s]"
     ]
    },
    {
     "name": "stdout",
     "output_type": "stream",
     "text": [
      "[EWC] base=0.01471 | pen=0 | pen/base=0.000\n"
     ]
    },
    {
     "name": "stderr",
     "output_type": "stream",
     "text": [
      "Epoch 6/8:  58%|█████▊    | 1771/3066 [10:29<07:31,  2.87it/s]"
     ]
    },
    {
     "name": "stdout",
     "output_type": "stream",
     "text": [
      "[EWC] base=0.01418 | pen=0 | pen/base=0.000\n"
     ]
    },
    {
     "name": "stderr",
     "output_type": "stream",
     "text": [
      "Epoch 6/8:  61%|██████    | 1870/3066 [11:05<07:25,  2.69it/s]"
     ]
    },
    {
     "name": "stdout",
     "output_type": "stream",
     "text": [
      "[EWC] base=0.0174 | pen=0 | pen/base=0.000\n"
     ]
    },
    {
     "name": "stderr",
     "output_type": "stream",
     "text": [
      "Epoch 6/8:  64%|██████▍   | 1970/3066 [11:41<06:55,  2.64it/s]"
     ]
    },
    {
     "name": "stdout",
     "output_type": "stream",
     "text": [
      "[EWC] base=0.01306 | pen=0 | pen/base=0.000\n"
     ]
    },
    {
     "name": "stderr",
     "output_type": "stream",
     "text": [
      "Epoch 6/8:  68%|██████▊   | 2070/3066 [12:19<05:59,  2.77it/s]"
     ]
    },
    {
     "name": "stdout",
     "output_type": "stream",
     "text": [
      "[EWC] base=0.01432 | pen=0 | pen/base=0.000\n"
     ]
    },
    {
     "name": "stderr",
     "output_type": "stream",
     "text": [
      "Epoch 6/8:  71%|███████   | 2171/3066 [12:54<05:00,  2.98it/s]"
     ]
    },
    {
     "name": "stdout",
     "output_type": "stream",
     "text": [
      "[EWC] base=0.01108 | pen=0 | pen/base=0.000\n"
     ]
    },
    {
     "name": "stderr",
     "output_type": "stream",
     "text": [
      "Epoch 6/8:  74%|███████▍  | 2271/3066 [13:29<04:41,  2.82it/s]"
     ]
    },
    {
     "name": "stdout",
     "output_type": "stream",
     "text": [
      "[EWC] base=0.01221 | pen=0 | pen/base=0.000\n"
     ]
    },
    {
     "name": "stderr",
     "output_type": "stream",
     "text": [
      "Epoch 6/8:  77%|███████▋  | 2371/3066 [14:04<04:08,  2.80it/s]"
     ]
    },
    {
     "name": "stdout",
     "output_type": "stream",
     "text": [
      "[EWC] base=0.009171 | pen=0 | pen/base=0.000\n"
     ]
    },
    {
     "name": "stderr",
     "output_type": "stream",
     "text": [
      "Epoch 6/8:  81%|████████  | 2471/3066 [14:37<03:23,  2.92it/s]"
     ]
    },
    {
     "name": "stdout",
     "output_type": "stream",
     "text": [
      "[EWC] base=0.01573 | pen=0 | pen/base=0.000\n"
     ]
    },
    {
     "name": "stderr",
     "output_type": "stream",
     "text": [
      "Epoch 6/8:  84%|████████▍ | 2570/3066 [15:12<03:09,  2.62it/s]"
     ]
    },
    {
     "name": "stdout",
     "output_type": "stream",
     "text": [
      "[EWC] base=0.01408 | pen=0 | pen/base=0.000\n"
     ]
    },
    {
     "name": "stderr",
     "output_type": "stream",
     "text": [
      "Epoch 6/8:  87%|████████▋ | 2670/3066 [15:50<02:38,  2.50it/s]"
     ]
    },
    {
     "name": "stdout",
     "output_type": "stream",
     "text": [
      "[EWC] base=0.01354 | pen=0 | pen/base=0.000\n"
     ]
    },
    {
     "name": "stderr",
     "output_type": "stream",
     "text": [
      "Epoch 6/8:  90%|█████████ | 2771/3066 [16:25<01:46,  2.78it/s]"
     ]
    },
    {
     "name": "stdout",
     "output_type": "stream",
     "text": [
      "[EWC] base=0.01272 | pen=0 | pen/base=0.000\n"
     ]
    },
    {
     "name": "stderr",
     "output_type": "stream",
     "text": [
      "Epoch 6/8:  94%|█████████▎| 2870/3066 [17:01<01:15,  2.61it/s]"
     ]
    },
    {
     "name": "stdout",
     "output_type": "stream",
     "text": [
      "[EWC] base=0.01246 | pen=0 | pen/base=0.000\n"
     ]
    },
    {
     "name": "stderr",
     "output_type": "stream",
     "text": [
      "Epoch 6/8:  97%|█████████▋| 2970/3066 [17:39<00:37,  2.58it/s]"
     ]
    },
    {
     "name": "stdout",
     "output_type": "stream",
     "text": [
      "[EWC] base=0.01041 | pen=0 | pen/base=0.000\n"
     ]
    },
    {
     "name": "stderr",
     "output_type": "stream",
     "text": [
      "                                                              \r"
     ]
    },
    {
     "name": "stdout",
     "output_type": "stream",
     "text": [
      "[TRAIN it/s] epoch 6/8: 2.8 it/s  (3066 iters en 1094.71s)\n"
     ]
    },
    {
     "name": "stderr",
     "output_type": "stream",
     "text": [
      "Epoch 7/8:   0%|          | 5/3066 [00:02<20:06,  2.54it/s]"
     ]
    },
    {
     "name": "stdout",
     "output_type": "stream",
     "text": [
      "[EWC] base=0.01341 | pen=0 | pen/base=0.000\n"
     ]
    },
    {
     "name": "stderr",
     "output_type": "stream",
     "text": [
      "Epoch 7/8:   3%|▎         | 105/3066 [00:37<16:09,  3.05it/s]"
     ]
    },
    {
     "name": "stdout",
     "output_type": "stream",
     "text": [
      "[EWC] base=0.01338 | pen=0 | pen/base=0.000\n"
     ]
    },
    {
     "name": "stderr",
     "output_type": "stream",
     "text": [
      "Epoch 7/8:   7%|▋         | 205/3066 [01:12<16:42,  2.85it/s]"
     ]
    },
    {
     "name": "stdout",
     "output_type": "stream",
     "text": [
      "[EWC] base=0.01705 | pen=0 | pen/base=0.000\n"
     ]
    },
    {
     "name": "stderr",
     "output_type": "stream",
     "text": [
      "Epoch 7/8:  10%|▉         | 305/3066 [01:46<15:13,  3.02it/s]"
     ]
    },
    {
     "name": "stdout",
     "output_type": "stream",
     "text": [
      "[EWC] base=0.01175 | pen=0 | pen/base=0.000\n"
     ]
    },
    {
     "name": "stderr",
     "output_type": "stream",
     "text": [
      "Epoch 7/8:  13%|█▎        | 405/3066 [02:21<15:26,  2.87it/s]"
     ]
    },
    {
     "name": "stdout",
     "output_type": "stream",
     "text": [
      "[EWC] base=0.01192 | pen=0 | pen/base=0.000\n"
     ]
    },
    {
     "name": "stderr",
     "output_type": "stream",
     "text": [
      "Epoch 7/8:  16%|█▋        | 504/3066 [02:58<16:59,  2.51it/s]"
     ]
    },
    {
     "name": "stdout",
     "output_type": "stream",
     "text": [
      "[EWC] base=0.01333 | pen=0 | pen/base=0.000\n"
     ]
    },
    {
     "name": "stderr",
     "output_type": "stream",
     "text": [
      "Epoch 7/8:  20%|█▉        | 604/3066 [03:36<14:10,  2.89it/s]"
     ]
    },
    {
     "name": "stdout",
     "output_type": "stream",
     "text": [
      "[EWC] base=0.01447 | pen=0 | pen/base=0.000\n"
     ]
    },
    {
     "name": "stderr",
     "output_type": "stream",
     "text": [
      "Epoch 7/8:  23%|██▎       | 704/3066 [04:11<13:57,  2.82it/s]"
     ]
    },
    {
     "name": "stdout",
     "output_type": "stream",
     "text": [
      "[EWC] base=0.01136 | pen=0 | pen/base=0.000\n"
     ]
    },
    {
     "name": "stderr",
     "output_type": "stream",
     "text": [
      "Epoch 7/8:  26%|██▌       | 804/3066 [04:46<13:40,  2.76it/s]"
     ]
    },
    {
     "name": "stdout",
     "output_type": "stream",
     "text": [
      "[EWC] base=0.009683 | pen=0 | pen/base=0.000\n"
     ]
    },
    {
     "name": "stderr",
     "output_type": "stream",
     "text": [
      "Epoch 7/8:  29%|██▉       | 904/3066 [05:24<13:33,  2.66it/s]"
     ]
    },
    {
     "name": "stdout",
     "output_type": "stream",
     "text": [
      "[EWC] base=0.01137 | pen=0 | pen/base=0.000\n"
     ]
    },
    {
     "name": "stderr",
     "output_type": "stream",
     "text": [
      "Epoch 7/8:  33%|███▎      | 1005/3066 [06:01<11:25,  3.00it/s]"
     ]
    },
    {
     "name": "stdout",
     "output_type": "stream",
     "text": [
      "[EWC] base=0.01439 | pen=0 | pen/base=0.000\n"
     ]
    },
    {
     "name": "stderr",
     "output_type": "stream",
     "text": [
      "Epoch 7/8:  36%|███▌      | 1105/3066 [06:36<10:56,  2.99it/s]"
     ]
    },
    {
     "name": "stdout",
     "output_type": "stream",
     "text": [
      "[EWC] base=0.01151 | pen=0 | pen/base=0.000\n"
     ]
    },
    {
     "name": "stderr",
     "output_type": "stream",
     "text": [
      "Epoch 7/8:  39%|███▉      | 1204/3066 [07:10<11:13,  2.76it/s]"
     ]
    },
    {
     "name": "stdout",
     "output_type": "stream",
     "text": [
      "[EWC] base=0.0107 | pen=0 | pen/base=0.000\n"
     ]
    },
    {
     "name": "stderr",
     "output_type": "stream",
     "text": [
      "Epoch 7/8:  43%|████▎     | 1305/3066 [07:44<09:50,  2.98it/s]"
     ]
    },
    {
     "name": "stdout",
     "output_type": "stream",
     "text": [
      "[EWC] base=0.0135 | pen=0 | pen/base=0.000\n"
     ]
    },
    {
     "name": "stderr",
     "output_type": "stream",
     "text": [
      "Epoch 7/8:  46%|████▌     | 1405/3066 [08:18<09:26,  2.93it/s]"
     ]
    },
    {
     "name": "stdout",
     "output_type": "stream",
     "text": [
      "[EWC] base=0.01111 | pen=0 | pen/base=0.000\n"
     ]
    },
    {
     "name": "stderr",
     "output_type": "stream",
     "text": [
      "Epoch 7/8:  49%|████▉     | 1505/3066 [08:54<09:21,  2.78it/s]"
     ]
    },
    {
     "name": "stdout",
     "output_type": "stream",
     "text": [
      "[EWC] base=0.0105 | pen=0 | pen/base=0.000\n"
     ]
    },
    {
     "name": "stderr",
     "output_type": "stream",
     "text": [
      "Epoch 7/8:  52%|█████▏    | 1604/3066 [09:30<09:27,  2.58it/s]"
     ]
    },
    {
     "name": "stdout",
     "output_type": "stream",
     "text": [
      "[EWC] base=0.009586 | pen=0 | pen/base=0.000\n"
     ]
    },
    {
     "name": "stderr",
     "output_type": "stream",
     "text": [
      "Epoch 7/8:  56%|█████▌    | 1705/3066 [10:07<08:22,  2.71it/s]"
     ]
    },
    {
     "name": "stdout",
     "output_type": "stream",
     "text": [
      "[EWC] base=0.01318 | pen=0 | pen/base=0.000\n"
     ]
    },
    {
     "name": "stderr",
     "output_type": "stream",
     "text": [
      "Epoch 7/8:  59%|█████▉    | 1805/3066 [10:43<07:25,  2.83it/s]"
     ]
    },
    {
     "name": "stdout",
     "output_type": "stream",
     "text": [
      "[EWC] base=0.01058 | pen=0 | pen/base=0.000\n"
     ]
    },
    {
     "name": "stderr",
     "output_type": "stream",
     "text": [
      "Epoch 7/8:  62%|██████▏   | 1904/3066 [11:19<06:53,  2.81it/s]"
     ]
    },
    {
     "name": "stdout",
     "output_type": "stream",
     "text": [
      "[EWC] base=0.01243 | pen=0 | pen/base=0.000\n"
     ]
    },
    {
     "name": "stderr",
     "output_type": "stream",
     "text": [
      "Epoch 7/8:  65%|██████▌   | 2005/3066 [11:57<05:53,  3.00it/s]"
     ]
    },
    {
     "name": "stdout",
     "output_type": "stream",
     "text": [
      "[EWC] base=0.01043 | pen=0 | pen/base=0.000\n"
     ]
    },
    {
     "name": "stderr",
     "output_type": "stream",
     "text": [
      "Epoch 7/8:  69%|██████▊   | 2105/3066 [12:32<05:23,  2.97it/s]"
     ]
    },
    {
     "name": "stdout",
     "output_type": "stream",
     "text": [
      "[EWC] base=0.0134 | pen=0 | pen/base=0.000\n"
     ]
    },
    {
     "name": "stderr",
     "output_type": "stream",
     "text": [
      "Epoch 7/8:  72%|███████▏  | 2205/3066 [13:06<05:07,  2.80it/s]"
     ]
    },
    {
     "name": "stdout",
     "output_type": "stream",
     "text": [
      "[EWC] base=0.01157 | pen=0 | pen/base=0.000\n"
     ]
    },
    {
     "name": "stderr",
     "output_type": "stream",
     "text": [
      "Epoch 7/8:  75%|███████▌  | 2305/3066 [13:41<04:14,  2.98it/s]"
     ]
    },
    {
     "name": "stdout",
     "output_type": "stream",
     "text": [
      "[EWC] base=0.01294 | pen=0 | pen/base=0.000\n"
     ]
    },
    {
     "name": "stderr",
     "output_type": "stream",
     "text": [
      "Epoch 7/8:  78%|███████▊  | 2405/3066 [14:15<03:48,  2.89it/s]"
     ]
    },
    {
     "name": "stdout",
     "output_type": "stream",
     "text": [
      "[EWC] base=0.01907 | pen=0 | pen/base=0.000\n"
     ]
    },
    {
     "name": "stderr",
     "output_type": "stream",
     "text": [
      "Epoch 7/8:  82%|████████▏ | 2505/3066 [14:50<03:26,  2.72it/s]"
     ]
    },
    {
     "name": "stdout",
     "output_type": "stream",
     "text": [
      "[EWC] base=0.01032 | pen=0 | pen/base=0.000\n"
     ]
    },
    {
     "name": "stderr",
     "output_type": "stream",
     "text": [
      "Epoch 7/8:  85%|████████▍ | 2605/3066 [15:28<02:41,  2.86it/s]"
     ]
    },
    {
     "name": "stdout",
     "output_type": "stream",
     "text": [
      "[EWC] base=0.01177 | pen=0 | pen/base=0.000\n"
     ]
    },
    {
     "name": "stderr",
     "output_type": "stream",
     "text": [
      "Epoch 7/8:  88%|████████▊ | 2705/3066 [16:04<02:02,  2.96it/s]"
     ]
    },
    {
     "name": "stdout",
     "output_type": "stream",
     "text": [
      "[EWC] base=0.01163 | pen=0 | pen/base=0.000\n"
     ]
    },
    {
     "name": "stderr",
     "output_type": "stream",
     "text": [
      "Epoch 7/8:  91%|█████████▏| 2805/3066 [16:39<01:30,  2.89it/s]"
     ]
    },
    {
     "name": "stdout",
     "output_type": "stream",
     "text": [
      "[EWC] base=0.0111 | pen=0 | pen/base=0.000\n"
     ]
    },
    {
     "name": "stderr",
     "output_type": "stream",
     "text": [
      "Epoch 7/8:  95%|█████████▍| 2905/3066 [17:16<00:58,  2.77it/s]"
     ]
    },
    {
     "name": "stdout",
     "output_type": "stream",
     "text": [
      "[EWC] base=0.01333 | pen=0 | pen/base=0.000\n"
     ]
    },
    {
     "name": "stderr",
     "output_type": "stream",
     "text": [
      "Epoch 7/8:  98%|█████████▊| 3005/3066 [17:53<00:21,  2.86it/s]"
     ]
    },
    {
     "name": "stdout",
     "output_type": "stream",
     "text": [
      "[EWC] base=0.01151 | pen=0 | pen/base=0.000\n"
     ]
    },
    {
     "name": "stderr",
     "output_type": "stream",
     "text": [
      "                                                              \r"
     ]
    },
    {
     "name": "stdout",
     "output_type": "stream",
     "text": [
      "[TRAIN it/s] epoch 7/8: 2.8 it/s  (3066 iters en 1095.11s)\n"
     ]
    },
    {
     "name": "stderr",
     "output_type": "stream",
     "text": [
      "Epoch 8/8:   1%|▏         | 39/3066 [00:14<16:41,  3.02it/s]"
     ]
    },
    {
     "name": "stdout",
     "output_type": "stream",
     "text": [
      "[EWC] base=0.0146 | pen=0 | pen/base=0.000\n"
     ]
    },
    {
     "name": "stderr",
     "output_type": "stream",
     "text": [
      "Epoch 8/8:   5%|▍         | 139/3066 [00:49<16:27,  2.97it/s]"
     ]
    },
    {
     "name": "stdout",
     "output_type": "stream",
     "text": [
      "[EWC] base=0.01582 | pen=0 | pen/base=0.000\n"
     ]
    },
    {
     "name": "stderr",
     "output_type": "stream",
     "text": [
      "Epoch 8/8:   8%|▊         | 239/3066 [01:22<16:11,  2.91it/s]"
     ]
    },
    {
     "name": "stdout",
     "output_type": "stream",
     "text": [
      "[EWC] base=0.009846 | pen=0 | pen/base=0.000\n"
     ]
    },
    {
     "name": "stderr",
     "output_type": "stream",
     "text": [
      "Epoch 8/8:  11%|█         | 338/3066 [01:56<15:19,  2.97it/s]"
     ]
    },
    {
     "name": "stdout",
     "output_type": "stream",
     "text": [
      "[EWC] base=0.0114 | pen=0 | pen/base=0.000\n"
     ]
    },
    {
     "name": "stderr",
     "output_type": "stream",
     "text": [
      "Epoch 8/8:  14%|█▍        | 438/3066 [02:34<16:53,  2.59it/s]"
     ]
    },
    {
     "name": "stdout",
     "output_type": "stream",
     "text": [
      "[EWC] base=0.01328 | pen=0 | pen/base=0.000\n"
     ]
    },
    {
     "name": "stderr",
     "output_type": "stream",
     "text": [
      "Epoch 8/8:  18%|█▊        | 539/3066 [03:11<13:36,  3.10it/s]"
     ]
    },
    {
     "name": "stdout",
     "output_type": "stream",
     "text": [
      "[EWC] base=0.01164 | pen=0 | pen/base=0.000\n"
     ]
    },
    {
     "name": "stderr",
     "output_type": "stream",
     "text": [
      "Epoch 8/8:  21%|██        | 638/3066 [03:46<15:41,  2.58it/s]"
     ]
    },
    {
     "name": "stdout",
     "output_type": "stream",
     "text": [
      "[EWC] base=0.01172 | pen=0 | pen/base=0.000\n"
     ]
    },
    {
     "name": "stderr",
     "output_type": "stream",
     "text": [
      "Epoch 8/8:  24%|██▍       | 738/3066 [04:22<13:51,  2.80it/s]"
     ]
    },
    {
     "name": "stdout",
     "output_type": "stream",
     "text": [
      "[EWC] base=0.01475 | pen=0 | pen/base=0.000\n"
     ]
    },
    {
     "name": "stderr",
     "output_type": "stream",
     "text": [
      "Epoch 8/8:  27%|██▋       | 838/3066 [05:00<13:53,  2.67it/s]"
     ]
    },
    {
     "name": "stdout",
     "output_type": "stream",
     "text": [
      "[EWC] base=0.01422 | pen=0 | pen/base=0.000\n"
     ]
    },
    {
     "name": "stderr",
     "output_type": "stream",
     "text": [
      "Epoch 8/8:  31%|███       | 939/3066 [05:37<12:29,  2.84it/s]"
     ]
    },
    {
     "name": "stdout",
     "output_type": "stream",
     "text": [
      "[EWC] base=0.01182 | pen=0 | pen/base=0.000\n"
     ]
    },
    {
     "name": "stderr",
     "output_type": "stream",
     "text": [
      "Epoch 8/8:  34%|███▍      | 1039/3066 [06:12<11:45,  2.87it/s]"
     ]
    },
    {
     "name": "stdout",
     "output_type": "stream",
     "text": [
      "[EWC] base=0.01444 | pen=0 | pen/base=0.000\n"
     ]
    },
    {
     "name": "stderr",
     "output_type": "stream",
     "text": [
      "Epoch 8/8:  37%|███▋      | 1139/3066 [06:47<11:02,  2.91it/s]"
     ]
    },
    {
     "name": "stdout",
     "output_type": "stream",
     "text": [
      "[EWC] base=0.009274 | pen=0 | pen/base=0.000\n"
     ]
    },
    {
     "name": "stderr",
     "output_type": "stream",
     "text": [
      "Epoch 8/8:  40%|████      | 1239/3066 [07:21<09:47,  3.11it/s]"
     ]
    },
    {
     "name": "stdout",
     "output_type": "stream",
     "text": [
      "[EWC] base=0.00992 | pen=0 | pen/base=0.000\n"
     ]
    },
    {
     "name": "stderr",
     "output_type": "stream",
     "text": [
      "Epoch 8/8:  44%|████▎     | 1339/3066 [07:55<09:34,  3.00it/s]"
     ]
    },
    {
     "name": "stdout",
     "output_type": "stream",
     "text": [
      "[EWC] base=0.01136 | pen=0 | pen/base=0.000\n"
     ]
    },
    {
     "name": "stderr",
     "output_type": "stream",
     "text": [
      "Epoch 8/8:  47%|████▋     | 1439/3066 [08:30<09:41,  2.80it/s]"
     ]
    },
    {
     "name": "stdout",
     "output_type": "stream",
     "text": [
      "[EWC] base=0.009624 | pen=0 | pen/base=0.000\n"
     ]
    },
    {
     "name": "stderr",
     "output_type": "stream",
     "text": [
      "Epoch 8/8:  50%|█████     | 1539/3066 [09:07<09:05,  2.80it/s]"
     ]
    },
    {
     "name": "stdout",
     "output_type": "stream",
     "text": [
      "[EWC] base=0.01302 | pen=0 | pen/base=0.000\n"
     ]
    },
    {
     "name": "stderr",
     "output_type": "stream",
     "text": [
      "Epoch 8/8:  53%|█████▎    | 1639/3066 [09:42<08:48,  2.70it/s]"
     ]
    },
    {
     "name": "stdout",
     "output_type": "stream",
     "text": [
      "[EWC] base=0.01383 | pen=0 | pen/base=0.000\n"
     ]
    },
    {
     "name": "stderr",
     "output_type": "stream",
     "text": [
      "Epoch 8/8:  57%|█████▋    | 1739/3066 [10:18<08:06,  2.73it/s]"
     ]
    },
    {
     "name": "stdout",
     "output_type": "stream",
     "text": [
      "[EWC] base=0.009888 | pen=0 | pen/base=0.000\n"
     ]
    },
    {
     "name": "stderr",
     "output_type": "stream",
     "text": [
      "Epoch 8/8:  60%|█████▉    | 1839/3066 [10:55<07:43,  2.65it/s]"
     ]
    },
    {
     "name": "stdout",
     "output_type": "stream",
     "text": [
      "[EWC] base=0.01164 | pen=0 | pen/base=0.000\n"
     ]
    },
    {
     "name": "stderr",
     "output_type": "stream",
     "text": [
      "Epoch 8/8:  63%|██████▎   | 1939/3066 [11:33<06:35,  2.85it/s]"
     ]
    },
    {
     "name": "stdout",
     "output_type": "stream",
     "text": [
      "[EWC] base=0.007901 | pen=0 | pen/base=0.000\n"
     ]
    },
    {
     "name": "stderr",
     "output_type": "stream",
     "text": [
      "Epoch 8/8:  67%|██████▋   | 2039/3066 [12:09<05:50,  2.93it/s]"
     ]
    },
    {
     "name": "stdout",
     "output_type": "stream",
     "text": [
      "[EWC] base=0.01275 | pen=0 | pen/base=0.000\n"
     ]
    },
    {
     "name": "stderr",
     "output_type": "stream",
     "text": [
      "Epoch 8/8:  70%|██████▉   | 2139/3066 [12:43<05:16,  2.93it/s]"
     ]
    },
    {
     "name": "stdout",
     "output_type": "stream",
     "text": [
      "[EWC] base=0.008419 | pen=0 | pen/base=0.000\n"
     ]
    },
    {
     "name": "stderr",
     "output_type": "stream",
     "text": [
      "Epoch 8/8:  73%|███████▎  | 2239/3066 [13:17<04:27,  3.09it/s]"
     ]
    },
    {
     "name": "stdout",
     "output_type": "stream",
     "text": [
      "[EWC] base=0.01303 | pen=0 | pen/base=0.000\n"
     ]
    },
    {
     "name": "stderr",
     "output_type": "stream",
     "text": [
      "Epoch 8/8:  76%|███████▋  | 2339/3066 [13:52<04:19,  2.80it/s]"
     ]
    },
    {
     "name": "stdout",
     "output_type": "stream",
     "text": [
      "[EWC] base=0.008758 | pen=0 | pen/base=0.000\n"
     ]
    },
    {
     "name": "stderr",
     "output_type": "stream",
     "text": [
      "Epoch 8/8:  80%|███████▉  | 2438/3066 [14:29<03:45,  2.79it/s]"
     ]
    },
    {
     "name": "stdout",
     "output_type": "stream",
     "text": [
      "[EWC] base=0.0142 | pen=0 | pen/base=0.000\n"
     ]
    },
    {
     "name": "stderr",
     "output_type": "stream",
     "text": [
      "Epoch 8/8:  83%|████████▎ | 2538/3066 [15:07<03:10,  2.77it/s]"
     ]
    },
    {
     "name": "stdout",
     "output_type": "stream",
     "text": [
      "[EWC] base=0.01299 | pen=0 | pen/base=0.000\n"
     ]
    },
    {
     "name": "stderr",
     "output_type": "stream",
     "text": [
      "Epoch 8/8:  86%|████████▌ | 2638/3066 [15:41<02:41,  2.65it/s]"
     ]
    },
    {
     "name": "stdout",
     "output_type": "stream",
     "text": [
      "[EWC] base=0.01198 | pen=0 | pen/base=0.000\n"
     ]
    },
    {
     "name": "stderr",
     "output_type": "stream",
     "text": [
      "Epoch 8/8:  89%|████████▉ | 2738/3066 [16:18<02:06,  2.60it/s]"
     ]
    },
    {
     "name": "stdout",
     "output_type": "stream",
     "text": [
      "[EWC] base=0.01223 | pen=0 | pen/base=0.000\n"
     ]
    },
    {
     "name": "stderr",
     "output_type": "stream",
     "text": [
      "Epoch 8/8:  93%|█████████▎| 2838/3066 [16:56<01:24,  2.70it/s]"
     ]
    },
    {
     "name": "stdout",
     "output_type": "stream",
     "text": [
      "[EWC] base=0.01606 | pen=0 | pen/base=0.000\n"
     ]
    },
    {
     "name": "stderr",
     "output_type": "stream",
     "text": [
      "Epoch 8/8:  96%|█████████▌| 2938/3066 [17:35<00:55,  2.33it/s]"
     ]
    },
    {
     "name": "stdout",
     "output_type": "stream",
     "text": [
      "[EWC] base=0.01224 | pen=0 | pen/base=0.000\n"
     ]
    },
    {
     "name": "stderr",
     "output_type": "stream",
     "text": [
      "Epoch 8/8:  99%|█████████▉| 3038/3066 [18:13<00:11,  2.37it/s]"
     ]
    },
    {
     "name": "stdout",
     "output_type": "stream",
     "text": [
      "[EWC] base=0.01071 | pen=0 | pen/base=0.000\n"
     ]
    },
    {
     "name": "stderr",
     "output_type": "stream",
     "text": [
      "                                                              \r"
     ]
    },
    {
     "name": "stdout",
     "output_type": "stream",
     "text": [
      "[TRAIN it/s] epoch 8/8: 2.8 it/s  (3066 iters en 1104.86s)\n",
      "[EWC] after_task: estimando Fisher en TRAIN (len=3066), cap=1000...\n",
      "[EWC] Fisher listo: batches_usados=1000 | sum=3.535e-01 | max=3.305e-01\n",
      "\n",
      "--- Tarea 2/2: circuito2 | preset=std | method=ewc_lam_1e+09 | B=96 T=16 AMP=True | enc=rate ---\n"
     ]
    },
    {
     "name": "stderr",
     "output_type": "stream",
     "text": [
      "Epoch 1/8:   0%|          | 0/1011 [00:00<?, ?it/s]"
     ]
    },
    {
     "name": "stdout",
     "output_type": "stream",
     "text": [
      "[EWC] base=0.2876 | pen=0 | pen/base=0.000\n"
     ]
    },
    {
     "name": "stderr",
     "output_type": "stream",
     "text": [
      "Epoch 1/8:  10%|▉         | 100/1011 [00:45<06:40,  2.28it/s]"
     ]
    },
    {
     "name": "stdout",
     "output_type": "stream",
     "text": [
      "[EWC] base=0.1834 | pen=1.131 | pen/base=6.166 | λ_actual=1.000e+09 → λ_sugerido≈1.622e+08 (target pen/base=1.0)\n"
     ]
    },
    {
     "name": "stderr",
     "output_type": "stream",
     "text": [
      "Epoch 1/8:  20%|█▉        | 200/1011 [01:29<05:57,  2.27it/s]"
     ]
    },
    {
     "name": "stdout",
     "output_type": "stream",
     "text": [
      "[EWC] base=0.1876 | pen=1.591 | pen/base=8.482 | λ_actual=1.000e+09 → λ_sugerido≈1.179e+08 (target pen/base=1.0)\n"
     ]
    },
    {
     "name": "stderr",
     "output_type": "stream",
     "text": [
      "Epoch 1/8:  30%|██▉       | 300/1011 [02:10<04:29,  2.64it/s]"
     ]
    },
    {
     "name": "stdout",
     "output_type": "stream",
     "text": [
      "[EWC] base=0.1973 | pen=1.451 | pen/base=7.352 | λ_actual=1.000e+09 → λ_sugerido≈1.360e+08 (target pen/base=1.0)\n"
     ]
    },
    {
     "name": "stderr",
     "output_type": "stream",
     "text": [
      "Epoch 1/8:  40%|███▉      | 400/1011 [02:50<03:59,  2.55it/s]"
     ]
    },
    {
     "name": "stdout",
     "output_type": "stream",
     "text": [
      "[EWC] base=0.2583 | pen=0.4269 | pen/base=1.652 | λ_actual=1.000e+09 → λ_sugerido≈6.052e+08 (target pen/base=1.0)\n"
     ]
    },
    {
     "name": "stderr",
     "output_type": "stream",
     "text": [
      "Epoch 1/8:  49%|████▉     | 500/1011 [03:28<03:09,  2.70it/s]"
     ]
    },
    {
     "name": "stdout",
     "output_type": "stream",
     "text": [
      "[EWC] base=0.2121 | pen=0.7033 | pen/base=3.316 | λ_actual=1.000e+09 → λ_sugerido≈3.015e+08 (target pen/base=1.0)\n"
     ]
    },
    {
     "name": "stderr",
     "output_type": "stream",
     "text": [
      "Epoch 1/8:  59%|█████▉    | 600/1011 [04:06<02:40,  2.56it/s]"
     ]
    },
    {
     "name": "stdout",
     "output_type": "stream",
     "text": [
      "[EWC] base=0.2164 | pen=1.395 | pen/base=6.448 | λ_actual=1.000e+09 → λ_sugerido≈1.551e+08 (target pen/base=1.0)\n"
     ]
    },
    {
     "name": "stderr",
     "output_type": "stream",
     "text": [
      "Epoch 1/8:  69%|██████▉   | 700/1011 [04:45<01:54,  2.72it/s]"
     ]
    },
    {
     "name": "stdout",
     "output_type": "stream",
     "text": [
      "[EWC] base=0.1856 | pen=0.4012 | pen/base=2.161 | λ_actual=1.000e+09 → λ_sugerido≈4.627e+08 (target pen/base=1.0)\n"
     ]
    },
    {
     "name": "stderr",
     "output_type": "stream",
     "text": [
      "Epoch 1/8:  79%|███████▉  | 800/1011 [05:24<01:24,  2.51it/s]"
     ]
    },
    {
     "name": "stdout",
     "output_type": "stream",
     "text": [
      "[EWC] base=0.21 | pen=0.6883 | pen/base=3.277 | λ_actual=1.000e+09 → λ_sugerido≈3.052e+08 (target pen/base=1.0)\n"
     ]
    },
    {
     "name": "stderr",
     "output_type": "stream",
     "text": [
      "Epoch 1/8:  89%|████████▉ | 900/1011 [06:04<00:42,  2.59it/s]"
     ]
    },
    {
     "name": "stdout",
     "output_type": "stream",
     "text": [
      "[EWC] base=0.2799 | pen=1.385 | pen/base=4.948 | λ_actual=1.000e+09 → λ_sugerido≈2.021e+08 (target pen/base=1.0)\n"
     ]
    },
    {
     "name": "stderr",
     "output_type": "stream",
     "text": [
      "Epoch 1/8:  99%|█████████▉| 1000/1011 [06:46<00:04,  2.29it/s]"
     ]
    },
    {
     "name": "stdout",
     "output_type": "stream",
     "text": [
      "[EWC] base=0.2406 | pen=0.3958 | pen/base=1.645 | λ_actual=1.000e+09 → λ_sugerido≈6.079e+08 (target pen/base=1.0)\n"
     ]
    },
    {
     "name": "stderr",
     "output_type": "stream",
     "text": [
      "                                                              "
     ]
    },
    {
     "name": "stdout",
     "output_type": "stream",
     "text": [
      "[TRAIN it/s] epoch 1/8: 2.5 it/s  (1011 iters en 411.48s)\n"
     ]
    },
    {
     "name": "stderr",
     "output_type": "stream",
     "text": [
      "Epoch 2/8:   9%|▉         | 89/1011 [00:39<06:40,  2.30it/s]"
     ]
    },
    {
     "name": "stdout",
     "output_type": "stream",
     "text": [
      "[EWC] base=0.2113 | pen=0.6846 | pen/base=3.240 | λ_actual=1.000e+09 → λ_sugerido≈3.087e+08 (target pen/base=1.0)\n"
     ]
    },
    {
     "name": "stderr",
     "output_type": "stream",
     "text": [
      "Epoch 2/8:  19%|█▊        | 189/1011 [01:21<05:36,  2.44it/s]"
     ]
    },
    {
     "name": "stdout",
     "output_type": "stream",
     "text": [
      "[EWC] base=0.1835 | pen=1.459 | pen/base=7.953 | λ_actual=1.000e+09 → λ_sugerido≈1.257e+08 (target pen/base=1.0)\n"
     ]
    },
    {
     "name": "stderr",
     "output_type": "stream",
     "text": [
      "Epoch 2/8:  29%|██▊       | 289/1011 [02:03<05:02,  2.39it/s]"
     ]
    },
    {
     "name": "stdout",
     "output_type": "stream",
     "text": [
      "[EWC] base=0.2558 | pen=1.505 | pen/base=5.885 | λ_actual=1.000e+09 → λ_sugerido≈1.699e+08 (target pen/base=1.0)\n"
     ]
    },
    {
     "name": "stderr",
     "output_type": "stream",
     "text": [
      "Epoch 2/8:  38%|███▊      | 389/1011 [02:44<04:18,  2.40it/s]"
     ]
    },
    {
     "name": "stdout",
     "output_type": "stream",
     "text": [
      "[EWC] base=0.2136 | pen=0.662 | pen/base=3.099 | λ_actual=1.000e+09 → λ_sugerido≈3.226e+08 (target pen/base=1.0)\n"
     ]
    },
    {
     "name": "stderr",
     "output_type": "stream",
     "text": [
      "Epoch 2/8:  48%|████▊     | 489/1011 [03:26<03:32,  2.46it/s]"
     ]
    },
    {
     "name": "stdout",
     "output_type": "stream",
     "text": [
      "[EWC] base=0.2478 | pen=1.413 | pen/base=5.703 | λ_actual=1.000e+09 → λ_sugerido≈1.754e+08 (target pen/base=1.0)\n"
     ]
    },
    {
     "name": "stderr",
     "output_type": "stream",
     "text": [
      "Epoch 2/8:  58%|█████▊    | 589/1011 [04:07<02:51,  2.47it/s]"
     ]
    },
    {
     "name": "stdout",
     "output_type": "stream",
     "text": [
      "[EWC] base=0.2502 | pen=0.491 | pen/base=1.962 | λ_actual=1.000e+09 → λ_sugerido≈5.096e+08 (target pen/base=1.0)\n"
     ]
    },
    {
     "name": "stderr",
     "output_type": "stream",
     "text": [
      "Epoch 2/8:  68%|██████▊   | 689/1011 [04:48<02:18,  2.33it/s]"
     ]
    },
    {
     "name": "stdout",
     "output_type": "stream",
     "text": [
      "[EWC] base=0.2259 | pen=0.6867 | pen/base=3.041 | λ_actual=1.000e+09 → λ_sugerido≈3.289e+08 (target pen/base=1.0)\n"
     ]
    },
    {
     "name": "stderr",
     "output_type": "stream",
     "text": [
      "Epoch 2/8:  78%|███████▊  | 789/1011 [05:28<01:32,  2.40it/s]"
     ]
    },
    {
     "name": "stdout",
     "output_type": "stream",
     "text": [
      "[EWC] base=0.2407 | pen=1.465 | pen/base=6.086 | λ_actual=1.000e+09 → λ_sugerido≈1.643e+08 (target pen/base=1.0)\n"
     ]
    },
    {
     "name": "stderr",
     "output_type": "stream",
     "text": [
      "Epoch 2/8:  88%|████████▊ | 889/1011 [06:12<00:54,  2.25it/s]"
     ]
    },
    {
     "name": "stdout",
     "output_type": "stream",
     "text": [
      "[EWC] base=0.2381 | pen=0.3804 | pen/base=1.597 | λ_actual=1.000e+09 → λ_sugerido≈6.260e+08 (target pen/base=1.0)\n"
     ]
    },
    {
     "name": "stderr",
     "output_type": "stream",
     "text": [
      "Epoch 2/8:  98%|█████████▊| 989/1011 [06:55<00:09,  2.32it/s]"
     ]
    },
    {
     "name": "stdout",
     "output_type": "stream",
     "text": [
      "[EWC] base=0.2069 | pen=0.6643 | pen/base=3.211 | λ_actual=1.000e+09 → λ_sugerido≈3.114e+08 (target pen/base=1.0)\n"
     ]
    },
    {
     "name": "stderr",
     "output_type": "stream",
     "text": [
      "                                                              \r"
     ]
    },
    {
     "name": "stdout",
     "output_type": "stream",
     "text": [
      "[TRAIN it/s] epoch 2/8: 2.4 it/s  (1011 iters en 425.01s)\n"
     ]
    },
    {
     "name": "stderr",
     "output_type": "stream",
     "text": [
      "Epoch 3/8:   8%|▊         | 78/1011 [00:32<06:28,  2.40it/s]"
     ]
    },
    {
     "name": "stdout",
     "output_type": "stream",
     "text": [
      "[EWC] base=0.2036 | pen=1.42 | pen/base=6.977 | λ_actual=1.000e+09 → λ_sugerido≈1.433e+08 (target pen/base=1.0)\n"
     ]
    },
    {
     "name": "stderr",
     "output_type": "stream",
     "text": [
      "Epoch 3/8:  18%|█▊        | 179/1011 [01:12<05:07,  2.71it/s]"
     ]
    },
    {
     "name": "stdout",
     "output_type": "stream",
     "text": [
      "[EWC] base=0.2328 | pen=0.6254 | pen/base=2.686 | λ_actual=1.000e+09 → λ_sugerido≈3.723e+08 (target pen/base=1.0)\n"
     ]
    },
    {
     "name": "stderr",
     "output_type": "stream",
     "text": [
      "Epoch 3/8:  27%|██▋       | 278/1011 [01:49<04:43,  2.59it/s]"
     ]
    },
    {
     "name": "stdout",
     "output_type": "stream",
     "text": [
      "[EWC] base=0.2329 | pen=0.6637 | pen/base=2.850 | λ_actual=1.000e+09 → λ_sugerido≈3.509e+08 (target pen/base=1.0)\n"
     ]
    },
    {
     "name": "stderr",
     "output_type": "stream",
     "text": [
      "Epoch 3/8:  37%|███▋      | 378/1011 [02:27<04:13,  2.50it/s]"
     ]
    },
    {
     "name": "stdout",
     "output_type": "stream",
     "text": [
      "[EWC] base=0.2211 | pen=1.46 | pen/base=6.602 | λ_actual=1.000e+09 → λ_sugerido≈1.515e+08 (target pen/base=1.0)\n"
     ]
    },
    {
     "name": "stderr",
     "output_type": "stream",
     "text": [
      "Epoch 3/8:  47%|████▋     | 478/1011 [03:05<03:43,  2.38it/s]"
     ]
    },
    {
     "name": "stdout",
     "output_type": "stream",
     "text": [
      "[EWC] base=0.213 | pen=1.414 | pen/base=6.639 | λ_actual=1.000e+09 → λ_sugerido≈1.506e+08 (target pen/base=1.0)\n"
     ]
    },
    {
     "name": "stderr",
     "output_type": "stream",
     "text": [
      "Epoch 3/8:  57%|█████▋    | 578/1011 [03:45<02:47,  2.58it/s]"
     ]
    },
    {
     "name": "stdout",
     "output_type": "stream",
     "text": [
      "[EWC] base=0.2252 | pen=0.4023 | pen/base=1.786 | λ_actual=1.000e+09 → λ_sugerido≈5.598e+08 (target pen/base=1.0)\n"
     ]
    },
    {
     "name": "stderr",
     "output_type": "stream",
     "text": [
      "Epoch 3/8:  67%|██████▋   | 678/1011 [04:26<02:16,  2.43it/s]"
     ]
    },
    {
     "name": "stdout",
     "output_type": "stream",
     "text": [
      "[EWC] base=0.214 | pen=0.6608 | pen/base=3.088 | λ_actual=1.000e+09 → λ_sugerido≈3.238e+08 (target pen/base=1.0)\n"
     ]
    },
    {
     "name": "stderr",
     "output_type": "stream",
     "text": [
      "Epoch 3/8:  77%|███████▋  | 778/1011 [05:10<01:43,  2.24it/s]"
     ]
    },
    {
     "name": "stdout",
     "output_type": "stream",
     "text": [
      "[EWC] base=0.238 | pen=1.506 | pen/base=6.326 | λ_actual=1.000e+09 → λ_sugerido≈1.581e+08 (target pen/base=1.0)\n"
     ]
    },
    {
     "name": "stderr",
     "output_type": "stream",
     "text": [
      "Epoch 3/8:  87%|████████▋ | 878/1011 [05:52<00:57,  2.32it/s]"
     ]
    },
    {
     "name": "stdout",
     "output_type": "stream",
     "text": [
      "[EWC] base=0.2287 | pen=0.485 | pen/base=2.121 | λ_actual=1.000e+09 → λ_sugerido≈4.715e+08 (target pen/base=1.0)\n"
     ]
    },
    {
     "name": "stderr",
     "output_type": "stream",
     "text": [
      "Epoch 3/8:  97%|█████████▋| 978/1011 [06:34<00:13,  2.38it/s]"
     ]
    },
    {
     "name": "stdout",
     "output_type": "stream",
     "text": [
      "[EWC] base=0.2016 | pen=0.6681 | pen/base=3.314 | λ_actual=1.000e+09 → λ_sugerido≈3.018e+08 (target pen/base=1.0)\n"
     ]
    },
    {
     "name": "stderr",
     "output_type": "stream",
     "text": [
      "                                                              \r"
     ]
    },
    {
     "name": "stdout",
     "output_type": "stream",
     "text": [
      "[TRAIN it/s] epoch 3/8: 2.5 it/s  (1011 iters en 408.31s)\n"
     ]
    },
    {
     "name": "stderr",
     "output_type": "stream",
     "text": [
      "Epoch 4/8:   7%|▋         | 67/1011 [00:27<06:29,  2.42it/s]"
     ]
    },
    {
     "name": "stdout",
     "output_type": "stream",
     "text": [
      "[EWC] base=0.2489 | pen=1.421 | pen/base=5.708 | λ_actual=1.000e+09 → λ_sugerido≈1.752e+08 (target pen/base=1.0)\n"
     ]
    },
    {
     "name": "stderr",
     "output_type": "stream",
     "text": [
      "Epoch 4/8:  17%|█▋        | 167/1011 [01:08<05:47,  2.43it/s]"
     ]
    },
    {
     "name": "stdout",
     "output_type": "stream",
     "text": [
      "[EWC] base=0.2108 | pen=0.3954 | pen/base=1.876 | λ_actual=1.000e+09 → λ_sugerido≈5.330e+08 (target pen/base=1.0)\n"
     ]
    },
    {
     "name": "stderr",
     "output_type": "stream",
     "text": [
      "Epoch 4/8:  26%|██▋       | 267/1011 [01:49<04:53,  2.53it/s]"
     ]
    },
    {
     "name": "stdout",
     "output_type": "stream",
     "text": [
      "[EWC] base=0.2392 | pen=0.678 | pen/base=2.835 | λ_actual=1.000e+09 → λ_sugerido≈3.528e+08 (target pen/base=1.0)\n"
     ]
    },
    {
     "name": "stderr",
     "output_type": "stream",
     "text": [
      "Epoch 4/8:  36%|███▋      | 367/1011 [02:30<04:13,  2.54it/s]"
     ]
    },
    {
     "name": "stdout",
     "output_type": "stream",
     "text": [
      "[EWC] base=0.1775 | pen=1.474 | pen/base=8.303 | λ_actual=1.000e+09 → λ_sugerido≈1.204e+08 (target pen/base=1.0)\n"
     ]
    },
    {
     "name": "stderr",
     "output_type": "stream",
     "text": [
      "Epoch 4/8:  46%|████▌     | 467/1011 [03:09<03:51,  2.35it/s]"
     ]
    },
    {
     "name": "stdout",
     "output_type": "stream",
     "text": [
      "[EWC] base=0.2016 | pen=0.416 | pen/base=2.063 | λ_actual=1.000e+09 → λ_sugerido≈4.847e+08 (target pen/base=1.0)\n"
     ]
    },
    {
     "name": "stderr",
     "output_type": "stream",
     "text": [
      "Epoch 4/8:  56%|█████▌    | 567/1011 [03:52<03:08,  2.35it/s]"
     ]
    },
    {
     "name": "stdout",
     "output_type": "stream",
     "text": [
      "[EWC] base=0.2112 | pen=0.6655 | pen/base=3.151 | λ_actual=1.000e+09 → λ_sugerido≈3.173e+08 (target pen/base=1.0)\n"
     ]
    },
    {
     "name": "stderr",
     "output_type": "stream",
     "text": [
      "Epoch 4/8:  66%|██████▌   | 667/1011 [04:35<02:30,  2.28it/s]"
     ]
    },
    {
     "name": "stdout",
     "output_type": "stream",
     "text": [
      "[EWC] base=0.1533 | pen=1.409 | pen/base=9.189 | λ_actual=1.000e+09 → λ_sugerido≈1.088e+08 (target pen/base=1.0)\n"
     ]
    },
    {
     "name": "stderr",
     "output_type": "stream",
     "text": [
      "Epoch 4/8:  76%|███████▌  | 767/1011 [05:17<01:44,  2.33it/s]"
     ]
    },
    {
     "name": "stdout",
     "output_type": "stream",
     "text": [
      "[EWC] base=0.2255 | pen=0.4356 | pen/base=1.931 | λ_actual=1.000e+09 → λ_sugerido≈5.178e+08 (target pen/base=1.0)\n"
     ]
    },
    {
     "name": "stderr",
     "output_type": "stream",
     "text": [
      "Epoch 4/8:  86%|████████▌ | 867/1011 [05:59<01:00,  2.37it/s]"
     ]
    },
    {
     "name": "stdout",
     "output_type": "stream",
     "text": [
      "[EWC] base=0.243 | pen=0.7643 | pen/base=3.145 | λ_actual=1.000e+09 → λ_sugerido≈3.179e+08 (target pen/base=1.0)\n"
     ]
    },
    {
     "name": "stderr",
     "output_type": "stream",
     "text": [
      "Epoch 4/8:  96%|█████████▌| 967/1011 [06:41<00:18,  2.44it/s]"
     ]
    },
    {
     "name": "stdout",
     "output_type": "stream",
     "text": [
      "[EWC] base=0.2231 | pen=1.415 | pen/base=6.343 | λ_actual=1.000e+09 → λ_sugerido≈1.577e+08 (target pen/base=1.0)\n"
     ]
    },
    {
     "name": "stderr",
     "output_type": "stream",
     "text": [
      "                                                              \r"
     ]
    },
    {
     "name": "stdout",
     "output_type": "stream",
     "text": [
      "[TRAIN it/s] epoch 4/8: 2.4 it/s  (1011 iters en 419.84s)\n"
     ]
    },
    {
     "name": "stderr",
     "output_type": "stream",
     "text": [
      "Epoch 5/8:   6%|▌         | 57/1011 [00:22<06:26,  2.47it/s]"
     ]
    },
    {
     "name": "stdout",
     "output_type": "stream",
     "text": [
      "[EWC] base=0.2574 | pen=0.4318 | pen/base=1.678 | λ_actual=1.000e+09 → λ_sugerido≈5.960e+08 (target pen/base=1.0)\n"
     ]
    },
    {
     "name": "stderr",
     "output_type": "stream",
     "text": [
      "Epoch 5/8:  15%|█▌        | 156/1011 [01:02<05:56,  2.40it/s]"
     ]
    },
    {
     "name": "stdout",
     "output_type": "stream",
     "text": [
      "[EWC] base=0.2332 | pen=0.6686 | pen/base=2.866 | λ_actual=1.000e+09 → λ_sugerido≈3.489e+08 (target pen/base=1.0)\n"
     ]
    },
    {
     "name": "stderr",
     "output_type": "stream",
     "text": [
      "Epoch 5/8:  25%|██▌       | 256/1011 [01:42<04:29,  2.80it/s]"
     ]
    },
    {
     "name": "stdout",
     "output_type": "stream",
     "text": [
      "[EWC] base=0.1623 | pen=1.46 | pen/base=8.997 | λ_actual=1.000e+09 → λ_sugerido≈1.111e+08 (target pen/base=1.0)\n"
     ]
    },
    {
     "name": "stderr",
     "output_type": "stream",
     "text": [
      "Epoch 5/8:  35%|███▌      | 356/1011 [02:22<04:43,  2.31it/s]"
     ]
    },
    {
     "name": "stdout",
     "output_type": "stream",
     "text": [
      "[EWC] base=0.2085 | pen=0.7407 | pen/base=3.553 | λ_actual=1.000e+09 → λ_sugerido≈2.814e+08 (target pen/base=1.0)\n"
     ]
    },
    {
     "name": "stderr",
     "output_type": "stream",
     "text": [
      "Epoch 5/8:  45%|████▌     | 456/1011 [03:04<04:01,  2.30it/s]"
     ]
    },
    {
     "name": "stdout",
     "output_type": "stream",
     "text": [
      "[EWC] base=0.2105 | pen=0.4403 | pen/base=2.092 | λ_actual=1.000e+09 → λ_sugerido≈4.781e+08 (target pen/base=1.0)\n"
     ]
    },
    {
     "name": "stderr",
     "output_type": "stream",
     "text": [
      "Epoch 5/8:  55%|█████▍    | 556/1011 [03:46<03:08,  2.41it/s]"
     ]
    },
    {
     "name": "stdout",
     "output_type": "stream",
     "text": [
      "[EWC] base=0.2032 | pen=0.6642 | pen/base=3.268 | λ_actual=1.000e+09 → λ_sugerido≈3.060e+08 (target pen/base=1.0)\n"
     ]
    },
    {
     "name": "stderr",
     "output_type": "stream",
     "text": [
      "Epoch 5/8:  65%|██████▍   | 656/1011 [04:27<02:21,  2.50it/s]"
     ]
    },
    {
     "name": "stdout",
     "output_type": "stream",
     "text": [
      "[EWC] base=0.1913 | pen=1.441 | pen/base=7.534 | λ_actual=1.000e+09 → λ_sugerido≈1.327e+08 (target pen/base=1.0)\n"
     ]
    },
    {
     "name": "stderr",
     "output_type": "stream",
     "text": [
      "Epoch 5/8:  75%|███████▍  | 756/1011 [05:07<01:49,  2.34it/s]"
     ]
    },
    {
     "name": "stdout",
     "output_type": "stream",
     "text": [
      "[EWC] base=0.1772 | pen=0.5589 | pen/base=3.153 | λ_actual=1.000e+09 → λ_sugerido≈3.171e+08 (target pen/base=1.0)\n"
     ]
    },
    {
     "name": "stderr",
     "output_type": "stream",
     "text": [
      "Epoch 5/8:  85%|████████▍ | 856/1011 [05:44<00:57,  2.70it/s]"
     ]
    },
    {
     "name": "stdout",
     "output_type": "stream",
     "text": [
      "[EWC] base=0.2148 | pen=0.6846 | pen/base=3.187 | λ_actual=1.000e+09 → λ_sugerido≈3.138e+08 (target pen/base=1.0)\n"
     ]
    },
    {
     "name": "stderr",
     "output_type": "stream",
     "text": [
      "Epoch 5/8:  95%|█████████▍| 957/1011 [06:21<00:19,  2.79it/s]"
     ]
    },
    {
     "name": "stdout",
     "output_type": "stream",
     "text": [
      "[EWC] base=0.1856 | pen=1.503 | pen/base=8.098 | λ_actual=1.000e+09 → λ_sugerido≈1.235e+08 (target pen/base=1.0)\n"
     ]
    },
    {
     "name": "stderr",
     "output_type": "stream",
     "text": [
      "                                                              \r"
     ]
    },
    {
     "name": "stdout",
     "output_type": "stream",
     "text": [
      "[TRAIN it/s] epoch 5/8: 2.5 it/s  (1011 iters en 400.89s)\n"
     ]
    },
    {
     "name": "stderr",
     "output_type": "stream",
     "text": [
      "Epoch 6/8:   5%|▍         | 46/1011 [00:18<06:07,  2.63it/s]"
     ]
    },
    {
     "name": "stdout",
     "output_type": "stream",
     "text": [
      "[EWC] base=0.1915 | pen=0.3841 | pen/base=2.006 | λ_actual=1.000e+09 → λ_sugerido≈4.985e+08 (target pen/base=1.0)\n"
     ]
    },
    {
     "name": "stderr",
     "output_type": "stream",
     "text": [
      "Epoch 6/8:  14%|█▍        | 146/1011 [00:55<04:58,  2.90it/s]"
     ]
    },
    {
     "name": "stdout",
     "output_type": "stream",
     "text": [
      "[EWC] base=0.2301 | pen=0.6683 | pen/base=2.905 | λ_actual=1.000e+09 → λ_sugerido≈3.443e+08 (target pen/base=1.0)\n"
     ]
    },
    {
     "name": "stderr",
     "output_type": "stream",
     "text": [
      "Epoch 6/8:  24%|██▍       | 246/1011 [01:32<04:36,  2.77it/s]"
     ]
    },
    {
     "name": "stdout",
     "output_type": "stream",
     "text": [
      "[EWC] base=0.2066 | pen=1.464 | pen/base=7.089 | λ_actual=1.000e+09 → λ_sugerido≈1.411e+08 (target pen/base=1.0)\n"
     ]
    },
    {
     "name": "stderr",
     "output_type": "stream",
     "text": [
      "Epoch 6/8:  34%|███▍      | 345/1011 [02:11<04:37,  2.40it/s]"
     ]
    },
    {
     "name": "stdout",
     "output_type": "stream",
     "text": [
      "[EWC] base=0.1957 | pen=0.4498 | pen/base=2.299 | λ_actual=1.000e+09 → λ_sugerido≈4.350e+08 (target pen/base=1.0)\n"
     ]
    },
    {
     "name": "stderr",
     "output_type": "stream",
     "text": [
      "Epoch 6/8:  44%|████▍     | 445/1011 [02:49<03:29,  2.71it/s]"
     ]
    },
    {
     "name": "stdout",
     "output_type": "stream",
     "text": [
      "[EWC] base=0.2412 | pen=0.6874 | pen/base=2.850 | λ_actual=1.000e+09 → λ_sugerido≈3.509e+08 (target pen/base=1.0)\n"
     ]
    },
    {
     "name": "stderr",
     "output_type": "stream",
     "text": [
      "Epoch 6/8:  54%|█████▍    | 545/1011 [03:29<02:44,  2.83it/s]"
     ]
    },
    {
     "name": "stdout",
     "output_type": "stream",
     "text": [
      "[EWC] base=0.1883 | pen=1.411 | pen/base=7.493 | λ_actual=1.000e+09 → λ_sugerido≈1.335e+08 (target pen/base=1.0)\n"
     ]
    },
    {
     "name": "stderr",
     "output_type": "stream",
     "text": [
      "Epoch 6/8:  64%|██████▍   | 645/1011 [04:10<02:32,  2.40it/s]"
     ]
    },
    {
     "name": "stdout",
     "output_type": "stream",
     "text": [
      "[EWC] base=0.2025 | pen=0.65 | pen/base=3.209 | λ_actual=1.000e+09 → λ_sugerido≈3.116e+08 (target pen/base=1.0)\n"
     ]
    },
    {
     "name": "stderr",
     "output_type": "stream",
     "text": [
      "Epoch 6/8:  74%|███████▎  | 745/1011 [04:51<01:49,  2.43it/s]"
     ]
    },
    {
     "name": "stdout",
     "output_type": "stream",
     "text": [
      "[EWC] base=0.2494 | pen=0.6614 | pen/base=2.652 | λ_actual=1.000e+09 → λ_sugerido≈3.771e+08 (target pen/base=1.0)\n"
     ]
    },
    {
     "name": "stderr",
     "output_type": "stream",
     "text": [
      "Epoch 6/8:  84%|████████▎ | 845/1011 [05:31<01:09,  2.40it/s]"
     ]
    },
    {
     "name": "stdout",
     "output_type": "stream",
     "text": [
      "[EWC] base=0.2276 | pen=1.416 | pen/base=6.221 | λ_actual=1.000e+09 → λ_sugerido≈1.608e+08 (target pen/base=1.0)\n"
     ]
    },
    {
     "name": "stderr",
     "output_type": "stream",
     "text": [
      "Epoch 6/8:  94%|█████████▎| 946/1011 [06:12<00:24,  2.68it/s]"
     ]
    },
    {
     "name": "stdout",
     "output_type": "stream",
     "text": [
      "[EWC] base=0.2449 | pen=0.5562 | pen/base=2.271 | λ_actual=1.000e+09 → λ_sugerido≈4.403e+08 (target pen/base=1.0)\n"
     ]
    },
    {
     "name": "stderr",
     "output_type": "stream",
     "text": [
      "                                                              \r"
     ]
    },
    {
     "name": "stdout",
     "output_type": "stream",
     "text": [
      "[TRAIN it/s] epoch 6/8: 2.5 it/s  (1011 iters en 397.85s)\n"
     ]
    },
    {
     "name": "stderr",
     "output_type": "stream",
     "text": [
      "Epoch 7/8:   3%|▎         | 35/1011 [00:14<06:24,  2.54it/s]"
     ]
    },
    {
     "name": "stdout",
     "output_type": "stream",
     "text": [
      "[EWC] base=0.2156 | pen=0.6662 | pen/base=3.090 | λ_actual=1.000e+09 → λ_sugerido≈3.236e+08 (target pen/base=1.0)\n"
     ]
    },
    {
     "name": "stderr",
     "output_type": "stream",
     "text": [
      "Epoch 7/8:  13%|█▎        | 134/1011 [00:54<06:08,  2.38it/s]"
     ]
    },
    {
     "name": "stdout",
     "output_type": "stream",
     "text": [
      "[EWC] base=0.2742 | pen=1.427 | pen/base=5.204 | λ_actual=1.000e+09 → λ_sugerido≈1.922e+08 (target pen/base=1.0)\n"
     ]
    },
    {
     "name": "stderr",
     "output_type": "stream",
     "text": [
      "Epoch 7/8:  23%|██▎       | 234/1011 [01:37<05:38,  2.29it/s]"
     ]
    },
    {
     "name": "stdout",
     "output_type": "stream",
     "text": [
      "[EWC] base=0.2646 | pen=0.4008 | pen/base=1.515 | λ_actual=1.000e+09 → λ_sugerido≈6.601e+08 (target pen/base=1.0)\n"
     ]
    },
    {
     "name": "stderr",
     "output_type": "stream",
     "text": [
      "Epoch 7/8:  33%|███▎      | 334/1011 [02:20<04:43,  2.39it/s]"
     ]
    },
    {
     "name": "stdout",
     "output_type": "stream",
     "text": [
      "[EWC] base=0.2124 | pen=0.6623 | pen/base=3.118 | λ_actual=1.000e+09 → λ_sugerido≈3.207e+08 (target pen/base=1.0)\n"
     ]
    },
    {
     "name": "stderr",
     "output_type": "stream",
     "text": [
      "Epoch 7/8:  43%|████▎     | 434/1011 [03:01<04:02,  2.38it/s]"
     ]
    },
    {
     "name": "stdout",
     "output_type": "stream",
     "text": [
      "[EWC] base=0.2153 | pen=1.416 | pen/base=6.576 | λ_actual=1.000e+09 → λ_sugerido≈1.521e+08 (target pen/base=1.0)\n"
     ]
    },
    {
     "name": "stderr",
     "output_type": "stream",
     "text": [
      "Epoch 7/8:  53%|█████▎    | 534/1011 [03:42<03:21,  2.36it/s]"
     ]
    },
    {
     "name": "stdout",
     "output_type": "stream",
     "text": [
      "[EWC] base=0.218 | pen=0.4414 | pen/base=2.025 | λ_actual=1.000e+09 → λ_sugerido≈4.939e+08 (target pen/base=1.0)\n"
     ]
    },
    {
     "name": "stderr",
     "output_type": "stream",
     "text": [
      "Epoch 7/8:  63%|██████▎   | 634/1011 [04:23<02:35,  2.42it/s]"
     ]
    },
    {
     "name": "stdout",
     "output_type": "stream",
     "text": [
      "[EWC] base=0.2158 | pen=0.6563 | pen/base=3.041 | λ_actual=1.000e+09 → λ_sugerido≈3.288e+08 (target pen/base=1.0)\n"
     ]
    },
    {
     "name": "stderr",
     "output_type": "stream",
     "text": [
      "Epoch 7/8:  73%|███████▎  | 734/1011 [05:04<01:52,  2.47it/s]"
     ]
    },
    {
     "name": "stdout",
     "output_type": "stream",
     "text": [
      "[EWC] base=0.1493 | pen=0.6943 | pen/base=4.652 | λ_actual=1.000e+09 → λ_sugerido≈2.150e+08 (target pen/base=1.0)\n"
     ]
    },
    {
     "name": "stderr",
     "output_type": "stream",
     "text": [
      "Epoch 7/8:  82%|████████▏ | 834/1011 [05:45<01:12,  2.44it/s]"
     ]
    },
    {
     "name": "stdout",
     "output_type": "stream",
     "text": [
      "[EWC] base=0.1897 | pen=1.411 | pen/base=7.438 | λ_actual=1.000e+09 → λ_sugerido≈1.345e+08 (target pen/base=1.0)\n"
     ]
    },
    {
     "name": "stderr",
     "output_type": "stream",
     "text": [
      "Epoch 7/8:  92%|█████████▏| 934/1011 [06:25<00:31,  2.44it/s]"
     ]
    },
    {
     "name": "stdout",
     "output_type": "stream",
     "text": [
      "[EWC] base=0.2358 | pen=0.5422 | pen/base=2.299 | λ_actual=1.000e+09 → λ_sugerido≈4.350e+08 (target pen/base=1.0)\n"
     ]
    },
    {
     "name": "stderr",
     "output_type": "stream",
     "text": [
      "                                                              \r"
     ]
    },
    {
     "name": "stdout",
     "output_type": "stream",
     "text": [
      "[TRAIN it/s] epoch 7/8: 2.4 it/s  (1011 iters en 417.38s)\n",
      "Resultados finales (re-train): {'c1': 'circuito1', 'c2': 'circuito2', 'c1_mae': 0.1330036828066225, 'c1_after_c2_mae': 0.13499774980181642, 'forget_rel_%': 1.4992569777884583, 'c2_mae': 0.1918978020452684}\n",
      "Guardado en: /home/cesar/proyectos/TFM_SNN/outputs/continual_std_ewc_lam_1e+09_lam_1e+09_rate_model-PilotNetSNN_66x200_gray_seed_42\n"
     ]
    }
   ],
   "source": [
    "# Usa el mejor del estudio por método (arriba)\n",
    "BEST_PARAMS = study.best_params\n",
    "BEST_METHOD = METHOD_TO_OPTIMIZE\n",
    "\n",
    "print(\"Mejor método:\", BEST_METHOD)\n",
    "print(\"Mejores HPs:\", BEST_PARAMS)\n",
    "\n",
    "cfg_best = copy.deepcopy(CFG)\n",
    "cfg_best[\"continual\"][\"method\"] = BEST_METHOD\n",
    "cfg_best[\"continual\"][\"params\"] = BEST_PARAMS\n",
    "\n",
    "# (Opcional) restablecer epochs al valor del preset si redujiste para HPO\n",
    "# cfg_best[\"optim\"][\"epochs\"] = load_preset(ROOT / \"configs\" / \"presets.yaml\", PRESET)[\"optim\"][\"epochs\"]\n",
    "\n",
    "# Reponer ajustes del preset para el re-train (rápido y estable)\n",
    "cfg_best[\"optim\"][\"amp\"] = True\n",
    "cfg_best[\"data\"][\"persistent_workers\"] = CFG[\"data\"][\"persistent_workers\"]\n",
    "cfg_best[\"data\"][\"pin_memory\"] = CFG[\"data\"][\"pin_memory\"]\n",
    "cfg_best[\"data\"][\"num_workers\"] = CFG[\"data\"][\"num_workers\"]\n",
    "\n",
    "# (opcional) si aún va justo de memoria:\n",
    "# cfg_best[\"optim\"][\"batch_size\"] = min(int(cfg_best[\"optim\"][\"batch_size\"]), 64)\n",
    "\n",
    "out_dir, _, results = run_one_cfg(cfg_best)\n",
    "metrics = extract_metrics(results)\n",
    "print(\"Resultados finales (re-train):\", metrics)\n",
    "print(\"Guardado en:\", out_dir)"
   ]
  },
  {
   "cell_type": "markdown",
   "id": "d99cf26e",
   "metadata": {},
   "source": [
    "<a id=\"sec-09\"></a>\n",
    "## 9) Resumen rápido de *runs* (tabla)\n",
    "\n",
    "**Objetivo**  \n",
    "Inspeccionar resultados de `outputs/continual_*`:\n",
    "\n",
    "- Construir una tabla con `preset`, `method`, `encoder`, `seed` (y `lambda` si aplica),  \n",
    "  junto a `c1_mae`, `c1_after_c2_mae`, `forget_rel_%`, `c2_mae`.  \n",
    "- Ordenar/filtrar para comparar **manzanas con manzanas** (mismo preset/encoder).\n",
    "\n",
    "> Exporta a CSV/Parquet para gráficas comparativas. Si la tabla sale vacía, revisa que existan `continual_results.json`.  \n",
    "\n",
    "[↑ Volver al índice](#toc)"
   ]
  },
  {
   "cell_type": "code",
   "execution_count": 11,
   "id": "34ca61bf",
   "metadata": {},
   "outputs": [
    {
     "name": "stdout",
     "output_type": "stream",
     "text": [
      "runs en resumen: 42\n"
     ]
    },
    {
     "data": {
      "text/html": [
       "<div>\n",
       "<style scoped>\n",
       "    .dataframe tbody tr th:only-of-type {\n",
       "        vertical-align: middle;\n",
       "    }\n",
       "\n",
       "    .dataframe tbody tr th {\n",
       "        vertical-align: top;\n",
       "    }\n",
       "\n",
       "    .dataframe thead th {\n",
       "        text-align: right;\n",
       "    }\n",
       "</style>\n",
       "<table border=\"1\" class=\"dataframe\">\n",
       "  <thead>\n",
       "    <tr style=\"text-align: right;\">\n",
       "      <th></th>\n",
       "      <th>exp</th>\n",
       "      <th>preset</th>\n",
       "      <th>method</th>\n",
       "      <th>lambda</th>\n",
       "      <th>encoder</th>\n",
       "      <th>model</th>\n",
       "      <th>seed</th>\n",
       "      <th>c1_mae</th>\n",
       "      <th>c1_after_c2_mae</th>\n",
       "      <th>forget_rel_%</th>\n",
       "      <th>c2_mae</th>\n",
       "    </tr>\n",
       "  </thead>\n",
       "  <tbody>\n",
       "    <tr>\n",
       "      <th>0</th>\n",
       "      <td>continual_accurate_as-snn_gr_0.3_lam_1.59168_r...</td>\n",
       "      <td>accurate</td>\n",
       "      <td>as-snn_gr_0.3</td>\n",
       "      <td>1.59168</td>\n",
       "      <td>rate</td>\n",
       "      <td>PilotNetSNN_66x200_gray</td>\n",
       "      <td>42</td>\n",
       "      <td>0.165532</td>\n",
       "      <td>0.200847</td>\n",
       "      <td>21.333848</td>\n",
       "      <td>0.217257</td>\n",
       "    </tr>\n",
       "    <tr>\n",
       "      <th>1</th>\n",
       "      <td>continual_accurate_ewc_lam_7e+08_lam_7e+08_rat...</td>\n",
       "      <td>accurate</td>\n",
       "      <td>ewc</td>\n",
       "      <td>7e+08</td>\n",
       "      <td>rate</td>\n",
       "      <td>PilotNetSNN_66x200_gray</td>\n",
       "      <td>42</td>\n",
       "      <td>0.165532</td>\n",
       "      <td>0.166002</td>\n",
       "      <td>0.283758</td>\n",
       "      <td>0.221053</td>\n",
       "    </tr>\n",
       "    <tr>\n",
       "      <th>2</th>\n",
       "      <td>continual_accurate_naive_rate_model-PilotNetSN...</td>\n",
       "      <td>accurate</td>\n",
       "      <td>naive</td>\n",
       "      <td>None</td>\n",
       "      <td>rate</td>\n",
       "      <td>PilotNetSNN_66x200_gray</td>\n",
       "      <td>42</td>\n",
       "      <td>0.177562</td>\n",
       "      <td>0.239561</td>\n",
       "      <td>34.916516</td>\n",
       "      <td>0.220103</td>\n",
       "    </tr>\n",
       "    <tr>\n",
       "      <th>3</th>\n",
       "      <td>continual_accurate_rehearsal_buf_3000_rr_20+ew...</td>\n",
       "      <td>accurate</td>\n",
       "      <td>rehearsal_buf_3000_rr_20+ewc</td>\n",
       "      <td>1e+09</td>\n",
       "      <td>rate</td>\n",
       "      <td>PilotNetSNN_66x200_gray</td>\n",
       "      <td>42</td>\n",
       "      <td>0.173464</td>\n",
       "      <td>0.173046</td>\n",
       "      <td>-0.241270</td>\n",
       "      <td>0.206640</td>\n",
       "    </tr>\n",
       "    <tr>\n",
       "      <th>4</th>\n",
       "      <td>continual_fast_as-snn_gr_0.3_lam_1.59168_rate_...</td>\n",
       "      <td>fast</td>\n",
       "      <td>as-snn_gr_0.3</td>\n",
       "      <td>1.59168</td>\n",
       "      <td>rate</td>\n",
       "      <td>PilotNetSNN_66x200_gray</td>\n",
       "      <td>42</td>\n",
       "      <td>0.171290</td>\n",
       "      <td>0.172986</td>\n",
       "      <td>0.990284</td>\n",
       "      <td>0.224034</td>\n",
       "    </tr>\n",
       "    <tr>\n",
       "      <th>5</th>\n",
       "      <td>continual_fast_as-snn_gr_0.3_lam_1.59168_rate_...</td>\n",
       "      <td>fast</td>\n",
       "      <td>as-snn_gr_0.3</td>\n",
       "      <td>1.59168</td>\n",
       "      <td>rate</td>\n",
       "      <td>PilotNetSNN_66x200_gray</td>\n",
       "      <td>43</td>\n",
       "      <td>0.172936</td>\n",
       "      <td>0.172952</td>\n",
       "      <td>0.009722</td>\n",
       "      <td>0.224013</td>\n",
       "    </tr>\n",
       "    <tr>\n",
       "      <th>6</th>\n",
       "      <td>continual_fast_ewc_lam_1e+09_lam_1e+09_rate_mo...</td>\n",
       "      <td>fast</td>\n",
       "      <td>ewc</td>\n",
       "      <td>1e+09</td>\n",
       "      <td>rate</td>\n",
       "      <td>PilotNetSNN_66x200_gray</td>\n",
       "      <td>42</td>\n",
       "      <td>0.171993</td>\n",
       "      <td>0.172596</td>\n",
       "      <td>0.350517</td>\n",
       "      <td>0.223798</td>\n",
       "    </tr>\n",
       "    <tr>\n",
       "      <th>7</th>\n",
       "      <td>continual_fast_ewc_lam_3e+08_lam_3e+08_rate_mo...</td>\n",
       "      <td>fast</td>\n",
       "      <td>ewc</td>\n",
       "      <td>3e+08</td>\n",
       "      <td>rate</td>\n",
       "      <td>PilotNetSNN_66x200_gray</td>\n",
       "      <td>42</td>\n",
       "      <td>0.116735</td>\n",
       "      <td>0.311041</td>\n",
       "      <td>166.450838</td>\n",
       "      <td>0.186258</td>\n",
       "    </tr>\n",
       "    <tr>\n",
       "      <th>8</th>\n",
       "      <td>continual_fast_ewc_lam_5e+08_lam_5e+08_rate_mo...</td>\n",
       "      <td>fast</td>\n",
       "      <td>ewc</td>\n",
       "      <td>5e+08</td>\n",
       "      <td>rate</td>\n",
       "      <td>PilotNetSNN_66x200_gray</td>\n",
       "      <td>42</td>\n",
       "      <td>0.172764</td>\n",
       "      <td>0.170332</td>\n",
       "      <td>-1.408158</td>\n",
       "      <td>0.222444</td>\n",
       "    </tr>\n",
       "    <tr>\n",
       "      <th>9</th>\n",
       "      <td>continual_fast_ewc_lam_7e+08_lam_7e+08_rate_mo...</td>\n",
       "      <td>fast</td>\n",
       "      <td>ewc</td>\n",
       "      <td>7e+08</td>\n",
       "      <td>rate</td>\n",
       "      <td>PilotNetSNN_66x200_gray</td>\n",
       "      <td>42</td>\n",
       "      <td>0.171290</td>\n",
       "      <td>0.171568</td>\n",
       "      <td>0.162523</td>\n",
       "      <td>0.223178</td>\n",
       "    </tr>\n",
       "    <tr>\n",
       "      <th>10</th>\n",
       "      <td>continual_fast_ewc_lam_1e+09_lam_1e+09_ewc_hpo...</td>\n",
       "      <td>fast</td>\n",
       "      <td>ewc_ewc_hpo_t0_lam_1.0e+09</td>\n",
       "      <td>1e+09</td>\n",
       "      <td>rate</td>\n",
       "      <td>PilotNetSNN_66x200_gray</td>\n",
       "      <td>42</td>\n",
       "      <td>0.132683</td>\n",
       "      <td>0.136797</td>\n",
       "      <td>3.100668</td>\n",
       "      <td>0.179152</td>\n",
       "    </tr>\n",
       "    <tr>\n",
       "      <th>11</th>\n",
       "      <td>continual_fast_ewc_lam_5e+08_lam_5e+08_ewc_hpo...</td>\n",
       "      <td>fast</td>\n",
       "      <td>ewc_ewc_hpo_t1_lam_5.0e+08</td>\n",
       "      <td>5e+08</td>\n",
       "      <td>rate</td>\n",
       "      <td>PilotNetSNN_66x200_gray</td>\n",
       "      <td>42</td>\n",
       "      <td>0.178656</td>\n",
       "      <td>0.178617</td>\n",
       "      <td>-0.022027</td>\n",
       "      <td>0.227651</td>\n",
       "    </tr>\n",
       "    <tr>\n",
       "      <th>12</th>\n",
       "      <td>continual_fast_ewc_lam_1e+09_lam_1e+09_ewc_hpo...</td>\n",
       "      <td>fast</td>\n",
       "      <td>ewc_ewc_hpo_t2_lam_1.0e+09</td>\n",
       "      <td>1e+09</td>\n",
       "      <td>rate</td>\n",
       "      <td>PilotNetSNN_66x200_gray</td>\n",
       "      <td>42</td>\n",
       "      <td>0.178892</td>\n",
       "      <td>0.175648</td>\n",
       "      <td>-1.813424</td>\n",
       "      <td>0.225721</td>\n",
       "    </tr>\n",
       "    <tr>\n",
       "      <th>13</th>\n",
       "      <td>continual_fast_ewc_lam_3e+08_lam_3e+08_ewc_hpo...</td>\n",
       "      <td>fast</td>\n",
       "      <td>ewc_ewc_hpo_t3_lam_3.0e+08</td>\n",
       "      <td>3e+08</td>\n",
       "      <td>rate</td>\n",
       "      <td>PilotNetSNN_66x200_gray</td>\n",
       "      <td>42</td>\n",
       "      <td>0.178959</td>\n",
       "      <td>0.175338</td>\n",
       "      <td>-2.023015</td>\n",
       "      <td>0.225520</td>\n",
       "    </tr>\n",
       "    <tr>\n",
       "      <th>14</th>\n",
       "      <td>continual_fast_ewc_lam_2e+09_lam_2e+09_ewc_hpo...</td>\n",
       "      <td>fast</td>\n",
       "      <td>ewc_ewc_hpo_t4_lam_2.0e+09</td>\n",
       "      <td>2e+09</td>\n",
       "      <td>rate</td>\n",
       "      <td>PilotNetSNN_66x200_gray</td>\n",
       "      <td>42</td>\n",
       "      <td>0.175580</td>\n",
       "      <td>0.175498</td>\n",
       "      <td>-0.046826</td>\n",
       "      <td>0.225624</td>\n",
       "    </tr>\n",
       "    <tr>\n",
       "      <th>15</th>\n",
       "      <td>continual_fast_ewc_lam_5e+08_lam_5e+08_ewc_hpo...</td>\n",
       "      <td>fast</td>\n",
       "      <td>ewc_ewc_hpo_t5_lam_5.0e+08</td>\n",
       "      <td>5e+08</td>\n",
       "      <td>rate</td>\n",
       "      <td>PilotNetSNN_66x200_gray</td>\n",
       "      <td>42</td>\n",
       "      <td>0.177776</td>\n",
       "      <td>0.172751</td>\n",
       "      <td>-2.826680</td>\n",
       "      <td>0.223892</td>\n",
       "    </tr>\n",
       "    <tr>\n",
       "      <th>16</th>\n",
       "      <td>continual_fast_ewc_lam_3e+08_lam_3e+08_ewc_hpo...</td>\n",
       "      <td>fast</td>\n",
       "      <td>ewc_ewc_hpo_t6_lam_3.0e+08</td>\n",
       "      <td>3e+08</td>\n",
       "      <td>rate</td>\n",
       "      <td>PilotNetSNN_66x200_gray</td>\n",
       "      <td>42</td>\n",
       "      <td>0.176647</td>\n",
       "      <td>0.176640</td>\n",
       "      <td>-0.003886</td>\n",
       "      <td>0.226356</td>\n",
       "    </tr>\n",
       "    <tr>\n",
       "      <th>17</th>\n",
       "      <td>continual_fast_ewc_lam_1e+09_lam_1e+09_ewc_hpo...</td>\n",
       "      <td>fast</td>\n",
       "      <td>ewc_ewc_hpo_t7_lam_1.0e+09</td>\n",
       "      <td>1e+09</td>\n",
       "      <td>rate</td>\n",
       "      <td>PilotNetSNN_66x200_gray</td>\n",
       "      <td>42</td>\n",
       "      <td>0.175205</td>\n",
       "      <td>0.175201</td>\n",
       "      <td>-0.002208</td>\n",
       "      <td>0.225430</td>\n",
       "    </tr>\n",
       "    <tr>\n",
       "      <th>18</th>\n",
       "      <td>continual_fast_naive_rate_model-PilotNetSNN_66...</td>\n",
       "      <td>fast</td>\n",
       "      <td>naive</td>\n",
       "      <td>None</td>\n",
       "      <td>rate</td>\n",
       "      <td>PilotNetSNN_66x200_gray</td>\n",
       "      <td>42</td>\n",
       "      <td>0.171290</td>\n",
       "      <td>0.172986</td>\n",
       "      <td>0.990284</td>\n",
       "      <td>0.224034</td>\n",
       "    </tr>\n",
       "    <tr>\n",
       "      <th>19</th>\n",
       "      <td>continual_fast_rehearsal_buf_3000_rr_10_rate_m...</td>\n",
       "      <td>fast</td>\n",
       "      <td>rehearsal_buf_3000_rr_10</td>\n",
       "      <td>None</td>\n",
       "      <td>rate</td>\n",
       "      <td>PilotNetSNN_66x200_gray</td>\n",
       "      <td>42</td>\n",
       "      <td>0.175333</td>\n",
       "      <td>0.174515</td>\n",
       "      <td>-0.466733</td>\n",
       "      <td>0.224983</td>\n",
       "    </tr>\n",
       "    <tr>\n",
       "      <th>20</th>\n",
       "      <td>continual_fast_rehearsal_buf_3000_rr_10+ewc_la...</td>\n",
       "      <td>fast</td>\n",
       "      <td>rehearsal_buf_3000_rr_10+ewc</td>\n",
       "      <td>7e+08</td>\n",
       "      <td>rate</td>\n",
       "      <td>PilotNetSNN_66x200_gray</td>\n",
       "      <td>42</td>\n",
       "      <td>0.174054</td>\n",
       "      <td>0.173953</td>\n",
       "      <td>-0.058274</td>\n",
       "      <td>0.224627</td>\n",
       "    </tr>\n",
       "    <tr>\n",
       "      <th>21</th>\n",
       "      <td>continual_std_as-snn_gr_0.3_lam_1.59168_rate_m...</td>\n",
       "      <td>std</td>\n",
       "      <td>as-snn_gr_0.3</td>\n",
       "      <td>1.59168</td>\n",
       "      <td>rate</td>\n",
       "      <td>PilotNetSNN_66x200_gray</td>\n",
       "      <td>42</td>\n",
       "      <td>0.127417</td>\n",
       "      <td>0.163961</td>\n",
       "      <td>28.681195</td>\n",
       "      <td>0.139246</td>\n",
       "    </tr>\n",
       "    <tr>\n",
       "      <th>22</th>\n",
       "      <td>continual_std_as-snn_gr_0.3_lam_1.59168_rate_m...</td>\n",
       "      <td>std</td>\n",
       "      <td>as-snn_gr_0.3</td>\n",
       "      <td>1.59168</td>\n",
       "      <td>rate</td>\n",
       "      <td>PilotNetSNN_66x200_gray</td>\n",
       "      <td>43</td>\n",
       "      <td>0.130181</td>\n",
       "      <td>0.185526</td>\n",
       "      <td>42.513851</td>\n",
       "      <td>0.143218</td>\n",
       "    </tr>\n",
       "    <tr>\n",
       "      <th>23</th>\n",
       "      <td>continual_std_ewc_lam_1e+07_lam_1e+07_rate_mod...</td>\n",
       "      <td>std</td>\n",
       "      <td>ewc</td>\n",
       "      <td>1e+07</td>\n",
       "      <td>rate</td>\n",
       "      <td>PilotNetSNN_66x200_gray</td>\n",
       "      <td>42</td>\n",
       "      <td>0.125187</td>\n",
       "      <td>0.157762</td>\n",
       "      <td>26.021310</td>\n",
       "      <td>0.170013</td>\n",
       "    </tr>\n",
       "    <tr>\n",
       "      <th>24</th>\n",
       "      <td>continual_std_ewc_lam_1e+09_lam_1e+09_rate_mod...</td>\n",
       "      <td>std</td>\n",
       "      <td>ewc</td>\n",
       "      <td>1e+09</td>\n",
       "      <td>rate</td>\n",
       "      <td>PilotNetSNN_66x200_gray</td>\n",
       "      <td>42</td>\n",
       "      <td>0.133004</td>\n",
       "      <td>0.134998</td>\n",
       "      <td>1.499257</td>\n",
       "      <td>0.191898</td>\n",
       "    </tr>\n",
       "    <tr>\n",
       "      <th>25</th>\n",
       "      <td>continual_std_ewc_lam_2e+08_lam_2e+08_rate_mod...</td>\n",
       "      <td>std</td>\n",
       "      <td>ewc</td>\n",
       "      <td>2e+08</td>\n",
       "      <td>rate</td>\n",
       "      <td>PilotNetSNN_66x200_gray</td>\n",
       "      <td>42</td>\n",
       "      <td>0.121223</td>\n",
       "      <td>0.211772</td>\n",
       "      <td>74.696547</td>\n",
       "      <td>0.196612</td>\n",
       "    </tr>\n",
       "    <tr>\n",
       "      <th>26</th>\n",
       "      <td>continual_std_ewc_lam_3e+08_lam_3e+08_rate_mod...</td>\n",
       "      <td>std</td>\n",
       "      <td>ewc</td>\n",
       "      <td>3e+08</td>\n",
       "      <td>rate</td>\n",
       "      <td>PilotNetSNN_66x200_gray</td>\n",
       "      <td>42</td>\n",
       "      <td>0.133297</td>\n",
       "      <td>0.236797</td>\n",
       "      <td>77.645420</td>\n",
       "      <td>0.227228</td>\n",
       "    </tr>\n",
       "    <tr>\n",
       "      <th>27</th>\n",
       "      <td>continual_std_ewc_lam_4e+08_lam_4e+08_rate_mod...</td>\n",
       "      <td>std</td>\n",
       "      <td>ewc</td>\n",
       "      <td>4e+08</td>\n",
       "      <td>rate</td>\n",
       "      <td>PilotNetSNN_66x200_gray</td>\n",
       "      <td>42</td>\n",
       "      <td>0.123999</td>\n",
       "      <td>0.272357</td>\n",
       "      <td>119.644976</td>\n",
       "      <td>0.214979</td>\n",
       "    </tr>\n",
       "    <tr>\n",
       "      <th>28</th>\n",
       "      <td>continual_std_ewc_lam_7e+08_lam_7e+08_rate_mod...</td>\n",
       "      <td>std</td>\n",
       "      <td>ewc</td>\n",
       "      <td>7e+08</td>\n",
       "      <td>rate</td>\n",
       "      <td>PilotNetSNN_66x200_gray</td>\n",
       "      <td>42</td>\n",
       "      <td>0.127536</td>\n",
       "      <td>0.138721</td>\n",
       "      <td>8.770236</td>\n",
       "      <td>0.215947</td>\n",
       "    </tr>\n",
       "    <tr>\n",
       "      <th>29</th>\n",
       "      <td>continual_std_ewc_lam_1e+09_lam_1e+09_ewc_hpo_...</td>\n",
       "      <td>std</td>\n",
       "      <td>ewc_ewc_hpo_t0_lam_1.0e+09</td>\n",
       "      <td>1e+09</td>\n",
       "      <td>rate</td>\n",
       "      <td>PilotNetSNN_66x200_gray</td>\n",
       "      <td>42</td>\n",
       "      <td>0.124347</td>\n",
       "      <td>0.129874</td>\n",
       "      <td>4.445017</td>\n",
       "      <td>0.195803</td>\n",
       "    </tr>\n",
       "    <tr>\n",
       "      <th>30</th>\n",
       "      <td>continual_std_ewc_lam_2e+08_lam_2e+08_ewc_hpo_...</td>\n",
       "      <td>std</td>\n",
       "      <td>ewc_ewc_hpo_t0_lam_2.0e+08</td>\n",
       "      <td>2e+08</td>\n",
       "      <td>rate</td>\n",
       "      <td>PilotNetSNN_66x200_gray</td>\n",
       "      <td>42</td>\n",
       "      <td>0.130145</td>\n",
       "      <td>0.275401</td>\n",
       "      <td>111.610632</td>\n",
       "      <td>0.197894</td>\n",
       "    </tr>\n",
       "    <tr>\n",
       "      <th>31</th>\n",
       "      <td>continual_std_ewc_lam_4e+08_lam_4e+08_ewc_hpo_...</td>\n",
       "      <td>std</td>\n",
       "      <td>ewc_ewc_hpo_t0_lam_4.0e+08</td>\n",
       "      <td>4e+08</td>\n",
       "      <td>rate</td>\n",
       "      <td>PilotNetSNN_66x200_gray</td>\n",
       "      <td>42</td>\n",
       "      <td>0.150774</td>\n",
       "      <td>0.208656</td>\n",
       "      <td>38.389647</td>\n",
       "      <td>0.219551</td>\n",
       "    </tr>\n",
       "    <tr>\n",
       "      <th>32</th>\n",
       "      <td>continual_std_ewc_lam_4e+08_lam_4e+08_ewc_hpo_...</td>\n",
       "      <td>std</td>\n",
       "      <td>ewc_ewc_hpo_t1_lam_4.0e+08</td>\n",
       "      <td>4e+08</td>\n",
       "      <td>rate</td>\n",
       "      <td>PilotNetSNN_66x200_gray</td>\n",
       "      <td>42</td>\n",
       "      <td>0.123754</td>\n",
       "      <td>0.203949</td>\n",
       "      <td>64.801522</td>\n",
       "      <td>0.192281</td>\n",
       "    </tr>\n",
       "    <tr>\n",
       "      <th>33</th>\n",
       "      <td>continual_std_ewc_lam_7e+08_lam_7e+08_ewc_hpo_...</td>\n",
       "      <td>std</td>\n",
       "      <td>ewc_ewc_hpo_t2_lam_7.0e+08</td>\n",
       "      <td>7e+08</td>\n",
       "      <td>rate</td>\n",
       "      <td>PilotNetSNN_66x200_gray</td>\n",
       "      <td>42</td>\n",
       "      <td>0.140915</td>\n",
       "      <td>0.172076</td>\n",
       "      <td>22.113324</td>\n",
       "      <td>0.201512</td>\n",
       "    </tr>\n",
       "    <tr>\n",
       "      <th>34</th>\n",
       "      <td>continual_std_ewc_lam_4e+08_lam_4e+08_ewc_hpo_...</td>\n",
       "      <td>std</td>\n",
       "      <td>ewc_ewc_hpo_t3_lam_4.0e+08</td>\n",
       "      <td>4e+08</td>\n",
       "      <td>rate</td>\n",
       "      <td>PilotNetSNN_66x200_gray</td>\n",
       "      <td>42</td>\n",
       "      <td>0.134433</td>\n",
       "      <td>0.201120</td>\n",
       "      <td>49.606041</td>\n",
       "      <td>0.192421</td>\n",
       "    </tr>\n",
       "    <tr>\n",
       "      <th>35</th>\n",
       "      <td>continual_std_ewc_lam_5e+07_lam_5e+07_ewc_hpo_...</td>\n",
       "      <td>std</td>\n",
       "      <td>ewc_ewc_hpo_t4_lam_5.0e+07</td>\n",
       "      <td>5e+07</td>\n",
       "      <td>rate</td>\n",
       "      <td>PilotNetSNN_66x200_gray</td>\n",
       "      <td>42</td>\n",
       "      <td>0.137016</td>\n",
       "      <td>0.181936</td>\n",
       "      <td>32.785247</td>\n",
       "      <td>0.181667</td>\n",
       "    </tr>\n",
       "    <tr>\n",
       "      <th>36</th>\n",
       "      <td>continual_std_ewc_lam_1e+08_lam_1e+08_ewc_hpo_...</td>\n",
       "      <td>std</td>\n",
       "      <td>ewc_ewc_hpo_t5_lam_1.0e+08</td>\n",
       "      <td>1e+08</td>\n",
       "      <td>rate</td>\n",
       "      <td>PilotNetSNN_66x200_gray</td>\n",
       "      <td>42</td>\n",
       "      <td>0.141217</td>\n",
       "      <td>0.189929</td>\n",
       "      <td>34.494705</td>\n",
       "      <td>0.185412</td>\n",
       "    </tr>\n",
       "    <tr>\n",
       "      <th>37</th>\n",
       "      <td>continual_std_ewc_lam_2e+08_fb_1000_lam_2e+08_...</td>\n",
       "      <td>std</td>\n",
       "      <td>ewc_fb_1000</td>\n",
       "      <td>2e+08</td>\n",
       "      <td>rate</td>\n",
       "      <td>PilotNetSNN_66x200_gray</td>\n",
       "      <td>42</td>\n",
       "      <td>0.124993</td>\n",
       "      <td>0.224264</td>\n",
       "      <td>79.422151</td>\n",
       "      <td>0.189055</td>\n",
       "    </tr>\n",
       "    <tr>\n",
       "      <th>38</th>\n",
       "      <td>continual_std_ewc_lam_1e+07_fb_500_lam_1e+07_r...</td>\n",
       "      <td>std</td>\n",
       "      <td>ewc_fb_500</td>\n",
       "      <td>1e+07</td>\n",
       "      <td>rate</td>\n",
       "      <td>PilotNetSNN_66x200_gray</td>\n",
       "      <td>42</td>\n",
       "      <td>0.131940</td>\n",
       "      <td>0.220770</td>\n",
       "      <td>67.325868</td>\n",
       "      <td>0.172120</td>\n",
       "    </tr>\n",
       "    <tr>\n",
       "      <th>39</th>\n",
       "      <td>continual_std_naive_rate_model-PilotNetSNN_66x...</td>\n",
       "      <td>std</td>\n",
       "      <td>naive</td>\n",
       "      <td>None</td>\n",
       "      <td>rate</td>\n",
       "      <td>PilotNetSNN_66x200_gray</td>\n",
       "      <td>42</td>\n",
       "      <td>0.127417</td>\n",
       "      <td>0.163961</td>\n",
       "      <td>28.681195</td>\n",
       "      <td>0.139246</td>\n",
       "    </tr>\n",
       "    <tr>\n",
       "      <th>40</th>\n",
       "      <td>continual_std_rehearsal_buf_3000_rr_10_rate_mo...</td>\n",
       "      <td>std</td>\n",
       "      <td>rehearsal_buf_3000_rr_10</td>\n",
       "      <td>None</td>\n",
       "      <td>rate</td>\n",
       "      <td>PilotNetSNN_66x200_gray</td>\n",
       "      <td>42</td>\n",
       "      <td>0.128092</td>\n",
       "      <td>0.151696</td>\n",
       "      <td>18.427187</td>\n",
       "      <td>0.143461</td>\n",
       "    </tr>\n",
       "    <tr>\n",
       "      <th>41</th>\n",
       "      <td>continual_std_rehearsal_buf_3000_rr_10+ewc_lam...</td>\n",
       "      <td>std</td>\n",
       "      <td>rehearsal_buf_3000_rr_10+ewc</td>\n",
       "      <td>7e+08</td>\n",
       "      <td>rate</td>\n",
       "      <td>PilotNetSNN_66x200_gray</td>\n",
       "      <td>42</td>\n",
       "      <td>0.125205</td>\n",
       "      <td>0.173030</td>\n",
       "      <td>38.197197</td>\n",
       "      <td>0.229081</td>\n",
       "    </tr>\n",
       "  </tbody>\n",
       "</table>\n",
       "</div>"
      ],
      "text/plain": [
       "                                                  exp    preset  \\\n",
       "0   continual_accurate_as-snn_gr_0.3_lam_1.59168_r...  accurate   \n",
       "1   continual_accurate_ewc_lam_7e+08_lam_7e+08_rat...  accurate   \n",
       "2   continual_accurate_naive_rate_model-PilotNetSN...  accurate   \n",
       "3   continual_accurate_rehearsal_buf_3000_rr_20+ew...  accurate   \n",
       "4   continual_fast_as-snn_gr_0.3_lam_1.59168_rate_...      fast   \n",
       "5   continual_fast_as-snn_gr_0.3_lam_1.59168_rate_...      fast   \n",
       "6   continual_fast_ewc_lam_1e+09_lam_1e+09_rate_mo...      fast   \n",
       "7   continual_fast_ewc_lam_3e+08_lam_3e+08_rate_mo...      fast   \n",
       "8   continual_fast_ewc_lam_5e+08_lam_5e+08_rate_mo...      fast   \n",
       "9   continual_fast_ewc_lam_7e+08_lam_7e+08_rate_mo...      fast   \n",
       "10  continual_fast_ewc_lam_1e+09_lam_1e+09_ewc_hpo...      fast   \n",
       "11  continual_fast_ewc_lam_5e+08_lam_5e+08_ewc_hpo...      fast   \n",
       "12  continual_fast_ewc_lam_1e+09_lam_1e+09_ewc_hpo...      fast   \n",
       "13  continual_fast_ewc_lam_3e+08_lam_3e+08_ewc_hpo...      fast   \n",
       "14  continual_fast_ewc_lam_2e+09_lam_2e+09_ewc_hpo...      fast   \n",
       "15  continual_fast_ewc_lam_5e+08_lam_5e+08_ewc_hpo...      fast   \n",
       "16  continual_fast_ewc_lam_3e+08_lam_3e+08_ewc_hpo...      fast   \n",
       "17  continual_fast_ewc_lam_1e+09_lam_1e+09_ewc_hpo...      fast   \n",
       "18  continual_fast_naive_rate_model-PilotNetSNN_66...      fast   \n",
       "19  continual_fast_rehearsal_buf_3000_rr_10_rate_m...      fast   \n",
       "20  continual_fast_rehearsal_buf_3000_rr_10+ewc_la...      fast   \n",
       "21  continual_std_as-snn_gr_0.3_lam_1.59168_rate_m...       std   \n",
       "22  continual_std_as-snn_gr_0.3_lam_1.59168_rate_m...       std   \n",
       "23  continual_std_ewc_lam_1e+07_lam_1e+07_rate_mod...       std   \n",
       "24  continual_std_ewc_lam_1e+09_lam_1e+09_rate_mod...       std   \n",
       "25  continual_std_ewc_lam_2e+08_lam_2e+08_rate_mod...       std   \n",
       "26  continual_std_ewc_lam_3e+08_lam_3e+08_rate_mod...       std   \n",
       "27  continual_std_ewc_lam_4e+08_lam_4e+08_rate_mod...       std   \n",
       "28  continual_std_ewc_lam_7e+08_lam_7e+08_rate_mod...       std   \n",
       "29  continual_std_ewc_lam_1e+09_lam_1e+09_ewc_hpo_...       std   \n",
       "30  continual_std_ewc_lam_2e+08_lam_2e+08_ewc_hpo_...       std   \n",
       "31  continual_std_ewc_lam_4e+08_lam_4e+08_ewc_hpo_...       std   \n",
       "32  continual_std_ewc_lam_4e+08_lam_4e+08_ewc_hpo_...       std   \n",
       "33  continual_std_ewc_lam_7e+08_lam_7e+08_ewc_hpo_...       std   \n",
       "34  continual_std_ewc_lam_4e+08_lam_4e+08_ewc_hpo_...       std   \n",
       "35  continual_std_ewc_lam_5e+07_lam_5e+07_ewc_hpo_...       std   \n",
       "36  continual_std_ewc_lam_1e+08_lam_1e+08_ewc_hpo_...       std   \n",
       "37  continual_std_ewc_lam_2e+08_fb_1000_lam_2e+08_...       std   \n",
       "38  continual_std_ewc_lam_1e+07_fb_500_lam_1e+07_r...       std   \n",
       "39  continual_std_naive_rate_model-PilotNetSNN_66x...       std   \n",
       "40  continual_std_rehearsal_buf_3000_rr_10_rate_mo...       std   \n",
       "41  continual_std_rehearsal_buf_3000_rr_10+ewc_lam...       std   \n",
       "\n",
       "                          method   lambda encoder                    model  \\\n",
       "0                  as-snn_gr_0.3  1.59168    rate  PilotNetSNN_66x200_gray   \n",
       "1                            ewc    7e+08    rate  PilotNetSNN_66x200_gray   \n",
       "2                          naive     None    rate  PilotNetSNN_66x200_gray   \n",
       "3   rehearsal_buf_3000_rr_20+ewc    1e+09    rate  PilotNetSNN_66x200_gray   \n",
       "4                  as-snn_gr_0.3  1.59168    rate  PilotNetSNN_66x200_gray   \n",
       "5                  as-snn_gr_0.3  1.59168    rate  PilotNetSNN_66x200_gray   \n",
       "6                            ewc    1e+09    rate  PilotNetSNN_66x200_gray   \n",
       "7                            ewc    3e+08    rate  PilotNetSNN_66x200_gray   \n",
       "8                            ewc    5e+08    rate  PilotNetSNN_66x200_gray   \n",
       "9                            ewc    7e+08    rate  PilotNetSNN_66x200_gray   \n",
       "10    ewc_ewc_hpo_t0_lam_1.0e+09    1e+09    rate  PilotNetSNN_66x200_gray   \n",
       "11    ewc_ewc_hpo_t1_lam_5.0e+08    5e+08    rate  PilotNetSNN_66x200_gray   \n",
       "12    ewc_ewc_hpo_t2_lam_1.0e+09    1e+09    rate  PilotNetSNN_66x200_gray   \n",
       "13    ewc_ewc_hpo_t3_lam_3.0e+08    3e+08    rate  PilotNetSNN_66x200_gray   \n",
       "14    ewc_ewc_hpo_t4_lam_2.0e+09    2e+09    rate  PilotNetSNN_66x200_gray   \n",
       "15    ewc_ewc_hpo_t5_lam_5.0e+08    5e+08    rate  PilotNetSNN_66x200_gray   \n",
       "16    ewc_ewc_hpo_t6_lam_3.0e+08    3e+08    rate  PilotNetSNN_66x200_gray   \n",
       "17    ewc_ewc_hpo_t7_lam_1.0e+09    1e+09    rate  PilotNetSNN_66x200_gray   \n",
       "18                         naive     None    rate  PilotNetSNN_66x200_gray   \n",
       "19      rehearsal_buf_3000_rr_10     None    rate  PilotNetSNN_66x200_gray   \n",
       "20  rehearsal_buf_3000_rr_10+ewc    7e+08    rate  PilotNetSNN_66x200_gray   \n",
       "21                 as-snn_gr_0.3  1.59168    rate  PilotNetSNN_66x200_gray   \n",
       "22                 as-snn_gr_0.3  1.59168    rate  PilotNetSNN_66x200_gray   \n",
       "23                           ewc    1e+07    rate  PilotNetSNN_66x200_gray   \n",
       "24                           ewc    1e+09    rate  PilotNetSNN_66x200_gray   \n",
       "25                           ewc    2e+08    rate  PilotNetSNN_66x200_gray   \n",
       "26                           ewc    3e+08    rate  PilotNetSNN_66x200_gray   \n",
       "27                           ewc    4e+08    rate  PilotNetSNN_66x200_gray   \n",
       "28                           ewc    7e+08    rate  PilotNetSNN_66x200_gray   \n",
       "29    ewc_ewc_hpo_t0_lam_1.0e+09    1e+09    rate  PilotNetSNN_66x200_gray   \n",
       "30    ewc_ewc_hpo_t0_lam_2.0e+08    2e+08    rate  PilotNetSNN_66x200_gray   \n",
       "31    ewc_ewc_hpo_t0_lam_4.0e+08    4e+08    rate  PilotNetSNN_66x200_gray   \n",
       "32    ewc_ewc_hpo_t1_lam_4.0e+08    4e+08    rate  PilotNetSNN_66x200_gray   \n",
       "33    ewc_ewc_hpo_t2_lam_7.0e+08    7e+08    rate  PilotNetSNN_66x200_gray   \n",
       "34    ewc_ewc_hpo_t3_lam_4.0e+08    4e+08    rate  PilotNetSNN_66x200_gray   \n",
       "35    ewc_ewc_hpo_t4_lam_5.0e+07    5e+07    rate  PilotNetSNN_66x200_gray   \n",
       "36    ewc_ewc_hpo_t5_lam_1.0e+08    1e+08    rate  PilotNetSNN_66x200_gray   \n",
       "37                   ewc_fb_1000    2e+08    rate  PilotNetSNN_66x200_gray   \n",
       "38                    ewc_fb_500    1e+07    rate  PilotNetSNN_66x200_gray   \n",
       "39                         naive     None    rate  PilotNetSNN_66x200_gray   \n",
       "40      rehearsal_buf_3000_rr_10     None    rate  PilotNetSNN_66x200_gray   \n",
       "41  rehearsal_buf_3000_rr_10+ewc    7e+08    rate  PilotNetSNN_66x200_gray   \n",
       "\n",
       "    seed    c1_mae  c1_after_c2_mae  forget_rel_%    c2_mae  \n",
       "0     42  0.165532         0.200847     21.333848  0.217257  \n",
       "1     42  0.165532         0.166002      0.283758  0.221053  \n",
       "2     42  0.177562         0.239561     34.916516  0.220103  \n",
       "3     42  0.173464         0.173046     -0.241270  0.206640  \n",
       "4     42  0.171290         0.172986      0.990284  0.224034  \n",
       "5     43  0.172936         0.172952      0.009722  0.224013  \n",
       "6     42  0.171993         0.172596      0.350517  0.223798  \n",
       "7     42  0.116735         0.311041    166.450838  0.186258  \n",
       "8     42  0.172764         0.170332     -1.408158  0.222444  \n",
       "9     42  0.171290         0.171568      0.162523  0.223178  \n",
       "10    42  0.132683         0.136797      3.100668  0.179152  \n",
       "11    42  0.178656         0.178617     -0.022027  0.227651  \n",
       "12    42  0.178892         0.175648     -1.813424  0.225721  \n",
       "13    42  0.178959         0.175338     -2.023015  0.225520  \n",
       "14    42  0.175580         0.175498     -0.046826  0.225624  \n",
       "15    42  0.177776         0.172751     -2.826680  0.223892  \n",
       "16    42  0.176647         0.176640     -0.003886  0.226356  \n",
       "17    42  0.175205         0.175201     -0.002208  0.225430  \n",
       "18    42  0.171290         0.172986      0.990284  0.224034  \n",
       "19    42  0.175333         0.174515     -0.466733  0.224983  \n",
       "20    42  0.174054         0.173953     -0.058274  0.224627  \n",
       "21    42  0.127417         0.163961     28.681195  0.139246  \n",
       "22    43  0.130181         0.185526     42.513851  0.143218  \n",
       "23    42  0.125187         0.157762     26.021310  0.170013  \n",
       "24    42  0.133004         0.134998      1.499257  0.191898  \n",
       "25    42  0.121223         0.211772     74.696547  0.196612  \n",
       "26    42  0.133297         0.236797     77.645420  0.227228  \n",
       "27    42  0.123999         0.272357    119.644976  0.214979  \n",
       "28    42  0.127536         0.138721      8.770236  0.215947  \n",
       "29    42  0.124347         0.129874      4.445017  0.195803  \n",
       "30    42  0.130145         0.275401    111.610632  0.197894  \n",
       "31    42  0.150774         0.208656     38.389647  0.219551  \n",
       "32    42  0.123754         0.203949     64.801522  0.192281  \n",
       "33    42  0.140915         0.172076     22.113324  0.201512  \n",
       "34    42  0.134433         0.201120     49.606041  0.192421  \n",
       "35    42  0.137016         0.181936     32.785247  0.181667  \n",
       "36    42  0.141217         0.189929     34.494705  0.185412  \n",
       "37    42  0.124993         0.224264     79.422151  0.189055  \n",
       "38    42  0.131940         0.220770     67.325868  0.172120  \n",
       "39    42  0.127417         0.163961     28.681195  0.139246  \n",
       "40    42  0.128092         0.151696     18.427187  0.143461  \n",
       "41    42  0.125205         0.173030     38.197197  0.229081  "
      ]
     },
     "metadata": {},
     "output_type": "display_data"
    }
   ],
   "source": [
    "# === Tabla mínima para HPO / inspección rápida ===\n",
    "from src.utils_exp import build_runs_df\n",
    "import pandas as pd\n",
    "\n",
    "outputs_root = ROOT / \"outputs\"\n",
    "df = build_runs_df(outputs_root)\n",
    "\n",
    "print(f\"runs en resumen: {len(df)}\")\n",
    "if df.empty:\n",
    "    print(\"No hay filas (¿no existen JSONs o solo hubo 1 tarea por run?).\")\n",
    "else:\n",
    "    # columnas clave para tuning; mantiene el nombre 'forget_rel_%' por compatibilidad\n",
    "    view = df.rename(columns={\"c1_forgetting_mae_rel_%\": \"forget_rel_%\"}).loc[:, [\n",
    "        \"exp\",\"preset\",\"method\",\"lambda\",\"encoder\",\"model\",\"seed\",\n",
    "        \"c1_mae\",\"c1_after_c2_mae\",\"forget_rel_%\",\"c2_mae\"\n",
    "    ]]\n",
    "    display(view.sort_values([\"preset\",\"method\",\"encoder\",\"lambda\"], na_position=\"last\", ignore_index=True))\n"
   ]
  },
  {
   "cell_type": "markdown",
   "id": "e716c060",
   "metadata": {},
   "source": [
    "## Apéndice — Optuna en 90 segundos\n",
    "\n",
    "- **Study**: el proyecto de HPO (contiene todos los trials).\n",
    "- **Trial**: una evaluación con un conjunto de HPs (`suggest_int`, `suggest_float`, etc.).\n",
    "- **Sampler**: estrategia para elegir el siguiente punto (por defecto, TPE).\n",
    "- **Pruner**: **corta** trials que pintan mal (acelera búsquedas largas).\n",
    "- **Storage**: base de datos (SQLite, PostgreSQL) para **reanudar** y/o **paralelizar**.\n",
    "\n",
    "### Reanudar búsquedas\n",
    "Puedes crear el estudio con almacenamiento:\n",
    "```python\n",
    "study = optuna.create_study(\n",
    "    direction=\"minimize\",\n",
    "    study_name=\"HPO_ewc\",\n",
    "    storage=f\"sqlite:///{ROOT/'outputs'/'optuna_ewc.sqlite'}\",\n",
    "    load_if_exists=True,\n",
    ")\n"
   ]
  },
  {
   "cell_type": "code",
   "execution_count": 10,
   "id": "f8c1b431",
   "metadata": {},
   "outputs": [
    {
     "name": "stdout",
     "output_type": "stream",
     "text": [
      "12.5\n",
      "12.5\n",
      "6.41\n"
     ]
    }
   ],
   "source": [
    "from src.hpo import objective_value, composite_objective\n",
    "m = {\"c2_mae\": 0.16, \"forget_rel_%\": 12.5}\n",
    "print(objective_value(m, key=\"forget_rel_%\"))         # 12.5\n",
    "print(objective_value(m, key=\"c1_forgetting_mae_rel_%\"))  # 12.5 (alias OK)\n",
    "print(composite_objective(m, alpha=0.5))              # 0.16 + 0.5*12.5 = 6.41\n"
   ]
  }
 ],
 "metadata": {
  "kernelspec": {
   "display_name": ".venv",
   "language": "python",
   "name": "python3"
  },
  "language_info": {
   "codemirror_mode": {
    "name": "ipython",
    "version": 3
   },
   "file_extension": ".py",
   "mimetype": "text/x-python",
   "name": "python",
   "nbconvert_exporter": "python",
   "pygments_lexer": "ipython3",
   "version": "3.12.3"
  }
 },
 "nbformat": 4,
 "nbformat_minor": 5
}
